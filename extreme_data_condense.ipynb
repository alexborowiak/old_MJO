{
 "cells": [
  {
   "cell_type": "code",
   "execution_count": 1,
   "metadata": {},
   "outputs": [],
   "source": [
    "import xarray as xr\n",
    "import numpy as np\n",
    "import pickle\n",
    "import pandas as pd\n",
    "import matplotlib.pyplot as plt\n",
    "import cartopy.crs as ccrs\n",
    "from dask.diagnostics import ProgressBar\n",
    "import matplotlib.colors as colors\n",
    "import datetime as dt"
   ]
  },
  {
   "cell_type": "code",
   "execution_count": 2,
   "metadata": {},
   "outputs": [],
   "source": [
    "rb = plt.cm.RdBu\n",
    "bm = plt.cm.Blues"
   ]
  },
  {
   "cell_type": "code",
   "execution_count": 3,
   "metadata": {},
   "outputs": [
    {
     "data": {
      "text/plain": [
       "'/home/563/ab2313/MJO/'"
      ]
     },
     "execution_count": 3,
     "metadata": {},
     "output_type": "execute_result"
    }
   ],
   "source": [
    "import os\n",
    "cwd = os.getcwd()\n",
    "\n",
    "cwd = cwd + '/'\n",
    "cwd"
   ]
  },
  {
   "cell_type": "code",
   "execution_count": 4,
   "metadata": {},
   "outputs": [],
   "source": [
    "save_dir = cwd + 'extreme_plots/data/'"
   ]
  },
  {
   "cell_type": "code",
   "execution_count": 5,
   "metadata": {},
   "outputs": [],
   "source": [
    "def sel_sig_all(normal, boot):\n",
    "    # ! Potential mistake: I only have boot 5th and 95th greater than 1. I should probably have the \n",
    "    # actual value as 1. Not sure if this will make a difference though. Might just leave it. Answer:\n",
    "    # when you did the old one it didn't chnage anything. Still just got pos and negs on either side.\n",
    "\n",
    "\n",
    "    # Both 5th and 95th percentile >= 1 (from bootdata)\n",
    "    station_sig_pos = normal.precip.where(\n",
    "        np.logical_and(\n",
    "            boot.isel(percentile = 0).precip >= 1, \n",
    "            boot.isel(percentile = 1).precip >= 1)\n",
    "            )\n",
    "    \n",
    "\n",
    "    # Both 5th and 95th percentile <= 1\n",
    "    station_sig_neg = normal.precip.where(\n",
    "        np.logical_and(\n",
    "            boot.isel(percentile = 0).precip <= 1, \n",
    "            boot.isel(percentile = 1).precip <= 1)\n",
    "        )\n",
    "    \n",
    "    # Using scotts code to combine this into one array:\n",
    "        # If the pos is finite then use the value from pos, else use the value form negative\n",
    "    total = xr.where(np.isfinite(station_sig_pos),station_sig_pos, station_sig_neg)\n",
    "    \n",
    "    # Reutrns as a dataset otherwise, want a datarray\n",
    "    total = total.to_dataset(name = 'precip')\n",
    "    \n",
    "    return total\n"
   ]
  },
  {
   "cell_type": "markdown",
   "metadata": {},
   "source": [
    "# Count"
   ]
  },
  {
   "cell_type": "code",
   "execution_count": 6,
   "metadata": {},
   "outputs": [
    {
     "data": {
      "text/plain": [
       "('/home/563/ab2313/MJO/AWAP/count_data/',\n",
       " '/home/563/ab2313/MJO/w_ENSO/count_data/')"
      ]
     },
     "execution_count": 6,
     "metadata": {},
     "output_type": "execute_result"
    }
   ],
   "source": [
    "name = 'count'\n",
    "\n",
    "\n",
    "# Reading in the data for this specific index\n",
    "directory1 = cwd +'AWAP/' + name +'_data/'\n",
    "tail1 = ''\n",
    "\n",
    "\n",
    "directory2 = cwd + 'w_ENSO/'  +name +'_data/'\n",
    "tail2 = '_nino'\n",
    "directory1,directory2 "
   ]
  },
  {
   "cell_type": "markdown",
   "metadata": {},
   "source": [
    "## Normal"
   ]
  },
  {
   "cell_type": "code",
   "execution_count": 59,
   "metadata": {},
   "outputs": [],
   "source": [
    "'''------Normal------'''\n",
    "\n",
    "\n",
    "'''Normal data'''\n",
    "# path = directory1 + name+ '_50' + tail1 +'.nc'\n",
    "# data_50 = xr.open_dataset(path)\n",
    "# data_50 = data_50.drop('nino')\n",
    "    \n",
    "path = directory1 + name + '_90' + tail1 +'.nc'\n",
    "data_90 = xr.open_dataset(path)\n",
    "\n",
    "\n",
    "path = directory1  + name+ '_95' + tail1 +'.nc'\n",
    "data_95 = xr.open_dataset(path)\n",
    "\n",
    "\n",
    "\n",
    "'''Bootstrapped Data'''\n",
    "# path =directory1  + name+ '_boot_50' + tail1 +'.nc'\n",
    "# bootdata_50= xr.open_dataset(path)\n",
    "\n",
    "\n",
    "path =directory1  + name+ '_boot_90' + tail1 +'.nc'\n",
    "bootdata_90= xr.open_dataset(path)\n",
    "\n",
    "\n",
    "\n",
    "path = directory1  + name + '_boot_95' + tail1 +'.nc'\n",
    "bootdata_95 = xr.open_dataset(path)\n"
   ]
  },
  {
   "cell_type": "code",
   "execution_count": 60,
   "metadata": {},
   "outputs": [],
   "source": [
    "count_data= xr.concat([ data_90, data_95], pd.Index(['90','95'], name  = 'percentile'))\n",
    "count_data.to_netcdf(save_dir + 'count_data.nc')"
   ]
  },
  {
   "cell_type": "code",
   "execution_count": 52,
   "metadata": {},
   "outputs": [],
   "source": [
    "\n",
    "sig90 = sel_sig_all(data_90, bootdata_90) # 90th Percentile\n",
    "\n",
    "\n",
    "sig95 = sel_sig_all(data_95, bootdata_95) # 95th Percentile"
   ]
  },
  {
   "cell_type": "code",
   "execution_count": null,
   "metadata": {},
   "outputs": [],
   "source": [
    "count_sig = xr.concat([sig90, sig95], pd.Index(['90','95'], name  = 'percentile'))"
   ]
  },
  {
   "cell_type": "code",
   "execution_count": 56,
   "metadata": {},
   "outputs": [
    {
     "data": {
      "text/plain": [
       "<xarray.Dataset>\n",
       "Dimensions:     (lat: 53, lon: 178, mjo: 3, month: 6, percentile: 2)\n",
       "Coordinates:\n",
       "  * lat         (lat) float64 -23.0 -22.75 -22.5 -22.25 ... -10.5 -10.25 -10.0\n",
       "  * lon         (lon) float64 112.0 112.2 112.5 112.8 ... 155.8 156.0 156.2\n",
       "  * month       (month) int64 10 11 12 1 2 3\n",
       "  * mjo         (mjo) object 'enhanced' 'suppressed' 'inactive'\n",
       "  * percentile  (percentile) object '90' '95'\n",
       "Data variables:\n",
       "    precip      (percentile, mjo, month, lat, lon) float64 nan nan ... nan nan"
      ]
     },
     "execution_count": 56,
     "metadata": {},
     "output_type": "execute_result"
    }
   ],
   "source": [
    "count_sig"
   ]
  },
  {
   "cell_type": "code",
   "execution_count": 54,
   "metadata": {},
   "outputs": [],
   "source": [
    "count_sig.to_netcdf(save_dir + 'count_sig.nc')"
   ]
  },
  {
   "cell_type": "markdown",
   "metadata": {},
   "source": [
    "## ENSO"
   ]
  },
  {
   "cell_type": "code",
   "execution_count": 7,
   "metadata": {},
   "outputs": [],
   "source": [
    "'''------ENSO------'''\n",
    "\n",
    "\n",
    "'''Normal data'''\n",
    "path = directory2 + name+ '_50' + tail2 +'.nc'\n",
    "data_50 = xr.open_dataset(path)\n",
    "data_50 = data_50.drop('nino')\n",
    "    \n",
    "path = directory2 + name + '_90' + tail2 +'.nc'\n",
    "data_90 = xr.open_dataset(path)\n",
    "data_90 = data_90.drop('nino')\n",
    "\n",
    "path = directory2  + name+ '_95' + tail2 +'.nc'\n",
    "data_95 = xr.open_dataset(path)\n",
    "data_95 = data_95.drop('nino')\n",
    "\n",
    "\n",
    "'''Bootstrapped Data'''\n",
    "path =directory2  + name+ '_boot_50' + tail2 +'.nc'\n",
    "bootdata_50= xr.open_dataset(path)\n",
    "\n",
    "\n",
    "path =directory2  + name+ '_boot_90' + tail2 +'.nc'\n",
    "bootdata_90= xr.open_dataset(path)\n",
    "\n",
    "\n",
    "\n",
    "path = directory2  + name + '_boot_95' + tail2 +'.nc'\n",
    "bootdata_95 = xr.open_dataset(path)\n",
    "# bootdata_95 = bootdata_95.rename({'nino':'enso'})"
   ]
  },
  {
   "cell_type": "code",
   "execution_count": 9,
   "metadata": {},
   "outputs": [],
   "source": [
    "count_data_enso= xr.concat([data_50, data_90, data_95], pd.Index(['50','90','95'], name  = 'percentile'))\n",
    "count_data_enso.to_netcdf(save_dir + 'count_data_enso.nc')"
   ]
  },
  {
   "cell_type": "code",
   "execution_count": 10,
   "metadata": {},
   "outputs": [],
   "source": [
    "sig50 = sel_sig_all(data_50, bootdata_50) # 50th Percentile\n",
    "\n",
    "sig90 = sel_sig_all(data_90, bootdata_90) # 90th Percentile\n",
    "\n",
    "sig95 = sel_sig_all(data_95, bootdata_95) # 95th Percentile"
   ]
  },
  {
   "cell_type": "code",
   "execution_count": 11,
   "metadata": {},
   "outputs": [],
   "source": [
    "count_sig_enso = xr.concat([sig50, sig90, sig95], pd.Index(['50','90','95'], name  = 'percentile'))\n",
    "\n",
    "count_sig_enso.to_netcdf(save_dir + 'count_sig_enso.nc')"
   ]
  },
  {
   "cell_type": "markdown",
   "metadata": {},
   "source": [
    "# Intensity"
   ]
  },
  {
   "cell_type": "code",
   "execution_count": 65,
   "metadata": {},
   "outputs": [
    {
     "data": {
      "text/plain": [
       "('/home/563/ab2313/MJO/AWAP/int_data/',\n",
       " '/home/563/ab2313/MJO/w_ENSO/int_data/')"
      ]
     },
     "execution_count": 65,
     "metadata": {},
     "output_type": "execute_result"
    }
   ],
   "source": [
    "name = 'int'\n",
    "\n",
    "\n",
    "# Reading in the data for this specific index\n",
    "directory1 = cwd +'AWAP/' + name +'_data/'\n",
    "tail1 = ''\n",
    "\n",
    "\n",
    "directory2 = cwd + 'w_ENSO/'  +name +'_data/'\n",
    "tail2 = '_nino'\n",
    "directory1,directory2 "
   ]
  },
  {
   "cell_type": "markdown",
   "metadata": {},
   "source": [
    "## Normal"
   ]
  },
  {
   "cell_type": "code",
   "execution_count": 66,
   "metadata": {},
   "outputs": [],
   "source": [
    "'''------Normal------'''\n",
    "\n",
    "\n",
    "'''Normal data'''\n",
    "# path = directory1 + name+ '_50' + tail1 +'.nc'\n",
    "# data_50 = xr.open_dataset(path)\n",
    "# data_50 = data_50.drop('nino')\n",
    "    \n",
    "path = directory1 + name + '_90' + tail1 +'.nc'\n",
    "data_90 = xr.open_dataset(path)\n",
    "\n",
    "\n",
    "path = directory1  + name+ '_95' + tail1 +'.nc'\n",
    "data_95 = xr.open_dataset(path)\n",
    "\n",
    "\n",
    "\n",
    "'''Bootstrapped Data'''\n",
    "# path =directory1  + name+ '_boot_50' + tail1 +'.nc'\n",
    "# bootdata_50= xr.open_dataset(path)\n",
    "\n",
    "\n",
    "path =directory1  + name+ '_boot_90' + tail1 +'.nc'\n",
    "bootdata_90= xr.open_dataset(path)\n",
    "\n",
    "\n",
    "\n",
    "path = directory1  + name + '_boot_95' + tail1 +'.nc'\n",
    "bootdata_95 = xr.open_dataset(path)\n"
   ]
  },
  {
   "cell_type": "code",
   "execution_count": 67,
   "metadata": {},
   "outputs": [],
   "source": [
    "int_data= xr.concat([ data_90, data_95], pd.Index(['90','95'], name  = 'percentile'))\n",
    "int_data.to_netcdf(save_dir + 'int_data.nc')"
   ]
  },
  {
   "cell_type": "code",
   "execution_count": 68,
   "metadata": {},
   "outputs": [],
   "source": [
    "\n",
    "sig90 = sel_sig_all(data_90, bootdata_90) # 90th Percentile\n",
    "\n",
    "\n",
    "sig95 = sel_sig_all(data_95, bootdata_95) # 95th Percentile"
   ]
  },
  {
   "cell_type": "code",
   "execution_count": 70,
   "metadata": {},
   "outputs": [
    {
     "data": {
      "text/plain": [
       "<xarray.Dataset>\n",
       "Dimensions:     (lat: 53, lon: 178, mjo: 3, month: 6, percentile: 2)\n",
       "Coordinates:\n",
       "  * lat         (lat) float64 -23.0 -22.75 -22.5 -22.25 ... -10.5 -10.25 -10.0\n",
       "  * lon         (lon) float64 112.0 112.2 112.5 112.8 ... 155.8 156.0 156.2\n",
       "  * month       (month) int64 10 11 12 1 2 3\n",
       "  * mjo         (mjo) object 'enhanced' 'suppressed' 'inactive'\n",
       "  * percentile  (percentile) object '90' '95'\n",
       "Data variables:\n",
       "    precip      (percentile, mjo, month, lat, lon) float64 nan nan ... nan nan"
      ]
     },
     "execution_count": 70,
     "metadata": {},
     "output_type": "execute_result"
    }
   ],
   "source": [
    "int_sig"
   ]
  },
  {
   "cell_type": "code",
   "execution_count": 69,
   "metadata": {},
   "outputs": [],
   "source": [
    "int_sig = xr.concat([sig90, sig95], pd.Index(['90','95'], name  = 'percentile'))"
   ]
  },
  {
   "cell_type": "code",
   "execution_count": 71,
   "metadata": {},
   "outputs": [],
   "source": [
    "int_sig.to_netcdf(save_dir + 'int_sig.nc')"
   ]
  },
  {
   "cell_type": "markdown",
   "metadata": {},
   "source": [
    "# Prop"
   ]
  },
  {
   "cell_type": "code",
   "execution_count": 72,
   "metadata": {},
   "outputs": [
    {
     "data": {
      "text/plain": [
       "('/home/563/ab2313/MJO/AWAP/prop_data/',\n",
       " '/home/563/ab2313/MJO/w_ENSO/prop_data/')"
      ]
     },
     "execution_count": 72,
     "metadata": {},
     "output_type": "execute_result"
    }
   ],
   "source": [
    "name = 'prop'\n",
    "\n",
    "\n",
    "# Reading in the data for this specific index\n",
    "directory1 = cwd +'AWAP/' + name +'_data/'\n",
    "tail1 = ''\n",
    "\n",
    "\n",
    "directory2 = cwd + 'w_ENSO/'  +name +'_data/'\n",
    "tail2 = '_nino'\n",
    "directory1,directory2 "
   ]
  },
  {
   "cell_type": "code",
   "execution_count": 74,
   "metadata": {},
   "outputs": [],
   "source": [
    "'''------Normal------'''\n",
    "\n",
    "\n",
    "'''Normal data'''\n",
    "# path = directory1 + name+ '_50' + tail1 +'.nc'\n",
    "# data_50 = xr.open_dataset(path)\n",
    "# data_50 = data_50.drop('nino')\n",
    "    \n",
    "path = directory1 + name + '_90' + tail1 +'.nc'\n",
    "data_90 = xr.open_dataset(path)\n",
    "\n",
    "\n",
    "path = directory1  + name+ '_95' + tail1 +'.nc'\n",
    "data_95 = xr.open_dataset(path)\n",
    "\n",
    "\n",
    "\n",
    "'''Bootstrapped Data'''\n",
    "# path =directory1  + name+ '_boot_50' + tail1 +'.nc'\n",
    "# bootdata_50= xr.open_dataset(path)\n",
    "\n",
    "\n",
    "path =directory1  + name+ '_boot_90' + tail1 +'.nc'\n",
    "bootdata_90= xr.open_dataset(path)\n",
    "\n",
    "\n",
    "\n",
    "path = directory1  + name + '_boot_95' + tail1 +'.nc'\n",
    "bootdata_95 = xr.open_dataset(path)"
   ]
  },
  {
   "cell_type": "code",
   "execution_count": 75,
   "metadata": {},
   "outputs": [],
   "source": [
    "prop_data= xr.concat([ data_90, data_95], pd.Index(['90','95'], name  = 'percentile'))\n",
    "prop_data.to_netcdf(save_dir + 'prop_data.nc')\n",
    "\n",
    "\n",
    "sig90 = sel_sig_all(data_90, bootdata_90) # 90th Percentile\n",
    "\n",
    "\n",
    "sig95 = sel_sig_all(data_95, bootdata_95) # 95th Percentile\n",
    "\n",
    "\n",
    "prop_sig = xr.concat([sig90, sig95], pd.Index(['90','95'], name  = 'percentile'))\n",
    "\n",
    "prop_sig.to_netcdf(save_dir + 'prop_sig.nc')"
   ]
  },
  {
   "cell_type": "code",
   "execution_count": 76,
   "metadata": {},
   "outputs": [
    {
     "data": {
      "text/plain": [
       "<xarray.Dataset>\n",
       "Dimensions:     (lat: 53, lon: 178, mjo: 3, month: 6, percentile: 2)\n",
       "Coordinates:\n",
       "  * lat         (lat) float64 -23.0 -22.75 -22.5 -22.25 ... -10.5 -10.25 -10.0\n",
       "  * lon         (lon) float64 112.0 112.2 112.5 112.8 ... 155.8 156.0 156.2\n",
       "  * month       (month) int64 10 11 12 1 2 3\n",
       "  * mjo         (mjo) object 'enhanced' 'suppressed' 'inactive'\n",
       "  * percentile  (percentile) object '90' '95'\n",
       "Data variables:\n",
       "    precip      (percentile, mjo, month, lat, lon) float32 nan nan ... nan nan"
      ]
     },
     "execution_count": 76,
     "metadata": {},
     "output_type": "execute_result"
    }
   ],
   "source": [
    "prop_sig\n"
   ]
  },
  {
   "cell_type": "code",
   "execution_count": 77,
   "metadata": {},
   "outputs": [
    {
     "data": {
      "text/plain": [
       "<xarray.Dataset>\n",
       "Dimensions:     (lat: 53, lon: 178, mjo: 3, month: 6, percentile: 2)\n",
       "Coordinates:\n",
       "  * lat         (lat) float64 -23.0 -22.75 -22.5 -22.25 ... -10.5 -10.25 -10.0\n",
       "  * lon         (lon) float64 112.0 112.2 112.5 112.8 ... 155.8 156.0 156.2\n",
       "  * month       (month) int64 10 11 12 1 2 3\n",
       "  * mjo         (mjo) object 'enhanced' 'suppressed' 'inactive'\n",
       "  * percentile  (percentile) object '90' '95'\n",
       "Data variables:\n",
       "    precip      (percentile, mjo, month, lat, lon) float32 nan nan ... nan nan"
      ]
     },
     "execution_count": 77,
     "metadata": {},
     "output_type": "execute_result"
    }
   ],
   "source": [
    "prop_data"
   ]
  },
  {
   "cell_type": "code",
   "execution_count": null,
   "metadata": {},
   "outputs": [],
   "source": []
  }
 ],
 "metadata": {
  "kernelspec": {
   "display_name": "Python 3",
   "language": "python",
   "name": "python3"
  },
  "language_info": {
   "codemirror_mode": {
    "name": "ipython",
    "version": 3
   },
   "file_extension": ".py",
   "mimetype": "text/x-python",
   "name": "python",
   "nbconvert_exporter": "python",
   "pygments_lexer": "ipython3",
   "version": "3.6.7"
  }
 },
 "nbformat": 4,
 "nbformat_minor": 2
}
