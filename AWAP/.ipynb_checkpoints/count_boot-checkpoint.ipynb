{
 "cells": [
  {
   "cell_type": "markdown",
   "metadata": {
    "toc": true
   },
   "source": [
    "<h1>Table of Contents<span class=\"tocSkip\"></span></h1>\n",
    "<div class=\"toc\"><ul class=\"toc-item\"><li><span><a href=\"#Preamble\" data-toc-modified-id=\"Preamble-1\"><span class=\"toc-item-num\">1&nbsp;&nbsp;</span>Preamble</a></span></li><li><span><a href=\"#Different-Regions\" data-toc-modified-id=\"Different-Regions-2\"><span class=\"toc-item-num\">2&nbsp;&nbsp;</span>Different Regions</a></span></li><li><span><a href=\"#Functions\" data-toc-modified-id=\"Functions-3\"><span class=\"toc-item-num\">3&nbsp;&nbsp;</span>Functions</a></span></li><li><span><a href=\"#Indivual-Phases\" data-toc-modified-id=\"Indivual-Phases-4\"><span class=\"toc-item-num\">4&nbsp;&nbsp;</span>Indivual Phases</a></span></li><li><span><a href=\"#Bootstrap\" data-toc-modified-id=\"Bootstrap-5\"><span class=\"toc-item-num\">5&nbsp;&nbsp;</span>Bootstrap</a></span><ul class=\"toc-item\"><li><span><a href=\"#Create-Count-Array\" data-toc-modified-id=\"Create-Count-Array-5.1\"><span class=\"toc-item-num\">5.1&nbsp;&nbsp;</span>Create Count Array</a></span></li><li><span><a href=\"#Functions\" data-toc-modified-id=\"Functions-5.2\"><span class=\"toc-item-num\">5.2&nbsp;&nbsp;</span>Functions</a></span></li><li><span><a href=\"#Running-and-Saving\" data-toc-modified-id=\"Running-and-Saving-5.3\"><span class=\"toc-item-num\">5.3&nbsp;&nbsp;</span>Running and Saving</a></span></li></ul></li></ul></div>"
   ]
  },
  {
   "cell_type": "markdown",
   "metadata": {},
   "source": [
    "# Preamble"
   ]
  },
  {
   "cell_type": "code",
   "execution_count": 1,
   "metadata": {},
   "outputs": [],
   "source": [
    "##############################\n",
    "\n",
    "import xarray as xr\n",
    "import numpy as np\n",
    "import pandas as pd\n",
    "import matplotlib.pyplot as plt\n",
    "import dask.array\n",
    "import cartopy.crs as ccrs\n",
    "import pickle\n",
    "import matplotlib.colors as colors\n",
    "import datetime as dt\n",
    "rb = plt.cm.RdBu\n",
    "bm = plt.cm.Blues\n",
    "\n",
    "import warnings\n",
    "warnings.filterwarnings('ignore')"
   ]
  },
  {
   "cell_type": "code",
   "execution_count": 2,
   "metadata": {},
   "outputs": [],
   "source": [
    "path = 'RMM.pickle'\n",
    "pickle_in = open(path, 'rb')\n",
    "RMM = pickle.load(pickle_in)"
   ]
  },
  {
   "cell_type": "code",
   "execution_count": 3,
   "metadata": {},
   "outputs": [],
   "source": [
    "# %load /home/563/ab2313/MJO/get_awap.py\n",
    "import sys\n",
    "\n",
    "def get_platform():\n",
    "    platforms = {\n",
    "        'linux1' : 'Linux',\n",
    "        'linux2' : 'Linux',\n",
    "        'darwin' : 'OS X',\n",
    "        'win32' : 'Windows'\n",
    "    }\n",
    "\n",
    "    if sys.platform not in platforms:\n",
    "        return sys.platform\n",
    "\n",
    "    return platforms[sys.platform]\n",
    "\n",
    "\n",
    "platform = get_platform()\n",
    "\n",
    "\n",
    "if platform == 'OS X':\n",
    "    path =  '/Users/alexborowiak/Desktop/large_files/'\n",
    "\n",
    "\n",
    "   \n",
    "    \n",
    "else:\n",
    "#     path = '/home/student.unimelb.edu.au/aborowiak/Desktop/Code/Scripts/big_files/'\n",
    "    path = '/home/563/ab2313/big_files/'\n",
    "\n",
    "\n",
    "# precip = xr.open_dataset(path + 'AWAP_w.nc')\n"
   ]
  },
  {
   "cell_type": "code",
   "execution_count": 4,
   "metadata": {},
   "outputs": [],
   "source": [
    "\n",
    "precip = xr.open_dataset(path + 'AWAP_W.nc', chunks={'time':-1, 'lat': 50, 'lon': 50}).precip"
   ]
  },
  {
   "cell_type": "code",
   "execution_count": 5,
   "metadata": {},
   "outputs": [],
   "source": [
    "RMM = RMM.reset_index()\n",
    "RMM['Date'] = RMM['Date'] + pd.to_timedelta('9h')\n",
    "RMM = RMM.set_index('Date')"
   ]
  },
  {
   "cell_type": "markdown",
   "metadata": {},
   "source": [
    "# Different Regions"
   ]
  },
  {
   "cell_type": "markdown",
   "metadata": {},
   "source": [
    "The rainfall is divided into different phases"
   ]
  },
  {
   "cell_type": "code",
   "execution_count": 6,
   "metadata": {},
   "outputs": [],
   "source": [
    "regions = np.array([slice(110, 120),slice(120.25, 140),slice(140.25, 156.25)])\n",
    "mjo_enhanced_list = np.array([[4,5],[4,5,6],[4,5,6,7]])"
   ]
  },
  {
   "cell_type": "code",
   "execution_count": 7,
   "metadata": {},
   "outputs": [],
   "source": [
    "# This is creating 3 seperate data frames comprised of the rainfall just in the individual phases\n",
    "\n",
    "\n",
    "########## Enhanced\n",
    "\n",
    "region_data = []\n",
    "\n",
    "for reg_num in [0,1,2]:\n",
    "    region = regions[reg_num]\n",
    "    precip_region = precip.sel(lon = region)\n",
    "\n",
    "    mjo_enhanced = mjo_enhanced_list[reg_num]\n",
    "    enhanced_dates = np.array(RMM[np.logical_and(RMM['Phase'].isin(mjo_enhanced), RMM['Amplitude'] >= 1)].index)\n",
    "\n",
    "    precip_enhancecd = precip_region.where(precip_region.time.isin(enhanced_dates))\n",
    "    \n",
    "    region_data.append(precip_enhancecd)\n",
    "    \n",
    "enhanced_precip = (region_data[0].combine_first(region_data[1])).combine_first(region_data[2])\n",
    "\n",
    "\n",
    "\n",
    "########## Supppressed\n",
    "region_data = []\n",
    "\n",
    "for reg_num in [0,1,2]:\n",
    "    region = regions[reg_num]\n",
    "    precip_region = precip.sel(lon = region)\n",
    "\n",
    "    mjo_suppressed = mjo_enhanced_list[reg_num]\n",
    "    suppressed_dates = np.array(RMM[np.logical_and(~RMM['Phase'].isin(mjo_suppressed), RMM['Amplitude'] >= 1)].index)\n",
    "\n",
    "    precip_enhancecd = precip_region.where(precip_region.time.isin(suppressed_dates))\n",
    "    \n",
    "    region_data.append(precip_enhancecd)\n",
    "    \n",
    "suppressed_precip = (region_data[0].combine_first(region_data[1])).combine_first(region_data[2])\n",
    "\n",
    "########## Inactive\n",
    "region_data = []\n",
    "\n",
    "for reg_num in [0,1,2]:\n",
    "    region = regions[reg_num]\n",
    "    precip_region = precip.sel(lon = region)\n",
    "\n",
    "    mjo_inactive = mjo_enhanced_list[reg_num]\n",
    "    inactive_dates = np.array(RMM[RMM['Amplitude'] <1].index)\n",
    "\n",
    "    precip_enhancecd = precip_region.where(precip_region.time.isin(inactive_dates))\n",
    "    \n",
    "    region_data.append(precip_enhancecd)\n",
    "    \n",
    "inactive_precip = (region_data[0].combine_first(region_data[1])).combine_first(region_data[2])"
   ]
  },
  {
   "cell_type": "code",
   "execution_count": 8,
   "metadata": {},
   "outputs": [],
   "source": [
    "# The climatology for each month. The values above this are considered to be extreme. This will be what I will\n",
    "# be counting. This is the 90th percentile of all rainfall\n",
    "\n",
    "climatology_90 = precip.groupby('time.month').reduce(np.nanpercentile, q = 90, dim = 'time')\n",
    "\n",
    "climatology_95 = precip.groupby('time.month').reduce(np.nanpercentile, q = 95, dim = 'time')"
   ]
  },
  {
   "cell_type": "markdown",
   "metadata": {},
   "source": [
    "The values greater than the 90th percentile from each phase of the MJO is returned"
   ]
  },
  {
   "cell_type": "code",
   "execution_count": 9,
   "metadata": {
    "code_folding": []
   },
   "outputs": [],
   "source": [
    "# This returns just the extremes. \n",
    "\n",
    "def return_extremes(precip, threshold):\n",
    "    storage = []\n",
    "    months = [10,11,12,1,2,3]\n",
    "    for i,month in enumerate(months):\n",
    "        precip_month = precip.where(precip.time.dt.month == month, drop = True)\n",
    "        threshold_month = threshold.sel(month = month)\n",
    "        \n",
    "        precip_month_ex = precip_month.where(precip_month >= threshold_month)\n",
    "\n",
    "        storage.append(precip_month_ex)\n",
    "        \n",
    "        if i == 0:\n",
    "            extreme_xr = precip_month_ex\n",
    "        else:\n",
    "            extreme_xr = extreme_xr.combine_first(precip_month_ex)  \n",
    "    \n",
    "    return  extreme_xr\n",
    "    "
   ]
  },
  {
   "cell_type": "code",
   "execution_count": 10,
   "metadata": {},
   "outputs": [],
   "source": [
    "enhanced_90 = return_extremes(enhanced_precip , climatology_90)\n",
    "\n",
    "suppressed_90 = return_extremes(suppressed_precip , climatology_90)\n",
    "\n",
    "inactive_90 = return_extremes(inactive_precip , climatology_90)\n",
    "\n",
    "precip_90 = return_extremes(precip , climatology_90)"
   ]
  },
  {
   "cell_type": "code",
   "execution_count": 17,
   "metadata": {},
   "outputs": [],
   "source": [
    "data_90 = xr.concat([enhanced_90,suppressed_90,inactive_90,precip_90],\n",
    "                    pd.Index(['enhanced','suppressed','inactive','precip'], name = 'mjo'))"
   ]
  },
  {
   "cell_type": "code",
   "execution_count": 11,
   "metadata": {},
   "outputs": [],
   "source": [
    "enhanced_95 = return_extremes(enhanced_precip , climatology_95)\n",
    "\n",
    "suppressed_95 = return_extremes(suppressed_precip , climatology_95)\n",
    "\n",
    "inactive_95 = return_extremes(inactive_precip , climatology_95)\n",
    "\n",
    "precip_95 = return_extremes(precip , climatology_95)"
   ]
  },
  {
   "cell_type": "code",
   "execution_count": 60,
   "metadata": {},
   "outputs": [],
   "source": [
    "data_95 = xr.concat([enhanced_95,suppressed_95,inactive_95,precip_95],\n",
    "                    pd.Index(['enhanced','suppressed','inactive','precip'], name = 'mjo'))"
   ]
  },
  {
   "cell_type": "markdown",
   "metadata": {},
   "source": [
    "# Functions"
   ]
  },
  {
   "cell_type": "code",
   "execution_count": 27,
   "metadata": {},
   "outputs": [],
   "source": [
    "def into_xr(data, orgininal, name = 'precip'):\n",
    "    return xr.DataArray(\n",
    "    data,\n",
    "    dims=['lat','lon'],\n",
    "    coords={'lat':orgininal.lat, 'lon': orgininal.lon},\n",
    "    name=name\n",
    "    )"
   ]
  },
  {
   "cell_type": "code",
   "execution_count": 28,
   "metadata": {},
   "outputs": [],
   "source": [
    "def calculate_countfrac(data_sub,data_all,per):\n",
    "    \n",
    "    # Counting all of the extreme events\n",
    "    count_sub = data_sub.count(dim = 'time')\n",
    "    \n",
    "    # Counting all of the rain events\n",
    "    count_all = data_all.count(dim = 'time')\n",
    "    \n",
    "    # Finding the ratio of the events\n",
    "    frac = count_sub/count_all\n",
    "    \n",
    "    # Finding out how much more or less than expected this is. E.g is we are talking about the 90th percentile\n",
    "    # then we would expect the frac to be 0.1. But if we get 0.2, the this is twice as much as expected. Dividing\n",
    "    # this by the per amount (e.g 1/0.1 = 10)\n",
    "    frac = frac/per\n",
    "    \n",
    "    xr = into_xr(frac, data_all, 'frac_count')\n",
    "    \n",
    "    return xr"
   ]
  },
  {
   "cell_type": "code",
   "execution_count": 29,
   "metadata": {},
   "outputs": [],
   "source": [
    "def count_all_months_and_regions(phase_precip, all_precip,per):\n",
    "    \n",
    "    months = [10,11,12,1,2,3]\n",
    "    temp_dict = {}\n",
    "    \n",
    "    for month in months:\n",
    "        # Just the data that is in this month\n",
    "        phase_prec_month = phase_precip.where(phase_precip.time.dt.month == month, drop = True)\n",
    "        all_prec_month = all_precip.where(all_precip.time.dt.month == month, drop = True)\n",
    "        \n",
    "        # Running the function above\n",
    "        frac_month = calculate_countfrac(phase_prec_month ,all_prec_month,per)\n",
    "        \n",
    "        # Storing the results\n",
    "        temp_dict[str(month)] = frac_month\n",
    "    \n",
    "    frac_int = xr.concat([temp_dict['10'],temp_dict['11'],temp_dict['12'],temp_dict['1'],\n",
    "                            temp_dict['2'],temp_dict['3']], pd.Index(months, name = 'month'))\n",
    "    \n",
    "    return frac_int\n",
    "    \n",
    "    \n",
    "    "
   ]
  },
  {
   "cell_type": "markdown",
   "metadata": {},
   "source": [
    "# Indivual Phases"
   ]
  },
  {
   "cell_type": "code",
   "execution_count": 30,
   "metadata": {},
   "outputs": [],
   "source": [
    "per = 0.1\n",
    "enhanced_count90 = count_all_months_and_regions(enhanced_90 , enhanced_precip, per)\n",
    "\n",
    "suppressed_count90 = count_all_months_and_regions(suppressed_90, suppressed_precip,per)\n",
    "\n",
    "inactive_count90 = count_all_months_and_regions(inactive_90, inactive_precip,per)"
   ]
  },
  {
   "cell_type": "code",
   "execution_count": 31,
   "metadata": {},
   "outputs": [],
   "source": [
    "count_90 = xr.concat([enhanced_count90, suppressed_count90, inactive_count90],\n",
    "                    pd.Index(['enhanced','suppressed','inactive'], name = 'mjo'))"
   ]
  },
  {
   "cell_type": "code",
   "execution_count": 32,
   "metadata": {},
   "outputs": [],
   "source": [
    "per = 0.05\n",
    "\n",
    "enhanced_count95 = count_all_months_and_regions(enhanced_95 , enhanced_precip, per)\n",
    "\n",
    "suppressed_count95 = count_all_months_and_regions(suppressed_95, suppressed_precip,per)\n",
    "\n",
    "inactive_count95 = count_all_months_and_regions(inactive_95, inactive_precip,per)"
   ]
  },
  {
   "cell_type": "code",
   "execution_count": 33,
   "metadata": {},
   "outputs": [],
   "source": [
    "count_95 = xr.concat([enhanced_count95, suppressed_count95, inactive_count95],\n",
    "                    pd.Index(['enhanced','suppressed','inactive'], name = 'mjo'))"
   ]
  },
  {
   "cell_type": "code",
   "execution_count": 34,
   "metadata": {},
   "outputs": [],
   "source": [
    "save = 1\n",
    "if save:\n",
    "    count_95.to_netcdf('count_95.nc')\n",
    "\n",
    "    count_90.to_netcdf('count_90.nc')"
   ]
  },
  {
   "cell_type": "markdown",
   "metadata": {},
   "source": [
    "# Bootstrap"
   ]
  },
  {
   "cell_type": "markdown",
   "metadata": {},
   "source": [
    "Steps:\n",
    "\n",
    "* 1: Creating the count array. This counts all of the rainfall events that occur. So this will count all in the normal and the extreme arrays. This is useful as now I only have to do a sum across all of the years (months).\n",
    "* 2: Th e"
   ]
  },
  {
   "cell_type": "code",
   "execution_count": 35,
   "metadata": {},
   "outputs": [
    {
     "data": {
      "text/plain": [
       "<xarray.DataArray 'precip' (time: 7822, lat: 53, lon: 178)>\n",
       "dask.array<shape=(7822, 53, 178), dtype=float32, chunksize=(7822, 50, 50)>\n",
       "Coordinates:\n",
       "  * lon      (lon) float64 112.0 112.2 112.5 112.8 ... 155.5 155.8 156.0 156.2\n",
       "  * time     (time) datetime64[ns] 1974-10-01T09:00:00 ... 2017-12-31T09:00:00\n",
       "  * lat      (lat) float64 -23.0 -22.75 -22.5 -22.25 ... -10.5 -10.25 -10.0\n",
       "Attributes:\n",
       "    long_name:  Daily Precipitation\n",
       "    units:      mm"
      ]
     },
     "execution_count": 35,
     "metadata": {},
     "output_type": "execute_result"
    }
   ],
   "source": [
    "enhanced_precip"
   ]
  },
  {
   "cell_type": "code",
   "execution_count": 36,
   "metadata": {},
   "outputs": [
    {
     "data": {
      "text/plain": [
       "<xarray.DataArray 'precip' (time: 7822, lat: 53, lon: 178)>\n",
       "dask.array<shape=(7822, 53, 178), dtype=float32, chunksize=(7822, 50, 50)>\n",
       "Coordinates:\n",
       "  * time     (time) datetime64[ns] 1974-10-01T09:00:00 ... 2017-12-31T09:00:00\n",
       "  * lon      (lon) float64 112.0 112.2 112.5 112.8 ... 155.5 155.8 156.0 156.2\n",
       "  * lat      (lat) float64 -23.0 -22.75 -22.5 -22.25 ... -10.5 -10.25 -10.0\n",
       "Attributes:\n",
       "    long_name:  Daily Precipitation\n",
       "    units:      mm"
      ]
     },
     "execution_count": 36,
     "metadata": {},
     "output_type": "execute_result"
    }
   ],
   "source": [
    "enhanced_90"
   ]
  },
  {
   "cell_type": "markdown",
   "metadata": {
    "heading_collapsed": true
   },
   "source": [
    "## Create Count Array"
   ]
  },
  {
   "cell_type": "markdown",
   "metadata": {
    "hidden": true
   },
   "source": [
    "The count array is created to speed up the bootstrapping.\n",
    "As the end results of count is the count from every mouth, \n",
    "if the count of each month is already created, then the final \n",
    "results can just be the sum of all of these."
   ]
  },
  {
   "cell_type": "code",
   "execution_count": 37,
   "metadata": {
    "hidden": true
   },
   "outputs": [],
   "source": [
    "def each_year_count(data):\n",
    "    \n",
    "    storage = []\n",
    "    #Looping through all of the months\n",
    "    months = [10,11,12,1,2,3]\n",
    "    for month in months:\n",
    "        data_month = data.where(data.time.dt.month == month, drop = True)\n",
    "        count_year = data_month.groupby('time.year').count(dim = 'time')\n",
    "        storage.append(count_year)\n",
    "        \n",
    "    count_all = xr.concat(storage, pd.Index(months, name = 'month'))\n",
    "    \n",
    "    return count_all\n",
    "        \n",
    "        \n"
   ]
  },
  {
   "cell_type": "code",
   "execution_count": 38,
   "metadata": {
    "hidden": true
   },
   "outputs": [],
   "source": [
    "en_90_year_count = each_year_count(enhanced_90)\n",
    "sup_90_year_count = each_year_count(suppressed_90)\n",
    "inact_90_year_count = each_year_count(inactive_90)\n",
    "\n",
    "year_count_90 = xr.concat([en_90_year_count, sup_90_year_count,inact_90_year_count],\n",
    "                       pd.Index(['enhanced', 'suppressed','inactive'], name = 'mjo'))"
   ]
  },
  {
   "cell_type": "code",
   "execution_count": 39,
   "metadata": {
    "hidden": true
   },
   "outputs": [],
   "source": [
    "en_95_year_count = each_year_count(enhanced_95)\n",
    "sup_95_year_count = each_year_count(suppressed_95)\n",
    "inact_95_year_count = each_year_count(inactive_95)\n",
    "\n",
    "year_count_95 = xr.concat([en_95_year_count, sup_95_year_count,inact_95_year_count],\n",
    "                       pd.Index(['enhanced', 'suppressed','inactive'], name = 'mjo'))"
   ]
  },
  {
   "cell_type": "code",
   "execution_count": 40,
   "metadata": {
    "hidden": true
   },
   "outputs": [],
   "source": [
    "en_year_count = each_year_count(enhanced_precip)\n",
    "sup_year_count = each_year_count(suppressed_precip)\n",
    "inact_year_count = each_year_count(inactive_precip)\n",
    "\n",
    "year_count = xr.concat([en_year_count, sup_year_count,inact_year_count],\n",
    "                       pd.Index(['enhanced', 'suppressed','inactive'], name = 'mjo'))"
   ]
  },
  {
   "cell_type": "code",
   "execution_count": 41,
   "metadata": {
    "hidden": true
   },
   "outputs": [
    {
     "data": {
      "text/plain": [
       "<xarray.DataArray 'precip' (month: 6, year: 44, lat: 53, lon: 178)>\n",
       "dask.array<shape=(6, 44, 53, 178), dtype=float64, chunksize=(1, 1, 50, 50)>\n",
       "Coordinates:\n",
       "  * year     (year) int64 1974 1975 1976 1977 1978 ... 2013 2014 2015 2016 2017\n",
       "  * lon      (lon) float64 112.0 112.2 112.5 112.8 ... 155.5 155.8 156.0 156.2\n",
       "  * lat      (lat) float64 -23.0 -22.75 -22.5 -22.25 ... -10.5 -10.25 -10.0\n",
       "  * month    (month) int64 10 11 12 1 2 3"
      ]
     },
     "execution_count": 41,
     "metadata": {},
     "output_type": "execute_result"
    }
   ],
   "source": [
    "en_90_year_count"
   ]
  },
  {
   "cell_type": "markdown",
   "metadata": {},
   "source": [
    "## Functions"
   ]
  },
  {
   "cell_type": "code",
   "execution_count": 42,
   "metadata": {},
   "outputs": [],
   "source": [
    "def select_additional(data_sub,data,uniqueValues, occurCount, number):\n",
    "\n",
    "    \n",
    "    if any(occurCount >= 2 ):\n",
    "        # Find the years that are getting sampled multiple times\n",
    "            # occurCount is the frequency of each year\n",
    "            # uniqueValues is all the years that have been sampled\n",
    "        multi_sampled_years = uniqueValues[np.where(occurCount >= 2 )]\n",
    "        \n",
    "        #  Finding the data for the additional years\n",
    "        additional = data.where(data.year.isin(multi_sampled_years), drop = True)\n",
    "        # Adding n * 100 years to the data so that they don't overlap\n",
    "        additional['year'] = additional.year +  number * 100\n",
    "        \n",
    "        # Combing all the data together\n",
    "        data_sub = data_sub.combine_first(additional)\n",
    "        \n",
    "        #### Running this whole function again (recursivly) to determine which ones have been selected more than\n",
    "           # twice\n",
    "        # Reducing the occur count by 1. This will enable the samples that have been sampeld more than twice \n",
    "        # to be determing\n",
    "        occurCount = occurCount - 1\n",
    "        number += 1\n",
    "        \n",
    "        data_sub = select_additional(data,data_sub, uniqueValues, occurCount, number) \n",
    "        \n",
    "        return data_sub\n",
    "                                \n",
    "    else:\n",
    "        return data_sub"
   ]
  },
  {
   "cell_type": "code",
   "execution_count": 48,
   "metadata": {},
   "outputs": [],
   "source": [
    "def calculate_sum_of_count_frac(data_sub,data_all,per):\n",
    "    \n",
    "    # Counting all of the extreme events\n",
    "    count_sub = data_sub.sum(dim = 'year')\n",
    "    \n",
    "    # Counting all of the rain events\n",
    "    count_all = data_all.sum(dim = 'year')\n",
    "    \n",
    "    # Finding the ratio of the events\n",
    "    frac = count_sub/count_all\n",
    "    \n",
    "    # Finding out how much more or less than expected this is. E.g is we are talking about the 90th percentile\n",
    "    # then we would expect the frac to be 0.1. But if we get 0.2, the this is twice as much as expected. Dividing\n",
    "    # this by the per amount (e.g 1/0.1 = 10)\n",
    "    frac = frac/per\n",
    "\n",
    "    return frac"
   ]
  },
  {
   "cell_type": "code",
   "execution_count": 49,
   "metadata": {
    "code_folding": [
     0
    ]
   },
   "outputs": [],
   "source": [
    "# Defunct\n",
    "\n",
    "def bootstrap_phase_count_def(precip_ex ,precip, per, loops):\n",
    "    \n",
    "    total_boot = []\n",
    "    \n",
    "    # Need to do a certain amount of loops\n",
    "    for i in range(loops):\n",
    "        \n",
    "        # Selecting random years; half the ranges word\n",
    "        rand_years = np.random.randint(1974,2017,22)\n",
    "        \n",
    "        # Subsetting botht the data to the randomyears\n",
    "        precip_ex_rand = precip_ex.where(precip_ex.year.isin(rand_years))\n",
    "        precip_rand = precip.where(precip.year.isin(rand_years))\n",
    "        \n",
    "        \n",
    "        # If there are years that have been repeated they need to be added\n",
    "        uniqueValues, occurCount = np.unique(rand_years, return_counts=True)\n",
    "        number = 1\n",
    "        precip_ex_rand = select_additional(precip_ex_rand,precip,\n",
    "                                                   uniqueValues, occurCount, number)\n",
    "    \n",
    "        precip_rand = select_additional(precip_rand, precip,\n",
    "                                             uniqueValues, occurCount, number)\n",
    "        ######\n",
    "        # Executing the above function to cork out the count frac\n",
    "        run_boot = calculate_sum_of_count_frac(precip_ex_rand, precip_rand, per)\n",
    "        \n",
    "        total_boot.append(run_boot)\n",
    "\n",
    "    total_boot = xr.concat(total_boot, 'run_num')\n",
    "\n",
    "    return total_boot"
   ]
  },
  {
   "cell_type": "code",
   "execution_count": 50,
   "metadata": {
    "code_folding": [
     0
    ]
   },
   "outputs": [],
   "source": [
    "# Defunct\n",
    "def bootstrap_each_month_count_def(precip_ex, precip, per, loops):\n",
    "    months = [10,11,12,1,2,3]\n",
    "    xr_month_storage = []   \n",
    "        \n",
    "    for month in months:\n",
    "        # Extracting just the single months\n",
    "        precip_ex_month = precip_ex.sel(month = month)\n",
    "        precip_month = precip.sel(month = month)\n",
    "        \n",
    "        # Running the above function\n",
    "        count_month = bootstrap_phase_count(precip_ex_month , precip_month, per, loops)\n",
    "        \n",
    "        # Storing the results\n",
    "        xr_month_storage.append(count_month)\n",
    "    \n",
    "    xr_file = xr.concat(xr_month_storage, pd.Index(months, name = 'month'))\n",
    "    \n",
    "    return xr_file"
   ]
  },
  {
   "cell_type": "code",
   "execution_count": 51,
   "metadata": {},
   "outputs": [],
   "source": [
    "# This function takes in the count for a single phase of the MJO\n",
    "\n",
    "def bootstrap_each_month_count(count_ex, count, per, loops):\n",
    "    \n",
    "    month_storage = []\n",
    "    \n",
    "    # Loop through all of the months. Extract the data for just one month.\n",
    "    months = [10,11,12,1,2,3]\n",
    "    for month in months:\n",
    "        \n",
    "        loop_storage = []\n",
    "\n",
    "        \n",
    "        count_month_ex = count_ex.sel(month = month)\n",
    "        count_month = count.sel(month = month)\n",
    "        \n",
    "        # Looping through all of the different runs\n",
    "        for i in range(loops):\n",
    "            \n",
    "            ########### Selecting Random Data\n",
    "            # Selecting random years; half the ranges of the data\n",
    "            rand_years = np.random.randint(1974,2017,22)\n",
    "    \n",
    "            # Subsetting botht the data to the randomyears\n",
    "            count_ex_rand = count_month_ex.where(count_month_ex.year.isin(rand_years)) # Extremes\n",
    "            count_rand = count_month.where(count_month.year.isin(rand_years)) # Normal\n",
    "            \n",
    "            # If there are years that have been repeated they need to be added\n",
    "            uniqueValues, occurCount = np.unique(rand_years, return_counts=True)\n",
    "            \n",
    "            # (data_sub, data)\n",
    "            count_ex_rand = select_additional(count_ex_rand,count_month_ex, uniqueValues, occurCount, number = 1)\n",
    "            count_rand = select_additional(count_rand, count_month,uniqueValues, occurCount, number = 1)\n",
    "            \n",
    "            \n",
    "            ########### Actual Calculation\n",
    "            # (data_sub, data_all)\n",
    "            boot_run = calculate_sum_of_count_frac(count_ex_rand, count_rand, per)\n",
    "            \n",
    "            loop_storage.append(boot_run)\n",
    "            \n",
    "            ## END OF LOOP\n",
    "        \n",
    "        month_data = xr.concat(loop_storage, 'run_num')\n",
    "        month_95 = month_data.reduce(np.nanpercentile, q = 95, dim = 'run_num')\n",
    "        month_5 = month_data.reduce(np.nanpercentile, q = 5, dim = 'run_num')\n",
    "        \n",
    "        month_boot = xr.concat([month_95, month_5], pd.Index([95,5], name = 'percentile'))\n",
    "        month_storage.append(month_boot)\n",
    "        \n",
    "    total_boot = xr.concat(month_storage, pd.Index(months, name = 'month'))\n",
    "        \n",
    "    return total_boot\n",
    "    \n",
    "    \n",
    "    "
   ]
  },
  {
   "cell_type": "markdown",
   "metadata": {},
   "source": [
    "## Running and Saving"
   ]
  },
  {
   "cell_type": "code",
   "execution_count": 52,
   "metadata": {},
   "outputs": [],
   "source": [
    "loops = 1000\n",
    "per = 0.1\n",
    "\n",
    "\n",
    "name = 'enhanced'\n",
    "enhanced_boot = bootstrap_each_month_count(year_count_90.sel(mjo = name),year_count.sel(mjo = name),\n",
    "                                           per , loops)\n",
    "\n",
    "\n",
    "name = 'suppressed'\n",
    "suppressed_boot = bootstrap_each_month_count(year_count_90.sel(mjo = name),year_count.sel(mjo = name),\n",
    "                                           per , loops)\n",
    "\n",
    "\n",
    "name = 'inactive'\n",
    "inactive_boot = bootstrap_each_month_count(year_count_90.sel(mjo = name),year_count.sel(mjo = name),\n",
    "                                           per , loops)"
   ]
  },
  {
   "cell_type": "code",
   "execution_count": 58,
   "metadata": {},
   "outputs": [],
   "source": [
    "count_boot_90 = xr.concat([enhanced_boot, suppressed_boot, inactive_boot], \n",
    "                        pd.Index(['enhanced', 'suppressed','inactive'], name = 'mjo'))\n",
    "\n",
    "count_boot_90.to_netcdf('count_boot_90.nc')"
   ]
  },
  {
   "cell_type": "code",
   "execution_count": 56,
   "metadata": {},
   "outputs": [],
   "source": [
    "loops = 1000\n",
    "per = 0.05\n",
    "\n",
    "\n",
    "name = 'enhanced'\n",
    "enhanced_boot = bootstrap_each_month_count(year_count_95.sel(mjo = name),year_count.sel(mjo = name),\n",
    "                                           per , loops)\n",
    "\n",
    "\n",
    "name = 'suppressed'\n",
    "suppressed_boot = bootstrap_each_month_count(year_count_95.sel(mjo = name),year_count.sel(mjo = name),\n",
    "                                           per , loops)\n",
    "\n",
    "\n",
    "name = 'inactive'\n",
    "inactive_boot = bootstrap_each_month_count(year_count_95.sel(mjo = name),year_count.sel(mjo = name),\n",
    "                                           per , loops)"
   ]
  },
  {
   "cell_type": "code",
   "execution_count": 59,
   "metadata": {},
   "outputs": [],
   "source": [
    "count_boot_95 = xr.concat([enhanced_boot, suppressed_boot, inactive_boot], \n",
    "                        pd.Index(['enhanced', 'suppressed','inactive'], name = 'mjo'))\n",
    "\n",
    "count_boot_95.to_netcdf('count_boot_95.nc')"
   ]
  }
 ],
 "metadata": {
  "kernelspec": {
   "display_name": "Python 3",
   "language": "python",
   "name": "python3"
  },
  "language_info": {
   "codemirror_mode": {
    "name": "ipython",
    "version": 3
   },
   "file_extension": ".py",
   "mimetype": "text/x-python",
   "name": "python",
   "nbconvert_exporter": "python",
   "pygments_lexer": "ipython3",
   "version": "3.6.7"
  },
  "latex_envs": {
   "LaTeX_envs_menu_present": true,
   "autoclose": false,
   "autocomplete": true,
   "bibliofile": "biblio.bib",
   "cite_by": "apalike",
   "current_citInitial": 1,
   "eqLabelWithNumbers": true,
   "eqNumInitial": 1,
   "hotkeys": {
    "equation": "Ctrl-E",
    "itemize": "Ctrl-I"
   },
   "labels_anchors": false,
   "latex_user_defs": false,
   "report_style_numbering": false,
   "user_envs_cfg": false
  },
  "toc": {
   "base_numbering": 1,
   "nav_menu": {},
   "number_sections": true,
   "sideBar": true,
   "skip_h1_title": false,
   "title_cell": "Table of Contents",
   "title_sidebar": "Contents",
   "toc_cell": true,
   "toc_position": {
    "height": "calc(100% - 180px)",
    "left": "10px",
    "top": "150px",
    "width": "384px"
   },
   "toc_section_display": true,
   "toc_window_display": true
  }
 },
 "nbformat": 4,
 "nbformat_minor": 2
}
