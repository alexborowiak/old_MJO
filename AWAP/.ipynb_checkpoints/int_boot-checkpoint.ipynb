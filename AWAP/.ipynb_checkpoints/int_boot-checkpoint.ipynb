{
 "cells": [
  {
   "cell_type": "markdown",
   "metadata": {
    "toc": true
   },
   "source": [
    "<h1>Table of Contents<span class=\"tocSkip\"></span></h1>\n",
    "<div class=\"toc\"><ul class=\"toc-item\"><li><span><a href=\"#Preamble\" data-toc-modified-id=\"Preamble-1\"><span class=\"toc-item-num\">1&nbsp;&nbsp;</span>Preamble</a></span></li><li><span><a href=\"#Xarrays-for-Different-Phases\" data-toc-modified-id=\"Xarrays-for-Different-Phases-2\"><span class=\"toc-item-num\">2&nbsp;&nbsp;</span>Xarrays for Different Phases</a></span></li><li><span><a href=\"#Functions\" data-toc-modified-id=\"Functions-3\"><span class=\"toc-item-num\">3&nbsp;&nbsp;</span>Functions</a></span></li><li><span><a href=\"#Indivual-Phases\" data-toc-modified-id=\"Indivual-Phases-4\"><span class=\"toc-item-num\">4&nbsp;&nbsp;</span>Indivual Phases</a></span></li><li><span><a href=\"#Bootstrap\" data-toc-modified-id=\"Bootstrap-5\"><span class=\"toc-item-num\">5&nbsp;&nbsp;</span>Bootstrap</a></span></li></ul></div>"
   ]
  },
  {
   "cell_type": "markdown",
   "metadata": {},
   "source": [
    " # Preamble"
   ]
  },
  {
   "cell_type": "code",
   "execution_count": 1,
   "metadata": {},
   "outputs": [],
   "source": [
    "# In[1]:\n",
    "\n",
    "\n",
    "##############################\n",
    "\n",
    "import xarray as xr\n",
    "import numpy as np\n",
    "import pandas as pd\n",
    "import matplotlib.pyplot as plt\n",
    "import dask.array\n",
    "import cartopy.crs as ccrs\n",
    "import pickle\n",
    "import matplotlib.colors as colors\n",
    "import datetime as dt\n",
    "rb = plt.cm.RdBu\n",
    "bm = plt.cm.Blues\n",
    "\n",
    "import warnings\n",
    "warnings.filterwarnings('ignore')\n",
    "\n",
    "# In[2]:"
   ]
  },
  {
   "cell_type": "code",
   "execution_count": 2,
   "metadata": {},
   "outputs": [],
   "source": [
    "path = 'RMM.pickle'\n",
    "pickle_in = open(path, 'rb')\n",
    "RMM = pickle.load(pickle_in)"
   ]
  },
  {
   "cell_type": "code",
   "execution_count": 3,
   "metadata": {},
   "outputs": [],
   "source": [
    "# In[3]:\n",
    "\n",
    "\n",
    "path ='/home/student.unimelb.edu.au/aborowiak/Desktop/Code/Scripts/big_files/AWAP_W.nc'\n",
    "precip = xr.open_dataset(path, chunks={'time':-1, 'lat': 50, 'lon': 50}).precip\n",
    "\n",
    "\n",
    "# In[4]:"
   ]
  },
  {
   "cell_type": "code",
   "execution_count": 4,
   "metadata": {},
   "outputs": [],
   "source": [
    "RMM = RMM.reset_index()\n",
    "RMM['Date'] = RMM['Date'] + pd.to_timedelta('9h')\n",
    "RMM = RMM.set_index('Date')"
   ]
  },
  {
   "cell_type": "markdown",
   "metadata": {},
   "source": [
    "# Xarrays for Different Phases"
   ]
  },
  {
   "cell_type": "code",
   "execution_count": 6,
   "metadata": {},
   "outputs": [],
   "source": [
    "\n",
    "'''PURPOSE    Creating xarrays that contiain the rainfall data only for a specific phase of the MJO'''\n",
    "\n",
    "regions = np.array([slice(110, 120),slice(120.25, 140),slice(140.25, 156.25)])\n",
    "mjo_enhanced = np.array([[4,5],[4,5,6],[4,5,6,7]])\n",
    "\n",
    "\n",
    "# In[10]:\n",
    "\n",
    "\n",
    "d = {}\n",
    "for i in range(3):\n",
    "    RMM_enh = np.array(RMM[np.logical_and(RMM['Amplitude'] >= 1, RMM['Phase'].isin(mjo_enhanced[i]))].index)\n",
    "    r1 = precip.sel(lon = regions[i])\n",
    "    r1= r1.where(r1.time.isin(RMM_enh))\n",
    "    d[str(i)] = r1\n",
    "\n",
    "enhanced_precip = (d['0'].combine_first(d['1'])).combine_first(d['2'])\n",
    "\n",
    "\n",
    "# In[11]:\n",
    "\n",
    "\n",
    "d = {}\n",
    "for i in range(3):\n",
    "    RMM_enh = np.array(RMM[np.logical_and(RMM['Amplitude'] >= 1, ~RMM['Phase'].isin(mjo_enhanced[i]))].index)\n",
    "    r1 = precip.sel(lon = regions[i])\n",
    "    r1= r1.where(r1.time.isin(RMM_enh))\n",
    "    d[str(i)] = r1\n",
    "\n",
    "suppressed_precip = (d['0'].combine_first(d['1'])).combine_first(d['2'])\n",
    "\n",
    "\n",
    "# In[12]:\n",
    "\n",
    "\n",
    "d = {}\n",
    "for i in range(3):\n",
    "    RMM_enh = np.array(RMM[RMM['Amplitude'] < 1].index)\n",
    "    r1 = precip.sel(lon = regions[i])\n",
    "    r1= r1.where(r1.time.isin(RMM_enh))\n",
    "    d[str(i)] = r1\n",
    "\n",
    "inactive_precip = (d['0'].combine_first(d['1'])).combine_first(d['2'])"
   ]
  },
  {
   "cell_type": "markdown",
   "metadata": {},
   "source": [
    "# Functions"
   ]
  },
  {
   "cell_type": "code",
   "execution_count": 9,
   "metadata": {},
   "outputs": [],
   "source": [
    "def into_xr(data, orgininal, name = 'precip'):\n",
    "    return xr.DataArray(\n",
    "    data,\n",
    "    dims=['lat','lon'],\n",
    "    coords={'lat':orgininal.lat, 'lon': orgininal.lon},\n",
    "    name=name\n",
    "    )"
   ]
  },
  {
   "cell_type": "code",
   "execution_count": 10,
   "metadata": {},
   "outputs": [],
   "source": [
    "\n",
    "def calculate_intfrac(data_sub,data_all,q ):\n",
    "\n",
    "    # The q-th percentile of phase data\n",
    "    perc_sub = data_sub.reduce(np.nanpercentile, q = q, dim = 'time')\n",
    "\n",
    "    # The q-th percentile of all data\n",
    "    perc_all = data_all.reduce(np.nanpercentile, q = q, dim = 'time')\n",
    "\n",
    "    # This gives how the q-th percentile in the MJO phase compares to the q-th percentile of all rainfall\n",
    "    frac = perc_sub/perc_all\n",
    "\n",
    "    xr = into_xr(frac, data_all, 'precip')\n",
    "\n",
    "    return xr"
   ]
  },
  {
   "cell_type": "code",
   "execution_count": 13,
   "metadata": {},
   "outputs": [],
   "source": [
    "# In[8]:\n",
    "\n",
    "\n",
    "def percentile_all_months_and_regins(phase_precip, all_precip, q):\n",
    "\n",
    "    months = [10,11,12,1,2,3]\n",
    "    month_storage = []\n",
    "    \n",
    "    # Looping through all of the different months\n",
    "    for month in months:\n",
    "        # Finding the values for a single month\n",
    "        phase_prec_month = phase_precip.where(phase_precip.time.dt.month == month, drop = True)\n",
    "        all_prec_month = all_precip.where(all_precip.time.dt.month == month, drop = True)\n",
    "        \n",
    "        # Calculating the 90th percentile for both the phase and all, then dividing phase by all\n",
    "        # (data_sub, data_all)\n",
    "        frac_month = calculate_intfrac(phase_prec_month ,all_prec_month, q)\n",
    "\n",
    "        month_storage.append(frac_month)\n",
    "\n",
    "    frac_int = xr.concat(month_storage, pd.Index(months, name = 'month'))\n",
    "\n",
    "    return frac_int"
   ]
  },
  {
   "cell_type": "markdown",
   "metadata": {},
   "source": [
    "# Indivual Phases"
   ]
  },
  {
   "cell_type": "code",
   "execution_count": 15,
   "metadata": {},
   "outputs": [],
   "source": [
    "\n",
    "enhanced_90 = percentile_all_months_and_regins(enhanced_precip, precip , q = 90)\n",
    "\n",
    "suppressed_90 = percentile_all_months_and_regins(suppressed_precip, precip , q = 90)\n",
    "\n",
    "inactive_90 = percentile_all_months_and_regins(inactive_precip, precip , q = 90)"
   ]
  },
  {
   "cell_type": "code",
   "execution_count": 16,
   "metadata": {},
   "outputs": [],
   "source": [
    "\n",
    "int_90 = xr.concat([enhanced_90, suppressed_90, inactive_90],\n",
    "                    pd.Index(['enhanced','suppressed','inactive'], name = 'mjo'))"
   ]
  },
  {
   "cell_type": "code",
   "execution_count": 17,
   "metadata": {},
   "outputs": [],
   "source": [
    "enhanced_95 = percentile_all_months_and_regins(enhanced_precip, precip , q = 95)\n",
    "\n",
    "suppressed_95 = percentile_all_months_and_regins(suppressed_precip, precip , q = 95)\n",
    "\n",
    "inactive_95 = percentile_all_months_and_regins(inactive_precip, precip , q = 95)\n",
    "\n"
   ]
  },
  {
   "cell_type": "code",
   "execution_count": 18,
   "metadata": {},
   "outputs": [],
   "source": [
    "int_95 = xr.concat([enhanced_95, suppressed_95, inactive_95],\n",
    "                    pd.Index(['enhanced','suppressed','inactive'], name = 'mjo'))\n"
   ]
  },
  {
   "cell_type": "code",
   "execution_count": 19,
   "metadata": {},
   "outputs": [],
   "source": [
    "save = 1\n",
    "if save:\n",
    "    int_95.to_netcdf('int_frac_95.nc')\n",
    "\n",
    "    int_90.to_netcdf('int_frac_90.nc')"
   ]
  },
  {
   "cell_type": "markdown",
   "metadata": {},
   "source": [
    "# Bootstrap"
   ]
  },
  {
   "cell_type": "code",
   "execution_count": 42,
   "metadata": {},
   "outputs": [],
   "source": [
    "# This just moves all the data number * 100 years into the futre\n",
    "\n",
    "def forward_in_time(additional, number):\n",
    "    \n",
    "    # The time has been moved forward by number * 100 years\n",
    "    times = ((additional.time.dt.year.values + number *100 )* 10000 + \n",
    "                       additional.time.dt.month.values *100 + additional.time.dt.day.values)\n",
    "    values = additional.values\n",
    "    \n",
    "    future_time = []\n",
    "    future_values = []\n",
    "    \n",
    "    for i in range(len(times)):\n",
    "        time = times[i]\n",
    "        # If an error is return due to a leap year then the code passes this time. I know,I am missing one day\n",
    "        # for every for years in february, but that isn't that many points.\n",
    "        try:\n",
    "            thetime = pd.to_datetime(time,format = '%Y%m%d')\n",
    "            future_time.append(thetime)\n",
    "            future_values.append(values[i])\n",
    "        except:\n",
    "            pass\n",
    "        \n",
    "\n",
    "    xrd = xr.Dataset({'precip':(('time','lat','lon'), future_values)},\n",
    "                {'time':future_time,'lat':additional.lat, 'lon':additional.lon})\n",
    "\n",
    "    return xrd\n",
    "    \n",
    "\n",
    "\n",
    "# * Contains 1 additional function \n",
    "def select_additional(data, years):\n",
    "    \n",
    "    number = 1\n",
    "    uniqueValues, occurCount = np.unique(years, return_counts=True) \n",
    "    \n",
    "    while(any(occurCount >= 2)):\n",
    "        # Find the years that are getting sampled multiple times\n",
    "        multi_sampled_years = uniqueValues[np.where(occurCount >= 2 )]\n",
    "        \n",
    "        additional = data.where(data.time.dt.year.isin(multi_sampled_years), drop = True)\n",
    "        \n",
    "        \n",
    "        # This moves all the additinal data forwards in time\n",
    "        additional = forward_in_time(additional, number)\n",
    "               \n",
    "        data = data.combine_first(additional)\n",
    "                                \n",
    "        occurCount = occurCount - 1\n",
    "        number += 1\n",
    "        \n",
    "    \n",
    "    return data\n",
    "        "
   ]
  },
  {
   "cell_type": "code",
   "execution_count": null,
   "metadata": {},
   "outputs": [],
   "source": [
    "\n",
    "def calculate_intfrac(data_sub,data_all,q ):\n",
    "\n",
    "    # The q-th percentile of phase data\n",
    "    perc_sub = data_sub.reduce(np.nanpercentile, q = q, dim = 'time')\n",
    "\n",
    "    # The q-th percentile of all data\n",
    "    perc_all = data_all.reduce(np.nanpercentile, q = q, dim = 'time')\n",
    "\n",
    "    # This gives how the q-th percentile in the MJO phase compares to the q-th percentile of all rainfall\n",
    "    frac = perc_sub/perc_all\n",
    "\n",
    "    xr = into_xr(frac, data_all, 'precip')\n",
    "\n",
    "    return xr"
   ]
  },
  {
   "cell_type": "code",
   "execution_count": 63,
   "metadata": {},
   "outputs": [],
   "source": [
    "def bootstrap_phase_int(phase_precip,precip, q, loops):\n",
    "    \n",
    "    month_storage = []\n",
    "    \n",
    "    #looping through all of the months\n",
    "    months = [10,11,12,1,2,3]\n",
    "    for month in months:\n",
    "        # Subsetting just one month\n",
    "        phase_precip_month = phase_precip.where(phase_precip.time.dt.month == month, drop = True)\n",
    "        precip_month = precip.where(phase_precip.time.dt.month == month, drop = True)\n",
    "        \n",
    "        loop_storage = []\n",
    "        \n",
    "        for i in range(loops):\n",
    "            #### Getting random years\n",
    "            # Selecting random years; half the range\n",
    "            rand_years = np.random.randint(1974,2017,22)\n",
    "\n",
    "            # Subsetting botht the data to the randomyears\n",
    "            phase_precip_rand = phase_precip_month.where(phase_precip_month.time.dt.year.isin(rand_years))\n",
    "            precip_rand = precip_month.where(precip_month.time.dt.year.isin(rand_years))\n",
    "\n",
    "            # If there are years that have been repeated they need to be added\n",
    "            uniqueValues, occurCount = np.unique(rand_years, return_counts=True)\n",
    "\n",
    "            # (data_sub, data)\n",
    "            phase_precip_rand = select_additional(phase_precip_rand,phase_precip,\n",
    "                                                       uniqueValues, occurCount, number = 1)\n",
    "\n",
    "            precip_rand = select_additional(precip_rand, precip,uniqueValues, occurCount, number = 1)\n",
    "\n",
    "\n",
    "            #### The actual Calculation\n",
    "            # (data_sub, data)\n",
    "            boot_run = calculate_intfrac(phase_precip_rand, precip_rand,q)\n",
    "            \n",
    "            loop_storage.append(boot_run)\n",
    "            \n",
    "            ## END OF LOOP\n",
    "        \n",
    "        month_data = xr.concat(loop_storage, 'run_num')\n",
    "        month_95 = month_data.reduce(np.nanpercentile, q = 95, dim = 'run_num')\n",
    "        month_5 = month_data.reduce(np.nanpercentile, q = 5, dim = 'run_num')\n",
    "        \n",
    "        month_boot = xr.concat([month_95, month_5], pd.Index([95,5], name = 'percentile'))\n",
    "        month_storage.append(month_boot)\n",
    "        \n",
    "    total_boot = xr.concat(month_storage, pd.Index(months, name = 'month'))\n",
    "        \n",
    "    return total_boot  \n",
    "            \n"
   ]
  },
  {
   "cell_type": "code",
   "execution_count": null,
   "metadata": {},
   "outputs": [],
   "source": [
    "q = 90\n",
    "loops = 1000\n",
    "\n",
    "name = 'enhanced'\n",
    "enhanced_boot = bootstrap_phase_int(enhanced_precip,precip, q , loops = loops)\n",
    "\n",
    "name = 'suppressed'\n",
    "suppressed_boot = bootstrap_phase_int(suppressed_precip,precip, q , loops = loops)\n",
    "\n",
    "name = 'inactive'\n",
    "inactive_boot = bootstrap_phase_int(inactive_precip,precip, q , loops = loops)"
   ]
  },
  {
   "cell_type": "code",
   "execution_count": null,
   "metadata": {},
   "outputs": [],
   "source": [
    "int_boot_90 = xr.concat([enhanced_boot, suppressed_boot, inactive_boot], pd.Index(['enhanced','suppressed'\n",
    "                                                                                   ,'inactive'], name = 'mjo'))\n",
    "int_boot_90.to_netcdf('int_boot_90.nc')\n"
   ]
  },
  {
   "cell_type": "code",
   "execution_count": null,
   "metadata": {},
   "outputs": [],
   "source": [
    "q = 95\n",
    "loops = 1000\n",
    "\n",
    "name = 'enhanced'\n",
    "enhanced_boot = bootstrap_phase_int(enhanced_precip,precip, q , loops = loops)\n",
    "\n",
    "name = 'suppressed'\n",
    "suppressed_boot = bootstrap_phase_int(suppressed_precip,precip, q , loops = loops)\n",
    "\n",
    "name = 'inactive'\n",
    "inactive_boot = bootstrap_phase_int(inactive_precip,precip, q , loops = loops)"
   ]
  },
  {
   "cell_type": "code",
   "execution_count": null,
   "metadata": {},
   "outputs": [],
   "source": [
    "int_boot_95 = xr.concat([enhanced_boot, suppressed_boot, inactive_boot], pd.Index(['enhanced','suppressed'\n",
    "                                                                                   ,'inactive'], name = 'mjo'))\n",
    "int_boot_95.to_netcdf('int_boot_95.nc')"
   ]
  }
 ],
 "metadata": {
  "kernelspec": {
   "display_name": "Python 3",
   "language": "python",
   "name": "python3"
  },
  "language_info": {
   "codemirror_mode": {
    "name": "ipython",
    "version": 3
   },
   "file_extension": ".py",
   "mimetype": "text/x-python",
   "name": "python",
   "nbconvert_exporter": "python",
   "pygments_lexer": "ipython3",
   "version": "3.6.5"
  },
  "latex_envs": {
   "LaTeX_envs_menu_present": true,
   "autoclose": false,
   "autocomplete": true,
   "bibliofile": "biblio.bib",
   "cite_by": "apalike",
   "current_citInitial": 1,
   "eqLabelWithNumbers": true,
   "eqNumInitial": 1,
   "hotkeys": {
    "equation": "Ctrl-E",
    "itemize": "Ctrl-I"
   },
   "labels_anchors": false,
   "latex_user_defs": false,
   "report_style_numbering": false,
   "user_envs_cfg": false
  },
  "toc": {
   "base_numbering": 1,
   "nav_menu": {},
   "number_sections": true,
   "sideBar": true,
   "skip_h1_title": false,
   "title_cell": "Table of Contents",
   "title_sidebar": "Contents",
   "toc_cell": true,
   "toc_position": {},
   "toc_section_display": true,
   "toc_window_display": true
  }
 },
 "nbformat": 4,
 "nbformat_minor": 2
}
