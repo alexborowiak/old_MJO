{
 "cells": [
  {
   "cell_type": "markdown",
   "metadata": {
    "toc": true
   },
   "source": [
    "<h1>Table of Contents<span class=\"tocSkip\"></span></h1>\n",
    "<div class=\"toc\"><ul class=\"toc-item\"><li><span><a href=\"#Preamble\" data-toc-modified-id=\"Preamble-1\"><span class=\"toc-item-num\">1&nbsp;&nbsp;</span>Preamble</a></span></li><li><span><a href=\"#MJO-Sections\" data-toc-modified-id=\"MJO-Sections-2\"><span class=\"toc-item-num\">2&nbsp;&nbsp;</span>MJO Sections</a></span><ul class=\"toc-item\"><li><span><a href=\"#Location-Defining\" data-toc-modified-id=\"Location-Defining-2.1\"><span class=\"toc-item-num\">2.1&nbsp;&nbsp;</span>Location Defining</a></span></li><li><span><a href=\"#Functions\" data-toc-modified-id=\"Functions-2.2\"><span class=\"toc-item-num\">2.2&nbsp;&nbsp;</span>Functions</a></span></li><li><span><a href=\"#P90-:-Running-Functions\" data-toc-modified-id=\"P90-:-Running-Functions-2.3\"><span class=\"toc-item-num\">2.3&nbsp;&nbsp;</span>P90 : Running Functions</a></span><ul class=\"toc-item\"><li><span><a href=\"#Merge\" data-toc-modified-id=\"Merge-2.3.1\"><span class=\"toc-item-num\">2.3.1&nbsp;&nbsp;</span>Merge</a></span></li></ul></li><li><span><a href=\"#P95-:-Running-Functions\" data-toc-modified-id=\"P95-:-Running-Functions-2.4\"><span class=\"toc-item-num\">2.4&nbsp;&nbsp;</span>P95 : Running Functions</a></span><ul class=\"toc-item\"><li><span><a href=\"#Merge\" data-toc-modified-id=\"Merge-2.4.1\"><span class=\"toc-item-num\">2.4.1&nbsp;&nbsp;</span>Merge</a></span></li></ul></li><li><span><a href=\"#Saving\" data-toc-modified-id=\"Saving-2.5\"><span class=\"toc-item-num\">2.5&nbsp;&nbsp;</span>Saving</a></span></li></ul></li><li><span><a href=\"#Testing\" data-toc-modified-id=\"Testing-3\"><span class=\"toc-item-num\">3&nbsp;&nbsp;</span>Testing</a></span><ul class=\"toc-item\"><li><span><a href=\"#Ex\" data-toc-modified-id=\"Ex-3.1\"><span class=\"toc-item-num\">3.1&nbsp;&nbsp;</span>Ex</a></span></li><li><span><a href=\"#Norm\" data-toc-modified-id=\"Norm-3.2\"><span class=\"toc-item-num\">3.2&nbsp;&nbsp;</span>Norm</a></span></li><li><span><a href=\"#Frac\" data-toc-modified-id=\"Frac-3.3\"><span class=\"toc-item-num\">3.3&nbsp;&nbsp;</span>Frac</a></span></li></ul></li></ul></div>"
   ]
  },
  {
   "cell_type": "markdown",
   "metadata": {},
   "source": [
    "# Preamble"
   ]
  },
  {
   "cell_type": "code",
   "execution_count": 1,
   "metadata": {},
   "outputs": [],
   "source": [
    "import xarray as xr\n",
    "import numpy as np\n",
    "import pickle\n",
    "import pandas as pd\n",
    "import matplotlib.pyplot as plt\n",
    "import cartopy.crs as ccrs\n",
    "from dask.diagnostics import ProgressBar"
   ]
  },
  {
   "cell_type": "code",
   "execution_count": 2,
   "metadata": {},
   "outputs": [],
   "source": [
    "import matplotlib.colors as colors"
   ]
  },
  {
   "cell_type": "code",
   "execution_count": 3,
   "metadata": {},
   "outputs": [],
   "source": [
    "path ='/home/student.unimelb.edu.au/aborowiak/Desktop/Code/Current Project/AWAP/AWAP_P90.nc'\n",
    "AWAP_P90 = xr.open_dataset(path, chunks={'time':1}) "
   ]
  },
  {
   "cell_type": "code",
   "execution_count": 4,
   "metadata": {},
   "outputs": [],
   "source": [
    "path ='/home/student.unimelb.edu.au/aborowiak/Desktop/Code/Current Project/AWAP/AWAP_90p.nc'\n",
    "AWAP_90p = xr.open_dataset(path, chunks={'time':1}) "
   ]
  },
  {
   "cell_type": "code",
   "execution_count": 5,
   "metadata": {},
   "outputs": [],
   "source": [
    "path ='/home/student.unimelb.edu.au/aborowiak/Desktop/Code/Current Project/AWAP/AWAP_95p.nc'\n",
    "AWAP_95p = xr.open_dataset(path, chunks={'time':1}) "
   ]
  },
  {
   "cell_type": "code",
   "execution_count": 6,
   "metadata": {},
   "outputs": [],
   "source": [
    "path ='/home/student.unimelb.edu.au/aborowiak/Desktop/Code/Current Project/AWAP/AWAP_N.nc'\n",
    "AWAP_N = xr.open_dataset(path, chunks={'time':1}) "
   ]
  },
  {
   "cell_type": "code",
   "execution_count": 7,
   "metadata": {},
   "outputs": [],
   "source": [
    "rb = plt.cm.RdBu\n",
    "bm = plt.cm.Blues"
   ]
  },
  {
   "cell_type": "markdown",
   "metadata": {},
   "source": [
    "# MJO Sections"
   ]
  },
  {
   "cell_type": "markdown",
   "metadata": {},
   "source": [
    "## Location Defining\n",
    "Defining all the different regions where the MJO is active, suppressed or inactive"
   ]
  },
  {
   "cell_type": "code",
   "execution_count": 9,
   "metadata": {},
   "outputs": [],
   "source": [
    "#This is defining all of the regions where the MJO gets defined differently\n",
    "\n",
    "sec_10_20 = np.logical_and(AWAP_95p.lon >=110,AWAP_95p.lon <= 120)\n",
    "sec_20_40 = np.logical_and(AWAP_95p.lon >120,AWAP_95p.lon < 140)\n",
    "sec_40 = AWAP_95p.lon >= 140\n",
    "\n"
   ]
  },
  {
   "cell_type": "code",
   "execution_count": 10,
   "metadata": {},
   "outputs": [],
   "source": [
    "# This is now what phase of the MJO is the active (not surpressed phase)\n",
    "\n",
    "act_10_20 = [4,5]\n",
    "act_20_40 = [4,5,6]\n",
    "act_40 = [4,5,6,7]\n"
   ]
  },
  {
   "cell_type": "code",
   "execution_count": 11,
   "metadata": {},
   "outputs": [],
   "source": [
    "sec1 = {'Location':sec_10_20, 'MJO Phases': act_10_20}\n",
    "sec2 = {'Location':sec_20_40, 'MJO Phases': act_20_40}\n",
    "sec3 = {'Location':sec_40, 'MJO Phases': act_40}"
   ]
  },
  {
   "cell_type": "code",
   "execution_count": 12,
   "metadata": {},
   "outputs": [],
   "source": [
    "sec_dict = {'Sec 1': sec1,'Sec 2': sec2,'Sec 3': sec3}"
   ]
  },
  {
   "cell_type": "markdown",
   "metadata": {},
   "source": [
    "## Functions"
   ]
  },
  {
   "cell_type": "markdown",
   "metadata": {},
   "source": [
    "The first function takes in an xarray file and calculates the count of rainfall for the active, suppressed and inactive phases of the MJO. This code is generic and thus can be applied to all sections"
   ]
  },
  {
   "cell_type": "code",
   "execution_count": 13,
   "metadata": {},
   "outputs": [],
   "source": [
    "def calculate_rain_count(rain_set, mjo_active):\n",
    "    \n",
    "\n",
    "    ############# Counting the rains\n",
    "    # Dividing into Strong and Weak Phases\n",
    "    strong = rain_set.where(rain_set.RMM_Amp >= 1)\n",
    "    inactive = rain_set.where(rain_set.RMM_Amp < 1)\n",
    "    \n",
    "    # Dividing the strong into acitve and supressed. \n",
    "    active = strong.where(strong.RMM_Phase.isin(mjo_active))\n",
    "    suppressed = strong.where(~strong.RMM_Phase.isin(mjo_active))\n",
    "\n",
    "    #Now to count all of the rains in active, supressed, and inactive\n",
    "    active_count = active.groupby(active.time.dt.month).count(dim = 'time')\n",
    "    supresssed_count = suppressed.groupby(suppressed.time.dt.month).count(dim = 'time')\n",
    "    inactive_count = inactive.groupby(inactive.time.dt.month).count(dim = 'time')\n",
    "    \n",
    "    #Sotring all of the results in a dictionary\n",
    "    dicter = {}\n",
    "    dicter['Active'] = active_count\n",
    "    dicter['Supressed'] = supresssed_count\n",
    "    dicter['Inactive'] = inactive_count\n",
    "    \n",
    "    \n",
    "\n",
    "    return dicter\n",
    "    \n",
    "    \n",
    "    "
   ]
  },
  {
   "cell_type": "markdown",
   "metadata": {},
   "source": [
    "This function uses the above function and returns an xarray for the 'likelihood' and the count."
   ]
  },
  {
   "cell_type": "code",
   "execution_count": 14,
   "metadata": {},
   "outputs": [],
   "source": [
    "def count_and_fraction(extreme_set, normal_set, mjo_active, per):\n",
    "    \n",
    "    \n",
    "    #Calculates the Count of extreme rainfall per month per phase\n",
    "    extreme_dict = calculate_rain_count(extreme_set, mjo_active)\n",
    "    \n",
    "    \n",
    "    #Calculates the overall count of rainfall per phase\n",
    "    normal_dict = calculate_rain_count(normal_set, mjo_active)\n",
    "    \n",
    "    phases = extreme_dict.keys()\n",
    "    \n",
    "    \n",
    "    #Going through all of the phases (active, supressed, incactive) and calculating the fraction\n",
    "    frac_dict = {}\n",
    "    \n",
    "    for phase in phases:\n",
    "        ex_phase = extreme_dict[phase] # The number of extremes\n",
    "        n_phase = normal_dict[phase] # The number of normal rainfall events\n",
    "        \n",
    "        frac = ex_phase/ n_phase # The fraction of the two\n",
    "        frac = frac/per # Now turning this number into a fraciton\n",
    "        \n",
    "        frac_dict[phase] = frac # Storing the result in a dictionary\n",
    "        \n",
    "    return extreme_dict, frac_dict\n",
    "    \n",
    "    \n",
    "    "
   ]
  },
  {
   "cell_type": "markdown",
   "metadata": {},
   "source": [
    "## P90 : Running Functions"
   ]
  },
  {
   "cell_type": "markdown",
   "metadata": {},
   "source": [
    " RUnning the function for all the different sections. The results are then merged in the later section 'Merge'"
   ]
  },
  {
   "cell_type": "code",
   "execution_count": 15,
   "metadata": {},
   "outputs": [],
   "source": [
    "#This is the value the the fraction of extreme_count/ normal_coutn will be divided by, same as x10.\n",
    "per = 0.1"
   ]
  },
  {
   "cell_type": "code",
   "execution_count": 16,
   "metadata": {},
   "outputs": [],
   "source": [
    "S1_P90 = AWAP_90p.where(sec_dict['Sec 1']['Location']) # The 90th Percentile Rainfall\n",
    "S1_Norm = AWAP_N.where(sec_dict['Sec 1']['Location']) # The normal rainfall\n",
    "\n",
    "\n",
    "#These are dicts\n",
    "P90_count_S1, P90_frac_S1 = count_and_fraction(S1_P90, S1_Norm, sec_dict['Sec 1']['MJO Phases'],per)"
   ]
  },
  {
   "cell_type": "code",
   "execution_count": 17,
   "metadata": {},
   "outputs": [],
   "source": [
    "S2_P90 = AWAP_90p.where(sec_dict['Sec 2']['Location']) # The 90th Percentile Rainfall\n",
    "S2_Norm = AWAP_N.where(sec_dict['Sec 2']['Location'])  # The normal rainfall\n",
    "\n",
    "P90_count_S2, P90_frac_S2 = count_and_fraction(S2_P90, S2_Norm, sec_dict['Sec 2']['MJO Phases'],per)"
   ]
  },
  {
   "cell_type": "code",
   "execution_count": 18,
   "metadata": {},
   "outputs": [],
   "source": [
    "S3_P90 = AWAP_90p.where(sec_dict['Sec 3']['Location']) # The 90th Percentile Rainfall\n",
    "S3_Norm = AWAP_N.where(sec_dict['Sec 3']['Location'])  # The normal rainfall\n",
    "\n",
    "P90_count_S3, P90_frac_S3 = count_and_fraction(S3_P90, S3_Norm, sec_dict['Sec 3']['MJO Phases'],per)"
   ]
  },
  {
   "cell_type": "markdown",
   "metadata": {
    "heading_collapsed": true
   },
   "source": [
    "### Merge"
   ]
  },
  {
   "cell_type": "code",
   "execution_count": 19,
   "metadata": {
    "hidden": true
   },
   "outputs": [],
   "source": [
    "Active_frac = (P90_frac_S1['Active'].combine_first(P90_frac_S2['Active'])).combine_first(P90_frac_S3['Active'])"
   ]
  },
  {
   "cell_type": "code",
   "execution_count": 20,
   "metadata": {
    "hidden": true
   },
   "outputs": [],
   "source": [
    "Supressed_frac = (P90_frac_S1['Supressed'].combine_first(P90_frac_S2['Supressed'])).combine_first(P90_frac_S3['Supressed'])"
   ]
  },
  {
   "cell_type": "code",
   "execution_count": 21,
   "metadata": {
    "hidden": true
   },
   "outputs": [],
   "source": [
    "Inactive_frac = (P90_frac_S1['Inactive'].combine_first(P90_frac_S2['Inactive'])).combine_first(P90_frac_S3['Inactive'])"
   ]
  },
  {
   "cell_type": "markdown",
   "metadata": {},
   "source": [
    "## P95 : Running Functions"
   ]
  },
  {
   "cell_type": "code",
   "execution_count": 21,
   "metadata": {},
   "outputs": [],
   "source": [
    "# When calculating the fraction. This number is divided by\n",
    "per = 0.05"
   ]
  },
  {
   "cell_type": "code",
   "execution_count": 22,
   "metadata": {},
   "outputs": [],
   "source": [
    "S1_P95 = AWAP_95p.where(sec_dict['Sec 1']['Location'])\n",
    "S1_Norm = AWAP_N.where(sec_dict['Sec 1']['Location'])\n",
    "\n",
    "P95_count_S1, P95_frac_S1 = count_and_fraction(S1_P95, S1_Norm, sec_dict['Sec 1']['MJO Phases'],per)"
   ]
  },
  {
   "cell_type": "code",
   "execution_count": 23,
   "metadata": {},
   "outputs": [],
   "source": [
    "S2_P95 = AWAP_95p.where(sec_dict['Sec 2']['Location'])\n",
    "S2_Norm = AWAP_N.where(sec_dict['Sec 2']['Location'])\n",
    "\n",
    "P95_count_S2, P95_frac_S2 = count_and_fraction(S2_P95, S2_Norm, sec_dict['Sec 2']['MJO Phases'],per)"
   ]
  },
  {
   "cell_type": "code",
   "execution_count": 24,
   "metadata": {},
   "outputs": [],
   "source": [
    "S3_P95 = AWAP_95p.where(sec_dict['Sec 3']['Location'])\n",
    "S3_Norm = AWAP_N.where(sec_dict['Sec 3']['Location'])\n",
    "\n",
    "P95_count_S3, P95_frac_S3 = count_and_fraction(S3_P95, S3_Norm, sec_dict['Sec 3']['MJO Phases'],per)"
   ]
  },
  {
   "cell_type": "markdown",
   "metadata": {},
   "source": [
    "### Merge"
   ]
  },
  {
   "cell_type": "markdown",
   "metadata": {},
   "source": [
    "Merging all of the sectors together"
   ]
  },
  {
   "cell_type": "code",
   "execution_count": 25,
   "metadata": {},
   "outputs": [],
   "source": [
    "Active_frac_95 = (P95_frac_S1['Active'].combine_first(P95_frac_S2['Active'])).combine_first(P95_frac_S3['Active'])"
   ]
  },
  {
   "cell_type": "code",
   "execution_count": 26,
   "metadata": {},
   "outputs": [],
   "source": [
    "Supressed_frac_95 = (P95_frac_S1['Supressed'].combine_first(P95_frac_S2['Supressed'])).combine_first(P95_frac_S3['Supressed'])"
   ]
  },
  {
   "cell_type": "code",
   "execution_count": 27,
   "metadata": {},
   "outputs": [],
   "source": [
    "Inactive_frac_95 = (P95_frac_S1['Inactive'].combine_first(P95_frac_S2['Inactive'])).combine_first(P95_frac_S3['Inactive'])"
   ]
  },
  {
   "cell_type": "markdown",
   "metadata": {},
   "source": [
    "## Saving"
   ]
  },
  {
   "cell_type": "code",
   "execution_count": null,
   "metadata": {},
   "outputs": [],
   "source": []
  },
  {
   "cell_type": "code",
   "execution_count": 42,
   "metadata": {},
   "outputs": [],
   "source": [
    "from dask.diagnostics import ProgressBar"
   ]
  },
  {
   "cell_type": "code",
   "execution_count": 45,
   "metadata": {},
   "outputs": [
    {
     "name": "stdout",
     "output_type": "stream",
     "text": [
      "[                                        ] | 0% Completed |  6min 52.8s"
     ]
    },
    {
     "name": "stderr",
     "output_type": "stream",
     "text": [
      "/home/student.unimelb.edu.au/aborowiak/anaconda3/lib/python3.6/site-packages/dask/local.py:271: RuntimeWarning: invalid value encountered in greater_equal\n",
      "  return func(*args2)\n"
     ]
    },
    {
     "name": "stdout",
     "output_type": "stream",
     "text": [
      "[######                                  ] | 17% Completed |  9min 17.1s"
     ]
    },
    {
     "name": "stderr",
     "output_type": "stream",
     "text": [
      "/home/student.unimelb.edu.au/aborowiak/anaconda3/lib/python3.6/site-packages/dask/local.py:271: RuntimeWarning: invalid value encountered in true_divide\n",
      "  return func(*args2)\n"
     ]
    },
    {
     "name": "stdout",
     "output_type": "stream",
     "text": [
      "[########################################] | 100% Completed | 16min 54.8s\n",
      "[########################################] | 100% Completed |  8min 21.4s\n",
      "[                                        ] | 0% Completed | 24.2s"
     ]
    },
    {
     "name": "stderr",
     "output_type": "stream",
     "text": [
      "/home/student.unimelb.edu.au/aborowiak/anaconda3/lib/python3.6/site-packages/dask/local.py:271: RuntimeWarning: invalid value encountered in less\n",
      "  return func(*args2)\n"
     ]
    },
    {
     "name": "stdout",
     "output_type": "stream",
     "text": [
      "[########################################] | 100% Completed |  6min  0.7s\n"
     ]
    }
   ],
   "source": [
    "with ProgressBar():\n",
    "    Active_frac.to_netcdf('Active_frac_90.nc')\n",
    "    Supressed_frac.to_netcdf('Suppressed_frac_90.nc')\n",
    "    Inactive_frac.to_netcdf('Inactive_frac_90.nc')"
   ]
  },
  {
   "cell_type": "code",
   "execution_count": 46,
   "metadata": {},
   "outputs": [
    {
     "name": "stdout",
     "output_type": "stream",
     "text": [
      "[                                        ] | 0% Completed | 35.2s"
     ]
    },
    {
     "name": "stderr",
     "output_type": "stream",
     "text": [
      "/home/student.unimelb.edu.au/aborowiak/anaconda3/lib/python3.6/site-packages/dask/local.py:271: RuntimeWarning: invalid value encountered in greater_equal\n",
      "  return func(*args2)\n"
     ]
    },
    {
     "name": "stdout",
     "output_type": "stream",
     "text": [
      "[######                                  ] | 17% Completed |  1min 43.5s"
     ]
    },
    {
     "name": "stderr",
     "output_type": "stream",
     "text": [
      "/home/student.unimelb.edu.au/aborowiak/anaconda3/lib/python3.6/site-packages/dask/local.py:271: RuntimeWarning: invalid value encountered in true_divide\n",
      "  return func(*args2)\n"
     ]
    },
    {
     "name": "stdout",
     "output_type": "stream",
     "text": [
      "[########################################] | 100% Completed |  7min 58.8s\n",
      "[########################################] | 100% Completed |  8min 19.8s\n",
      "[                                        ] | 0% Completed | 24.1s"
     ]
    },
    {
     "name": "stderr",
     "output_type": "stream",
     "text": [
      "/home/student.unimelb.edu.au/aborowiak/anaconda3/lib/python3.6/site-packages/dask/local.py:271: RuntimeWarning: invalid value encountered in less\n",
      "  return func(*args2)\n"
     ]
    },
    {
     "name": "stdout",
     "output_type": "stream",
     "text": [
      "[########################################] | 100% Completed |  5min 56.7s\n"
     ]
    }
   ],
   "source": [
    "with ProgressBar():\n",
    "    Active_frac_95.to_netcdf('Active_frac_95.nc')\n",
    "    Supressed_frac_95.to_netcdf('Suppressed_frac_95.nc')\n",
    "    Inactive_frac_95.to_netcdf('Inactive_frac_95.nc')"
   ]
  },
  {
   "cell_type": "markdown",
   "metadata": {
    "heading_collapsed": true
   },
   "source": [
    "# Testing"
   ]
  },
  {
   "cell_type": "code",
   "execution_count": 84,
   "metadata": {
    "hidden": true
   },
   "outputs": [
    {
     "ename": "AssertionError",
     "evalue": "",
     "output_type": "error",
     "traceback": [
      "\u001b[0;31m---------------------------------------------------------------------------\u001b[0m",
      "\u001b[0;31mAssertionError\u001b[0m                            Traceback (most recent call last)",
      "\u001b[0;32m<ipython-input-84-e99f91a18d62>\u001b[0m in \u001b[0;36m<module>\u001b[0;34m()\u001b[0m\n\u001b[0;32m----> 1\u001b[0;31m \u001b[0;32massert\u001b[0m \u001b[0;36m1\u001b[0m \u001b[0;34m==\u001b[0m \u001b[0;36m0\u001b[0m\u001b[0;34m\u001b[0m\u001b[0m\n\u001b[0m",
      "\u001b[0;31mAssertionError\u001b[0m: "
     ]
    }
   ],
   "source": [
    "assert 1 == 0"
   ]
  },
  {
   "cell_type": "markdown",
   "metadata": {
    "hidden": true
   },
   "source": [
    "## Ex"
   ]
  },
  {
   "cell_type": "code",
   "execution_count": 22,
   "metadata": {
    "hidden": true
   },
   "outputs": [],
   "source": [
    "sec  = sec_20_40"
   ]
  },
  {
   "cell_type": "code",
   "execution_count": 68,
   "metadata": {
    "hidden": true
   },
   "outputs": [],
   "source": [
    "Ex_test = AWAP_95p.where(sec, drop = True )\n",
    "Ex_test = Ex_test.where(Ex_test.time.dt.month == 1, drop = True)\n",
    "\n",
    "Strong_ex = Ex_test.where(Ex_test.RMM_Amp >= 1, drop = True)\n",
    "# Act_ex_1 = Strong_ex.where(Strong_ex.RMM_Phase == 4, drop = True)\n",
    "# Act_ex_2 = Strong_ex.where(Strong_ex.RMM_Phase == 5, drop = True)\n",
    "# Act_ex_3 = Strong_ex.where(Strong_ex.RMM_Phase == 6, drop = True)\n",
    "# act_ex = (Act_ex_1.combine_first(Act_ex_2)).combine_first(Act_ex_3)\n",
    "\n",
    "\n",
    "act_ex = Strong_ex.where(Strong_ex.RMM_Phase.isin([4,5,6]), drop = True)"
   ]
  },
  {
   "cell_type": "code",
   "execution_count": 69,
   "metadata": {
    "hidden": true
   },
   "outputs": [],
   "source": [
    "act_ex_count = act_ex.count(dim = 'time')"
   ]
  },
  {
   "cell_type": "code",
   "execution_count": 70,
   "metadata": {
    "hidden": true
   },
   "outputs": [
    {
     "data": {
      "text/plain": [
       "<xarray.Dataset>\n",
       "Dimensions:    (lat: 49, lon: 79)\n",
       "Coordinates:\n",
       "  * lon        (lon) float64 120.2 120.5 120.8 121.0 121.2 121.5 121.8 122.0 ...\n",
       "  * lat        (lat) float64 -23.0 -22.75 -22.5 -22.25 -22.0 -21.75 -21.5 ...\n",
       "Data variables:\n",
       "    precip     (lat, lon) int64 dask.array<shape=(49, 79), chunksize=(49, 79)>\n",
       "    RMM_Phase  (lon) int64 dask.array<shape=(79,), chunksize=(79,)>\n",
       "    RMM_Amp    (lon) int64 dask.array<shape=(79,), chunksize=(79,)>"
      ]
     },
     "execution_count": 70,
     "metadata": {},
     "output_type": "execute_result"
    }
   ],
   "source": [
    "act_ex_count"
   ]
  },
  {
   "cell_type": "markdown",
   "metadata": {
    "hidden": true
   },
   "source": [
    "## Norm"
   ]
  },
  {
   "cell_type": "code",
   "execution_count": 71,
   "metadata": {
    "hidden": true
   },
   "outputs": [],
   "source": [
    "n_test = AWAP_N.where(sec, drop = True )\n",
    "n_test = n_test.where(n_test.time.dt.month == 1, drop = True)\n",
    "\n",
    "Strong_n = n_test.where(n_test.RMM_Amp >= 1, drop = True)\n",
    "# Act_n_1 = Strong_n.where(Strong_n.RMM_Phase == 4, drop = True)\n",
    "# Act_n_2 = Strong_n.where(Strong_n.RMM_Phase == 5, drop = True)\n",
    "# Act_n_3 = Strong_n.where(Strong_n.RMM_Phase == 6, drop = True)\n",
    "# act_n = (Act_n_1.combine_first(Act_n_2)).combine_first(Act_n_3)\n",
    "\n",
    "act_n = n_test.where(Strong_n.RMM_Phase.isin([4,5,6]), drop = True)"
   ]
  },
  {
   "cell_type": "code",
   "execution_count": 72,
   "metadata": {
    "hidden": true
   },
   "outputs": [],
   "source": [
    "act_n_count = act_n.count(dim = 'time')"
   ]
  },
  {
   "cell_type": "markdown",
   "metadata": {
    "hidden": true
   },
   "source": [
    "## Frac"
   ]
  },
  {
   "cell_type": "code",
   "execution_count": 73,
   "metadata": {
    "hidden": true
   },
   "outputs": [],
   "source": [
    "act_t_frac = 10 * act_ex_count/act_n_count"
   ]
  },
  {
   "cell_type": "code",
   "execution_count": 74,
   "metadata": {
    "hidden": true
   },
   "outputs": [
    {
     "data": {
      "text/plain": [
       "<xarray.Dataset>\n",
       "Dimensions:    (lat: 49, lon: 79)\n",
       "Coordinates:\n",
       "  * lat        (lat) float64 -23.0 -22.75 -22.5 -22.25 -22.0 -21.75 -21.5 ...\n",
       "  * lon        (lon) float64 120.2 120.5 120.8 121.0 121.2 121.5 121.8 122.0 ...\n",
       "Data variables:\n",
       "    precip     (lat, lon) float64 dask.array<shape=(49, 79), chunksize=(49, 79)>\n",
       "    RMM_Phase  (lon) float64 dask.array<shape=(79,), chunksize=(79,)>\n",
       "    RMM_Amp    (lon) float64 dask.array<shape=(79,), chunksize=(79,)>"
      ]
     },
     "execution_count": 74,
     "metadata": {},
     "output_type": "execute_result"
    }
   ],
   "source": [
    "act_t_frac"
   ]
  },
  {
   "cell_type": "code",
   "execution_count": 75,
   "metadata": {
    "hidden": true
   },
   "outputs": [],
   "source": [
    "test_f = Active_frac.where(sec, drop = True)\n",
    "test_f = test_f.sel(month = 1)"
   ]
  },
  {
   "cell_type": "code",
   "execution_count": 76,
   "metadata": {
    "hidden": true
   },
   "outputs": [
    {
     "data": {
      "text/plain": [
       "<xarray.Dataset>\n",
       "Dimensions:    (lat: 49, lon: 79)\n",
       "Coordinates:\n",
       "  * lat        (lat) float64 -23.0 -22.75 -22.5 -22.25 -22.0 -21.75 -21.5 ...\n",
       "  * lon        (lon) float64 120.2 120.5 120.8 121.0 121.2 121.5 121.8 122.0 ...\n",
       "    month      int64 1\n",
       "Data variables:\n",
       "    precip     (lat, lon) float64 dask.array<shape=(49, 79), chunksize=(49, 79)>\n",
       "    RMM_Phase  (lon) float64 dask.array<shape=(79,), chunksize=(79,)>\n",
       "    RMM_Amp    (lon) float64 dask.array<shape=(79,), chunksize=(79,)>"
      ]
     },
     "execution_count": 76,
     "metadata": {},
     "output_type": "execute_result"
    }
   ],
   "source": [
    "test_f"
   ]
  },
  {
   "cell_type": "code",
   "execution_count": 77,
   "metadata": {
    "hidden": true
   },
   "outputs": [],
   "source": [
    "class MidpointNormalizeLog(colors.LogNorm):\n",
    "    def __init__(self, vmin, vmax, midpoint):\n",
    "        self.midpoint = midpoint\n",
    "        super().__init__(vmin=vmin, vmax=vmax)\n",
    "        \n",
    "    def __call__(self, value, clip=None):\n",
    "        original = super().__call__(value, clip)\n",
    "        procmid = super().__call__(self.midpoint, clip)\n",
    "        \n",
    "        x, y = [0, procmid, 1], [0, 0.5, 1]\n",
    "        return np.ma.masked_array(np.interp(original, x, y), np.isnan(original))"
   ]
  },
  {
   "cell_type": "code",
   "execution_count": 78,
   "metadata": {
    "hidden": true
   },
   "outputs": [],
   "source": [
    "class MidpointNormalize(colors.Normalize):\n",
    "\t\"\"\"\n",
    "\tNormalise the colorbar so that diverging bars work there way either side from a prescribed midpoint value)\n",
    "\n",
    "\te.g. im=ax1.imshow(array, norm=MidpointNormalize(midpoint=0.,vmin=-100, vmax=100))\n",
    "\t\"\"\"\n",
    "\tdef __init__(self, vmin=None, vmax=None, midpoint=None, clip=False):\n",
    "\t\tself.midpoint = midpoint\n",
    "\t\tcolors.Normalize.__init__(self, vmin, vmax, clip)\n",
    "\n",
    "\tdef __call__(self, value, clip=None):\n",
    "\t\t# I'm ignoring masked values and all kinds of edge cases to make a\n",
    "\t\t# simple example...\n",
    "\t\tx, y = [self.vmin, self.midpoint, self.vmax], [0, 0.5, 1]\n",
    "\t\treturn np.ma.masked_array(np.interp(value, x, y), np.isnan(value))"
   ]
  },
  {
   "cell_type": "code",
   "execution_count": 79,
   "metadata": {
    "hidden": true
   },
   "outputs": [],
   "source": [
    "import datetime as dt"
   ]
  },
  {
   "cell_type": "code",
   "execution_count": 80,
   "metadata": {
    "hidden": true
   },
   "outputs": [],
   "source": [
    "test_f = test_f.where(test_f.precip != 0 , 0.2)"
   ]
  },
  {
   "cell_type": "code",
   "execution_count": 81,
   "metadata": {
    "hidden": true
   },
   "outputs": [
    {
     "data": {
      "text/plain": [
       "<xarray.Dataset>\n",
       "Dimensions:    (lat: 49, lon: 79)\n",
       "Coordinates:\n",
       "  * lat        (lat) float64 -23.0 -22.75 -22.5 -22.25 -22.0 -21.75 -21.5 ...\n",
       "  * lon        (lon) float64 120.2 120.5 120.8 121.0 121.2 121.5 121.8 122.0 ...\n",
       "    month      int64 1\n",
       "Data variables:\n",
       "    precip     (lat, lon) float64 dask.array<shape=(49, 79), chunksize=(49, 79)>\n",
       "    RMM_Phase  (lon, lat) float64 dask.array<shape=(79, 49), chunksize=(79, 49)>\n",
       "    RMM_Amp    (lon, lat) float64 dask.array<shape=(79, 49), chunksize=(79, 49)>"
      ]
     },
     "execution_count": 81,
     "metadata": {},
     "output_type": "execute_result"
    }
   ],
   "source": [
    "test_f"
   ]
  },
  {
   "cell_type": "code",
   "execution_count": 82,
   "metadata": {
    "hidden": true
   },
   "outputs": [],
   "source": [
    "act_t_frac = act_t_frac.where(act_t_frac.precip != 0, 0.2)"
   ]
  },
  {
   "cell_type": "code",
   "execution_count": 83,
   "metadata": {
    "hidden": true
   },
   "outputs": [
    {
     "name": "stderr",
     "output_type": "stream",
     "text": [
      "/home/student.unimelb.edu.au/aborowiak/anaconda3/lib/python3.6/site-packages/dask/local.py:271: RuntimeWarning: invalid value encountered in true_divide\n",
      "  return func(*args2)\n",
      "/home/student.unimelb.edu.au/aborowiak/anaconda3/lib/python3.6/site-packages/dask/local.py:271: RuntimeWarning: invalid value encountered in greater_equal\n",
      "  return func(*args2)\n"
     ]
    },
    {
     "data": {
      "text/plain": [
       "<matplotlib.collections.QuadMesh at 0x7f576a6cee10>"
      ]
     },
     "execution_count": 83,
     "metadata": {},
     "output_type": "execute_result"
    },
    {
     "data": {
      "image/png": "[encoded data removed]",
      "text/plain": [
       "<Figure size 720x720 with 4 Axes>"
      ]
     },
     "metadata": {},
     "output_type": "display_data"
    }
   ],
   "source": [
    "fig = plt.figure(figsize = (10,10))\n",
    "vmax = 4\n",
    "\n",
    "ax = fig.add_subplot(1,2,1, projection = ccrs.PlateCarree())\n",
    "act_t_frac.precip.plot(ax = ax, cmap = rb,vmin = 0.1, vmax = vmax,\n",
    "                                        norm=MidpointNormalize(midpoint=1.,vmin=0, vmax=4))\n",
    "\n",
    "\n",
    "ax = fig.add_subplot(1,2,2, projection = ccrs.PlateCarree())\n",
    "test_f.precip.plot(ax = ax, cmap = rb,vmin = 0.1, vmax = vmax,\n",
    "                                        norm=MidpointNormalize(midpoint=1.,vmin=0, vmax=4))"
   ]
  }
 ],
 "metadata": {
  "kernelspec": {
   "display_name": "Python 3",
   "language": "python",
   "name": "python3"
  },
  "language_info": {
   "codemirror_mode": {
    "name": "ipython",
    "version": 3
   },
   "file_extension": ".py",
   "mimetype": "text/x-python",
   "name": "python",
   "nbconvert_exporter": "python",
   "pygments_lexer": "ipython3",
   "version": "3.6.5"
  },
  "latex_envs": {
   "LaTeX_envs_menu_present": true,
   "autoclose": false,
   "autocomplete": true,
   "bibliofile": "biblio.bib",
   "cite_by": "apalike",
   "current_citInitial": 1,
   "eqLabelWithNumbers": true,
   "eqNumInitial": 1,
   "hotkeys": {
    "equation": "Ctrl-E",
    "itemize": "Ctrl-I"
   },
   "labels_anchors": false,
   "latex_user_defs": false,
   "report_style_numbering": false,
   "user_envs_cfg": false
  },
  "toc": {
   "base_numbering": 1,
   "nav_menu": {},
   "number_sections": true,
   "sideBar": true,
   "skip_h1_title": false,
   "title_cell": "Table of Contents",
   "title_sidebar": "Contents",
   "toc_cell": true,
   "toc_position": {
    "height": "calc(100% - 180px)",
    "left": "10px",
    "top": "150px",
    "width": "384px"
   },
   "toc_section_display": true,
   "toc_window_display": true
  }
 },
 "nbformat": 4,
 "nbformat_minor": 2
}
