{
 "cells": [
  {
   "cell_type": "markdown",
   "metadata": {
    "toc": true
   },
   "source": [
    "<h1>Table of Contents<span class=\"tocSkip\"></span></h1>\n",
    "<div class=\"toc\"><ul class=\"toc-item\"><li><span><a href=\"#Preamble\" data-toc-modified-id=\"Preamble-1\"><span class=\"toc-item-num\">1&nbsp;&nbsp;</span>Preamble</a></span></li><li><span><a href=\"#Loading-in-AWAP\" data-toc-modified-id=\"Loading-in-AWAP-2\"><span class=\"toc-item-num\">2&nbsp;&nbsp;</span>Loading in AWAP</a></span></li><li><span><a href=\"#Applying--a-Mask\" data-toc-modified-id=\"Applying--a-Mask-3\"><span class=\"toc-item-num\">3&nbsp;&nbsp;</span>Applying  a Mask</a></span></li><li><span><a href=\"#Just-North-and-Raindays\" data-toc-modified-id=\"Just-North-and-Raindays-4\"><span class=\"toc-item-num\">4&nbsp;&nbsp;</span>Just North and Raindays</a></span></li><li><span><a href=\"#The-RMM\" data-toc-modified-id=\"The-RMM-5\"><span class=\"toc-item-num\">5&nbsp;&nbsp;</span>The RMM</a></span><ul class=\"toc-item\"><li><span><a href=\"#Reading-In\" data-toc-modified-id=\"Reading-In-5.1\"><span class=\"toc-item-num\">5.1&nbsp;&nbsp;</span>Reading In</a></span></li><li><span><a href=\"#Adding-to-AWAP-and-Removing-Errors\" data-toc-modified-id=\"Adding-to-AWAP-and-Removing-Errors-5.2\"><span class=\"toc-item-num\">5.2&nbsp;&nbsp;</span>Adding to AWAP and Removing Errors</a></span></li></ul></li><li><span><a href=\"#Percentiles\" data-toc-modified-id=\"Percentiles-6\"><span class=\"toc-item-num\">6&nbsp;&nbsp;</span>Percentiles</a></span><ul class=\"toc-item\"><li><span><a href=\"#Climatology\" data-toc-modified-id=\"Climatology-6.1\"><span class=\"toc-item-num\">6.1&nbsp;&nbsp;</span>Climatology</a></span><ul class=\"toc-item\"><li><span><a href=\"#90th\" data-toc-modified-id=\"90th-6.1.1\"><span class=\"toc-item-num\">6.1.1&nbsp;&nbsp;</span>90th</a></span></li><li><span><a href=\"#95th\" data-toc-modified-id=\"95th-6.1.2\"><span class=\"toc-item-num\">6.1.2&nbsp;&nbsp;</span>95th</a></span></li></ul></li><li><span><a href=\"#AWAP\" data-toc-modified-id=\"AWAP-6.2\"><span class=\"toc-item-num\">6.2&nbsp;&nbsp;</span>AWAP</a></span><ul class=\"toc-item\"><li><span><a href=\"#Functions\" data-toc-modified-id=\"Functions-6.2.1\"><span class=\"toc-item-num\">6.2.1&nbsp;&nbsp;</span>Functions</a></span></li><li><span><a href=\"#P90\" data-toc-modified-id=\"P90-6.2.2\"><span class=\"toc-item-num\">6.2.2&nbsp;&nbsp;</span>P90</a></span></li><li><span><a href=\"#P95\" data-toc-modified-id=\"P95-6.2.3\"><span class=\"toc-item-num\">6.2.3&nbsp;&nbsp;</span>P95</a></span></li><li><span><a href=\"#Manual\" data-toc-modified-id=\"Manual-6.2.4\"><span class=\"toc-item-num\">6.2.4&nbsp;&nbsp;</span>Manual</a></span></li><li><span><a href=\"#Exporting\" data-toc-modified-id=\"Exporting-6.2.5\"><span class=\"toc-item-num\">6.2.5&nbsp;&nbsp;</span>Exporting</a></span></li></ul></li></ul></li></ul></div>"
   ]
  },
  {
   "cell_type": "markdown",
   "metadata": {},
   "source": [
    "# Preamble"
   ]
  },
  {
   "cell_type": "code",
   "execution_count": 1,
   "metadata": {},
   "outputs": [],
   "source": [
    "import xarray as xr\n",
    "import numpy as np\n",
    "import pickle\n",
    "import pandas as pd\n",
    "import matplotlib.pyplot as plt\n",
    "import cartopy.crs as ccrs\n",
    "from dask.diagnostics import ProgressBar"
   ]
  },
  {
   "cell_type": "markdown",
   "metadata": {},
   "source": [
    "# Loading in AWAP"
   ]
  },
  {
   "cell_type": "code",
   "execution_count": 2,
   "metadata": {},
   "outputs": [],
   "source": [
    "path = '/home/student.unimelb.edu.au/aborowiak/Desktop/Code/Current Project/AWAP/awap.nc'\n",
    "AWAP = xr.open_dataset(path, chunks={'time':1}) "
   ]
  },
  {
   "cell_type": "markdown",
   "metadata": {},
   "source": [
    "# Applying  a Mask"
   ]
  },
  {
   "cell_type": "code",
   "execution_count": 3,
   "metadata": {},
   "outputs": [],
   "source": [
    "#This file is a mask for AWAP: The Gibson Desert Region\n",
    "\n",
    "path = '/home/student.unimelb.edu.au/aborowiak/Desktop/Code/Current Project/AWAP/precip_calib_0.25_maskforCAus.nc'\n",
    "mask = xr.open_dataset(path)\n",
    "mask = mask.rename({'longitude':'lon'})\n",
    "mask = mask.rename({'latitude':'lat'})"
   ]
  },
  {
   "cell_type": "code",
   "execution_count": 4,
   "metadata": {},
   "outputs": [],
   "source": [
    "AWAP = AWAP.where(mask.mask == 1)"
   ]
  },
  {
   "cell_type": "markdown",
   "metadata": {},
   "source": [
    "# Just North and Raindays"
   ]
  },
  {
   "cell_type": "code",
   "execution_count": 5,
   "metadata": {},
   "outputs": [],
   "source": [
    "\n",
    "AWAP = AWAP.sel(lat = slice(-23,0))\n",
    "AWAP = AWAP.where(AWAP.precip >= 1) #Rainday > 1mm\n",
    "AWAP = AWAP.where(AWAP.precip < 8000) # This are unphysical\n",
    "AWAP = AWAP.where(AWAP.precip != np.nan) # Getting tid of all the nan points, don't think this works though\n"
   ]
  },
  {
   "cell_type": "code",
   "execution_count": 6,
   "metadata": {},
   "outputs": [],
   "source": [
    "# AWAP = AWAP.where('time.month' == [10,11,12,1,2,3])"
   ]
  },
  {
   "cell_type": "markdown",
   "metadata": {},
   "source": [
    "# The RMM"
   ]
  },
  {
   "cell_type": "markdown",
   "metadata": {},
   "source": [
    "## Reading In"
   ]
  },
  {
   "cell_type": "code",
   "execution_count": 7,
   "metadata": {},
   "outputs": [],
   "source": [
    "path = '/home/student.unimelb.edu.au/aborowiak/Desktop/Code/Current Project/Stations/MJO/RMM.pickle'\n",
    "pickle_in = open(path, 'rb')\n",
    "RMM = pickle.load(pickle_in)"
   ]
  },
  {
   "cell_type": "code",
   "execution_count": 8,
   "metadata": {},
   "outputs": [],
   "source": [
    "RMM = RMM.reset_index()\n",
    "\n",
    "RMM = RMM.rename(columns = {'Date':'time'})\n",
    "RMM = RMM.set_index('time')\n",
    "RMM = RMM[RMM['Phase'] < 10]\n",
    "RMM = RMM[RMM['Amplitude'] < 10]\n",
    "RMM.index = RMM.index + pd.to_timedelta('9h')"
   ]
  },
  {
   "cell_type": "markdown",
   "metadata": {},
   "source": [
    "## Adding to AWAP and Removing Errors"
   ]
  },
  {
   "cell_type": "code",
   "execution_count": 9,
   "metadata": {},
   "outputs": [],
   "source": [
    "#This is putting the RMM into the AWAP xarray file, this will mean that I can use the grouby functions\n",
    "#with parts of AWAP\n",
    "\n",
    "AWAP['RMM_Phase'] = RMM['Phase']\n",
    "AWAP['RMM_Amp'] = RMM['Amplitude']"
   ]
  },
  {
   "cell_type": "code",
   "execution_count": 10,
   "metadata": {},
   "outputs": [],
   "source": [
    "AWAP = AWAP.where(AWAP.RMM_Phase < 12, drop = True)\n",
    "AWAP = AWAP.where(AWAP.RMM_Amp < 12, drop = True)\n"
   ]
  },
  {
   "cell_type": "code",
   "execution_count": 11,
   "metadata": {},
   "outputs": [
    {
     "data": {
      "text/plain": [
       "<xarray.Dataset>\n",
       "Dimensions:    (lat: 53, lon: 178, time: 15630)\n",
       "Coordinates:\n",
       "  * time       (time) datetime64[ns] 1974-06-01T09:00:00 1974-06-02T09:00:00 ...\n",
       "  * lon        (lon) float64 112.0 112.2 112.5 112.8 113.0 113.2 113.5 113.8 ...\n",
       "  * lat        (lat) float64 -23.0 -22.75 -22.5 -22.25 -22.0 -21.75 -21.5 ...\n",
       "Data variables:\n",
       "    precip     (time, lat, lon) float32 dask.array<shape=(15630, 53, 178), chunksize=(1, 53, 178)>\n",
       "    RMM_Phase  (time) float64 5.0 5.0 5.0 5.0 5.0 6.0 6.0 6.0 6.0 7.0 6.0 ...\n",
       "    RMM_Amp    (time) float64 2.029 1.897 1.865 1.831 2.033 2.027 1.828 ...\n",
       "Attributes:\n",
       "    CDI:          Climate Data Interface version 1.6.2 (http://code.zmaw.de/p...\n",
       "    Conventions:  CF-1.4\n",
       "    history:      Fri Dec 07 18:54:17 2018: cdo ifthen grid_0.25.nc precip_ca...\n",
       "    CDO:          Climate Data Operators version 1.6.2 (http://code.zmaw.de/p..."
      ]
     },
     "execution_count": 11,
     "metadata": {},
     "output_type": "execute_result"
    }
   ],
   "source": [
    "AWAP"
   ]
  },
  {
   "cell_type": "code",
   "execution_count": 12,
   "metadata": {},
   "outputs": [],
   "source": [
    "AWAP = AWAP.where(AWAP.time.dt.month.isin([10,11,12,1,2,3]) , drop = True)"
   ]
  },
  {
   "cell_type": "code",
   "execution_count": 13,
   "metadata": {},
   "outputs": [
    {
     "data": {
      "text/plain": [
       "<xarray.Dataset>\n",
       "Dimensions:    (lat: 53, lon: 178, time: 7822)\n",
       "Coordinates:\n",
       "  * time       (time) datetime64[ns] 1974-10-01T09:00:00 1974-10-02T09:00:00 ...\n",
       "  * lon        (lon) float64 112.0 112.2 112.5 112.8 113.0 113.2 113.5 113.8 ...\n",
       "  * lat        (lat) float64 -23.0 -22.75 -22.5 -22.25 -22.0 -21.75 -21.5 ...\n",
       "Data variables:\n",
       "    precip     (time, lat, lon) float32 dask.array<shape=(7822, 53, 178), chunksize=(1, 53, 178)>\n",
       "    RMM_Phase  (time) float64 3.0 3.0 4.0 4.0 4.0 5.0 5.0 5.0 5.0 5.0 5.0 ...\n",
       "    RMM_Amp    (time) float64 1.078 1.216 1.068 0.7765 0.6408 0.5485 0.9567 ...\n",
       "Attributes:\n",
       "    CDI:          Climate Data Interface version 1.6.2 (http://code.zmaw.de/p...\n",
       "    Conventions:  CF-1.4\n",
       "    history:      Fri Dec 07 18:54:17 2018: cdo ifthen grid_0.25.nc precip_ca...\n",
       "    CDO:          Climate Data Operators version 1.6.2 (http://code.zmaw.de/p..."
      ]
     },
     "execution_count": 13,
     "metadata": {},
     "output_type": "execute_result"
    }
   ],
   "source": [
    "AWAP"
   ]
  },
  {
   "cell_type": "code",
   "execution_count": 14,
   "metadata": {},
   "outputs": [
    {
     "name": "stdout",
     "output_type": "stream",
     "text": [
      "[                                        ] | 0% Completed |  4.7s"
     ]
    },
    {
     "name": "stderr",
     "output_type": "stream",
     "text": [
      "/home/student.unimelb.edu.au/aborowiak/anaconda3/lib/python3.6/site-packages/dask/local.py:271: RuntimeWarning: invalid value encountered in greater_equal\n",
      "  return func(*args2)\n",
      "/home/student.unimelb.edu.au/aborowiak/anaconda3/lib/python3.6/site-packages/dask/local.py:271: RuntimeWarning: invalid value encountered in less\n",
      "  return func(*args2)\n"
     ]
    },
    {
     "name": "stdout",
     "output_type": "stream",
     "text": [
      "[########################################] | 100% Completed |  1min 30.8s\n"
     ]
    }
   ],
   "source": [
    "AWAP_W = AWAP\n",
    "with ProgressBar():\n",
    "    AWAP_W.to_netcdf('AWAP_W.nc')"
   ]
  },
  {
   "cell_type": "markdown",
   "metadata": {},
   "source": [
    "# Percentiles"
   ]
  },
  {
   "cell_type": "markdown",
   "metadata": {},
   "source": [
    "## Climatology"
   ]
  },
  {
   "cell_type": "markdown",
   "metadata": {},
   "source": [
    "### 90th"
   ]
  },
  {
   "cell_type": "code",
   "execution_count": 11,
   "metadata": {},
   "outputs": [
    {
     "name": "stderr",
     "output_type": "stream",
     "text": [
      "/home/student.unimelb.edu.au/aborowiak/anaconda3/lib/python3.6/site-packages/dask/local.py:271: RuntimeWarning: invalid value encountered in less\n",
      "  return func(*args2)\n",
      "/home/student.unimelb.edu.au/aborowiak/anaconda3/lib/python3.6/site-packages/dask/local.py:271: RuntimeWarning: invalid value encountered in greater_equal\n",
      "  return func(*args2)\n",
      "/home/student.unimelb.edu.au/aborowiak/anaconda3/lib/python3.6/site-packages/numpy/lib/nanfunctions.py:1172: RuntimeWarning: All-NaN slice encountered\n",
      "  overwrite_input, interpolation)\n"
     ]
    }
   ],
   "source": [
    "Climatology_P90 = AWAP.sel(time = slice('1960','1990')).groupby('time.month').reduce(np.nanpercentile, q=90, dim='time')"
   ]
  },
  {
   "cell_type": "code",
   "execution_count": 12,
   "metadata": {},
   "outputs": [
    {
     "data": {
      "text/plain": [
       "<matplotlib.collections.QuadMesh at 0x7f30edc3b320>"
      ]
     },
     "execution_count": 12,
     "metadata": {},
     "output_type": "execute_result"
    },
    {
     "data": {
      "image/png": "[encoded data removed]",
      "text/plain": [
       "<Figure size 432x288 with 2 Axes>"
      ]
     },
     "metadata": {},
     "output_type": "display_data"
    }
   ],
   "source": [
    "Climatology_P90.precip.sel(month = 12).plot()"
   ]
  },
  {
   "cell_type": "markdown",
   "metadata": {},
   "source": [
    "### 95th"
   ]
  },
  {
   "cell_type": "code",
   "execution_count": 13,
   "metadata": {},
   "outputs": [
    {
     "name": "stdout",
     "output_type": "stream",
     "text": [
      "[##                                      ] | 6% Completed |  0.2s"
     ]
    },
    {
     "name": "stderr",
     "output_type": "stream",
     "text": [
      "/home/student.unimelb.edu.au/aborowiak/anaconda3/lib/python3.6/site-packages/dask/local.py:271: RuntimeWarning: invalid value encountered in greater_equal\n",
      "  return func(*args2)\n",
      "/home/student.unimelb.edu.au/aborowiak/anaconda3/lib/python3.6/site-packages/dask/local.py:271: RuntimeWarning: invalid value encountered in less\n",
      "  return func(*args2)\n"
     ]
    },
    {
     "name": "stdout",
     "output_type": "stream",
     "text": [
      "[########################################] | 100% Completed |  2.9s\n"
     ]
    },
    {
     "name": "stderr",
     "output_type": "stream",
     "text": [
      "/home/student.unimelb.edu.au/aborowiak/anaconda3/lib/python3.6/site-packages/numpy/lib/nanfunctions.py:1172: RuntimeWarning: All-NaN slice encountered\n",
      "  overwrite_input, interpolation)\n"
     ]
    },
    {
     "name": "stdout",
     "output_type": "stream",
     "text": [
      "[########################################] | 100% Completed |  2.5s\n",
      "[########################################] | 100% Completed |  3.0s\n",
      "[########################################] | 100% Completed |  2.5s\n",
      "[########################################] | 100% Completed |  2.4s\n",
      "[########################################] | 100% Completed |  2.8s\n",
      "[########################################] | 100% Completed |  2.9s\n",
      "[########################################] | 100% Completed |  2.5s\n",
      "[########################################] | 100% Completed |  2.9s\n",
      "[########################################] | 100% Completed |  3.4s\n",
      "[########################################] | 100% Completed |  3.3s\n",
      "[########################################] | 100% Completed |  3.4s\n"
     ]
    }
   ],
   "source": [
    "with ProgressBar():\n",
    "    Climatology_P95 = AWAP.sel(time = slice('1960','1990')).groupby('time.month').reduce(np.nanpercentile, q=95, dim='time')"
   ]
  },
  {
   "cell_type": "markdown",
   "metadata": {},
   "source": [
    "## AWAP"
   ]
  },
  {
   "cell_type": "markdown",
   "metadata": {},
   "source": [
    "### Functions"
   ]
  },
  {
   "cell_type": "code",
   "execution_count": 14,
   "metadata": {},
   "outputs": [],
   "source": [
    "#Goes through each month \n",
    "\n",
    "def return_extremes_of_month(month_num, AWAP, Climatology):\n",
    "\n",
    "    AWAP_m = AWAP.where(AWAP.time.dt.month == month_num)\n",
    "    AWAP_m = AWAP_m.where(AWAP_m.precip >= Climatology.sel(month = month_num), drop = True)\n",
    "    AWAP_m['RMM_Phase'] = RMM['Phase']\n",
    "    AWAP_m['RMM_Amp'] = RMM['Amplitude']\n",
    "    \n",
    "    return AWAP_m\n",
    "    \n",
    "    "
   ]
  },
  {
   "cell_type": "code",
   "execution_count": 16,
   "metadata": {},
   "outputs": [],
   "source": [
    "def extreme_xarray(AWAP, Climatology):\n",
    "    \n",
    "    dict_temp = {}\n",
    "\n",
    "    months = [10,11,12,1,2,3]\n",
    "\n",
    "    for month_num in months:\n",
    "        dict_temp[str(month_num)] = return_extremes_of_month(month_num, AWAP, Climatology)\n",
    "        \n",
    "        \n",
    "    for key in dict_temp.keys():\n",
    "        if key == '10':\n",
    "            xr_temp = dict_temp['10']\n",
    "        else:\n",
    "            xr_temp = xr.concat([xr_temp,dict_temp[key]], dim = 'time')\n",
    "            \n",
    "            \n",
    "    return xr_temp"
   ]
  },
  {
   "cell_type": "markdown",
   "metadata": {},
   "source": [
    "### P90"
   ]
  },
  {
   "cell_type": "code",
   "execution_count": 23,
   "metadata": {},
   "outputs": [
    {
     "name": "stdout",
     "output_type": "stream",
     "text": [
      "[                                        ] | 0% Completed | 15.6s"
     ]
    },
    {
     "name": "stderr",
     "output_type": "stream",
     "text": [
      "/home/student.unimelb.edu.au/aborowiak/anaconda3/lib/python3.6/site-packages/dask/local.py:271: RuntimeWarning: invalid value encountered in greater_equal\n",
      "  return func(*args2)\n",
      "/home/student.unimelb.edu.au/aborowiak/anaconda3/lib/python3.6/site-packages/dask/local.py:271: RuntimeWarning: invalid value encountered in less\n",
      "  return func(*args2)\n"
     ]
    },
    {
     "name": "stdout",
     "output_type": "stream",
     "text": [
      "[                                        ] | 1% Completed | 17.8s"
     ]
    },
    {
     "name": "stderr",
     "output_type": "stream",
     "text": [
      "/home/student.unimelb.edu.au/aborowiak/anaconda3/lib/python3.6/site-packages/dask/local.py:271: RuntimeWarning: invalid value encountered in less_equal\n",
      "  return func(*args2)\n"
     ]
    },
    {
     "name": "stdout",
     "output_type": "stream",
     "text": [
      "[########################################] | 100% Completed |  7min 34.1s\n",
      "[                                        ] | 0% Completed | 16.4s"
     ]
    },
    {
     "name": "stderr",
     "output_type": "stream",
     "text": [
      "/home/student.unimelb.edu.au/aborowiak/anaconda3/lib/python3.6/site-packages/dask/local.py:271: RuntimeWarning: invalid value encountered in greater_equal\n",
      "  return func(*args2)\n",
      "/home/student.unimelb.edu.au/aborowiak/anaconda3/lib/python3.6/site-packages/dask/local.py:271: RuntimeWarning: invalid value encountered in less\n",
      "  return func(*args2)\n"
     ]
    },
    {
     "name": "stdout",
     "output_type": "stream",
     "text": [
      "[                                        ] | 0% Completed | 17.1s"
     ]
    },
    {
     "name": "stderr",
     "output_type": "stream",
     "text": [
      "/home/student.unimelb.edu.au/aborowiak/anaconda3/lib/python3.6/site-packages/dask/local.py:271: RuntimeWarning: invalid value encountered in less_equal\n",
      "  return func(*args2)\n"
     ]
    },
    {
     "name": "stdout",
     "output_type": "stream",
     "text": [
      "[########################################] | 100% Completed |  5min 27.8s\n",
      "[                                        ] | 0% Completed | 16.6s"
     ]
    },
    {
     "name": "stderr",
     "output_type": "stream",
     "text": [
      "/home/student.unimelb.edu.au/aborowiak/anaconda3/lib/python3.6/site-packages/dask/local.py:271: RuntimeWarning: invalid value encountered in greater_equal\n",
      "  return func(*args2)\n",
      "/home/student.unimelb.edu.au/aborowiak/anaconda3/lib/python3.6/site-packages/dask/local.py:271: RuntimeWarning: invalid value encountered in less\n",
      "  return func(*args2)\n"
     ]
    },
    {
     "name": "stdout",
     "output_type": "stream",
     "text": [
      "[                                        ] | 1% Completed | 18.7s"
     ]
    },
    {
     "name": "stderr",
     "output_type": "stream",
     "text": [
      "/home/student.unimelb.edu.au/aborowiak/anaconda3/lib/python3.6/site-packages/dask/local.py:271: RuntimeWarning: invalid value encountered in less_equal\n",
      "  return func(*args2)\n"
     ]
    },
    {
     "name": "stdout",
     "output_type": "stream",
     "text": [
      "[########################################] | 100% Completed |  6min 41.3s\n",
      "[                                        ] | 0% Completed | 16.3s"
     ]
    },
    {
     "name": "stderr",
     "output_type": "stream",
     "text": [
      "/home/student.unimelb.edu.au/aborowiak/anaconda3/lib/python3.6/site-packages/dask/local.py:271: RuntimeWarning: invalid value encountered in greater_equal\n",
      "  return func(*args2)\n",
      "/home/student.unimelb.edu.au/aborowiak/anaconda3/lib/python3.6/site-packages/dask/local.py:271: RuntimeWarning: invalid value encountered in less\n",
      "  return func(*args2)\n"
     ]
    },
    {
     "name": "stdout",
     "output_type": "stream",
     "text": [
      "[###                                     ] | 7% Completed | 25.6s"
     ]
    },
    {
     "name": "stderr",
     "output_type": "stream",
     "text": [
      "/home/student.unimelb.edu.au/aborowiak/anaconda3/lib/python3.6/site-packages/dask/local.py:271: RuntimeWarning: invalid value encountered in less_equal\n",
      "  return func(*args2)\n"
     ]
    },
    {
     "name": "stdout",
     "output_type": "stream",
     "text": [
      "[########################################] | 100% Completed |  3min 59.0s\n",
      "[                                        ] | 0% Completed | 15.1s"
     ]
    },
    {
     "name": "stderr",
     "output_type": "stream",
     "text": [
      "/home/student.unimelb.edu.au/aborowiak/anaconda3/lib/python3.6/site-packages/dask/local.py:271: RuntimeWarning: invalid value encountered in greater_equal\n",
      "  return func(*args2)\n",
      "/home/student.unimelb.edu.au/aborowiak/anaconda3/lib/python3.6/site-packages/dask/local.py:271: RuntimeWarning: invalid value encountered in less\n",
      "  return func(*args2)\n"
     ]
    },
    {
     "name": "stdout",
     "output_type": "stream",
     "text": [
      "[##                                      ] | 6% Completed | 22.9s"
     ]
    },
    {
     "name": "stderr",
     "output_type": "stream",
     "text": [
      "/home/student.unimelb.edu.au/aborowiak/anaconda3/lib/python3.6/site-packages/dask/local.py:271: RuntimeWarning: invalid value encountered in less_equal\n",
      "  return func(*args2)\n"
     ]
    },
    {
     "name": "stdout",
     "output_type": "stream",
     "text": [
      "[########################################] | 100% Completed |  5min  6.3s\n",
      "[                                        ] | 0% Completed | 14.5s"
     ]
    },
    {
     "name": "stderr",
     "output_type": "stream",
     "text": [
      "/home/student.unimelb.edu.au/aborowiak/anaconda3/lib/python3.6/site-packages/dask/local.py:271: RuntimeWarning: invalid value encountered in greater_equal\n",
      "  return func(*args2)\n",
      "/home/student.unimelb.edu.au/aborowiak/anaconda3/lib/python3.6/site-packages/dask/local.py:271: RuntimeWarning: invalid value encountered in less\n",
      "  return func(*args2)\n"
     ]
    },
    {
     "name": "stdout",
     "output_type": "stream",
     "text": [
      "[##                                      ] | 5% Completed | 21.0s"
     ]
    },
    {
     "name": "stderr",
     "output_type": "stream",
     "text": [
      "/home/student.unimelb.edu.au/aborowiak/anaconda3/lib/python3.6/site-packages/dask/local.py:271: RuntimeWarning: invalid value encountered in less_equal\n",
      "  return func(*args2)\n"
     ]
    },
    {
     "name": "stdout",
     "output_type": "stream",
     "text": [
      "[########################################] | 100% Completed |  8min 52.3s\n"
     ]
    }
   ],
   "source": [
    "with ProgressBar():\n",
    "        AWAP_90p = extreme_xarray(AWAP, Climatology_P90)"
   ]
  },
  {
   "cell_type": "code",
   "execution_count": 25,
   "metadata": {},
   "outputs": [
    {
     "name": "stdout",
     "output_type": "stream",
     "text": [
      "[                                        ] | 0% Completed |  6.6s"
     ]
    },
    {
     "name": "stderr",
     "output_type": "stream",
     "text": [
      "/home/student.unimelb.edu.au/aborowiak/anaconda3/lib/python3.6/site-packages/dask/local.py:271: RuntimeWarning: invalid value encountered in greater_equal\n",
      "  return func(*args2)\n",
      "/home/student.unimelb.edu.au/aborowiak/anaconda3/lib/python3.6/site-packages/dask/local.py:271: RuntimeWarning: invalid value encountered in less\n",
      "  return func(*args2)\n"
     ]
    },
    {
     "name": "stdout",
     "output_type": "stream",
     "text": [
      "[                                        ] | 0% Completed |  6.9s"
     ]
    },
    {
     "name": "stderr",
     "output_type": "stream",
     "text": [
      "/home/student.unimelb.edu.au/aborowiak/anaconda3/lib/python3.6/site-packages/dask/local.py:271: RuntimeWarning: invalid value encountered in less_equal\n",
      "  return func(*args2)\n"
     ]
    },
    {
     "name": "stdout",
     "output_type": "stream",
     "text": [
      "[########################################] | 100% Completed |  2min 49.4s\n"
     ]
    }
   ],
   "source": [
    "with ProgressBar():\n",
    "    AWAP_90p.to_netcdf('AWAP_90p.nc')"
   ]
  },
  {
   "cell_type": "markdown",
   "metadata": {},
   "source": [
    "### P95"
   ]
  },
  {
   "cell_type": "code",
   "execution_count": 18,
   "metadata": {},
   "outputs": [
    {
     "name": "stdout",
     "output_type": "stream",
     "text": [
      "[                                        ] | 0% Completed | 14.1s"
     ]
    },
    {
     "name": "stderr",
     "output_type": "stream",
     "text": [
      "/home/student.unimelb.edu.au/aborowiak/anaconda3/lib/python3.6/site-packages/dask/local.py:271: RuntimeWarning: invalid value encountered in greater_equal\n",
      "  return func(*args2)\n",
      "/home/student.unimelb.edu.au/aborowiak/anaconda3/lib/python3.6/site-packages/dask/local.py:271: RuntimeWarning: invalid value encountered in less\n",
      "  return func(*args2)\n"
     ]
    },
    {
     "name": "stdout",
     "output_type": "stream",
     "text": [
      "[###                                     ] | 7% Completed | 23.1s"
     ]
    },
    {
     "name": "stderr",
     "output_type": "stream",
     "text": [
      "/home/student.unimelb.edu.au/aborowiak/anaconda3/lib/python3.6/site-packages/dask/local.py:271: RuntimeWarning: invalid value encountered in less_equal\n",
      "  return func(*args2)\n"
     ]
    },
    {
     "name": "stdout",
     "output_type": "stream",
     "text": [
      "[########################################] | 100% Completed |  5min 14.3s\n",
      "[                                        ] | 0% Completed | 14.9s"
     ]
    },
    {
     "name": "stderr",
     "output_type": "stream",
     "text": [
      "/home/student.unimelb.edu.au/aborowiak/anaconda3/lib/python3.6/site-packages/dask/local.py:271: RuntimeWarning: invalid value encountered in greater_equal\n",
      "  return func(*args2)\n",
      "/home/student.unimelb.edu.au/aborowiak/anaconda3/lib/python3.6/site-packages/dask/local.py:271: RuntimeWarning: invalid value encountered in less\n",
      "  return func(*args2)\n"
     ]
    },
    {
     "name": "stdout",
     "output_type": "stream",
     "text": [
      "[#                                       ] | 3% Completed | 19.0s"
     ]
    },
    {
     "name": "stderr",
     "output_type": "stream",
     "text": [
      "/home/student.unimelb.edu.au/aborowiak/anaconda3/lib/python3.6/site-packages/dask/local.py:271: RuntimeWarning: invalid value encountered in less_equal\n",
      "  return func(*args2)\n"
     ]
    },
    {
     "name": "stdout",
     "output_type": "stream",
     "text": [
      "[########################################] | 100% Completed |  8min 29.6s\n",
      "[                                        ] | 0% Completed | 15.6s"
     ]
    },
    {
     "name": "stderr",
     "output_type": "stream",
     "text": [
      "/home/student.unimelb.edu.au/aborowiak/anaconda3/lib/python3.6/site-packages/dask/local.py:271: RuntimeWarning: invalid value encountered in greater_equal\n",
      "  return func(*args2)\n",
      "/home/student.unimelb.edu.au/aborowiak/anaconda3/lib/python3.6/site-packages/dask/local.py:271: RuntimeWarning: invalid value encountered in less\n",
      "  return func(*args2)\n"
     ]
    },
    {
     "name": "stdout",
     "output_type": "stream",
     "text": [
      "[###                                     ] | 8% Completed | 25.1s"
     ]
    },
    {
     "name": "stderr",
     "output_type": "stream",
     "text": [
      "/home/student.unimelb.edu.au/aborowiak/anaconda3/lib/python3.6/site-packages/dask/local.py:271: RuntimeWarning: invalid value encountered in less_equal\n",
      "  return func(*args2)\n"
     ]
    },
    {
     "name": "stdout",
     "output_type": "stream",
     "text": [
      "[########################################] | 100% Completed |  5min 16.6s\n",
      "[                                        ] | 0% Completed | 15.1s"
     ]
    },
    {
     "name": "stderr",
     "output_type": "stream",
     "text": [
      "/home/student.unimelb.edu.au/aborowiak/anaconda3/lib/python3.6/site-packages/dask/local.py:271: RuntimeWarning: invalid value encountered in greater_equal\n",
      "  return func(*args2)\n",
      "/home/student.unimelb.edu.au/aborowiak/anaconda3/lib/python3.6/site-packages/dask/local.py:271: RuntimeWarning: invalid value encountered in less\n",
      "  return func(*args2)\n"
     ]
    },
    {
     "name": "stdout",
     "output_type": "stream",
     "text": [
      "[##                                      ] | 5% Completed | 21.7s"
     ]
    },
    {
     "name": "stderr",
     "output_type": "stream",
     "text": [
      "/home/student.unimelb.edu.au/aborowiak/anaconda3/lib/python3.6/site-packages/dask/local.py:271: RuntimeWarning: invalid value encountered in less_equal\n",
      "  return func(*args2)\n"
     ]
    },
    {
     "name": "stdout",
     "output_type": "stream",
     "text": [
      "[########################################] | 100% Completed |  7min  1.6s\n",
      "[                                        ] | 0% Completed | 14.2s"
     ]
    },
    {
     "name": "stderr",
     "output_type": "stream",
     "text": [
      "/home/student.unimelb.edu.au/aborowiak/anaconda3/lib/python3.6/site-packages/dask/local.py:271: RuntimeWarning: invalid value encountered in greater_equal\n",
      "  return func(*args2)\n",
      "/home/student.unimelb.edu.au/aborowiak/anaconda3/lib/python3.6/site-packages/dask/local.py:271: RuntimeWarning: invalid value encountered in less\n",
      "  return func(*args2)\n"
     ]
    },
    {
     "name": "stdout",
     "output_type": "stream",
     "text": [
      "[###                                     ] | 8% Completed | 23.8s"
     ]
    },
    {
     "name": "stderr",
     "output_type": "stream",
     "text": [
      "/home/student.unimelb.edu.au/aborowiak/anaconda3/lib/python3.6/site-packages/dask/local.py:271: RuntimeWarning: invalid value encountered in less_equal\n",
      "  return func(*args2)\n"
     ]
    },
    {
     "name": "stdout",
     "output_type": "stream",
     "text": [
      "[########################################] | 100% Completed |  5min 28.4s\n",
      "[                                        ] | 0% Completed | 14.1s"
     ]
    },
    {
     "name": "stderr",
     "output_type": "stream",
     "text": [
      "/home/student.unimelb.edu.au/aborowiak/anaconda3/lib/python3.6/site-packages/dask/local.py:271: RuntimeWarning: invalid value encountered in greater_equal\n",
      "  return func(*args2)\n",
      "/home/student.unimelb.edu.au/aborowiak/anaconda3/lib/python3.6/site-packages/dask/local.py:271: RuntimeWarning: invalid value encountered in less\n",
      "  return func(*args2)\n"
     ]
    },
    {
     "name": "stdout",
     "output_type": "stream",
     "text": [
      "[###                                     ] | 7% Completed | 23.0s"
     ]
    },
    {
     "name": "stderr",
     "output_type": "stream",
     "text": [
      "/home/student.unimelb.edu.au/aborowiak/anaconda3/lib/python3.6/site-packages/dask/local.py:271: RuntimeWarning: invalid value encountered in less_equal\n",
      "  return func(*args2)\n"
     ]
    },
    {
     "name": "stdout",
     "output_type": "stream",
     "text": [
      "[########################################] | 100% Completed |  6min 44.2s\n"
     ]
    }
   ],
   "source": [
    "with ProgressBar():\n",
    "        AWAP_95p = extreme_xarray(AWAP, Climatology_P95)\n",
    "    "
   ]
  },
  {
   "cell_type": "code",
   "execution_count": 22,
   "metadata": {},
   "outputs": [
    {
     "data": {
      "text/plain": [
       "<xarray.Dataset>\n",
       "Dimensions:    (lat: 49, lon: 149, time: 7723)\n",
       "Coordinates:\n",
       "  * lon        (lon) float64 113.8 114.0 114.2 114.5 114.8 115.0 115.2 115.5 ...\n",
       "  * lat        (lat) float64 -23.0 -22.75 -22.5 -22.25 -22.0 -21.75 -21.5 ...\n",
       "  * time       (time) datetime64[ns] 1974-10-01T09:00:00 1974-10-02T09:00:00 ...\n",
       "    month      (time) int64 10 10 10 10 10 10 10 10 10 10 10 10 10 10 10 10 ...\n",
       "Data variables:\n",
       "    precip     (time, lat, lon) float32 dask.array<shape=(7723, 49, 149), chunksize=(1, 49, 149)>\n",
       "    RMM_Phase  (time) float64 3.0 3.0 4.0 4.0 4.0 5.0 5.0 5.0 5.0 5.0 5.0 ...\n",
       "    RMM_Amp    (time) float64 1.078 1.216 1.068 0.7765 0.6408 0.5485 0.9567 ...\n",
       "Attributes:\n",
       "    CDI:          Climate Data Interface version 1.6.2 (http://code.zmaw.de/p...\n",
       "    Conventions:  CF-1.4\n",
       "    history:      Fri Dec 07 18:54:17 2018: cdo ifthen grid_0.25.nc precip_ca...\n",
       "    CDO:          Climate Data Operators version 1.6.2 (http://code.zmaw.de/p..."
      ]
     },
     "execution_count": 22,
     "metadata": {},
     "output_type": "execute_result"
    }
   ],
   "source": [
    "AWAP_95p"
   ]
  },
  {
   "cell_type": "code",
   "execution_count": 24,
   "metadata": {},
   "outputs": [
    {
     "name": "stdout",
     "output_type": "stream",
     "text": [
      "[                                        ] | 0% Completed |  6.5s"
     ]
    },
    {
     "name": "stderr",
     "output_type": "stream",
     "text": [
      "/home/student.unimelb.edu.au/aborowiak/anaconda3/lib/python3.6/site-packages/dask/local.py:271: RuntimeWarning: invalid value encountered in greater_equal\n",
      "  return func(*args2)\n",
      "/home/student.unimelb.edu.au/aborowiak/anaconda3/lib/python3.6/site-packages/dask/local.py:271: RuntimeWarning: invalid value encountered in less\n",
      "  return func(*args2)\n"
     ]
    },
    {
     "name": "stdout",
     "output_type": "stream",
     "text": [
      "[                                        ] | 0% Completed |  6.9s"
     ]
    },
    {
     "name": "stderr",
     "output_type": "stream",
     "text": [
      "/home/student.unimelb.edu.au/aborowiak/anaconda3/lib/python3.6/site-packages/dask/local.py:271: RuntimeWarning: invalid value encountered in less_equal\n",
      "  return func(*args2)\n"
     ]
    },
    {
     "name": "stdout",
     "output_type": "stream",
     "text": [
      "[########################################] | 100% Completed |  2min 59.3s\n"
     ]
    }
   ],
   "source": [
    "with ProgressBar():\n",
    "    AWAP_95p.to_netcdf('AWAP_95p.nc')"
   ]
  },
  {
   "cell_type": "markdown",
   "metadata": {
    "heading_collapsed": true
   },
   "source": [
    "### Manual"
   ]
  },
  {
   "cell_type": "code",
   "execution_count": 36,
   "metadata": {
    "hidden": true
   },
   "outputs": [
    {
     "name": "stderr",
     "output_type": "stream",
     "text": [
      "/home/student.unimelb.edu.au/aborowiak/anaconda3/lib/python3.6/site-packages/dask/local.py:271: RuntimeWarning: invalid value encountered in greater_equal\n",
      "  return func(*args2)\n",
      "/home/student.unimelb.edu.au/aborowiak/anaconda3/lib/python3.6/site-packages/dask/local.py:271: RuntimeWarning: invalid value encountered in less\n",
      "  return func(*args2)\n",
      "/home/student.unimelb.edu.au/aborowiak/anaconda3/lib/python3.6/site-packages/dask/local.py:271: RuntimeWarning: invalid value encountered in less_equal\n",
      "  return func(*args2)\n",
      "/home/student.unimelb.edu.au/aborowiak/anaconda3/lib/python3.6/site-packages/dask/local.py:271: RuntimeWarning: invalid value encountered in greater_equal\n",
      "  return func(*args2)\n",
      "/home/student.unimelb.edu.au/aborowiak/anaconda3/lib/python3.6/site-packages/dask/local.py:271: RuntimeWarning: invalid value encountered in less\n",
      "  return func(*args2)\n",
      "/home/student.unimelb.edu.au/aborowiak/anaconda3/lib/python3.6/site-packages/dask/local.py:271: RuntimeWarning: invalid value encountered in less_equal\n",
      "  return func(*args2)\n",
      "/home/student.unimelb.edu.au/aborowiak/anaconda3/lib/python3.6/site-packages/dask/local.py:271: RuntimeWarning: invalid value encountered in greater_equal\n",
      "  return func(*args2)\n",
      "/home/student.unimelb.edu.au/aborowiak/anaconda3/lib/python3.6/site-packages/dask/local.py:271: RuntimeWarning: invalid value encountered in less\n",
      "  return func(*args2)\n",
      "/home/student.unimelb.edu.au/aborowiak/anaconda3/lib/python3.6/site-packages/dask/local.py:271: RuntimeWarning: invalid value encountered in less_equal\n",
      "  return func(*args2)\n",
      "/home/student.unimelb.edu.au/aborowiak/anaconda3/lib/python3.6/site-packages/dask/local.py:271: RuntimeWarning: invalid value encountered in greater_equal\n",
      "  return func(*args2)\n",
      "/home/student.unimelb.edu.au/aborowiak/anaconda3/lib/python3.6/site-packages/dask/local.py:271: RuntimeWarning: invalid value encountered in less\n",
      "  return func(*args2)\n",
      "/home/student.unimelb.edu.au/aborowiak/anaconda3/lib/python3.6/site-packages/dask/local.py:271: RuntimeWarning: invalid value encountered in less_equal\n",
      "  return func(*args2)\n",
      "/home/student.unimelb.edu.au/aborowiak/anaconda3/lib/python3.6/site-packages/dask/local.py:271: RuntimeWarning: invalid value encountered in greater_equal\n",
      "  return func(*args2)\n",
      "/home/student.unimelb.edu.au/aborowiak/anaconda3/lib/python3.6/site-packages/dask/local.py:271: RuntimeWarning: invalid value encountered in less\n",
      "  return func(*args2)\n",
      "/home/student.unimelb.edu.au/aborowiak/anaconda3/lib/python3.6/site-packages/dask/local.py:271: RuntimeWarning: invalid value encountered in less_equal\n",
      "  return func(*args2)\n",
      "/home/student.unimelb.edu.au/aborowiak/anaconda3/lib/python3.6/site-packages/dask/local.py:271: RuntimeWarning: invalid value encountered in greater_equal\n",
      "  return func(*args2)\n",
      "/home/student.unimelb.edu.au/aborowiak/anaconda3/lib/python3.6/site-packages/dask/local.py:271: RuntimeWarning: invalid value encountered in less\n",
      "  return func(*args2)\n",
      "/home/student.unimelb.edu.au/aborowiak/anaconda3/lib/python3.6/site-packages/dask/local.py:271: RuntimeWarning: invalid value encountered in less_equal\n",
      "  return func(*args2)\n"
     ]
    }
   ],
   "source": [
    "AWAP_90p_dict = {}\n",
    "\n",
    "months = [10,11,12,1,2,3]\n",
    "\n",
    "for month_num in months:\n",
    "    AWAP_90p_dict[str(month_num)] = return_extremes_of_month(month_num, AWAP)"
   ]
  },
  {
   "cell_type": "code",
   "execution_count": 37,
   "metadata": {
    "code_folding": [],
    "hidden": true
   },
   "outputs": [],
   "source": [
    "for key in AWAP_90p_dict.keys():\n",
    "    if key == '10':\n",
    "        AWAP_90p = AWAP_90p_dict['10']\n",
    "    else:\n",
    "        AWAP_90p = xr.concat([AWAP_90p,AWAP_90p_dict[key]], dim = 'time')"
   ]
  },
  {
   "cell_type": "code",
   "execution_count": 38,
   "metadata": {
    "hidden": true
   },
   "outputs": [
    {
     "data": {
      "text/plain": [
       "<xarray.Dataset>\n",
       "Dimensions:    (lat: 49, lon: 149, time: 7735)\n",
       "Coordinates:\n",
       "  * lon        (lon) float64 113.8 114.0 114.2 114.5 114.8 115.0 115.2 115.5 ...\n",
       "  * lat        (lat) float64 -23.0 -22.75 -22.5 -22.25 -22.0 -21.75 -21.5 ...\n",
       "  * time       (time) datetime64[ns] 1974-10-01T09:00:00 1974-10-02T09:00:00 ...\n",
       "    month      (time) int64 10 10 10 10 10 10 10 10 10 10 10 10 10 10 10 10 ...\n",
       "Data variables:\n",
       "    precip     (time, lat, lon) float32 dask.array<shape=(7735, 49, 149), chunksize=(1, 49, 149)>\n",
       "    RMM_Phase  (time) float64 3.0 3.0 4.0 4.0 4.0 5.0 5.0 5.0 5.0 5.0 5.0 ...\n",
       "    RMM_Amp    (time) float64 1.078 1.216 1.068 0.7765 0.6408 0.5485 0.9567 ...\n",
       "Attributes:\n",
       "    CDI:          Climate Data Interface version 1.6.2 (http://code.zmaw.de/p...\n",
       "    Conventions:  CF-1.4\n",
       "    history:      Fri Dec 07 18:54:17 2018: cdo ifthen grid_0.25.nc precip_ca...\n",
       "    CDO:          Climate Data Operators version 1.6.2 (http://code.zmaw.de/p..."
      ]
     },
     "execution_count": 38,
     "metadata": {},
     "output_type": "execute_result"
    }
   ],
   "source": [
    "AWAP_90p"
   ]
  },
  {
   "cell_type": "markdown",
   "metadata": {
    "heading_collapsed": true
   },
   "source": [
    "### Exporting"
   ]
  },
  {
   "cell_type": "code",
   "execution_count": 40,
   "metadata": {
    "hidden": true
   },
   "outputs": [
    {
     "name": "stdout",
     "output_type": "stream",
     "text": [
      "[                                        ] | 0% Completed |  6.0s"
     ]
    },
    {
     "name": "stderr",
     "output_type": "stream",
     "text": [
      "/home/student.unimelb.edu.au/aborowiak/anaconda3/lib/python3.6/site-packages/dask/local.py:271: RuntimeWarning: invalid value encountered in greater_equal\n",
      "  return func(*args2)\n",
      "/home/student.unimelb.edu.au/aborowiak/anaconda3/lib/python3.6/site-packages/dask/local.py:271: RuntimeWarning: invalid value encountered in less\n",
      "  return func(*args2)\n"
     ]
    },
    {
     "name": "stdout",
     "output_type": "stream",
     "text": [
      "[                                        ] | 0% Completed |  6.3s"
     ]
    },
    {
     "name": "stderr",
     "output_type": "stream",
     "text": [
      "/home/student.unimelb.edu.au/aborowiak/anaconda3/lib/python3.6/site-packages/dask/local.py:271: RuntimeWarning: invalid value encountered in less_equal\n",
      "  return func(*args2)\n"
     ]
    },
    {
     "name": "stdout",
     "output_type": "stream",
     "text": [
      "[########################################] | 100% Completed |  2min  7.2s\n"
     ]
    }
   ],
   "source": [
    "with ProgressBar():\n",
    "    AWAP_90p.to_netcdf('AWAP_P90.nc')"
   ]
  },
  {
   "cell_type": "code",
   "execution_count": null,
   "metadata": {
    "hidden": true
   },
   "outputs": [],
   "source": []
  }
 ],
 "metadata": {
  "kernelspec": {
   "display_name": "Python 3",
   "language": "python",
   "name": "python3"
  },
  "language_info": {
   "codemirror_mode": {
    "name": "ipython",
    "version": 3
   },
   "file_extension": ".py",
   "mimetype": "text/x-python",
   "name": "python",
   "nbconvert_exporter": "python",
   "pygments_lexer": "ipython3",
   "version": "3.6.5"
  },
  "latex_envs": {
   "LaTeX_envs_menu_present": true,
   "autoclose": false,
   "autocomplete": true,
   "bibliofile": "biblio.bib",
   "cite_by": "apalike",
   "current_citInitial": 1,
   "eqLabelWithNumbers": true,
   "eqNumInitial": 1,
   "hotkeys": {
    "equation": "Ctrl-E",
    "itemize": "Ctrl-I"
   },
   "labels_anchors": false,
   "latex_user_defs": false,
   "report_style_numbering": false,
   "user_envs_cfg": false
  },
  "toc": {
   "base_numbering": 1,
   "nav_menu": {},
   "number_sections": true,
   "sideBar": true,
   "skip_h1_title": false,
   "title_cell": "Table of Contents",
   "title_sidebar": "Contents",
   "toc_cell": true,
   "toc_position": {},
   "toc_section_display": true,
   "toc_window_display": true
  }
 },
 "nbformat": 4,
 "nbformat_minor": 2
}
