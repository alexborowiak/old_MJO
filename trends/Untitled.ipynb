{
 "cells": [
  {
   "cell_type": "code",
   "execution_count": 1,
   "metadata": {},
   "outputs": [],
   "source": [
    "import xarray as xr"
   ]
  },
  {
   "cell_type": "code",
   "execution_count": 2,
   "metadata": {},
   "outputs": [],
   "source": [
    "import numpy as np"
   ]
  },
  {
   "cell_type": "code",
   "execution_count": 5,
   "metadata": {},
   "outputs": [],
   "source": [
    "test = xr.open_dataset('total_trend.nc')"
   ]
  },
  {
   "cell_type": "code",
   "execution_count": 6,
   "metadata": {},
   "outputs": [
    {
     "data": {
      "text/plain": [
       "<xarray.Dataset>\n",
       "Dimensions:     (lat: 53, lon: 178, mjo: 4, percentile: 21)\n",
       "Coordinates:\n",
       "  * mjo         (mjo) object 'enhanced' 'suppressed' 'inactive' 'all'\n",
       "  * lat         (lat) float64 -23.0 -22.75 -22.5 -22.25 ... -10.5 -10.25 -10.0\n",
       "  * lon         (lon) float64 112.0 112.2 112.5 112.8 ... 155.8 156.0 156.2\n",
       "  * percentile  (percentile) int64 0 5 10 15 20 25 30 ... 70 75 80 85 90 95 100\n",
       "Data variables:\n",
       "    trend       (percentile, mjo, lat, lon) float64 ..."
      ]
     },
     "execution_count": 6,
     "metadata": {},
     "output_type": "execute_result"
    }
   ],
   "source": [
    "test"
   ]
  },
  {
   "cell_type": "code",
   "execution_count": null,
   "metadata": {},
   "outputs": [],
   "source": []
  }
 ],
 "metadata": {
  "kernelspec": {
   "display_name": "Python 3",
   "language": "python",
   "name": "python3"
  },
  "language_info": {
   "codemirror_mode": {
    "name": "ipython",
    "version": 3
   },
   "file_extension": ".py",
   "mimetype": "text/x-python",
   "name": "python",
   "nbconvert_exporter": "python",
   "pygments_lexer": "ipython3",
   "version": "3.6.7"
  }
 },
 "nbformat": 4,
 "nbformat_minor": 2
}
