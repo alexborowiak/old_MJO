{
 "cells": [
  {
   "cell_type": "markdown",
   "metadata": {
    "toc": true
   },
   "source": [
    "<h1>Table of Contents<span class=\"tocSkip\"></span></h1>\n",
    "<div class=\"toc\"><ul class=\"toc-item\"><li><span><a href=\"#Preamble\" data-toc-modified-id=\"Preamble-1\"><span class=\"toc-item-num\">1&nbsp;&nbsp;</span>Preamble</a></span></li><li><span><a href=\"#Loading-in-All-Data\" data-toc-modified-id=\"Loading-in-All-Data-2\"><span class=\"toc-item-num\">2&nbsp;&nbsp;</span>Loading in All Data</a></span></li></ul></div>"
   ]
  },
  {
   "cell_type": "markdown",
   "metadata": {},
   "source": [
    "# Preamble"
   ]
  },
  {
   "cell_type": "code",
   "execution_count": null,
   "metadata": {},
   "outputs": [],
   "source": [
    "import xarray as xr\n",
    "\n",
    "import cdsapi\n",
    "\n",
    "import pandas as pd"
   ]
  },
  {
   "cell_type": "markdown",
   "metadata": {},
   "source": [
    "# Loading in All Data"
   ]
  },
  {
   "cell_type": "code",
   "execution_count": null,
   "metadata": {},
   "outputs": [],
   "source": [
    "\n",
    "\n",
    "c = cdsapi.Client()\n",
    "\n",
    "years = [\n",
    "            '1979','1980','1981',\n",
    "            '1982','1983','1984',\n",
    "            '1985','1986','1987',\n",
    "            '1988','1989','1990',\n",
    "            '1991','1992','1993',\n",
    "            '1994','1995','1996',\n",
    "            '1997','1998','1999',\n",
    "            '2000','2001','2002',\n",
    "            '2003','2004','2005',\n",
    "            '2006','2007','2008',\n",
    "            '2009','2010','2011',\n",
    "            '2012','2013','2014',\n",
    "            '2015','2016','2017',\n",
    "            '2018'\n",
    "        ]\n",
    "\n",
    "\n",
    "year_stor = []\n",
    "\n",
    "\n",
    "for year in years:\n",
    "    \n",
    "    \n",
    "    ####################################\n",
    "    c.retrieve(\n",
    "    'reanalysis-era5-single-levels',\n",
    "    {\n",
    "        'product_type':'reanalysis',\n",
    "        'variable':'total_column_water',\n",
    "        'year':year,\n",
    "        'month':[\n",
    "            '01','02','03',\n",
    "            '10','11','12'\n",
    "        ],\n",
    "        'day':[\n",
    "            '01','02','03',\n",
    "            '04','05','06',\n",
    "            '07','08','09',\n",
    "            '10','11','12',\n",
    "            '13','14','15',\n",
    "            '16','17','18',\n",
    "            '19','20','21',\n",
    "            '22','23','24',\n",
    "            '25','26','27',\n",
    "            '28','29','30',\n",
    "            '31'\n",
    "        ],\n",
    "        'time':[\n",
    "            '00:00','01:00','02:00',\n",
    "            '03:00','04:00','05:00',\n",
    "            '06:00','07:00','08:00',\n",
    "            '09:00','10:00','11:00',\n",
    "            '12:00','13:00','14:00',\n",
    "            '15:00','16:00','17:00',\n",
    "            '18:00','19:00','20:00',\n",
    "            '21:00','22:00','23:00'\n",
    "        ],\n",
    "        'format':'netcdf'\n",
    "    },\n",
    "        'year_meta.nc')\n",
    "    ####################################\n",
    "    \n",
    "    c.retrieve(\n",
    "    'reanalysis-era5-single-levels',\n",
    "    {\n",
    "        'product_type':'reanalysis',\n",
    "        'variable':'total_column_water',\n",
    "        'year':str(int(year) + 1),\n",
    "        'month':'01',\n",
    "        'day':'01',\n",
    "        'time':[\n",
    "            '00:00','01:00','02:00',\n",
    "            '03:00','04:00','05:00',\n",
    "            '06:00','07:00','08:00'\n",
    "        ],\n",
    "        'format':'netcdf'\n",
    "    },\n",
    "    'additional_meta.nc')\n",
    "    \n",
    "    \n",
    "    \n",
    "    \n",
    "    ####################################\n",
    "    \n",
    "    # The first dat set is the year in question\n",
    "    \n",
    "    # The second data set is the first 8 hours of the next year. This is because I am taking the 9am to \n",
    "    # 9am average. This means I need the first 8 hours e.g 00:00 to 08:00.\n",
    "    data = xr.open_dataset('year_meta.nc')\n",
    "    data_2 = xr.open_dataset('additional_meta.nc')\n",
    "    \n",
    "    data = data.combine_first(data_2)\n",
    "    \n",
    "    #####\n",
    "    #Only need the region for Australia, these below are the bounds that I have for AWAP\n",
    "    data = data.sel(latitude = slice(-10, -23), longitude = slice(112, 156.25))\n",
    "    \n",
    "    # Subsetting the time and subtracting 9 hours so that I am getting the 9am to 9am mean\n",
    "    end = data.time.values[-1] # This is only needed as I need to specify and end\n",
    "    # Selecting the first 9am, this ensure that I don't go back into the previos year\n",
    "    data = data.sel(time = slice(year + '-01-01T09:00:00.000000000',end))\n",
    "    data['time'] = data.time.values - pd.to_timedelta('9h')\n",
    "    \n",
    "    # This gets the mean of all days\n",
    "    data = data.resample('D', dim = 'time', how = 'mean')\n",
    "    \n",
    "    # Dropping anything that has gone outside the year in question\n",
    "    data = data.where(data.time.dt.year == year, drop = True)\n",
    "    \n",
    "    # Storing the results so I can later combine_firest into an xarray file\n",
    "    year_stor.append(data)\n",
    "    \n",
    "    \n"
   ]
  },
  {
   "cell_type": "code",
   "execution_count": null,
   "metadata": {},
   "outputs": [],
   "source": [
    "for i in range(len(year_stor)):\n",
    "    if i == 0:\n",
    "        era5 = year_stor[i]\n",
    "    else:\n",
    "        era5.combine_firest(year_stor[i])\n",
    "        \n",
    "        "
   ]
  },
  {
   "cell_type": "code",
   "execution_count": null,
   "metadata": {},
   "outputs": [],
   "source": [
    "era5.to_netcdf('era_5.nc')"
   ]
  },
  {
   "cell_type": "code",
   "execution_count": null,
   "metadata": {},
   "outputs": [],
   "source": []
  }
 ],
 "metadata": {
  "kernelspec": {
   "display_name": "Python 3",
   "language": "python",
   "name": "python3"
  },
  "language_info": {
   "codemirror_mode": {
    "name": "ipython",
    "version": 3
   },
   "file_extension": ".py",
   "mimetype": "text/x-python",
   "name": "python",
   "nbconvert_exporter": "python",
   "pygments_lexer": "ipython3",
   "version": "3.6.5"
  },
  "latex_envs": {
   "LaTeX_envs_menu_present": true,
   "autoclose": false,
   "autocomplete": true,
   "bibliofile": "biblio.bib",
   "cite_by": "apalike",
   "current_citInitial": 1,
   "eqLabelWithNumbers": true,
   "eqNumInitial": 1,
   "hotkeys": {
    "equation": "Ctrl-E",
    "itemize": "Ctrl-I"
   },
   "labels_anchors": false,
   "latex_user_defs": false,
   "report_style_numbering": false,
   "user_envs_cfg": false
  },
  "toc": {
   "base_numbering": 1,
   "nav_menu": {},
   "number_sections": true,
   "sideBar": true,
   "skip_h1_title": false,
   "title_cell": "Table of Contents",
   "title_sidebar": "Contents",
   "toc_cell": true,
   "toc_position": {},
   "toc_section_display": true,
   "toc_window_display": true
  }
 },
 "nbformat": 4,
 "nbformat_minor": 2
}
