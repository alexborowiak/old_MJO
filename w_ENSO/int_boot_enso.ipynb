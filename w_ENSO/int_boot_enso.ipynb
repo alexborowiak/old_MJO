{
 "cells": [
  {
   "cell_type": "markdown",
   "metadata": {
    "toc": true
   },
   "source": [
    "<h1>Table of Contents<span class=\"tocSkip\"></span></h1>\n",
    "<div class=\"toc\"><ul class=\"toc-item\"><li><span><a href=\"#Preamble\" data-toc-modified-id=\"Preamble-1\"><span class=\"toc-item-num\">1&nbsp;&nbsp;</span>Preamble</a></span></li><li><span><a href=\"#Xarrays-for-Different-Phases\" data-toc-modified-id=\"Xarrays-for-Different-Phases-2\"><span class=\"toc-item-num\">2&nbsp;&nbsp;</span>Xarrays for Different Phases</a></span></li><li><span><a href=\"#Functions\" data-toc-modified-id=\"Functions-3\"><span class=\"toc-item-num\">3&nbsp;&nbsp;</span>Functions</a></span></li><li><span><a href=\"#Indivual-Phases\" data-toc-modified-id=\"Indivual-Phases-4\"><span class=\"toc-item-num\">4&nbsp;&nbsp;</span>Indivual Phases</a></span></li><li><span><a href=\"#Bootstrap\" data-toc-modified-id=\"Bootstrap-5\"><span class=\"toc-item-num\">5&nbsp;&nbsp;</span>Bootstrap</a></span></li></ul></div>"
   ]
  },
  {
   "cell_type": "markdown",
   "metadata": {
    "heading_collapsed": true
   },
   "source": [
    "# Preamble"
   ]
  },
  {
   "cell_type": "code",
   "execution_count": 1,
   "metadata": {
    "hidden": true
   },
   "outputs": [],
   "source": [
    "# In[1]:\n",
    "\n",
    "\n",
    "##############################\n",
    "\n",
    "import xarray as xr\n",
    "import numpy as np\n",
    "import pandas as pd\n",
    "import matplotlib.pyplot as plt\n",
    "import dask.array\n",
    "import cartopy.crs as ccrs\n",
    "import pickle\n",
    "import matplotlib.colors as colors\n",
    "import datetime as dt\n",
    "rb = plt.cm.RdBu\n",
    "bm = plt.cm.Blues\n",
    "\n",
    "import warnings\n",
    "warnings.filterwarnings('ignore')\n",
    "\n",
    "# In[2]:"
   ]
  },
  {
   "cell_type": "code",
   "execution_count": 2,
   "metadata": {
    "hidden": true
   },
   "outputs": [],
   "source": [
    "path = 'RMM.pickle'\n",
    "pickle_in = open(path, 'rb')\n",
    "RMM = pickle.load(pickle_in)"
   ]
  },
  {
   "cell_type": "code",
   "execution_count": 3,
   "metadata": {
    "hidden": true
   },
   "outputs": [],
   "source": [
    "# %load /home/563/ab2313/MJO/get_awap.py\n",
    "import sys\n",
    "\n",
    "def get_platform():\n",
    "    platforms = {\n",
    "        'linux1' : 'Linux',\n",
    "        'linux2' : 'Linux',\n",
    "        'darwin' : 'OS X',\n",
    "        'win32' : 'Windows'\n",
    "    }\n",
    "\n",
    "    if sys.platform not in platforms:\n",
    "        return sys.platform\n",
    "\n",
    "    return platforms[sys.platform]\n",
    "\n",
    "\n",
    "platform = get_platform()\n",
    "\n",
    "\n",
    "if platform == 'OS X':\n",
    "    path =  '/Users/alexborowiak/Desktop/large_files/'\n",
    "\n",
    "\n",
    "   \n",
    "    \n",
    "else:\n",
    "#     path = '/home/student.unimelb.edu.au/aborowiak/Desktop/Code/Scripts/big_files/'\n",
    "    path = '/home/563/ab2313/big_files/'\n",
    "\n",
    "\n",
    "# precip = xr.open_dataset(path + 'AWAP_w.nc')\n"
   ]
  },
  {
   "cell_type": "code",
   "execution_count": 4,
   "metadata": {
    "hidden": true
   },
   "outputs": [],
   "source": [
    "precip = xr.open_dataset(path + 'AWAP_W.nc', chunks={'time':-1, 'lat': 50, 'lon': 50}).precip"
   ]
  },
  {
   "cell_type": "code",
   "execution_count": 5,
   "metadata": {
    "hidden": true
   },
   "outputs": [],
   "source": [
    "RMM = RMM.reset_index()\n",
    "RMM['Date'] = RMM['Date'] + pd.to_timedelta('9h')\n",
    "RMM = RMM.set_index('Date')"
   ]
  },
  {
   "cell_type": "code",
   "execution_count": 6,
   "metadata": {
    "hidden": true
   },
   "outputs": [],
   "source": [
    "import os \n",
    "cwd = os.getcwd() + '/'\n",
    "\n",
    "save_dir = cwd + 'int_data/'"
   ]
  },
  {
   "cell_type": "markdown",
   "metadata": {
    "heading_collapsed": true
   },
   "source": [
    "# Different Phases\n",
    "\n",
    "The rainfall is divided into different phases\n",
    "\n",
    "Returns:\n",
    "* <b> phase_precip </b> All the rainfall data split into the MJO phases\n",
    "\n",
    "Notes: The 90th and 95th percentile are not need here, this is what I am calculating"
   ]
  },
  {
   "cell_type": "code",
   "execution_count": 7,
   "metadata": {
    "hidden": true
   },
   "outputs": [],
   "source": [
    "\n",
    "'''PURPOSE    Creating xarrays that contiain the rainfall data only for a specific phase of the MJO'''\n",
    "\n",
    "regions = np.array([slice(110, 120),slice(120.25, 140),slice(140.25, 156.25)])\n",
    "mjo_enhanced = np.array([[4,5],[4,5,6],[4,5,6,7]])\n",
    "\n",
    "\n",
    "# In[10]:\n",
    "\n",
    "\n",
    "d = {}\n",
    "for i in range(3):\n",
    "    RMM_enh = np.array(RMM[np.logical_and(RMM['Amplitude'] >= 1, RMM['Phase'].isin(mjo_enhanced[i]))].index)\n",
    "    r1 = precip.sel(lon = regions[i])\n",
    "    r1= r1.where(r1.time.isin(RMM_enh))\n",
    "    d[str(i)] = r1\n",
    "\n",
    "enhanced_precip = (d['0'].combine_first(d['1'])).combine_first(d['2'])\n",
    "\n",
    "\n",
    "# In[11]:\n",
    "\n",
    "\n",
    "d = {}\n",
    "for i in range(3):\n",
    "    RMM_enh = np.array(RMM[np.logical_and(RMM['Amplitude'] >= 1, ~RMM['Phase'].isin(mjo_enhanced[i]))].index)\n",
    "    r1 = precip.sel(lon = regions[i])\n",
    "    r1= r1.where(r1.time.isin(RMM_enh))\n",
    "    d[str(i)] = r1\n",
    "\n",
    "suppressed_precip = (d['0'].combine_first(d['1'])).combine_first(d['2'])\n",
    "\n",
    "\n",
    "# In[12]:\n",
    "\n",
    "\n",
    "d = {}\n",
    "for i in range(3):\n",
    "    RMM_enh = np.array(RMM[RMM['Amplitude'] < 1].index)\n",
    "    r1 = precip.sel(lon = regions[i])\n",
    "    r1= r1.where(r1.time.isin(RMM_enh))\n",
    "    d[str(i)] = r1\n",
    "\n",
    "inactive_precip = (d['0'].combine_first(d['1'])).combine_first(d['2'])"
   ]
  },
  {
   "cell_type": "code",
   "execution_count": 8,
   "metadata": {
    "hidden": true
   },
   "outputs": [],
   "source": [
    "phase_precip = xr.concat([enhanced_precip,suppressed_precip,inactive_precip],\n",
    "                        pd.Index(['enhanced', 'suppressed', 'inactive'], name = 'mjo'))"
   ]
  },
  {
   "cell_type": "markdown",
   "metadata": {
    "heading_collapsed": true
   },
   "source": [
    "# Functions"
   ]
  },
  {
   "cell_type": "code",
   "execution_count": 9,
   "metadata": {
    "hidden": true
   },
   "outputs": [],
   "source": [
    "def into_xr(data, orgininal, name = 'precip'):\n",
    "    return xr.DataArray(\n",
    "    data,\n",
    "    dims=['lat','lon'],\n",
    "    coords={'lat':orgininal.lat, 'lon': orgininal.lon},\n",
    "    name=name\n",
    "    )"
   ]
  },
  {
   "cell_type": "code",
   "execution_count": 10,
   "metadata": {
    "hidden": true
   },
   "outputs": [],
   "source": [
    "\n",
    "def calculate_intfrac(data_sub,data_all,q ):\n",
    "\n",
    "    # The q-th percentile of phase data\n",
    "    perc_sub = data_sub.reduce(np.nanpercentile, q = q, dim = 'time')\n",
    "\n",
    "    # The q-th percentile of all data\n",
    "    perc_all = data_all.reduce(np.nanpercentile, q = q, dim = 'time')\n",
    "\n",
    "    # This gives how the q-th percentile in the MJO phase compares to the q-th percentile of all rainfall\n",
    "    frac = perc_sub/perc_all\n",
    "\n",
    "    xr = into_xr(frac, data_all, 'precip')\n",
    "\n",
    "    return xr"
   ]
  },
  {
   "cell_type": "code",
   "execution_count": 11,
   "metadata": {
    "hidden": true
   },
   "outputs": [],
   "source": [
    "# In[8]:\n",
    "\n",
    "\n",
    "def percentile_all_months_and_regins(phase_precip, all_precip, q):\n",
    "\n",
    "    months = [10,11,12,1,2,3]\n",
    "    month_storage = []\n",
    "    \n",
    "    # Looping through all of the different months\n",
    "    for month in months:\n",
    "        # Finding the values for a single month\n",
    "        phase_prec_month = phase_precip.where(phase_precip.time.dt.month == month, drop = True)\n",
    "        all_prec_month = all_precip.where(all_precip.time.dt.month == month, drop = True)\n",
    "        \n",
    "        # Calculating the 90th percentile for both the phase and all, then dividing phase by all\n",
    "        # (data_sub, data_all)\n",
    "        frac_month = calculate_intfrac(phase_prec_month ,all_prec_month, q)\n",
    "\n",
    "        month_storage.append(frac_month)\n",
    "\n",
    "    frac_int = xr.concat(month_storage, pd.Index(months, name = 'month'))\n",
    "\n",
    "    return frac_int"
   ]
  },
  {
   "cell_type": "markdown",
   "metadata": {
    "heading_collapsed": true
   },
   "source": [
    "# ENSO\n",
    "Splitting my data into the various phases of ENSO\n",
    "\n",
    "Returns:\n",
    "\n",
    "* <b> phase_precip_enso </b> : ALl rainfall that has been split into the different phases of the MJO and ENSO"
   ]
  },
  {
   "cell_type": "code",
   "execution_count": 12,
   "metadata": {
    "hidden": true
   },
   "outputs": [],
   "source": [
    "import pickle"
   ]
  },
  {
   "cell_type": "code",
   "execution_count": 13,
   "metadata": {
    "hidden": true
   },
   "outputs": [
    {
     "data": {
      "text/html": [
       "<div>\n",
       "<style scoped>\n",
       "    .dataframe tbody tr th:only-of-type {\n",
       "        vertical-align: middle;\n",
       "    }\n",
       "\n",
       "    .dataframe tbody tr th {\n",
       "        vertical-align: top;\n",
       "    }\n",
       "\n",
       "    .dataframe thead th {\n",
       "        text-align: right;\n",
       "    }\n",
       "</style>\n",
       "<table border=\"1\" class=\"dataframe\">\n",
       "  <thead>\n",
       "    <tr style=\"text-align: right;\">\n",
       "      <th></th>\n",
       "      <th>nino34</th>\n",
       "    </tr>\n",
       "    <tr>\n",
       "      <th>Date</th>\n",
       "      <th></th>\n",
       "    </tr>\n",
       "  </thead>\n",
       "  <tbody>\n",
       "    <tr>\n",
       "      <th>2018-10-29 09:00:00</th>\n",
       "      <td>0.84</td>\n",
       "    </tr>\n",
       "    <tr>\n",
       "      <th>2018-10-30 09:00:00</th>\n",
       "      <td>0.84</td>\n",
       "    </tr>\n",
       "    <tr>\n",
       "      <th>2018-10-31 09:00:00</th>\n",
       "      <td>0.84</td>\n",
       "    </tr>\n",
       "  </tbody>\n",
       "</table>\n",
       "</div>"
      ],
      "text/plain": [
       "                     nino34\n",
       "Date                       \n",
       "2018-10-29 09:00:00    0.84\n",
       "2018-10-30 09:00:00    0.84\n",
       "2018-10-31 09:00:00    0.84"
      ]
     },
     "execution_count": 13,
     "metadata": {},
     "output_type": "execute_result"
    }
   ],
   "source": [
    "path = '/home/563/ab2313/MJO/w_ENSO/nino_daily.pickle'\n",
    "pickle_in = open(path,'rb')\n",
    "nino34 = pickle.load(pickle_in)\n",
    "\n",
    "# Changing the name of the index and adding 9 hours so that it matches with the AWAP times\n",
    "nino34 = nino34.reset_index()\n",
    "nino34['Date'] = nino34['Date'] + pd.to_timedelta('9h')\n",
    "nino34 = nino34.set_index('Date')\n",
    "\n",
    "# Only need this date range\n",
    "nino34 = nino34.loc['1974':'2018']\n",
    "\n",
    "#Needs sorting\n",
    "nino34 = nino34.sort_index()\n",
    "\n",
    "nino34.tail(3)"
   ]
  },
  {
   "cell_type": "code",
   "execution_count": 14,
   "metadata": {
    "hidden": true
   },
   "outputs": [],
   "source": [
    "# This function here splits an xarray file into all the data that is in El Nino and La Nina\n",
    "\n",
    "def split_via_enso(data):\n",
    "    el_nino_dates = nino34[nino34['nino34'] > 0].index\n",
    "    la_nina_dates = nino34[nino34['nino34'] <= 0].index\n",
    "    \n",
    "    # Now just getting the data for the El Nino and La Nina Dates\n",
    "    data_elnino = data.where(data.time.isin(el_nino_dates))\n",
    "    data_lanina = data.where(data.time.isin(la_nina_dates))\n",
    "\n",
    "#     return data_elnino, data_lanina\n",
    "    # Putting them both into the one xarray\n",
    "    data_nino = xr.concat([data_elnino, data_lanina], pd.Index(['el nino', 'la nina'], name = 'nino'))\n",
    "    \n",
    "    return data_nino"
   ]
  },
  {
   "cell_type": "code",
   "execution_count": 15,
   "metadata": {
    "hidden": true
   },
   "outputs": [],
   "source": [
    "# This is splitting all the rainfall data\n",
    "phase_precip_enso = split_via_enso(phase_precip)"
   ]
  },
  {
   "cell_type": "code",
   "execution_count": 16,
   "metadata": {
    "hidden": true
   },
   "outputs": [
    {
     "data": {
      "text/plain": [
       "<xarray.DataArray 'precip' (nino: 2, mjo: 3, time: 7822, lat: 53, lon: 178)>\n",
       "dask.array<shape=(2, 3, 7822, 53, 178), dtype=float32, chunksize=(1, 1, 7822, 50, 50)>\n",
       "Coordinates:\n",
       "  * lon      (lon) float64 112.0 112.2 112.5 112.8 ... 155.5 155.8 156.0 156.2\n",
       "  * time     (time) datetime64[ns] 1974-10-01T09:00:00 ... 2017-12-31T09:00:00\n",
       "  * lat      (lat) float64 -23.0 -22.75 -22.5 -22.25 ... -10.5 -10.25 -10.0\n",
       "  * mjo      (mjo) object 'enhanced' 'suppressed' 'inactive'\n",
       "  * nino     (nino) object 'el nino' 'la nina'\n",
       "Attributes:\n",
       "    long_name:  Daily Precipitation\n",
       "    units:      mm"
      ]
     },
     "execution_count": 16,
     "metadata": {},
     "output_type": "execute_result"
    }
   ],
   "source": [
    "phase_precip_enso"
   ]
  },
  {
   "cell_type": "markdown",
   "metadata": {},
   "source": [
    "# Indivual Phases\n",
    "\n",
    "\n",
    "The idea of the calculation here is comparing the 90th percentile during an mjo phase to the 90th percentile\n",
    "of all rainfall to see if there is an increase\n",
    "\n",
    "In:\n",
    "* <b>  phase_precip_enso </b> \n",
    "\n",
    "Saves:\n",
    "* <b> int_50_nino </b>\n",
    "* <b> int_90_nino </b>\n",
    "* <b> int_95_nino </b>"
   ]
  },
  {
   "cell_type": "markdown",
   "metadata": {
    "heading_collapsed": true
   },
   "source": [
    "### 50th Percentile"
   ]
  },
  {
   "cell_type": "code",
   "execution_count": 17,
   "metadata": {
    "hidden": true
   },
   "outputs": [],
   "source": [
    "########## Selecting just a single phase of ENSO\n",
    "q = 50\n",
    "\n",
    "\n",
    "'''El Nino'''\n",
    "nino = 'el nino'\n",
    "mjo_phases = ['enhanced', 'suppressed', 'inactive']\n",
    "mjo_storage = []\n",
    "data = phase_precip_enso.sel(nino = nino)\n",
    "\n",
    "for phase in mjo_phases:\n",
    "    data_phase = data.sel(mjo = phase)\n",
    "    intensity = percentile_all_months_and_regins(data_phase, precip , q )\n",
    "    mjo_storage.append(intensity)\n",
    "    \n",
    "el_nino_data = xr.concat(mjo_storage, pd.Index(['enhanced', 'suppressed', 'inactive'], name = 'mjo'))\n",
    "# el_nino_data = xr.concat(mjo_storage, pd.Index(['enhanced', 'suppressed', 'inactive'], name = 'mjo'))    \n",
    "\n",
    "\n",
    "\n",
    "\n",
    "'''La Nina'''\n",
    "nino = 'la nina'\n",
    "mjo_phases = ['enhanced', 'suppressed', 'inactive']\n",
    "mjo_storage = []\n",
    "data = phase_precip_enso.sel(nino = nino)\n",
    "\n",
    "for phase in mjo_phases:\n",
    "    data_phase = data.sel(mjo = phase)\n",
    "    intensity = percentile_all_months_and_regins(data_phase, precip , q )\n",
    "    mjo_storage.append(intensity)\n",
    "    \n",
    "la_nina_data = xr.concat(mjo_storage, pd.Index(['enhanced', 'suppressed', 'inactive'], name = 'mjo'))     \n",
    "\n",
    "##### \n",
    "#Merging Back together\n",
    "\n",
    "\n",
    "int_50_nino  = xr.concat([el_nino_data,la_nina_data], pd.Index(['el nino', 'la nina'], name = 'enso'))"
   ]
  },
  {
   "cell_type": "markdown",
   "metadata": {
    "heading_collapsed": true
   },
   "source": [
    "### 90th Percentile"
   ]
  },
  {
   "cell_type": "code",
   "execution_count": 18,
   "metadata": {
    "hidden": true
   },
   "outputs": [],
   "source": [
    "########## Selecting just a single phase of ENSO\n",
    "q = 90\n",
    "\n",
    "\n",
    "'''El Nino'''\n",
    "nino = 'el nino'\n",
    "mjo_phases = ['enhanced', 'suppressed', 'inactive']\n",
    "mjo_storage = []\n",
    "data = phase_precip_enso.sel(nino = nino)\n",
    "\n",
    "for phase in mjo_phases:\n",
    "    data_phase = data.sel(mjo = phase)\n",
    "    intensity = percentile_all_months_and_regins(data_phase, precip , q )\n",
    "    mjo_storage.append(intensity)\n",
    "    \n",
    "el_nino_data = xr.concat(mjo_storage, pd.Index(['enhanced', 'suppressed', 'inactive'], name = 'mjo'))\n",
    "# el_nino_data = xr.concat(mjo_storage, pd.Index(['enhanced', 'suppressed', 'inactive'], name = 'mjo'))    \n",
    "\n",
    "\n",
    "\n",
    "\n",
    "'''La Nina'''\n",
    "nino = 'la nina'\n",
    "mjo_phases = ['enhanced', 'suppressed', 'inactive']\n",
    "mjo_storage = []\n",
    "data = phase_precip_enso.sel(nino = nino)\n",
    "\n",
    "for phase in mjo_phases:\n",
    "    data_phase = data.sel(mjo = phase)\n",
    "    intensity = percentile_all_months_and_regins(data_phase, precip , q )\n",
    "    mjo_storage.append(intensity)\n",
    "    \n",
    "la_nina_data = xr.concat(mjo_storage, pd.Index(['enhanced', 'suppressed', 'inactive'], name = 'mjo'))     \n",
    "\n",
    "##### \n",
    "#Merging Back together\n",
    "\n",
    "\n",
    "int_90_nino  = xr.concat([el_nino_data,la_nina_data], pd.Index(['el nino', 'la nina'], name = 'enso'))"
   ]
  },
  {
   "cell_type": "markdown",
   "metadata": {
    "heading_collapsed": true
   },
   "source": [
    "### 95th Percentile"
   ]
  },
  {
   "cell_type": "code",
   "execution_count": 19,
   "metadata": {
    "hidden": true
   },
   "outputs": [],
   "source": [
    "########## Selecting just a single phase of ENSO\n",
    "q = 95\n",
    "\n",
    "\n",
    "'''El Nino'''\n",
    "nino = 'el nino'\n",
    "mjo_phases = ['enhanced', 'suppressed', 'inactive']\n",
    "mjo_storage = []\n",
    "data = phase_precip_enso.sel(nino = nino)\n",
    "\n",
    "for phase in mjo_phases:\n",
    "    data_phase = data.sel(mjo = phase)\n",
    "    intensity = percentile_all_months_and_regins(data_phase, precip , q )\n",
    "    mjo_storage.append(intensity)\n",
    "    \n",
    "el_nino_data = xr.concat(mjo_storage, pd.Index(['enhanced', 'suppressed', 'inactive'], name = 'mjo'))\n",
    "# el_nino_data = xr.concat(mjo_storage, pd.Index(['enhanced', 'suppressed', 'inactive'], name = 'mjo'))    \n",
    "\n",
    "\n",
    "\n",
    "\n",
    "'''La Nina'''\n",
    "nino = 'la nina'\n",
    "mjo_phases = ['enhanced', 'suppressed', 'inactive']\n",
    "mjo_storage = []\n",
    "data = phase_precip_enso.sel(nino = nino)\n",
    "\n",
    "for phase in mjo_phases:\n",
    "    data_phase = data.sel(mjo = phase)\n",
    "    intensity = percentile_all_months_and_regins(data_phase, precip , q )\n",
    "    mjo_storage.append(intensity)\n",
    "    \n",
    "la_nina_data = xr.concat(mjo_storage, pd.Index(['enhanced', 'suppressed', 'inactive'], name = 'mjo'))  \n",
    "\n",
    "##### \n",
    "#Merging Back together\n",
    "\n",
    "\n",
    "int_95_nino  = xr.concat([el_nino_data,la_nina_data], pd.Index(['el nino', 'la nina'], name = 'enso'))"
   ]
  },
  {
   "cell_type": "markdown",
   "metadata": {},
   "source": [
    "### Saving"
   ]
  },
  {
   "cell_type": "code",
   "execution_count": 20,
   "metadata": {},
   "outputs": [],
   "source": [
    "\n",
    "save = 0\n",
    "\n",
    "if save:\n",
    "    int_50_nino.to_netcdf(save_dir + 'int_50_nino.nc')\n",
    "    int_95_nino.to_netcdf(save_dir + 'int_95_nino.nc')\n",
    "\n",
    "    int_90_nino.to_netcdf(save_dir + 'int_90_nino.nc')"
   ]
  },
  {
   "cell_type": "code",
   "execution_count": 23,
   "metadata": {},
   "outputs": [],
   "source": [
    "int_nino = xr.concat([int_50_nino, int_90_nino, int_95_nino], pd.Index([50,90,95], name  = 'percentile'))\n",
    "int_nino.to_netcdf(save_dir + 'int_nino.nc')"
   ]
  },
  {
   "cell_type": "markdown",
   "metadata": {},
   "source": [
    "# Bootstrap"
   ]
  },
  {
   "cell_type": "markdown",
   "metadata": {},
   "source": [
    "## Functions\n",
    "\n",
    "* <b> forwards_in_time</b>: moves the data forward so that I can sample something multiple times\n",
    "* <b>select_additional</b>: Finds the years that are repeated\n",
    "* <b>calculate_intfrac</b>: calculates the intensity of the data it is given\n",
    "* <b>bootstrap_phase_int</b> (data for a phase, all data, the percentile, number of loops): the master function for all thosse above. Takes in data for a particular phase, then splits them into different months, then applies the functions above.\n"
   ]
  },
  {
   "cell_type": "code",
   "execution_count": 24,
   "metadata": {},
   "outputs": [],
   "source": [
    "# This just moves all the data number * 100 years into the futre\n",
    "\n",
    "def forward_in_time(additional, number):\n",
    "    \n",
    "    # The time has been moved forward by number * 100 years\n",
    "    times = ((additional.time.dt.year.values + number *100 )* 10000 + \n",
    "                       additional.time.dt.month.values *100 + additional.time.dt.day.values)\n",
    "    values = additional.values\n",
    "    \n",
    "    future_time = []\n",
    "    future_values = []\n",
    "    \n",
    "    for i in range(len(times)):\n",
    "        time = times[i]\n",
    "        # If an error is return due to a leap year then the code passes this time. I know,I am missing one day\n",
    "        # for every for years in february, but that isn't that many points.\n",
    "        try:\n",
    "            thetime = pd.to_datetime(time,format = '%Y%m%d')\n",
    "            future_time.append(thetime)\n",
    "            future_values.append(values[i])\n",
    "        except:\n",
    "            pass\n",
    "#     print('-----------------------------------------------')\n",
    "#     print('time',len(future_time))\n",
    "#     print('valus 1 (time)',len(future_values))\n",
    "# #     print(future_values)\n",
    "#     print('vals 2 (lon)',len(future_values[0]))\n",
    "#     print('vals 3 (lat)',len(future_values[0][0]))\n",
    "#     print('lat',len(additional.lat))\n",
    "#     print('lon',len(additional.lon) )\n",
    "\n",
    "    # This is some kind of wierd error. \n",
    "    if len(future_time) == 0:\n",
    "        xrd = 'Failed'\n",
    "    \n",
    "    else:\n",
    "        xrd = xr.Dataset({'precip':(('time','lat','lon'), future_values)},\n",
    "                {'time':future_time,'lat':additional.lat, 'lon':additional.lon})\n",
    "\n",
    "    return xrd\n",
    "    \n",
    "\n",
    "\n",
    "# * Contains 1 additional function \n",
    "def select_additional(data, years):\n",
    "    \n",
    "    new_data = data\n",
    "    \n",
    "    number = 1\n",
    "    uniqueValues, occurCount = np.unique(years, return_counts=True) \n",
    "    \n",
    "    # Removing any of the values that have already been sampled more than once\n",
    "    occurCount = occurCount-1\n",
    "    occurCount = occurCount[np.where(occurCount > 0)]\n",
    "    uniqueValues =  uniqueValues[np.where(occurCount > 0)]\n",
    "    \n",
    "    \n",
    "    while(any(occurCount >= 1)):\n",
    "#         print(occurCount)\n",
    "        # Find the years that are getting sampled multiple times\n",
    "        multi_sampled_years = uniqueValues[np.where(occurCount >= 1 )]\n",
    "        \n",
    "        additional = data.where(data.time.dt.year.isin(multi_sampled_years), drop = True)\n",
    "\n",
    "    \n",
    "        # This moves all the additinal data forwards in time\n",
    "        additional = forward_in_time(additional, number)\n",
    "        \n",
    "        if additional == 'Failed':\n",
    "            break\n",
    "        \n",
    "        else:\n",
    "            new_data = new_data.combine_first(additional)\n",
    "            occurCount = occurCount-1\n",
    "            occurCount = occurCount[np.where(occurCount > 0)]\n",
    "            uniqueValues =  uniqueValues[np.where(occurCount > 0)]\n",
    "            number += 1\n",
    "\n",
    "    \n",
    "    return new_data\n",
    "        "
   ]
  },
  {
   "cell_type": "code",
   "execution_count": 25,
   "metadata": {},
   "outputs": [],
   "source": [
    "\n",
    "def calculate_intfrac(data_sub,data_all,q ):\n",
    "\n",
    "    # The q-th percentile of phase data\n",
    "    perc_sub = data_sub.reduce(np.nanpercentile, q = q, dim = 'time')\n",
    "\n",
    "    # The q-th percentile of all data\n",
    "    perc_all = data_all.reduce(np.nanpercentile, q = q, dim = 'time')\n",
    "\n",
    "    # This gives how the q-th percentile in the MJO phase compares to the q-th percentile of all rainfall\n",
    "    frac = perc_sub/perc_all\n",
    "\n",
    "    return frac"
   ]
  },
  {
   "cell_type": "code",
   "execution_count": 26,
   "metadata": {},
   "outputs": [],
   "source": [
    "def bootstrap_phase_int(phase_precip,precip, q, loops):\n",
    "    \n",
    "    month_storage = []\n",
    "    \n",
    "    #looping through all of the months\n",
    "    months = [10,11,12,1,2,3]\n",
    "    for month in months:\n",
    "        # Subsetting just one month\n",
    "        phase_precip_month = phase_precip.where(phase_precip.time.dt.month == month, drop = True)\n",
    "        precip_month = precip.where(phase_precip.time.dt.month == month, drop = True)\n",
    "        \n",
    "        loop_storage = []\n",
    "        \n",
    "        for i in range(loops):\n",
    "            #### Getting random years\n",
    "            # Selecting random years; half the range\n",
    "            rand_years = np.random.randint(1974,2018,22)\n",
    "\n",
    "            # Subsetting botht the data to the randomyears\n",
    "            phase_precip_rand = phase_precip_month.where(phase_precip_month.time.dt.year.isin(rand_years), drop = True)\n",
    "            precip_rand = precip_month.where(precip_month.time.dt.year.isin(rand_years), drop = True)\n",
    "\n",
    "\n",
    "            # (data_sub, data)\n",
    "            phase_precip_rand = select_additional(phase_precip_rand,rand_years)\n",
    "\n",
    "            precip_rand = select_additional(precip_rand,rand_years)\n",
    "\n",
    "\n",
    "            #### The actual Calculation\n",
    "            # (data_sub, data)\n",
    "            boot_run = calculate_intfrac(phase_precip_rand, precip_rand,q)\n",
    "            \n",
    "            loop_storage.append(boot_run)\n",
    "            \n",
    "            ## END OF LOOP\n",
    "        \n",
    "        month_data = xr.concat(loop_storage, 'run_num')\n",
    "        month_95 = month_data.reduce(np.nanpercentile, q = 95, dim = 'run_num')\n",
    "        month_5 = month_data.reduce(np.nanpercentile, q = 5, dim = 'run_num')\n",
    "        \n",
    "        month_boot = xr.concat([month_95, month_5], pd.Index([95,5], name = 'percentile'))\n",
    "        month_storage.append(month_boot)\n",
    "        \n",
    "    total_boot = xr.concat(month_storage, pd.Index(months, name = 'month'))\n",
    "        \n",
    "    return total_boot  \n",
    "            \n"
   ]
  },
  {
   "cell_type": "markdown",
   "metadata": {},
   "source": [
    "## Calculation\n",
    "\n",
    "In:\n",
    "\n",
    "* <b> phase_precip_enso </b>"
   ]
  },
  {
   "cell_type": "code",
   "execution_count": null,
   "metadata": {},
   "outputs": [],
   "source": [
    "q = 50\n",
    "loops = 1000\n",
    "\n",
    "enso_phases = ['el nino','la nina']\n",
    "enso_stor = []\n",
    "\n",
    "mjo_phases  = ['enhanced' ,'suppressed','inactive']\n",
    "\n",
    "\n",
    "\n",
    "for nino in enso_phases:\n",
    "    mjo_stor = []\n",
    "    \n",
    "    for phase in mjo_phases:\n",
    "        \n",
    "        data_in = phase_precip_enso.sel(nino = nino, mjo = phase)\n",
    "        data_out = bootstrap_phase_int(data_in, precip, q, loops)\n",
    "        mjo_stor.append(data_out)\n",
    "        \n",
    "    mjo_xr = xr.concat(mjo_stor, pd.Index(mjo_phases, name = 'mjo'))\n",
    "    enso_stor.append(mjo_xr)\n",
    "    \n",
    "int_boot_50_nino = xr.concat(enso_stor, pd.Index(enso_phases, name = 'nino'))\n",
    "        \n",
    "\n",
    "\n",
    "int_boot_50_nino.to_netcdf(save_dir + 'int_boot_50_nino.nc')"
   ]
  },
  {
   "cell_type": "code",
   "execution_count": null,
   "metadata": {},
   "outputs": [],
   "source": [
    "q = 90\n",
    "loops = 1000\n",
    "\n",
    "enso_phases = ['el nino','la nina']\n",
    "enso_stor = []\n",
    "\n",
    "mjo_phases  = ['enhanced' ,'suppressed','inactive']\n",
    "\n",
    "\n",
    "\n",
    "for nino in enso_phases:\n",
    "    mjo_stor = []\n",
    "    \n",
    "    for phase in mjo_phases:\n",
    "        \n",
    "        data_in = phase_precip_enso.sel(nino = nino, mjo = phase)\n",
    "        data_out = bootstrap_phase_int(data_in, precip, q, loops)\n",
    "        mjo_stor.append(data_out)\n",
    "        \n",
    "    mjo_xr = xr.concat(mjo_stor, pd.Index(mjo_phases, name = 'mjo'))\n",
    "    enso_stor.append(mjo_xr)\n",
    "    \n",
    "int_boot_90_nino = xr.concat(enso_stor, pd.Index(enso_phases, name = 'nino'))\n",
    "        \n",
    "    \n",
    "\n",
    "\n",
    "\n",
    "int_boot_90_nino.to_netcdf(save_dir + 'int_boot_90_nino.nc')\n"
   ]
  },
  {
   "cell_type": "code",
   "execution_count": 27,
   "metadata": {},
   "outputs": [],
   "source": [
    "q = 95\n",
    "loops = 1000\n",
    "\n",
    "enso_phases = ['el nino','la nina']\n",
    "enso_stor = []\n",
    "\n",
    "mjo_phases  = ['enhanced' ,'suppressed','inactive']\n",
    "\n",
    "\n",
    "\n",
    "for nino in enso_phases:\n",
    "    mjo_stor = []\n",
    "    \n",
    "    for phase in mjo_phases:\n",
    "        \n",
    "        data_in = phase_precip_enso.sel(nino = nino, mjo = phase)\n",
    "        data_out = bootstrap_phase_int(data_in, precip, q, loops)\n",
    "        mjo_stor.append(data_out)\n",
    "        \n",
    "    mjo_xr = xr.concat(mjo_stor, pd.Index(mjo_phases, name = 'mjo'))\n",
    "    enso_stor.append(mjo_xr)\n",
    "    \n",
    "int_boot_95_nino = xr.concat(enso_stor, pd.Index(enso_phases, name = 'nino'))\n",
    "        \n",
    "\n",
    "\n",
    "int_boot_95_nino.to_netcdf(save_dir + 'int_boot_95_nino.nc')"
   ]
  },
  {
   "cell_type": "code",
   "execution_count": null,
   "metadata": {},
   "outputs": [],
   "source": []
  }
 ],
 "metadata": {
  "kernelspec": {
   "display_name": "Python 3",
   "language": "python",
   "name": "python3"
  },
  "language_info": {
   "codemirror_mode": {
    "name": "ipython",
    "version": 3
   },
   "file_extension": ".py",
   "mimetype": "text/x-python",
   "name": "python",
   "nbconvert_exporter": "python",
   "pygments_lexer": "ipython3",
   "version": "3.6.7"
  },
  "latex_envs": {
   "LaTeX_envs_menu_present": true,
   "autoclose": false,
   "autocomplete": true,
   "bibliofile": "biblio.bib",
   "cite_by": "apalike",
   "current_citInitial": 1,
   "eqLabelWithNumbers": true,
   "eqNumInitial": 1,
   "hotkeys": {
    "equation": "Ctrl-E",
    "itemize": "Ctrl-I"
   },
   "labels_anchors": false,
   "latex_user_defs": false,
   "report_style_numbering": false,
   "user_envs_cfg": false
  },
  "toc": {
   "base_numbering": 1,
   "nav_menu": {},
   "number_sections": true,
   "sideBar": true,
   "skip_h1_title": false,
   "title_cell": "Table of Contents",
   "title_sidebar": "Contents",
   "toc_cell": true,
   "toc_position": {},
   "toc_section_display": true,
   "toc_window_display": true
  }
 },
 "nbformat": 4,
 "nbformat_minor": 2
}
