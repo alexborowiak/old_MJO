{
 "cells": [
  {
   "cell_type": "markdown",
   "metadata": {
    "toc": true
   },
   "source": [
    "<h1>Table of Contents<span class=\"tocSkip\"></span></h1>\n",
    "<div class=\"toc\"><ul class=\"toc-item\"><li><span><a href=\"#Preamble\" data-toc-modified-id=\"Preamble-1\"><span class=\"toc-item-num\">1&nbsp;&nbsp;</span>Preamble</a></span></li><li><span><a href=\"#Different-Regions\" data-toc-modified-id=\"Different-Regions-2\"><span class=\"toc-item-num\">2&nbsp;&nbsp;</span>Different Regions</a></span><ul class=\"toc-item\"><li><span><a href=\"#Phase-Split\" data-toc-modified-id=\"Phase-Split-2.1\"><span class=\"toc-item-num\">2.1&nbsp;&nbsp;</span>Phase Split</a></span></li><li><span><a href=\"#Extremes\" data-toc-modified-id=\"Extremes-2.2\"><span class=\"toc-item-num\">2.2&nbsp;&nbsp;</span>Extremes</a></span></li></ul></li><li><span><a href=\"#ENSO\" data-toc-modified-id=\"ENSO-3\"><span class=\"toc-item-num\">3&nbsp;&nbsp;</span>ENSO</a></span><ul class=\"toc-item\"><li><span><a href=\"#Reading-In\" data-toc-modified-id=\"Reading-In-3.1\"><span class=\"toc-item-num\">3.1&nbsp;&nbsp;</span>Reading In</a></span></li><li><span><a href=\"#Split\" data-toc-modified-id=\"Split-3.2\"><span class=\"toc-item-num\">3.2&nbsp;&nbsp;</span>Split</a></span></li><li><span><a href=\"#Verifying-Split\" data-toc-modified-id=\"Verifying-Split-3.3\"><span class=\"toc-item-num\">3.3&nbsp;&nbsp;</span>Verifying Split</a></span></li></ul></li><li><span><a href=\"#Count-Calculation\" data-toc-modified-id=\"Count-Calculation-4\"><span class=\"toc-item-num\">4&nbsp;&nbsp;</span>Count Calculation</a></span><ul class=\"toc-item\"><li><span><a href=\"#Functions\" data-toc-modified-id=\"Functions-4.1\"><span class=\"toc-item-num\">4.1&nbsp;&nbsp;</span>Functions</a></span></li><li><span><a href=\"#Calculation\" data-toc-modified-id=\"Calculation-4.2\"><span class=\"toc-item-num\">4.2&nbsp;&nbsp;</span>Calculation</a></span><ul class=\"toc-item\"><li><span><a href=\"#90th-Percentile\" data-toc-modified-id=\"90th-Percentile-4.2.1\"><span class=\"toc-item-num\">4.2.1&nbsp;&nbsp;</span>90th Percentile</a></span></li><li><span><a href=\"#95th-Percentile\" data-toc-modified-id=\"95th-Percentile-4.2.2\"><span class=\"toc-item-num\">4.2.2&nbsp;&nbsp;</span>95th Percentile</a></span></li><li><span><a href=\"#Saving\" data-toc-modified-id=\"Saving-4.2.3\"><span class=\"toc-item-num\">4.2.3&nbsp;&nbsp;</span>Saving</a></span></li></ul></li></ul></li><li><span><a href=\"#Bootstrap-Et-Nova\" data-toc-modified-id=\"Bootstrap-Et-Nova-5\"><span class=\"toc-item-num\">5&nbsp;&nbsp;</span>Bootstrap Et Nova</a></span><ul class=\"toc-item\"><li><span><a href=\"#Create-Count-Array\" data-toc-modified-id=\"Create-Count-Array-5.1\"><span class=\"toc-item-num\">5.1&nbsp;&nbsp;</span>Create Count Array</a></span></li><li><span><a href=\"#Trials\" data-toc-modified-id=\"Trials-5.2\"><span class=\"toc-item-num\">5.2&nbsp;&nbsp;</span>Trials</a></span></li></ul></li><li><span><a href=\"#Bootstrap-Et-Vetera\" data-toc-modified-id=\"Bootstrap-Et-Vetera-6\"><span class=\"toc-item-num\">6&nbsp;&nbsp;</span>Bootstrap Et Vetera</a></span><ul class=\"toc-item\"><li><span><a href=\"#Create-Count-Array\" data-toc-modified-id=\"Create-Count-Array-6.1\"><span class=\"toc-item-num\">6.1&nbsp;&nbsp;</span>Create Count Array</a></span></li><li><span><a href=\"#Functions\" data-toc-modified-id=\"Functions-6.2\"><span class=\"toc-item-num\">6.2&nbsp;&nbsp;</span>Functions</a></span></li><li><span><a href=\"#Running-and-Saving\" data-toc-modified-id=\"Running-and-Saving-6.3\"><span class=\"toc-item-num\">6.3&nbsp;&nbsp;</span>Running and Saving</a></span><ul class=\"toc-item\"><li><span><a href=\"#90th-and-95th-Percentile\" data-toc-modified-id=\"90th-and-95th-Percentile-6.3.1\"><span class=\"toc-item-num\">6.3.1&nbsp;&nbsp;</span>90th and 95th Percentile</a></span></li></ul></li></ul></li></ul></div>"
   ]
  },
  {
   "cell_type": "markdown",
   "metadata": {},
   "source": [
    "# Preamble"
   ]
  },
  {
   "cell_type": "code",
   "execution_count": 1,
   "metadata": {},
   "outputs": [],
   "source": [
    "##############################\n",
    "\n",
    "import xarray as xr\n",
    "import numpy as np\n",
    "import pandas as pd\n",
    "import matplotlib.pyplot as plt\n",
    "import dask.array\n",
    "import cartopy.crs as ccrs\n",
    "import pickle\n",
    "import matplotlib.colors as colors\n",
    "import datetime as dt\n",
    "rb = plt.cm.RdBu\n",
    "bm = plt.cm.Blues\n",
    "\n",
    "import warnings\n",
    "warnings.filterwarnings('ignore')"
   ]
  },
  {
   "cell_type": "code",
   "execution_count": 2,
   "metadata": {},
   "outputs": [],
   "source": [
    "path = 'RMM.pickle'\n",
    "pickle_in = open(path, 'rb')\n",
    "RMM = pickle.load(pickle_in)"
   ]
  },
  {
   "cell_type": "code",
   "execution_count": 3,
   "metadata": {},
   "outputs": [
    {
     "data": {
      "text/html": [
       "<div>\n",
       "<style scoped>\n",
       "    .dataframe tbody tr th:only-of-type {\n",
       "        vertical-align: middle;\n",
       "    }\n",
       "\n",
       "    .dataframe tbody tr th {\n",
       "        vertical-align: top;\n",
       "    }\n",
       "\n",
       "    .dataframe thead th {\n",
       "        text-align: right;\n",
       "    }\n",
       "</style>\n",
       "<table border=\"1\" class=\"dataframe\">\n",
       "  <thead>\n",
       "    <tr style=\"text-align: right;\">\n",
       "      <th></th>\n",
       "      <th>Phase</th>\n",
       "      <th>Amplitude</th>\n",
       "    </tr>\n",
       "    <tr>\n",
       "      <th>Date</th>\n",
       "      <th></th>\n",
       "      <th></th>\n",
       "    </tr>\n",
       "  </thead>\n",
       "  <tbody>\n",
       "    <tr>\n",
       "      <th>1974-06-01</th>\n",
       "      <td>5.0</td>\n",
       "      <td>2.02948</td>\n",
       "    </tr>\n",
       "    <tr>\n",
       "      <th>1974-06-02</th>\n",
       "      <td>5.0</td>\n",
       "      <td>1.89729</td>\n",
       "    </tr>\n",
       "    <tr>\n",
       "      <th>1974-06-03</th>\n",
       "      <td>5.0</td>\n",
       "      <td>1.86476</td>\n",
       "    </tr>\n",
       "    <tr>\n",
       "      <th>1974-06-04</th>\n",
       "      <td>5.0</td>\n",
       "      <td>1.83092</td>\n",
       "    </tr>\n",
       "    <tr>\n",
       "      <th>1974-06-05</th>\n",
       "      <td>5.0</td>\n",
       "      <td>2.03326</td>\n",
       "    </tr>\n",
       "  </tbody>\n",
       "</table>\n",
       "</div>"
      ],
      "text/plain": [
       "            Phase  Amplitude\n",
       "Date                        \n",
       "1974-06-01    5.0    2.02948\n",
       "1974-06-02    5.0    1.89729\n",
       "1974-06-03    5.0    1.86476\n",
       "1974-06-04    5.0    1.83092\n",
       "1974-06-05    5.0    2.03326"
      ]
     },
     "execution_count": 3,
     "metadata": {},
     "output_type": "execute_result"
    }
   ],
   "source": [
    "RMM.head()"
   ]
  },
  {
   "cell_type": "code",
   "execution_count": 4,
   "metadata": {},
   "outputs": [],
   "source": [
    "# %load /home/563/ab2313/MJO/get_awap.py\n",
    "import sys\n",
    "\n",
    "def get_platform():\n",
    "    platforms = {\n",
    "        'linux1' : 'Linux',\n",
    "        'linux2' : 'Linux',\n",
    "        'darwin' : 'OS X',\n",
    "        'win32' : 'Windows'\n",
    "    }\n",
    "\n",
    "    if sys.platform not in platforms:\n",
    "        return sys.platform\n",
    "\n",
    "    return platforms[sys.platform]\n",
    "\n",
    "\n",
    "platform = get_platform()\n",
    "\n",
    "\n",
    "if platform == 'OS X':\n",
    "    path =  '/Users/alexborowiak/Desktop/large_files/'\n",
    "\n",
    "\n",
    "   \n",
    "    \n",
    "else:\n",
    "#     path = '/home/student.unimelb.edu.au/aborowiak/Desktop/Code/Scripts/big_files/'\n",
    "    path = '/home/563/ab2313/big_files/'\n",
    "\n",
    "\n",
    "precip = xr.open_dataset(path + 'AWAP_W.nc', chunks={'time':-1, 'lat': 50, 'lon': 50}).precip\n",
    "\n",
    "\n"
   ]
  },
  {
   "cell_type": "code",
   "execution_count": 5,
   "metadata": {},
   "outputs": [],
   "source": [
    "RMM = RMM.reset_index()\n",
    "RMM['Date'] = RMM['Date'] + pd.to_timedelta('9h')\n",
    "RMM = RMM.set_index('Date')"
   ]
  },
  {
   "cell_type": "code",
   "execution_count": 6,
   "metadata": {},
   "outputs": [],
   "source": [
    "import os\n",
    "cwd = os.getcwd() + '/'\n",
    "\n",
    "save_dir = cwd + 'count_data/'"
   ]
  },
  {
   "cell_type": "markdown",
   "metadata": {},
   "source": [
    "# ------Different Regions and Extreme Sets\n",
    "\n",
    "The rainfall is divided into different phases\n",
    "\n",
    "Returns:\n",
    "* <b> phase_precip </b> All the rainfall data split into the MJO phases\n",
    "* <b> data_90 /95 </b> The 90th and 95th percentile split into the phases of the MJO"
   ]
  },
  {
   "cell_type": "markdown",
   "metadata": {
    "heading_collapsed": true
   },
   "source": [
    "## Phase Split"
   ]
  },
  {
   "cell_type": "code",
   "execution_count": 7,
   "metadata": {
    "hidden": true
   },
   "outputs": [],
   "source": [
    "# This is creating 3 seperate data frames comprised of the rainfall just in the individual phases\n",
    "\n",
    "\n",
    "def split_via_mjo(data, RMM):\n",
    "    \n",
    "    regions = np.array([slice(110, 120),slice(120.25, 140),slice(140.25, 156.25)])\n",
    "    mjo_enhanced_list = np.array([[4,5],[4,5,6],[4,5,6,7]])\n",
    "    \n",
    "    \n",
    "    enhanced_data = []\n",
    "    suppressed_data = []\n",
    "    inactive_data = []\n",
    "\n",
    "    # Three different regins to loop through: west, middle and east\n",
    "    for reg_num in [0,1,2]:\n",
    "\n",
    "        # Selecting just the values in that region\n",
    "        region = regions[reg_num]\n",
    "        data_region = data.sel(lon = region)\n",
    "\n",
    "        # Selecting the phases that are enhanced and suppressed for that region\n",
    "        mjo_enhanced = mjo_enhanced_list[reg_num] #enhanced\n",
    "        mjo_suppressed = mjo_enhanced_list[reg_num] # suppressed\n",
    "\n",
    "\n",
    "        # Getting just the dates for that phase: has to be in phases and have RMM >= 1\n",
    "        enhanced_dates = np.array(RMM[np.logical_and(RMM['Phase'].isin(mjo_enhanced), \n",
    "                                                     RMM['Amplitude'] >= 1)].index)\n",
    "\n",
    "        suppressed_dates = np.array(RMM[np.logical_and(~RMM['Phase'].isin(mjo_suppressed), \n",
    "                                                       RMM['Amplitude'] >= 1)].index)\n",
    "\n",
    "        inactive_dates = np.array(RMM[RMM['Amplitude'] < 1].index)\n",
    "\n",
    "\n",
    "\n",
    "        # Now getting an xarray file for the values just in that phase\n",
    "        data_enhanced = data_region.where(data_region.time.isin(enhanced_dates))\n",
    "        data_suppressed = data_region.where(data_region.time.isin(suppressed_dates))\n",
    "        data_inactive  = data_region.where(data_region.time.isin(inactive_dates))\n",
    "\n",
    "\n",
    "        # Appending to a list\n",
    "        enhanced_data.append(data_enhanced)\n",
    "        suppressed_data.append(data_suppressed)\n",
    "        inactive_data.append(data_inactive)\n",
    "\n",
    "\n",
    "\n",
    "    # Putting into xarray file\n",
    "    enhanced_data = (enhanced_data[0].combine_first(enhanced_data[1])).combine_first(enhanced_data[2])\n",
    "    suppressed_data = (suppressed_data[0].combine_first(suppressed_data[1])).combine_first(suppressed_data[2])\n",
    "    inactive_data = (inactive_data[0].combine_first(inactive_data[1])).combine_first(inactive_data[2])\n",
    "\n",
    "    # Total Xarray File\n",
    "\n",
    "\n",
    "    xr_file = xr.concat([enhanced_data, suppressed_data, inactive_data, data]\n",
    "                        , pd.Index(['enhanced','suppressed','inactive' ,'all'], name = 'mjo'))\n",
    "\n",
    "    return xr_file"
   ]
  },
  {
   "cell_type": "code",
   "execution_count": 8,
   "metadata": {
    "hidden": true
   },
   "outputs": [],
   "source": [
    "phase_precip =  split_via_mjo(precip, RMM)"
   ]
  },
  {
   "cell_type": "markdown",
   "metadata": {},
   "source": [
    "## Extremes"
   ]
  },
  {
   "cell_type": "code",
   "execution_count": 9,
   "metadata": {},
   "outputs": [],
   "source": [
    "# The climatology for each month. The values above this are considered to be extreme. This will be what I will\n",
    "# be counting. This is the 90th percentile of all rainfall\n",
    "\n",
    "climatology_90 = precip.groupby('time.month').reduce(np.nanpercentile, q = 90, dim = 'time')\n",
    "\n",
    "climatology_95 = precip.groupby('time.month').reduce(np.nanpercentile, q = 95, dim = 'time')\n",
    "\n",
    "climatology_50 = precip.groupby('time.month').reduce(np.nanpercentile, q = 50, dim = 'time')"
   ]
  },
  {
   "cell_type": "markdown",
   "metadata": {},
   "source": [
    "The values greater than the 90th percentile from each phase of the MJO is returned"
   ]
  },
  {
   "cell_type": "code",
   "execution_count": 10,
   "metadata": {
    "code_folding": []
   },
   "outputs": [],
   "source": [
    "# This returns just the extremes. \n",
    "\n",
    "def return_extremes(precip, threshold):\n",
    "    storage = []\n",
    "    months = [10,11,12,1,2,3]\n",
    "    for i,month in enumerate(months):\n",
    "        precip_month = precip.where(precip.time.dt.month == month, drop = True)\n",
    "        threshold_month = threshold.sel(month = month)\n",
    "        \n",
    "        precip_month_ex = precip_month.where(precip_month >= threshold_month)\n",
    "\n",
    "        storage.append(precip_month_ex)\n",
    "        \n",
    "        if i == 0:\n",
    "            extreme_xr = precip_month_ex\n",
    "        else:\n",
    "            extreme_xr = extreme_xr.combine_first(precip_month_ex)  \n",
    "    \n",
    "    return  extreme_xr\n",
    "    "
   ]
  },
  {
   "cell_type": "code",
   "execution_count": 11,
   "metadata": {},
   "outputs": [],
   "source": [
    "\n",
    "\n",
    "data_50 = return_extremes(phase_precip , climatology_50)\n",
    "data_90 = return_extremes(phase_precip , climatology_90)\n",
    "data_95 = return_extremes(phase_precip , climatology_95)"
   ]
  },
  {
   "cell_type": "code",
   "execution_count": 12,
   "metadata": {},
   "outputs": [
    {
     "data": {
      "text/plain": [
       "<xarray.DataArray 'precip' (mjo: 4, time: 7822, lat: 53, lon: 178)>\n",
       "dask.array<shape=(4, 7822, 53, 178), dtype=float32, chunksize=(1, 7822, 50, 50)>\n",
       "Coordinates:\n",
       "  * time     (time) datetime64[ns] 1974-10-01T09:00:00 ... 2017-12-31T09:00:00\n",
       "  * lon      (lon) float64 112.0 112.2 112.5 112.8 ... 155.5 155.8 156.0 156.2\n",
       "  * lat      (lat) float64 -23.0 -22.75 -22.5 -22.25 ... -10.5 -10.25 -10.0\n",
       "  * mjo      (mjo) object 'enhanced' 'suppressed' 'inactive' 'all'\n",
       "Attributes:\n",
       "    long_name:  Daily Precipitation\n",
       "    units:      mm"
      ]
     },
     "execution_count": 12,
     "metadata": {},
     "output_type": "execute_result"
    }
   ],
   "source": [
    "data_50"
   ]
  },
  {
   "cell_type": "markdown",
   "metadata": {
    "heading_collapsed": true
   },
   "source": [
    "# ------ENSO\n",
    "\n",
    "Splitting my data into the various phases of ENSO\n",
    "\n",
    "Returns:\n",
    "* <b> phase_precip_nino </b> All the rainfall from each MJO phase split into ENSO phases\n",
    "* <b> data_90_nino </b> The 90th percentile split into MJO phases and ENSO phases\n",
    "* <b> data_50_nino </b> \" \"\n",
    "* <b> data_95_nino </b> \" \" \" \"\n",
    "\n",
    "\n",
    "* <b> data_nino </b> Contains all of the above into the one data set"
   ]
  },
  {
   "cell_type": "markdown",
   "metadata": {
    "heading_collapsed": true,
    "hidden": true
   },
   "source": [
    "## Reading In\n",
    "\n",
    "Reading in the Nino3.4 index"
   ]
  },
  {
   "cell_type": "code",
   "execution_count": 13,
   "metadata": {
    "hidden": true
   },
   "outputs": [],
   "source": [
    "import pickle"
   ]
  },
  {
   "cell_type": "code",
   "execution_count": 14,
   "metadata": {
    "hidden": true
   },
   "outputs": [
    {
     "data": {
      "text/plain": [
       "'/home/563/ab2313/MJO/w_ENSO/'"
      ]
     },
     "execution_count": 14,
     "metadata": {},
     "output_type": "execute_result"
    }
   ],
   "source": [
    "cwd"
   ]
  },
  {
   "cell_type": "code",
   "execution_count": 15,
   "metadata": {
    "hidden": true
   },
   "outputs": [
    {
     "data": {
      "text/plain": [
       "'/home/563/ab2313/big_files/'"
      ]
     },
     "execution_count": 15,
     "metadata": {},
     "output_type": "execute_result"
    }
   ],
   "source": [
    "path"
   ]
  },
  {
   "cell_type": "code",
   "execution_count": 16,
   "metadata": {
    "hidden": true
   },
   "outputs": [],
   "source": [
    "path = cwd + 'nino_daily.pickle'\n",
    "pickle_in = open(path,'rb')\n",
    "nino34 = pickle.load(pickle_in)\n"
   ]
  },
  {
   "cell_type": "code",
   "execution_count": 17,
   "metadata": {
    "hidden": true
   },
   "outputs": [],
   "source": [
    "nino34 = nino34.reset_index()\n",
    "nino34['Date'] = nino34['Date'] + pd.to_timedelta('9h')\n",
    "nino34 = nino34.set_index('Date')\n",
    "\n",
    "nino34 = nino34.loc['1974-10-01':'2018']"
   ]
  },
  {
   "cell_type": "code",
   "execution_count": 18,
   "metadata": {
    "hidden": true
   },
   "outputs": [
    {
     "data": {
      "text/html": [
       "<div>\n",
       "<style scoped>\n",
       "    .dataframe tbody tr th:only-of-type {\n",
       "        vertical-align: middle;\n",
       "    }\n",
       "\n",
       "    .dataframe tbody tr th {\n",
       "        vertical-align: top;\n",
       "    }\n",
       "\n",
       "    .dataframe thead th {\n",
       "        text-align: right;\n",
       "    }\n",
       "</style>\n",
       "<table border=\"1\" class=\"dataframe\">\n",
       "  <thead>\n",
       "    <tr style=\"text-align: right;\">\n",
       "      <th></th>\n",
       "      <th>nino34</th>\n",
       "    </tr>\n",
       "    <tr>\n",
       "      <th>Date</th>\n",
       "      <th></th>\n",
       "    </tr>\n",
       "  </thead>\n",
       "  <tbody>\n",
       "    <tr>\n",
       "      <th>1974-10-01 09:00:00</th>\n",
       "      <td>-0.75</td>\n",
       "    </tr>\n",
       "    <tr>\n",
       "      <th>1974-10-02 09:00:00</th>\n",
       "      <td>-0.75</td>\n",
       "    </tr>\n",
       "    <tr>\n",
       "      <th>1974-10-03 09:00:00</th>\n",
       "      <td>-0.75</td>\n",
       "    </tr>\n",
       "    <tr>\n",
       "      <th>1974-10-04 09:00:00</th>\n",
       "      <td>-0.75</td>\n",
       "    </tr>\n",
       "    <tr>\n",
       "      <th>1974-10-05 09:00:00</th>\n",
       "      <td>-0.75</td>\n",
       "    </tr>\n",
       "  </tbody>\n",
       "</table>\n",
       "</div>"
      ],
      "text/plain": [
       "                     nino34\n",
       "Date                       \n",
       "1974-10-01 09:00:00   -0.75\n",
       "1974-10-02 09:00:00   -0.75\n",
       "1974-10-03 09:00:00   -0.75\n",
       "1974-10-04 09:00:00   -0.75\n",
       "1974-10-05 09:00:00   -0.75"
      ]
     },
     "execution_count": 18,
     "metadata": {},
     "output_type": "execute_result"
    }
   ],
   "source": [
    "nino34.head()"
   ]
  },
  {
   "cell_type": "markdown",
   "metadata": {
    "heading_collapsed": true,
    "hidden": true
   },
   "source": [
    "## Split\n",
    "\n",
    "Splliting phase_precip, data_90, data_95 into the phases of the MJO"
   ]
  },
  {
   "cell_type": "code",
   "execution_count": 19,
   "metadata": {
    "hidden": true
   },
   "outputs": [],
   "source": [
    "# This function here splits an xarray file into all the data that is in El Nino and La Nina\n",
    "\n",
    "def split_via_enso(data):\n",
    "    el_nino_dates = nino34[nino34['nino34'] > 0].index\n",
    "    la_nina_dates = nino34[nino34['nino34'] <= 0].index\n",
    "\n",
    "    \n",
    "    # Now just getting the data for the El Nino and La Nina Dates\n",
    "    data_elnino = data.where(data.time.isin(el_nino_dates))\n",
    "    data_lanina = data.where(data.time.isin(la_nina_dates))\n",
    "\n",
    "#     return data_elnino, data_lanina\n",
    "    # Putting them both into the one xarray\n",
    "    data_nino = xr.concat([data_elnino, data_lanina], pd.Index(['el nino', 'la nina'], name = 'nino'))\n",
    "    \n",
    "    return data_nino"
   ]
  },
  {
   "cell_type": "code",
   "execution_count": 20,
   "metadata": {
    "hidden": true
   },
   "outputs": [],
   "source": [
    "# Splitting the data that is greater than the set percentile:\n",
    "\n",
    "# All (0th percentile)\n",
    "phase_precip_nino = split_via_enso(phase_precip)\n",
    "\n",
    "\n",
    "# All (50th percentile)\n",
    "data_50_nino = split_via_enso(data_50)\n",
    "\n",
    "# All (90th percentile)\n",
    "data_90_nino = split_via_enso(data_90)\n",
    "\n",
    "# All (95th percentile)\n",
    "data_95_nino  = split_via_enso(data_95)"
   ]
  },
  {
   "cell_type": "code",
   "execution_count": 21,
   "metadata": {
    "hidden": true
   },
   "outputs": [],
   "source": [
    "data_nino = xr.concat([data_50_nino,data_90_nino, data_95_nino, phase_precip_nino], \n",
    "                      pd.Index(['50','90','95','all'], name = 'percentile'))"
   ]
  },
  {
   "cell_type": "code",
   "execution_count": 22,
   "metadata": {
    "hidden": true
   },
   "outputs": [
    {
     "data": {
      "text/plain": [
       "<xarray.DataArray 'precip' (percentile: 4, nino: 2, mjo: 4, time: 7822, lat: 53, lon: 178)>\n",
       "dask.array<shape=(4, 2, 4, 7822, 53, 178), dtype=float32, chunksize=(1, 1, 1, 7822, 50, 50)>\n",
       "Coordinates:\n",
       "  * time        (time) datetime64[ns] 1974-10-01T09:00:00 ... 2017-12-31T09:00:00\n",
       "  * lon         (lon) float64 112.0 112.2 112.5 112.8 ... 155.8 156.0 156.2\n",
       "  * lat         (lat) float64 -23.0 -22.75 -22.5 -22.25 ... -10.5 -10.25 -10.0\n",
       "  * mjo         (mjo) object 'enhanced' 'suppressed' 'inactive' 'all'\n",
       "  * nino        (nino) object 'el nino' 'la nina'\n",
       "  * percentile  (percentile) object '50' '90' '95' 'all'\n",
       "Attributes:\n",
       "    long_name:  Daily Precipitation\n",
       "    units:      mm"
      ]
     },
     "execution_count": 22,
     "metadata": {},
     "output_type": "execute_result"
    }
   ],
   "source": [
    "data_nino "
   ]
  },
  {
   "cell_type": "markdown",
   "metadata": {
    "heading_collapsed": true,
    "hidden": true
   },
   "source": [
    "## Verifying Split"
   ]
  },
  {
   "cell_type": "code",
   "execution_count": 23,
   "metadata": {
    "hidden": true
   },
   "outputs": [
    {
     "data": {
      "text/plain": [
       "[<matplotlib.lines.Line2D at 0x7fc1a05e23c8>]"
      ]
     },
     "execution_count": 23,
     "metadata": {},
     "output_type": "execute_result"
    },
    {
     "data": {
      "image/png": "[encoded data removed]",
      "text/plain": [
       "<Figure size 432x288 with 1 Axes>"
      ]
     },
     "metadata": {
      "needs_background": "light"
     },
     "output_type": "display_data"
    }
   ],
   "source": [
    "plt.plot(nino34.index)"
   ]
  },
  {
   "cell_type": "code",
   "execution_count": 24,
   "metadata": {
    "hidden": true
   },
   "outputs": [],
   "source": [
    "nino = (data_90_nino.sel( mjo = 'enhanced', nino = 'la nina').sel(lat = -13, lon = 142).fillna(0) +\n",
    "     data_90_nino.sel( mjo = 'enhanced', nino = 'el nino').sel(lat = -13, lon = 142).fillna(0))\n"
   ]
  },
  {
   "cell_type": "code",
   "execution_count": 25,
   "metadata": {
    "hidden": true
   },
   "outputs": [
    {
     "data": {
      "text/plain": [
       "[<matplotlib.lines.Line2D at 0x7fc1a041db00>]"
      ]
     },
     "execution_count": 25,
     "metadata": {},
     "output_type": "execute_result"
    },
    {
     "data": {
      "image/png": "[encoded data removed]",
      "text/plain": [
       "<Figure size 432x288 with 1 Axes>"
      ]
     },
     "metadata": {
      "needs_background": "light"
     },
     "output_type": "display_data"
    }
   ],
   "source": [
    "data1 = data_90.sel( mjo = 'enhanced').sel(lat = -13, lon = 142).fillna(0)\n",
    "data1.plot()\n",
    "\n",
    "nino.plot(alpha = 0.5)"
   ]
  },
  {
   "cell_type": "markdown",
   "metadata": {
    "heading_collapsed": true
   },
   "source": [
    "# ------Count Calculation\n",
    "\n",
    "Calculating the actual values\n",
    "\n",
    "Retruns and saves:\n",
    "\n",
    "* <b> count_50_nino </b> \n",
    "* <b> count_90_nino </b> \n",
    "* <b> count_95_nino </b> "
   ]
  },
  {
   "cell_type": "markdown",
   "metadata": {
    "heading_collapsed": true,
    "hidden": true
   },
   "source": [
    "## Functions\n",
    "\n",
    "* <b> count_all_months_and_regions(phase_precip, all_precip,per) </b> "
   ]
  },
  {
   "cell_type": "code",
   "execution_count": 26,
   "metadata": {
    "code_folding": [
     0
    ],
    "hidden": true
   },
   "outputs": [],
   "source": [
    "def into_xr(data, orgininal, name = 'precip'):\n",
    "    return xr.DataArray(\n",
    "    data,\n",
    "    dims=['lat','lon'],\n",
    "    coords={'lat':orgininal.lat, 'lon': orgininal.lon},\n",
    "    name=name\n",
    "    )"
   ]
  },
  {
   "cell_type": "code",
   "execution_count": 27,
   "metadata": {
    "code_folding": [
     0
    ],
    "hidden": true
   },
   "outputs": [],
   "source": [
    "def calculate_countfrac(data_sub,data_all,per):\n",
    "    \n",
    "    # Counting all of the extreme events\n",
    "    count_sub = data_sub.count(dim = 'time')\n",
    "    \n",
    "    # Counting all of the rain events\n",
    "    count_all = data_all.count(dim = 'time')\n",
    "    \n",
    "    # Finding the ratio of the events\n",
    "    frac = count_sub/count_all\n",
    "    \n",
    "    # Finding out how much more or less than expected this is. E.g is we are talking about the 90th percentile\n",
    "    # then we would expect the frac to be 0.1. But if we get 0.2, the this is twice as much as expected. Dividing\n",
    "    # this by the per amount (e.g 1/0.1 = 10)\n",
    "    frac = frac/per\n",
    "    \n",
    "    xr = into_xr(frac, data_all, 'precip')\n",
    "    \n",
    "    return xr"
   ]
  },
  {
   "cell_type": "code",
   "execution_count": 28,
   "metadata": {
    "code_folding": [
     0
    ],
    "hidden": true
   },
   "outputs": [],
   "source": [
    "def DEF_count_all_months_and_regions(phase_precip, all_precip,per):\n",
    "    \n",
    "    months = [10,11,12,1,2,3]\n",
    "    temp_dict = {}\n",
    "    \n",
    "    for month in months:\n",
    "        # Just the data that is in this month\n",
    "        phase_prec_month = phase_precip.where(phase_precip.time.dt.month == month, drop = True)\n",
    "        all_prec_month = all_precip.where(all_precip.time.dt.month == month, drop = True)\n",
    "        \n",
    "        # Running the function above\n",
    "        frac_month = calculate_countfrac(phase_prec_month ,all_prec_month,per)\n",
    "        \n",
    "        # Storing the results\n",
    "        temp_dict[str(month)] = frac_month\n",
    "    \n",
    "    frac_int = xr.concat([temp_dict['10'],temp_dict['11'],temp_dict['12'],temp_dict['1'],\n",
    "                            temp_dict['2'],temp_dict['3']], pd.Index(months, name = 'month'))\n",
    "    \n",
    "    return frac_int\n",
    "    \n",
    "    \n",
    "    "
   ]
  },
  {
   "cell_type": "code",
   "execution_count": 29,
   "metadata": {
    "hidden": true
   },
   "outputs": [],
   "source": [
    "def count_all_months_and_regions(phase_precip, all_precip,per):\n",
    "    \n",
    "    phase_count = phase_precip.groupby('time.month').count(dim = 'time')\n",
    "    all_count = all_precip.groupby('time.month').count(dim = 'time')\n",
    "    \n",
    "    frac = phase_count/all_count\n",
    "    frac = frac / per\n",
    "    \n",
    "    return frac\n",
    "    \n",
    "    "
   ]
  },
  {
   "cell_type": "markdown",
   "metadata": {
    "heading_collapsed": true,
    "hidden": true
   },
   "source": [
    "## Calculation"
   ]
  },
  {
   "cell_type": "markdown",
   "metadata": {
    "hidden": true
   },
   "source": [
    " The data sets that go into each of the calculations are:\n",
    "     The 90th percentile data set that is all the events > 90th percentile in that phase of the MJO\n",
    "     The data set of all the rainfall days from that phase of the MJO\n",
    "    \n",
    "    \n",
    " The idea behind this calculation is that the 90th percentile should ne 0.1 of the days. If it is more that 0.1\n",
    " for this phase, say 0.2, this means that there is a difference caused by the MJO, e.g for 0.2 this is twice at\n",
    " what is to be expected. The 'per' is the amount to divide by that would retrieve this values. E.g 0.2/0.1 = 2\n",
    "\n",
    " The code here is for the different phase of El Nino as well as the 3 MJO phases: enhanced, suppressed and inactive\n",
    "\n"
   ]
  },
  {
   "cell_type": "code",
   "execution_count": 30,
   "metadata": {
    "hidden": true
   },
   "outputs": [
    {
     "data": {
      "text/plain": [
       "<xarray.DataArray 'precip' (percentile: 4, nino: 2, mjo: 4, time: 7822, lat: 53, lon: 178)>\n",
       "dask.array<shape=(4, 2, 4, 7822, 53, 178), dtype=float32, chunksize=(1, 1, 1, 7822, 50, 50)>\n",
       "Coordinates:\n",
       "  * time        (time) datetime64[ns] 1974-10-01T09:00:00 ... 2017-12-31T09:00:00\n",
       "  * lon         (lon) float64 112.0 112.2 112.5 112.8 ... 155.8 156.0 156.2\n",
       "  * lat         (lat) float64 -23.0 -22.75 -22.5 -22.25 ... -10.5 -10.25 -10.0\n",
       "  * mjo         (mjo) object 'enhanced' 'suppressed' 'inactive' 'all'\n",
       "  * nino        (nino) object 'el nino' 'la nina'\n",
       "  * percentile  (percentile) object '50' '90' '95' 'all'\n",
       "Attributes:\n",
       "    long_name:  Daily Precipitation\n",
       "    units:      mm"
      ]
     },
     "execution_count": 30,
     "metadata": {},
     "output_type": "execute_result"
    }
   ],
   "source": [
    "data_nino"
   ]
  },
  {
   "cell_type": "markdown",
   "metadata": {
    "hidden": true
   },
   "source": [
    "<br> <br>\n",
    "50th Percentile"
   ]
  },
  {
   "cell_type": "code",
   "execution_count": 31,
   "metadata": {
    "hidden": true
   },
   "outputs": [],
   "source": [
    "# 1. Selecting the data for single ENSO phase\n",
    "# 2. Selectign data for single MJO phase\n",
    "# 3. Running into count function: count of extremes / count of all * per\n",
    "# 4. Storing for MJO phases\n",
    "# 5. Storing for ENSO phases\n",
    "# 6. Finsished prodcut: MJO phases and ENSO phases as dimension\n",
    "\n",
    "\n",
    "per = 0.5\n",
    "percentile = '50'\n",
    "\n",
    "data_ex_total = data_nino.sel(percentile = percentile) # The extreme data\n",
    "data_all_total = data_nino.sel(percentile = 'all') # All the data for comparison\n",
    "\n",
    "\n",
    "enso_phases = ['el nino','la nina']\n",
    "mjo_phases = ['enhanced', 'suppressed', 'inactive']\n",
    "nino_stor = []\n",
    "\n",
    "for nino in enso_phases:\n",
    "    \n",
    "    # 1. Selecting ENSO phase\n",
    "    data_ex = data_ex_total.sel(nino = nino)\n",
    "    data_precip = data_all_total.sel(nino =  nino)\n",
    "\n",
    "\n",
    "    # Looping through all of the MJO phases\n",
    "    mjo_storage = []\n",
    "    for phase in mjo_phases:\n",
    "        # 2. Selecting data for just that phase of MJO\n",
    "        phase_ex = data_ex.sel(mjo = phase) #extremes\n",
    "        phase_pr = data_precip.sel(mjo = phase) #all\n",
    "\n",
    "        # 3. Subbing into the function\n",
    "            #phase_ex and #phase_pr are the extremes and all rainfall for a specific MJO and ENSO phase\n",
    "        outfile = count_all_months_and_regions(phase_ex, phase_pr, per)\n",
    "\n",
    "        # 4. Storing the results for each mjo phase\n",
    "        mjo_storage.append(outfile)\n",
    "    \n",
    "    # 5. Storing the results for each ENSO phase\n",
    "    enso_data = xr.concat(mjo_storage, pd.Index(['enhanced', 'suppressed', 'inactive'], name = 'mjo'))\n",
    "    nino_stor.append(enso_data)\n",
    "\n",
    "\n",
    "#######################################\n",
    "#######################################\n",
    "\n",
    "count_50_nino  = xr.concat(nino_stor, pd.Index(enso_phases , name = 'enso'))"
   ]
  },
  {
   "cell_type": "markdown",
   "metadata": {
    "hidden": true
   },
   "source": [
    "<br> <br>\n",
    "90th Percentile"
   ]
  },
  {
   "cell_type": "code",
   "execution_count": 32,
   "metadata": {
    "hidden": true
   },
   "outputs": [],
   "source": [
    "# 1. Selecting the data for single ENSO phase\n",
    "# 2. Selectign data for single MJO phase\n",
    "# 3. Running into count function: count of extremes / count of all * per\n",
    "# 4. Storing for MJO phases\n",
    "# 5. Storing for ENSO phases\n",
    "# 6. Finsished prodcut: MJO phases and ENSO phases as dimension\n",
    "\n",
    "\n",
    "per = 0.1\n",
    "percentile = '90'\n",
    "\n",
    "data_ex_total = data_nino.sel(percentile = percentile) # The extreme data\n",
    "data_all_total = data_nino.sel(percentile = 'all') # All the data for comparison\n",
    "\n",
    "\n",
    "enso_phases = ['el nino','la nina']\n",
    "mjo_phases = ['enhanced', 'suppressed', 'inactive']\n",
    "nino_stor = []\n",
    "\n",
    "for nino in enso_phases:\n",
    "    \n",
    "    # 1. Selecting ENSO phase\n",
    "    data_ex = data_ex_total.sel(nino = nino)\n",
    "    data_precip = data_all_total.sel(nino =  nino)\n",
    "\n",
    "\n",
    "    # Looping through all of the MJO phases\n",
    "    mjo_storage = []\n",
    "    for phase in mjo_phases:\n",
    "        # 2. Selecting data for just that phase of MJO\n",
    "        phase_ex = data_ex.sel(mjo = phase) #extremes\n",
    "        phase_pr = data_precip.sel(mjo = phase) #all\n",
    "\n",
    "        # 3. Subbing into the function\n",
    "            #phase_ex and #phase_pr are the extremes and all rainfall for a specific MJO and ENSO phase\n",
    "        outfile = count_all_months_and_regions(phase_ex, phase_pr, per)\n",
    "\n",
    "        # 4. Storing the results for each mjo phase\n",
    "        mjo_storage.append(outfile)\n",
    "    \n",
    "    # 5. Storing the results for each ENSO phase\n",
    "    enso_data = xr.concat(mjo_storage, pd.Index(['enhanced', 'suppressed', 'inactive'], name = 'mjo'))\n",
    "    nino_stor.append(enso_data)\n",
    "\n",
    "\n",
    "#######################################\n",
    "#######################################\n",
    "\n",
    "count_50_nino  = xr.concat(nino_stor, pd.Index(enso_phases , name = 'enso'))"
   ]
  },
  {
   "cell_type": "markdown",
   "metadata": {
    "hidden": true
   },
   "source": [
    "<br> <br>\n",
    "95th Percentile"
   ]
  },
  {
   "cell_type": "code",
   "execution_count": 33,
   "metadata": {
    "hidden": true
   },
   "outputs": [],
   "source": [
    "# 1. Selecting the data for single ENSO phase\n",
    "# 2. Selectign data for single MJO phase\n",
    "# 3. Running into count function: count of extremes / count of all * per\n",
    "# 4. Storing for MJO phases\n",
    "# 5. Storing for ENSO phases\n",
    "# 6. Finsished prodcut: MJO phases and ENSO phases as dimension\n",
    "\n",
    "\n",
    "per = 0.05\n",
    "percentile = '95'\n",
    "\n",
    "data_ex_total = data_nino.sel(percentile = percentile) # The extreme data\n",
    "data_all_total = data_nino.sel(percentile = 'all') # All the data for comparison\n",
    "\n",
    "\n",
    "enso_phases = ['el nino','la nina']\n",
    "mjo_phases = ['enhanced', 'suppressed', 'inactive']\n",
    "nino_stor = []\n",
    "\n",
    "for nino in enso_phases:\n",
    "    \n",
    "    # 1. Selecting ENSO phase\n",
    "    data_ex = data_ex_total.sel(nino = nino)\n",
    "    data_precip = data_all_total.sel(nino =  nino)\n",
    "\n",
    "\n",
    "    # Looping through all of the MJO phases\n",
    "    mjo_storage = []\n",
    "    for phase in mjo_phases:\n",
    "        # 2. Selecting data for just that phase of MJO\n",
    "        phase_ex = data_ex.sel(mjo = phase) #extremes\n",
    "        phase_pr = data_precip.sel(mjo = phase) #all\n",
    "\n",
    "        # 3. Subbing into the function\n",
    "            #phase_ex and #phase_pr are the extremes and all rainfall for a specific MJO and ENSO phase\n",
    "        outfile = count_all_months_and_regions(phase_ex, phase_pr, per)\n",
    "\n",
    "        # 4. Storing the results for each mjo phase\n",
    "        mjo_storage.append(outfile)\n",
    "    \n",
    "    # 5. Storing the results for each ENSO phase\n",
    "    enso_data = xr.concat(mjo_storage, pd.Index(['enhanced', 'suppressed', 'inactive'], name = 'mjo'))\n",
    "    nino_stor.append(enso_data)\n",
    "\n",
    "\n",
    "#######################################\n",
    "#######################################\n",
    "\n",
    "count_50_nino  = xr.concat(nino_stor, pd.Index(enso_phases , name = 'enso'))"
   ]
  },
  {
   "cell_type": "markdown",
   "metadata": {
    "heading_collapsed": true,
    "hidden": true
   },
   "source": [
    "### Saving"
   ]
  },
  {
   "cell_type": "code",
   "execution_count": 34,
   "metadata": {
    "hidden": true
   },
   "outputs": [],
   "source": [
    "save = 0\n",
    "\n",
    "if save:\n",
    "    count_50_nino.to_netcdf(save_dir +'count_50_nino.nc')\n",
    "    \n",
    "    count_90_nino.to_netcdf(save_dir +'count_90_nino.nc')\n",
    "\n",
    "    count_95_nino.to_netcdf(save_dir +'count_95_nino.nc')"
   ]
  },
  {
   "cell_type": "markdown",
   "metadata": {},
   "source": [
    "# ------Bootstrap Et Vetera\n",
    "\n",
    "Returns and Saves:\n",
    "* <b> count_boot_50_nino </b>\n",
    "* <b> count_boot_90_nino </b>\n",
    "* <b> count_boot_95_nino </b>"
   ]
  },
  {
   "cell_type": "markdown",
   "metadata": {
    "heading_collapsed": true
   },
   "source": [
    "## Create Count Array\n",
    "\n",
    "\n",
    "Returns:\n",
    "* <b> data_nino_count </b> This contains the number of extreme rainfall events, for each month of each year, for each MJO phase for ENSO and for 90th, 95th and all rainfall \n",
    "<br> e.g dims: precip_type,nino,mjo,  month, year, lat,lon"
   ]
  },
  {
   "cell_type": "markdown",
   "metadata": {
    "hidden": true
   },
   "source": [
    "The count array is created to speed up the bootstrapping.\n",
    "As the end results of count is the count from every mouth, \n",
    "if the count of each month is already created, then the final \n",
    "results can just be the sum of all of these."
   ]
  },
  {
   "cell_type": "code",
   "execution_count": 35,
   "metadata": {
    "hidden": true
   },
   "outputs": [],
   "source": [
    "# Groups by year and counts all of the events. Also divides up into seperate months\n",
    "\n",
    "def each_year_count(data):\n",
    "    \n",
    "    storage = []\n",
    "    #Looping through all of the months\n",
    "    months = [10,11,12,1,2,3]\n",
    "    for month in months:\n",
    "        data_month = data.where(data.time.dt.month == month, drop = True)\n",
    "        count_year = data_month.groupby('time.year').count(dim = 'time')\n",
    "        storage.append(count_year)\n",
    "        \n",
    "    count_all = xr.concat(storage, pd.Index(months, name = 'month'))\n",
    "    \n",
    "    return count_all\n",
    "        \n",
    "        \n"
   ]
  },
  {
   "cell_type": "code",
   "execution_count": 36,
   "metadata": {
    "hidden": true
   },
   "outputs": [
    {
     "data": {
      "text/plain": [
       "<xarray.DataArray 'precip' (percentile: 4, nino: 2, mjo: 4, time: 7822, lat: 53, lon: 178)>\n",
       "dask.array<shape=(4, 2, 4, 7822, 53, 178), dtype=float32, chunksize=(1, 1, 1, 7822, 50, 50)>\n",
       "Coordinates:\n",
       "  * time        (time) datetime64[ns] 1974-10-01T09:00:00 ... 2017-12-31T09:00:00\n",
       "  * lon         (lon) float64 112.0 112.2 112.5 112.8 ... 155.8 156.0 156.2\n",
       "  * lat         (lat) float64 -23.0 -22.75 -22.5 -22.25 ... -10.5 -10.25 -10.0\n",
       "  * mjo         (mjo) object 'enhanced' 'suppressed' 'inactive' 'all'\n",
       "  * nino        (nino) object 'el nino' 'la nina'\n",
       "  * percentile  (percentile) object '50' '90' '95' 'all'\n",
       "Attributes:\n",
       "    long_name:  Daily Precipitation\n",
       "    units:      mm"
      ]
     },
     "execution_count": 36,
     "metadata": {},
     "output_type": "execute_result"
    }
   ],
   "source": [
    "data_nino"
   ]
  },
  {
   "cell_type": "code",
   "execution_count": 37,
   "metadata": {
    "hidden": true
   },
   "outputs": [],
   "source": [
    "# Counting the years for all the various xarray files of extremes and also for all data\n",
    "\n",
    "\n",
    "percentiles = ['all','50', '90', '95']\n",
    "\n",
    "\n",
    "count_stor = []\n",
    "for percentile in percentiles:\n",
    "    \n",
    "    # Selecting data for just one percentile\n",
    "    sub_data = data_nino.sel(percentile = percentile)\n",
    "    out_file = each_year_count(sub_data)\n",
    "    \n",
    "    count_stor.append(out_file)\n",
    "    \n",
    "    \n",
    "data_nino_count = xr.concat(count_stor,\n",
    "                           pd.Index(percentiles, name = 'percentile'))    "
   ]
  },
  {
   "cell_type": "code",
   "execution_count": 38,
   "metadata": {
    "hidden": true
   },
   "outputs": [
    {
     "data": {
      "text/plain": [
       "<xarray.DataArray 'precip' (percentile: 4, month: 6, nino: 2, mjo: 4, year: 44, lat: 53, lon: 178)>\n",
       "dask.array<shape=(4, 6, 2, 4, 44, 53, 178), dtype=float64, chunksize=(1, 1, 1, 1, 1, 50, 50)>\n",
       "Coordinates:\n",
       "  * year        (year) int64 1974 1975 1976 1977 1978 ... 2014 2015 2016 2017\n",
       "  * lon         (lon) float64 112.0 112.2 112.5 112.8 ... 155.8 156.0 156.2\n",
       "  * lat         (lat) float64 -23.0 -22.75 -22.5 -22.25 ... -10.5 -10.25 -10.0\n",
       "  * mjo         (mjo) object 'enhanced' 'suppressed' 'inactive' 'all'\n",
       "  * nino        (nino) object 'el nino' 'la nina'\n",
       "  * month       (month) int64 10 11 12 1 2 3\n",
       "  * percentile  (percentile) object 'all' '50' '90' '95'"
      ]
     },
     "execution_count": 38,
     "metadata": {},
     "output_type": "execute_result"
    }
   ],
   "source": [
    "data_nino_count"
   ]
  },
  {
   "cell_type": "markdown",
   "metadata": {
    "heading_collapsed": true
   },
   "source": [
    "## Functions\n",
    "* <b> Select Additional </b>\n",
    "* <b> bootstrap_each_month_count </b>\n",
    "* <b> bootstrap_each_month_count </b>\n",
    "   \n"
   ]
  },
  {
   "cell_type": "code",
   "execution_count": 39,
   "metadata": {
    "hidden": true
   },
   "outputs": [],
   "source": [
    "def select_additional(data_sub,data,uniqueValues, occurCount, number):\n",
    "\n",
    "    \n",
    "    if any(occurCount >= 2 ):\n",
    "        # Find the years that are getting sampled multiple times\n",
    "            # occurCount is the frequency of each year\n",
    "            # uniqueValues is all the years that have been sampled\n",
    "        multi_sampled_years = uniqueValues[np.where(occurCount >= 2 )]\n",
    "        \n",
    "        #  Finding the data for the additional years\n",
    "        additional = data.where(data.year.isin(multi_sampled_years), drop = True)\n",
    "        # Adding n * 100 years to the data so that they don't overlap\n",
    "        additional['year'] = additional.year +  number * 100\n",
    "        \n",
    "        # Combing all the data together\n",
    "        data_sub = data_sub.combine_first(additional)\n",
    "        \n",
    "        #### Running this whole function again (recursivly) to determine which ones have been selected more than\n",
    "           # twice\n",
    "        # Reducing the occur count by 1. This will enable the samples that have been sampeld more than twice \n",
    "        # to be determing\n",
    "        occurCount = occurCount - 1\n",
    "        number += 1\n",
    "        \n",
    "        data_sub = select_additional(data,data_sub, uniqueValues, occurCount, number) \n",
    "        \n",
    "        return data_sub\n",
    "                                \n",
    "    else:\n",
    "        return data_sub"
   ]
  },
  {
   "cell_type": "code",
   "execution_count": 40,
   "metadata": {
    "hidden": true
   },
   "outputs": [],
   "source": [
    "def calculate_sum_of_count_frac(data_sub,data_all,per):\n",
    "    \n",
    "    # Counting all of the extreme events\n",
    "    count_sub = data_sub.sum(dim = 'year')\n",
    "    \n",
    "    # Counting all of the rain events\n",
    "    count_all = data_all.sum(dim = 'year')\n",
    "    \n",
    "    # Finding the ratio of the events\n",
    "    frac = count_sub/count_all\n",
    "    \n",
    "    # Finding out how much more or less than expected this is. E.g is we are talking about the 90th percentile\n",
    "    # then we would expect the frac to be 0.1. But if we get 0.2, the this is twice as much as expected. Dividing\n",
    "    # this by the per amount (e.g 1/0.1 = 10)\n",
    "    frac = frac/per\n",
    "\n",
    "    return frac"
   ]
  },
  {
   "cell_type": "code",
   "execution_count": 41,
   "metadata": {
    "code_folding": [
     0
    ],
    "hidden": true
   },
   "outputs": [],
   "source": [
    "# Defunct\n",
    "\n",
    "def bootstrap_phase_count_def(precip_ex ,precip, per, loops):\n",
    "    \n",
    "    total_boot = []\n",
    "    \n",
    "    # Need to do a certain amount of loops\n",
    "    for i in range(loops):\n",
    "        \n",
    "        # Selecting random years; half the ranges word\n",
    "        rand_years = np.random.randint(1974,2017,22)\n",
    "        \n",
    "        # Subsetting botht the data to the randomyears\n",
    "        precip_ex_rand = precip_ex.where(precip_ex.year.isin(rand_years))\n",
    "        precip_rand = precip.where(precip.year.isin(rand_years))\n",
    "        \n",
    "        \n",
    "        # If there are years that have been repeated they need to be added\n",
    "        uniqueValues, occurCount = np.unique(rand_years, return_counts=True)\n",
    "        number = 1\n",
    "        precip_ex_rand = select_additional(precip_ex_rand,precip,\n",
    "                                                   uniqueValues, occurCount, number)\n",
    "    \n",
    "        precip_rand = select_additional(precip_rand, precip,\n",
    "                                             uniqueValues, occurCount, number)\n",
    "        ######\n",
    "        # Executing the above function to cork out the count frac\n",
    "        run_boot = calculate_sum_of_count_frac(precip_ex_rand, precip_rand, per)\n",
    "        \n",
    "        total_boot.append(run_boot)\n",
    "\n",
    "    total_boot = xr.concat(total_boot, 'run_num')\n",
    "\n",
    "    return total_boot"
   ]
  },
  {
   "cell_type": "code",
   "execution_count": 42,
   "metadata": {
    "code_folding": [
     0
    ],
    "hidden": true
   },
   "outputs": [],
   "source": [
    "# Defunct\n",
    "def bootstrap_each_month_count_def(precip_ex, precip, per, loops):\n",
    "    months = [10,11,12,1,2,3]\n",
    "    xr_month_storage = []   \n",
    "        \n",
    "    for month in months:\n",
    "        # Extracting just the single months\n",
    "        precip_ex_month = precip_ex.sel(month = month)\n",
    "        precip_month = precip.sel(month = month)\n",
    "        \n",
    "        # Running the above function\n",
    "        count_month = bootstrap_phase_count(precip_ex_month , precip_month, per, loops)\n",
    "        \n",
    "        # Storing the results\n",
    "        xr_month_storage.append(count_month)\n",
    "    \n",
    "    xr_file = xr.concat(xr_month_storage, pd.Index(months, name = 'month'))\n",
    "    \n",
    "    return xr_file"
   ]
  },
  {
   "cell_type": "code",
   "execution_count": 43,
   "metadata": {
    "hidden": true
   },
   "outputs": [],
   "source": [
    "# This function takes in the count for a single phase of the MJO\n",
    "\n",
    "def bootstrap_each_month_count(count_ex, count, per, loops):\n",
    "    \n",
    "    month_storage = []\n",
    "    \n",
    "    # Loop through all of the months. Extract the data for just one month.\n",
    "    months = [10,11,12,1,2,3]\n",
    "    for month in months:\n",
    "        \n",
    "        loop_storage = []\n",
    "\n",
    "        \n",
    "        count_month_ex = count_ex.sel(month = month)\n",
    "        count_month = count.sel(month = month)\n",
    "        \n",
    "        # Looping through all of the different runs\n",
    "        for i in range(loops):\n",
    "            \n",
    "            ########### Selecting Random Data\n",
    "            # Selecting random years; half the ranges of the data\n",
    "            rand_years = np.random.randint(1974,2017,22)\n",
    "    \n",
    "            # Subsetting botht the data to the randomyears\n",
    "            count_ex_rand = count_month_ex.where(count_month_ex.year.isin(rand_years)) # Extremes\n",
    "            count_rand = count_month.where(count_month.year.isin(rand_years)) # Normal\n",
    "            \n",
    "            # If there are years that have been repeated they need to be added\n",
    "            uniqueValues, occurCount = np.unique(rand_years, return_counts=True)\n",
    "            \n",
    "            # (data_sub, data)\n",
    "            count_ex_rand = select_additional(count_ex_rand,count_month_ex, uniqueValues, occurCount, number = 1)\n",
    "            count_rand = select_additional(count_rand, count_month,uniqueValues, occurCount, number = 1)\n",
    "            \n",
    "            \n",
    "            ########### Actual Calculation\n",
    "            # (data_sub, data_all)\n",
    "            boot_run = calculate_sum_of_count_frac(count_ex_rand, count_rand, per)\n",
    "            \n",
    "            loop_storage.append(boot_run)\n",
    "            \n",
    "            ## END OF LOOP\n",
    "        \n",
    "        month_data = xr.concat(loop_storage, 'run_num')\n",
    "        month_95 = month_data.reduce(np.nanpercentile, q = 95, dim = 'run_num')\n",
    "        month_5 = month_data.reduce(np.nanpercentile, q = 5, dim = 'run_num')\n",
    "        \n",
    "        month_boot = xr.concat([month_95, month_5], pd.Index([95,5], name = 'percentile'))\n",
    "        month_storage.append(month_boot)\n",
    "        \n",
    "    total_boot = xr.concat(month_storage, pd.Index(months, name = 'month'))\n",
    "        \n",
    "    return total_boot\n",
    "    \n",
    "    \n",
    "    "
   ]
  },
  {
   "cell_type": "markdown",
   "metadata": {},
   "source": [
    "## Running and Saving\n",
    "\n",
    "Returns and Saves:\n",
    "* <b> count_boot_50_nino </b>\n",
    "* <b> count_boot_90_nino </b>\n",
    "* <b> count_boot_95_nino </b>"
   ]
  },
  {
   "cell_type": "code",
   "execution_count": 44,
   "metadata": {},
   "outputs": [
    {
     "data": {
      "text/plain": [
       "<xarray.DataArray 'precip' (percentile: 4, month: 6, nino: 2, mjo: 4, year: 44, lat: 53, lon: 178)>\n",
       "dask.array<shape=(4, 6, 2, 4, 44, 53, 178), dtype=float64, chunksize=(1, 1, 1, 1, 1, 50, 50)>\n",
       "Coordinates:\n",
       "  * year        (year) int64 1974 1975 1976 1977 1978 ... 2014 2015 2016 2017\n",
       "  * lon         (lon) float64 112.0 112.2 112.5 112.8 ... 155.8 156.0 156.2\n",
       "  * lat         (lat) float64 -23.0 -22.75 -22.5 -22.25 ... -10.5 -10.25 -10.0\n",
       "  * mjo         (mjo) object 'enhanced' 'suppressed' 'inactive' 'all'\n",
       "  * nino        (nino) object 'el nino' 'la nina'\n",
       "  * month       (month) int64 10 11 12 1 2 3\n",
       "  * percentile  (percentile) object 'all' '50' '90' '95'"
      ]
     },
     "execution_count": 44,
     "metadata": {},
     "output_type": "execute_result"
    }
   ],
   "source": [
    "data_nino_count"
   ]
  },
  {
   "cell_type": "markdown",
   "metadata": {},
   "source": [
    "<br> <br>\n",
    "50th Percentile"
   ]
  },
  {
   "cell_type": "code",
   "execution_count": 49,
   "metadata": {},
   "outputs": [],
   "source": [
    "per = 0.5\n",
    "loops = 1000\n",
    "percentile = '50'\n",
    "\n",
    "ex_precip = data_nino_count.sel(percentile = percentile)\n",
    "all_precip = data_nino_count.sel(percentile = 'all')\n",
    "\n",
    "\n",
    "ninos = ['el nino', 'la nina']\n",
    "mjo_phases = ['enhanced', 'suppressed','inactive']\n",
    "\n",
    "\n",
    "\n",
    "nino_stor = []\n",
    "\n",
    "# ENSO loop\n",
    "enso_stor = []\n",
    "for nino in ninos:\n",
    "    \n",
    "    phase_stor = []\n",
    "    # MJO loop\n",
    "    for mjo in mjo_phases:\n",
    "\n",
    "        # Selecting data for just that phase\n",
    "        phase_ex = ex_precip.sel(mjo = mjo, nino = nino)\n",
    "        phase_pr = all_precip.sel(mjo = mjo, nino = nino)\n",
    "\n",
    "        # Subbing into the function\n",
    "        #phase_ex and #phase_pr are the extremes and all rainfall for a specific MJO and ENSO phase\n",
    "        boot_out = bootstrap_each_month_count(phase_ex, phase_pr, per,loops)\n",
    "\n",
    "        # Storing the results\n",
    "        phase_stor.append(boot_out)\n",
    "    \n",
    "    xr_temp = xr.concat(phase_stor, pd.Index(mjo_phases, name = 'mjo'))\n",
    "    nino_stor.append(xr_temp)\n",
    "\n",
    "\n",
    "count_boot_50_nino = xr.concat(nino_stor, pd.Index(ninos, name = 'nino'))"
   ]
  },
  {
   "cell_type": "code",
   "execution_count": 154,
   "metadata": {},
   "outputs": [],
   "source": [
    "# count_boot_50_nino.to_netcdf(save_dir + 'count_boot_50_nino.nc')"
   ]
  },
  {
   "cell_type": "markdown",
   "metadata": {},
   "source": [
    "<br> <br>\n",
    "90th Percentile"
   ]
  },
  {
   "cell_type": "code",
   "execution_count": 50,
   "metadata": {},
   "outputs": [],
   "source": [
    "per = 0.1\n",
    "loops = 1000\n",
    "\n",
    "\n",
    "ex_precip = data_nino_count.sel(percentile = '90')\n",
    "all_precip = data_nino_count.sel(percentile = 'all')\n",
    "\n",
    "\n",
    "ninos = ['el nino', 'la nina']\n",
    "mjo_phases = ['enhanced', 'suppressed','inactive']\n",
    "\n",
    "\n",
    "\n",
    "nino_stor = []\n",
    "\n",
    "# ENSO loop\n",
    "enso_stor = []\n",
    "for nino in ninos:\n",
    "    \n",
    "    phase_stor = []\n",
    "    # MJO loop\n",
    "    for mjo in mjo_phases:\n",
    "\n",
    "        # Selecting data for just that phase\n",
    "        phase_ex = ex_precip.sel(mjo = mjo, nino = nino)\n",
    "        phase_pr = all_precip.sel(mjo = mjo, nino = nino)\n",
    "\n",
    "        # Subbing into the function\n",
    "        #phase_ex and #phase_pr are the extremes and all rainfall for a specific MJO and ENSO phase\n",
    "        boot_out = bootstrap_each_month_count(phase_ex, phase_pr, per,loops)\n",
    "\n",
    "        # Storing the results\n",
    "        phase_stor.append(boot_out)\n",
    "    \n",
    "    xr_temp = xr.concat(phase_stor, pd.Index(mjo_phases, name = 'mjo'))\n",
    "    nino_stor.append(xr_temp)\n",
    "\n",
    "    \n",
    "\n",
    "count_boot_90_nino = xr.concat(nino_stor, pd.Index(ninos, name = 'nino'))"
   ]
  },
  {
   "cell_type": "code",
   "execution_count": 156,
   "metadata": {},
   "outputs": [],
   "source": [
    "# count_boot_90_nino.to_netcdf(save_dir + 'count_boot_90_nino.nc')"
   ]
  },
  {
   "cell_type": "markdown",
   "metadata": {},
   "source": [
    "<br> <br>\n",
    "95th Percentile"
   ]
  },
  {
   "cell_type": "code",
   "execution_count": 45,
   "metadata": {},
   "outputs": [],
   "source": [
    "per = 0.05\n",
    "loops = 1000\n",
    "\n",
    "\n",
    "ex_precip = data_nino_count.sel(percentile = '90')\n",
    "all_precip = data_nino_count.sel(percentile = 'all')\n",
    "\n",
    "\n",
    "ninos = ['el nino', 'la nina']\n",
    "mjo_phases = ['enhanced', 'suppressed','inactive']\n",
    "\n",
    "\n",
    "nino_stor = []\n",
    "\n",
    "# ENSO loop\n",
    "enso_stor = []\n",
    "for nino in ninos:\n",
    "    \n",
    "    phase_stor = []\n",
    "    # MJO loop\n",
    "    for mjo in mjo_phases:\n",
    "\n",
    "        # Selecting data for just that phase\n",
    "        phase_ex = ex_precip.sel(mjo = mjo, nino = nino)\n",
    "        phase_pr = all_precip.sel(mjo = mjo, nino = nino)\n",
    "\n",
    "        # Subbing into the function\n",
    "        #phase_ex and #phase_pr are the extremes and all rainfall for a specific MJO and ENSO phase\n",
    "        boot_out = bootstrap_each_month_count(phase_ex, phase_pr, per,loops)\n",
    "\n",
    "        # Storing the results\n",
    "        phase_stor.append(boot_out)\n",
    "    \n",
    "    xr_temp = xr.concat(phase_stor, pd.Index(mjo_phases, name = 'mjo'))\n",
    "    nino_stor.append(xr_temp)\n",
    "\n",
    "    \n",
    "\n",
    "count_boot_95_nino = xr.concat(nino_stor, pd.Index(ninos, name = 'nino'))"
   ]
  },
  {
   "cell_type": "code",
   "execution_count": 158,
   "metadata": {},
   "outputs": [],
   "source": [
    "# count_boot_95_nino.to_netcdf(save_dir + 'count_boot_95_nino.nc')"
   ]
  },
  {
   "cell_type": "markdown",
   "metadata": {
    "heading_collapsed": true
   },
   "source": [
    "# ------Bootstrap Et Nova"
   ]
  },
  {
   "cell_type": "markdown",
   "metadata": {
    "heading_collapsed": true,
    "hidden": true
   },
   "source": [
    "## Create Count Array\n",
    "\n",
    "\n",
    "Returns:\n",
    "* <b> data_nino_count </b> This contains the number of extreme rainfall events, for each month of each year, for each MJO phase for ENSO and for 90th, 95th and all rainfall \n",
    "<br> e.g dims: precip_type,nino,mjo,  month, year, lat,lon"
   ]
  },
  {
   "cell_type": "markdown",
   "metadata": {
    "hidden": true
   },
   "source": [
    "The count array is created to speed up the bootstrapping.\n",
    "As the end results of count is the count from every mouth, \n",
    "if the count of each month is already created, then the final \n",
    "results can just be the sum of all of these."
   ]
  },
  {
   "cell_type": "code",
   "execution_count": 82,
   "metadata": {
    "hidden": true
   },
   "outputs": [],
   "source": [
    "# Groups by year and counts all of the events. Also divides up into seperate months\n",
    "\n",
    "def each_year_count(data):\n",
    "    \n",
    "    storage = []\n",
    "    #Looping through all of the months\n",
    "    months = [10,11,12,1,2,3]\n",
    "    for month in months:\n",
    "        data_month = data.where(data.time.dt.month == month, drop = True)\n",
    "        count_year = data_month.groupby('time.year').count(dim = 'time')\n",
    "        storage.append(count_year)\n",
    "        \n",
    "    count_all = xr.concat(storage, pd.Index(months, name = 'month'))\n",
    "    \n",
    "    return count_all\n",
    "        \n",
    "        \n"
   ]
  },
  {
   "cell_type": "code",
   "execution_count": 83,
   "metadata": {
    "hidden": true
   },
   "outputs": [],
   "source": [
    "# Counting the years for all the various xarray files of extremes and also for all data\n",
    "\n",
    "data_90_nino_count = each_year_count(data_90_nino)\n",
    "\n",
    "data_95_nino_count = each_year_count(data_95_nino)\n",
    "\n",
    "data_precip_nino_count = each_year_count(phase_precip_nino)"
   ]
  },
  {
   "cell_type": "code",
   "execution_count": 84,
   "metadata": {
    "hidden": true
   },
   "outputs": [],
   "source": [
    "data_nino_count = xr.concat([data_precip_nino_count, data_90_nino_count,data_95_nino_count],\n",
    "                           pd.Index(['all','90','95'], name = 'precip_type'))"
   ]
  },
  {
   "cell_type": "code",
   "execution_count": 85,
   "metadata": {
    "hidden": true
   },
   "outputs": [
    {
     "data": {
      "text/plain": [
       "<xarray.DataArray 'precip' (precip_type: 3, month: 6, nino: 2, mjo: 4, year: 44, lat: 53, lon: 178)>\n",
       "dask.array<shape=(3, 6, 2, 4, 44, 53, 178), dtype=float64, chunksize=(1, 1, 1, 1, 1, 50, 50)>\n",
       "Coordinates:\n",
       "  * mjo          (mjo) object 'all' 'enhanced' 'inactive' 'suppressed'\n",
       "  * year         (year) int64 1974 1975 1976 1977 1978 ... 2014 2015 2016 2017\n",
       "  * lon          (lon) float64 112.0 112.2 112.5 112.8 ... 155.8 156.0 156.2\n",
       "  * lat          (lat) float64 -23.0 -22.75 -22.5 -22.25 ... -10.5 -10.25 -10.0\n",
       "  * nino         (nino) object 'el nino' 'la nina'\n",
       "  * month        (month) int64 10 11 12 1 2 3\n",
       "  * precip_type  (precip_type) object 'all' '90' '95'"
      ]
     },
     "execution_count": 85,
     "metadata": {},
     "output_type": "execute_result"
    }
   ],
   "source": [
    "data_nino_count"
   ]
  },
  {
   "cell_type": "markdown",
   "metadata": {
    "heading_collapsed": true,
    "hidden": true
   },
   "source": [
    "## Trials"
   ]
  },
  {
   "cell_type": "markdown",
   "metadata": {
    "hidden": true
   },
   "source": [
    "Defining"
   ]
  },
  {
   "cell_type": "code",
   "execution_count": 86,
   "metadata": {
    "hidden": true
   },
   "outputs": [
    {
     "data": {
      "text/plain": [
       "<xarray.DataArray 'precip' (month: 6, nino: 2, mjo: 4, year: 44, lat: 53, lon: 178)>\n",
       "dask.array<shape=(6, 2, 4, 44, 53, 178), dtype=float64, chunksize=(1, 1, 1, 1, 50, 50)>\n",
       "Coordinates:\n",
       "  * year     (year) int64 1974 1975 1976 1977 1978 ... 2013 2014 2015 2016 2017\n",
       "  * lon      (lon) float64 112.0 112.2 112.5 112.8 ... 155.5 155.8 156.0 156.2\n",
       "  * lat      (lat) float64 -23.0 -22.75 -22.5 -22.25 ... -10.5 -10.25 -10.0\n",
       "  * mjo      (mjo) object 'enhanced' 'suppressed' 'inactive' 'all'\n",
       "  * nino     (nino) object 'el nino' 'la nina'\n",
       "  * month    (month) int64 10 11 12 1 2 3"
      ]
     },
     "execution_count": 86,
     "metadata": {},
     "output_type": "execute_result"
    }
   ],
   "source": [
    "data_90_nino_count "
   ]
  },
  {
   "cell_type": "code",
   "execution_count": 105,
   "metadata": {
    "hidden": true
   },
   "outputs": [
    {
     "data": {
      "text/plain": [
       "<xarray.Dataset>\n",
       "Dimensions:  (lat: 53, lon: 178, year: 44)\n",
       "Coordinates:\n",
       "  * year     (year) int64 1974 1975 1976 1977 1978 ... 2013 2014 2015 2016 2017\n",
       "  * lon      (lon) float64 112.0 112.2 112.5 112.8 ... 155.5 155.8 156.0 156.2\n",
       "  * lat      (lat) float64 -23.0 -22.75 -22.5 -22.25 ... -10.5 -10.25 -10.0\n",
       "Data variables:\n",
       "    precip   (year, lat, lon) float64 dask.array<shape=(44, 53, 178), chunksize=(1, 50, 50)>"
      ]
     },
     "execution_count": 105,
     "metadata": {},
     "output_type": "execute_result"
    }
   ],
   "source": [
    "test = data_90_nino_count.sel(mjo = 'enhanced', nino = 'la nina', month = 1)\n",
    "\n",
    "test2 = test.to_dataset(name = 'precip')\n",
    "\n",
    "test2  =test2.drop('month').drop('nino').drop('mjo')\n",
    "\n",
    "test2"
   ]
  },
  {
   "cell_type": "code",
   "execution_count": 92,
   "metadata": {
    "hidden": true
   },
   "outputs": [],
   "source": [
    "npt = test2.precip.values"
   ]
  },
  {
   "cell_type": "code",
   "execution_count": 93,
   "metadata": {
    "hidden": true
   },
   "outputs": [
    {
     "data": {
      "text/plain": [
       "(44, 53, 178)"
      ]
     },
     "execution_count": 93,
     "metadata": {},
     "output_type": "execute_result"
    }
   ],
   "source": [
    "npt.shape"
   ]
  },
  {
   "cell_type": "markdown",
   "metadata": {
    "hidden": true
   },
   "source": [
    "Summing"
   ]
  },
  {
   "cell_type": "code",
   "execution_count": 94,
   "metadata": {
    "hidden": true
   },
   "outputs": [],
   "source": [
    "npt_sum = np.sum(npt, 0)"
   ]
  },
  {
   "cell_type": "code",
   "execution_count": 95,
   "metadata": {
    "hidden": true
   },
   "outputs": [
    {
     "data": {
      "text/plain": [
       "array([[nan, nan, nan, ..., nan, nan, nan],\n",
       "       [nan, nan, nan, ..., nan, nan, nan],\n",
       "       [nan, nan, nan, ..., nan, nan, nan],\n",
       "       ...,\n",
       "       [nan, nan, nan, ..., nan, nan, nan],\n",
       "       [nan, nan, nan, ..., nan, nan, nan],\n",
       "       [nan, nan, nan, ..., nan, nan, nan]])"
      ]
     },
     "execution_count": 95,
     "metadata": {},
     "output_type": "execute_result"
    }
   ],
   "source": [
    "npt_sum"
   ]
  },
  {
   "cell_type": "code",
   "execution_count": 108,
   "metadata": {
    "hidden": true
   },
   "outputs": [
    {
     "data": {
      "text/plain": [
       "<matplotlib.collections.QuadMesh at 0x7fdbf5e97d30>"
      ]
     },
     "execution_count": 108,
     "metadata": {},
     "output_type": "execute_result"
    },
    {
     "data": {
      "image/png": "[encoded data removed]",
      "text/plain": [
       "<Figure size 432x288 with 2 Axes>"
      ]
     },
     "metadata": {
      "needs_background": "light"
     },
     "output_type": "display_data"
    }
   ],
   "source": [
    "test2.precip.sum(dim = 'year').plot()"
   ]
  },
  {
   "cell_type": "markdown",
   "metadata": {
    "hidden": true
   },
   "source": [
    "Into XR"
   ]
  },
  {
   "cell_type": "code",
   "execution_count": 111,
   "metadata": {
    "hidden": true
   },
   "outputs": [
    {
     "data": {
      "text/plain": [
       "<matplotlib.collections.QuadMesh at 0x7fdbdfb956a0>"
      ]
     },
     "execution_count": 111,
     "metadata": {},
     "output_type": "execute_result"
    },
    {
     "data": {
      "image/png": "[encoded data removed]",
      "text/plain": [
       "<Figure size 432x288 with 1 Axes>"
      ]
     },
     "metadata": {
      "needs_background": "light"
     },
     "output_type": "display_data"
    }
   ],
   "source": [
    "plt.pcolormesh(npt_sum)"
   ]
  },
  {
   "cell_type": "code",
   "execution_count": 106,
   "metadata": {
    "hidden": true
   },
   "outputs": [
    {
     "data": {
      "text/plain": [
       "(53, 178)"
      ]
     },
     "execution_count": 106,
     "metadata": {},
     "output_type": "execute_result"
    }
   ],
   "source": [
    "npt_sum.shape"
   ]
  },
  {
   "cell_type": "code",
   "execution_count": 96,
   "metadata": {
    "code_folding": [
     0
    ],
    "hidden": true
   },
   "outputs": [],
   "source": [
    "t2 = xr.Dataset(\n",
    "                {'count':(('lat','lon'), npt_sum)},\n",
    "        \n",
    "               {'lat':test.lat.values,\n",
    "                'lon':test.lon.values}\n",
    ")"
   ]
  },
  {
   "cell_type": "code",
   "execution_count": 97,
   "metadata": {
    "hidden": true
   },
   "outputs": [
    {
     "data": {
      "text/plain": [
       "<xarray.Dataset>\n",
       "Dimensions:  (lat: 53, lon: 178)\n",
       "Coordinates:\n",
       "  * lat      (lat) float64 -23.0 -22.75 -22.5 -22.25 ... -10.5 -10.25 -10.0\n",
       "  * lon      (lon) float64 112.0 112.2 112.5 112.8 ... 155.5 155.8 156.0 156.2\n",
       "Data variables:\n",
       "    count    (lat, lon) float64 nan nan nan nan nan nan ... nan nan nan nan nan"
      ]
     },
     "execution_count": 97,
     "metadata": {},
     "output_type": "execute_result"
    }
   ],
   "source": [
    "t2"
   ]
  },
  {
   "cell_type": "code",
   "execution_count": 98,
   "metadata": {
    "hidden": true
   },
   "outputs": [
    {
     "data": {
      "text/plain": [
       "<bound method ImplementsDatasetReduce._reduce_method.<locals>.wrapped_func of <xarray.Dataset>\n",
       "Dimensions:  (lat: 53, lon: 178)\n",
       "Coordinates:\n",
       "  * lat      (lat) float64 -23.0 -22.75 -22.5 -22.25 ... -10.5 -10.25 -10.0\n",
       "  * lon      (lon) float64 112.0 112.2 112.5 112.8 ... 155.5 155.8 156.0 156.2\n",
       "Data variables:\n",
       "    count    (lat, lon) float64 nan nan nan nan nan nan ... nan nan nan nan nan>"
      ]
     },
     "execution_count": 98,
     "metadata": {},
     "output_type": "execute_result"
    }
   ],
   "source": [
    "t2.count"
   ]
  },
  {
   "cell_type": "markdown",
   "metadata": {
    "hidden": true
   },
   "source": [
    "Method 2\n",
    "<br> <br> <br> <br>\n",
    "\n"
   ]
  },
  {
   "cell_type": "code",
   "execution_count": 100,
   "metadata": {
    "hidden": true
   },
   "outputs": [
    {
     "data": {
      "text/plain": [
       "(44, 53, 178)"
      ]
     },
     "execution_count": 100,
     "metadata": {},
     "output_type": "execute_result"
    }
   ],
   "source": [
    "npt.shape"
   ]
  },
  {
   "cell_type": "code",
   "execution_count": 101,
   "metadata": {
    "hidden": true
   },
   "outputs": [],
   "source": [
    "def sum_axis(data):\n",
    "    summed = np.sum(data)\n",
    "    \n",
    "    return summed\n"
   ]
  },
  {
   "cell_type": "code",
   "execution_count": 102,
   "metadata": {
    "hidden": true
   },
   "outputs": [],
   "source": [
    "t2_meta = np.apply_along_axis(sum_axis, 0, npt)"
   ]
  },
  {
   "cell_type": "code",
   "execution_count": 103,
   "metadata": {
    "hidden": true
   },
   "outputs": [
    {
     "data": {
      "text/plain": [
       "(53, 178)"
      ]
     },
     "execution_count": 103,
     "metadata": {},
     "output_type": "execute_result"
    }
   ],
   "source": [
    "t2_meta.shape"
   ]
  },
  {
   "cell_type": "code",
   "execution_count": 104,
   "metadata": {
    "hidden": true
   },
   "outputs": [
    {
     "data": {
      "text/plain": [
       "array([[nan, nan, nan, ..., nan, nan, nan],\n",
       "       [nan, nan, nan, ..., nan, nan, nan],\n",
       "       [nan, nan, nan, ..., nan, nan, nan],\n",
       "       ...,\n",
       "       [nan, nan, nan, ..., nan, nan, nan],\n",
       "       [nan, nan, nan, ..., nan, nan, nan],\n",
       "       [nan, nan, nan, ..., nan, nan, nan]])"
      ]
     },
     "execution_count": 104,
     "metadata": {},
     "output_type": "execute_result"
    }
   ],
   "source": [
    "t2_meta"
   ]
  },
  {
   "cell_type": "code",
   "execution_count": 123,
   "metadata": {
    "hidden": true
   },
   "outputs": [],
   "source": [
    "t2 = xr.Dataset(\n",
    "                {'count':(('lat','lon'), t2_meta)},\n",
    "        \n",
    "               {'lat':test.lat.values,\n",
    "                'lon':test.lon.values}\n",
    ")"
   ]
  },
  {
   "cell_type": "code",
   "execution_count": 193,
   "metadata": {
    "hidden": true
   },
   "outputs": [
    {
     "data": {
      "text/plain": [
       "<xarray.Dataset>\n",
       "Dimensions:  (lat: 53, lon: 178)\n",
       "Coordinates:\n",
       "  * lat      (lat) float64 -23.0 -22.75 -22.5 -22.25 -22.0 -21.75 -21.5 ...\n",
       "  * lon      (lon) float64 112.0 112.2 112.5 112.8 113.0 113.2 113.5 113.8 ...\n",
       "Data variables:\n",
       "    count    (lat, lon) float64 nan nan nan nan nan nan nan nan nan nan nan ..."
      ]
     },
     "execution_count": 193,
     "metadata": {},
     "output_type": "execute_result"
    }
   ],
   "source": [
    "t2"
   ]
  },
  {
   "cell_type": "code",
   "execution_count": 198,
   "metadata": {
    "hidden": true
   },
   "outputs": [
    {
     "data": {
      "text/plain": [
       "<bound method Mapping.values of <xarray.Dataset>\n",
       "Dimensions:  (lat: 53, lon: 178)\n",
       "Coordinates:\n",
       "  * lat      (lat) float64 -23.0 -22.75 -22.5 -22.25 -22.0 -21.75 -21.5 ...\n",
       "  * lon      (lon) float64 112.0 112.2 112.5 112.8 113.0 113.2 113.5 113.8 ...\n",
       "Data variables:\n",
       "    count    (lat, lon) float64 nan nan nan nan nan nan nan nan nan nan nan ...>"
      ]
     },
     "execution_count": 198,
     "metadata": {},
     "output_type": "execute_result"
    }
   ],
   "source": [
    "t2.values"
   ]
  },
  {
   "cell_type": "code",
   "execution_count": 192,
   "metadata": {
    "hidden": true
   },
   "outputs": [
    {
     "ename": "AttributeError",
     "evalue": "'function' object has no attribute 'plot'",
     "output_type": "error",
     "traceback": [
      "\u001b[0;31m---------------------------------------------------------------------------\u001b[0m",
      "\u001b[0;31mAttributeError\u001b[0m                            Traceback (most recent call last)",
      "\u001b[0;32m<ipython-input-192-21f2586b805a>\u001b[0m in \u001b[0;36m<module>\u001b[0;34m()\u001b[0m\n\u001b[0;32m----> 1\u001b[0;31m \u001b[0mt2\u001b[0m\u001b[0;34m.\u001b[0m\u001b[0mcount\u001b[0m\u001b[0;34m.\u001b[0m\u001b[0mplot\u001b[0m\u001b[0;34m(\u001b[0m\u001b[0;34m)\u001b[0m\u001b[0;34m\u001b[0m\u001b[0m\n\u001b[0m",
      "\u001b[0;31mAttributeError\u001b[0m: 'function' object has no attribute 'plot'"
     ]
    }
   ],
   "source": [
    "t2.count.plot()"
   ]
  },
  {
   "cell_type": "code",
   "execution_count": null,
   "metadata": {
    "hidden": true
   },
   "outputs": [],
   "source": []
  }
 ],
 "metadata": {
  "kernelspec": {
   "display_name": "Python 3",
   "language": "python",
   "name": "python3"
  },
  "language_info": {
   "codemirror_mode": {
    "name": "ipython",
    "version": 3
   },
   "file_extension": ".py",
   "mimetype": "text/x-python",
   "name": "python",
   "nbconvert_exporter": "python",
   "pygments_lexer": "ipython3",
   "version": "3.6.7"
  },
  "latex_envs": {
   "LaTeX_envs_menu_present": true,
   "autoclose": false,
   "autocomplete": true,
   "bibliofile": "biblio.bib",
   "cite_by": "apalike",
   "current_citInitial": 1,
   "eqLabelWithNumbers": true,
   "eqNumInitial": 1,
   "hotkeys": {
    "equation": "Ctrl-E",
    "itemize": "Ctrl-I"
   },
   "labels_anchors": false,
   "latex_user_defs": false,
   "report_style_numbering": false,
   "user_envs_cfg": false
  },
  "toc": {
   "base_numbering": 1,
   "nav_menu": {},
   "number_sections": true,
   "sideBar": true,
   "skip_h1_title": false,
   "title_cell": "Table of Contents",
   "title_sidebar": "Contents",
   "toc_cell": true,
   "toc_position": {
    "height": "calc(100% - 180px)",
    "left": "10px",
    "top": "150px",
    "width": "384px"
   },
   "toc_section_display": true,
   "toc_window_display": true
  }
 },
 "nbformat": 4,
 "nbformat_minor": 2
}
