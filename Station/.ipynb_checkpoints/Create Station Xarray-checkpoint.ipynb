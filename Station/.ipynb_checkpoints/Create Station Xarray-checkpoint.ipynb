{
 "cells": [
  {
   "cell_type": "markdown",
   "metadata": {
    "toc": true
   },
   "source": [
    "<h1>Table of Contents<span class=\"tocSkip\"></span></h1>\n",
    "<div class=\"toc\"><ul class=\"toc-item\"><li><span><a href=\"#Preamble\" data-toc-modified-id=\"Preamble-1\"><span class=\"toc-item-num\">1&nbsp;&nbsp;</span>Preamble</a></span></li><li><span><a href=\"#DF\" data-toc-modified-id=\"DF-2\"><span class=\"toc-item-num\">2&nbsp;&nbsp;</span>DF</a></span><ul class=\"toc-item\"><li><span><a href=\"#Available-Data-Test\" data-toc-modified-id=\"Available-Data-Test-2.1\"><span class=\"toc-item-num\">2.1&nbsp;&nbsp;</span>Available Data Test</a></span></li></ul></li><li><span><a href=\"#Xarray\" data-toc-modified-id=\"Xarray-3\"><span class=\"toc-item-num\">3&nbsp;&nbsp;</span>Xarray</a></span><ul class=\"toc-item\"><li><span><a href=\"#Full-XR\" data-toc-modified-id=\"Full-XR-3.1\"><span class=\"toc-item-num\">3.1&nbsp;&nbsp;</span>Full XR</a></span></li><li><span><a href=\"#Sub-XR\" data-toc-modified-id=\"Sub-XR-3.2\"><span class=\"toc-item-num\">3.2&nbsp;&nbsp;</span>Sub XR</a></span></li></ul></li></ul></div>"
   ]
  },
  {
   "cell_type": "markdown",
   "metadata": {},
   "source": [
    "# Preamble"
   ]
  },
  {
   "cell_type": "code",
   "execution_count": 1,
   "metadata": {},
   "outputs": [],
   "source": [
    "import xarray as xr\n",
    "import numpy as np\n",
    "import pickle\n",
    "import pandas as pd\n",
    "import matplotlib.pyplot as plt\n",
    "import cartopy.crs as ccrs\n",
    "from dask.diagnostics import ProgressBar\n",
    "import matplotlib.colors as colors\n",
    "import datetime as dt\n",
    "import datetime as dt"
   ]
  },
  {
   "cell_type": "code",
   "execution_count": 3,
   "metadata": {},
   "outputs": [],
   "source": [
    "path_2 = '/home/student.unimelb.edu.au/aborowiak/Desktop/Code/Scripts/MJO/Station/Pre xr/MJO_df.pickle'\n",
    "pickle_in_2 = open(path_2, 'rb')\n",
    "MJO_df = pickle.load(pickle_in_2)"
   ]
  },
  {
   "cell_type": "code",
   "execution_count": 5,
   "metadata": {},
   "outputs": [],
   "source": [
    "path = '/home/student.unimelb.edu.au/aborowiak/Desktop/Code/Scripts/station_analysis/daily_rainfall_dict.pickle'\n",
    "pickle_in = open(path,'rb')\n",
    "daily_rainfall_dict = pickle.load(pickle_in)"
   ]
  },
  {
   "cell_type": "code",
   "execution_count": 6,
   "metadata": {},
   "outputs": [],
   "source": [
    "path = '/home/student.unimelb.edu.au/aborowiak/Desktop/Code/Scripts/MJO/RMM.pickle'\n",
    "pickle_in = open(path, 'rb')\n",
    "RMM = pickle.load(pickle_in)\n",
    "\n",
    "RMM = RMM.reset_index()\n",
    "RMM = RMM.rename({'Date':'time'}, axis = 1)\n",
    "RMM = RMM.set_index(['time'])"
   ]
  },
  {
   "cell_type": "markdown",
   "metadata": {},
   "source": [
    "# DF"
   ]
  },
  {
   "cell_type": "code",
   "execution_count": 94,
   "metadata": {},
   "outputs": [],
   "source": [
    "station_df = pd.concat(daily_rainfall_dict, axis=1)[MJO_df.index.values]"
   ]
  },
  {
   "cell_type": "code",
   "execution_count": 96,
   "metadata": {},
   "outputs": [],
   "source": [
    "# ONly want values less than 1\n",
    "station_df[station_df < 1] = np.nan\n",
    "\n",
    "station_df = station_df[station_df.index.month.isin([10,11,12,1,2,3])]"
   ]
  },
  {
   "cell_type": "code",
   "execution_count": 101,
   "metadata": {},
   "outputs": [],
   "source": [
    "station_df.columns = MJO_df.index"
   ]
  },
  {
   "cell_type": "code",
   "execution_count": 102,
   "metadata": {},
   "outputs": [
    {
     "data": {
      "text/html": [
       "<div>\n",
       "<style scoped>\n",
       "    .dataframe tbody tr th:only-of-type {\n",
       "        vertical-align: middle;\n",
       "    }\n",
       "\n",
       "    .dataframe tbody tr th {\n",
       "        vertical-align: top;\n",
       "    }\n",
       "\n",
       "    .dataframe thead th {\n",
       "        text-align: right;\n",
       "    }\n",
       "</style>\n",
       "<table border=\"1\" class=\"dataframe\">\n",
       "  <thead>\n",
       "    <tr style=\"text-align: right;\">\n",
       "      <th>Station Number</th>\n",
       "      <th>5004</th>\n",
       "      <th>5008</th>\n",
       "      <th>5014</th>\n",
       "      <th>4006</th>\n",
       "      <th>3028</th>\n",
       "      <th>3030</th>\n",
       "      <th>3024</th>\n",
       "      <th>3017</th>\n",
       "      <th>3027</th>\n",
       "      <th>2009</th>\n",
       "      <th>...</th>\n",
       "      <th>29048</th>\n",
       "      <th>37001</th>\n",
       "      <th>37049</th>\n",
       "      <th>36028</th>\n",
       "      <th>28004</th>\n",
       "      <th>31055</th>\n",
       "      <th>31011</th>\n",
       "      <th>32040</th>\n",
       "      <th>33073</th>\n",
       "      <th>39049</th>\n",
       "    </tr>\n",
       "    <tr>\n",
       "      <th>Date</th>\n",
       "      <th></th>\n",
       "      <th></th>\n",
       "      <th></th>\n",
       "      <th></th>\n",
       "      <th></th>\n",
       "      <th></th>\n",
       "      <th></th>\n",
       "      <th></th>\n",
       "      <th></th>\n",
       "      <th></th>\n",
       "      <th></th>\n",
       "      <th></th>\n",
       "      <th></th>\n",
       "      <th></th>\n",
       "      <th></th>\n",
       "      <th></th>\n",
       "      <th></th>\n",
       "      <th></th>\n",
       "      <th></th>\n",
       "      <th></th>\n",
       "      <th></th>\n",
       "    </tr>\n",
       "  </thead>\n",
       "  <tbody>\n",
       "    <tr>\n",
       "      <th>1873-01-01</th>\n",
       "      <td>NaN</td>\n",
       "      <td>NaN</td>\n",
       "      <td>NaN</td>\n",
       "      <td>NaN</td>\n",
       "      <td>NaN</td>\n",
       "      <td>NaN</td>\n",
       "      <td>NaN</td>\n",
       "      <td>NaN</td>\n",
       "      <td>NaN</td>\n",
       "      <td>NaN</td>\n",
       "      <td>...</td>\n",
       "      <td>NaN</td>\n",
       "      <td>NaN</td>\n",
       "      <td>NaN</td>\n",
       "      <td>NaN</td>\n",
       "      <td>NaN</td>\n",
       "      <td>NaN</td>\n",
       "      <td>NaN</td>\n",
       "      <td>NaN</td>\n",
       "      <td>NaN</td>\n",
       "      <td>NaN</td>\n",
       "    </tr>\n",
       "    <tr>\n",
       "      <th>1873-01-02</th>\n",
       "      <td>NaN</td>\n",
       "      <td>NaN</td>\n",
       "      <td>NaN</td>\n",
       "      <td>NaN</td>\n",
       "      <td>NaN</td>\n",
       "      <td>NaN</td>\n",
       "      <td>NaN</td>\n",
       "      <td>NaN</td>\n",
       "      <td>NaN</td>\n",
       "      <td>NaN</td>\n",
       "      <td>...</td>\n",
       "      <td>NaN</td>\n",
       "      <td>NaN</td>\n",
       "      <td>NaN</td>\n",
       "      <td>NaN</td>\n",
       "      <td>NaN</td>\n",
       "      <td>NaN</td>\n",
       "      <td>NaN</td>\n",
       "      <td>NaN</td>\n",
       "      <td>NaN</td>\n",
       "      <td>NaN</td>\n",
       "    </tr>\n",
       "  </tbody>\n",
       "</table>\n",
       "<p>2 rows × 32 columns</p>\n",
       "</div>"
      ],
      "text/plain": [
       "Station Number  5004  5008  5014  4006  3028  3030  3024  3017  3027  2009  \\\n",
       "Date                                                                         \n",
       "1873-01-01       NaN   NaN   NaN   NaN   NaN   NaN   NaN   NaN   NaN   NaN   \n",
       "1873-01-02       NaN   NaN   NaN   NaN   NaN   NaN   NaN   NaN   NaN   NaN   \n",
       "\n",
       "Station Number  ...    29048  37001  37049  36028  28004  31055  31011  32040  \\\n",
       "Date            ...                                                             \n",
       "1873-01-01      ...      NaN    NaN    NaN    NaN    NaN    NaN    NaN    NaN   \n",
       "1873-01-02      ...      NaN    NaN    NaN    NaN    NaN    NaN    NaN    NaN   \n",
       "\n",
       "Station Number  33073  39049  \n",
       "Date                          \n",
       "1873-01-01        NaN    NaN  \n",
       "1873-01-02        NaN    NaN  \n",
       "\n",
       "[2 rows x 32 columns]"
      ]
     },
     "execution_count": 102,
     "metadata": {},
     "output_type": "execute_result"
    }
   ],
   "source": [
    "station_df.head(2)"
   ]
  },
  {
   "cell_type": "code",
   "execution_count": 107,
   "metadata": {},
   "outputs": [
    {
     "name": "stderr",
     "output_type": "stream",
     "text": [
      "/home/student.unimelb.edu.au/aborowiak/anaconda3/lib/python3.6/site-packages/pandas/core/generic.py:7620: SettingWithCopyWarning: \n",
      "A value is trying to be set on a copy of a slice from a DataFrame\n",
      "\n",
      "See the caveats in the documentation: http://pandas.pydata.org/pandas-docs/stable/indexing.html#indexing-view-versus-copy\n",
      "  self._update_inplace(new_data)\n",
      "/home/student.unimelb.edu.au/aborowiak/anaconda3/lib/python3.6/site-packages/IPython/core/interactiveshell.py:2963: SettingWithCopyWarning: \n",
      "A value is trying to be set on a copy of a slice from a DataFrame\n",
      "\n",
      "See the caveats in the documentation: http://pandas.pydata.org/pandas-docs/stable/indexing.html#indexing-view-versus-copy\n",
      "  exec(code_obj, self.user_global_ns, self.user_ns)\n",
      "/home/student.unimelb.edu.au/aborowiak/anaconda3/lib/python3.6/site-packages/ipykernel_launcher.py:10: SettingWithCopyWarning: \n",
      "A value is trying to be set on a copy of a slice from a DataFrame.\n",
      "Try using .loc[row_indexer,col_indexer] = value instead\n",
      "\n",
      "See the caveats in the documentation: http://pandas.pydata.org/pandas-docs/stable/indexing.html#indexing-view-versus-copy\n",
      "  # Remove the CWD from sys.path while we load stuff.\n"
     ]
    }
   ],
   "source": [
    "stations = MJO_df.index\n",
    "data = station_df\n",
    "\n",
    "\n",
    "for station in stations:\n",
    "    bad_years = MJO_df['Bad Wet Seasons'][station]\n",
    "    data_sub = data[station]\n",
    "    data_sub[data_sub.index.year.isin(bad_years)] = np.nan\n",
    "    \n",
    "    data[station] = data_sub.values\n",
    "    \n",
    "    \n",
    "\n",
    "\n"
   ]
  },
  {
   "cell_type": "code",
   "execution_count": 110,
   "metadata": {},
   "outputs": [],
   "source": [
    "station_df = data"
   ]
  },
  {
   "cell_type": "markdown",
   "metadata": {},
   "source": [
    "## Available Data Test"
   ]
  },
  {
   "cell_type": "code",
   "execution_count": 9,
   "metadata": {},
   "outputs": [],
   "source": [
    "years = np.arange(1974,2011)\n",
    "for station in MJO_df.index:\n",
    " \n",
    "    bad_years = MJO_df.loc[station]['Bad Wet Seasons']\n",
    "    good  = years[~np.isin(years, bad_years)]\n",
    "    \n",
    "    "
   ]
  },
  {
   "cell_type": "markdown",
   "metadata": {},
   "source": [
    "# Xarray"
   ]
  },
  {
   "cell_type": "markdown",
   "metadata": {},
   "source": [
    "## Full XR"
   ]
  },
  {
   "cell_type": "code",
   "execution_count": 111,
   "metadata": {},
   "outputs": [],
   "source": [
    "station_xr = xr.Dataset({'precip': (( 'time','location'), station_df.values),\n",
    "                        'station_name': (('location'), np.array(MJO_df.Name)),\n",
    "                        'lat':(('location'), np.array(MJO_df.Lat).astype(float)),\n",
    "                        'lon':(('location'), np.array(MJO_df.Lon).astype(float))},\n",
    "                       {'time':np.array(station_df.index), 'location':  np.array(MJO_df.index)})\n"
   ]
  },
  {
   "cell_type": "code",
   "execution_count": 113,
   "metadata": {},
   "outputs": [],
   "source": [
    "station_xr.to_netcdf('station_xr.nc')"
   ]
  },
  {
   "cell_type": "markdown",
   "metadata": {
    "heading_collapsed": true
   },
   "source": [
    "## Sub XR"
   ]
  },
  {
   "cell_type": "code",
   "execution_count": 13,
   "metadata": {
    "hidden": true
   },
   "outputs": [],
   "source": [
    "station_rain = xr.Dataset({'precip': (( 'time','location'), station_df.values)},\n",
    "                       {'time':np.array(station_df.index), 'location':  np.array(MJO_df.index)})"
   ]
  },
  {
   "cell_type": "code",
   "execution_count": 18,
   "metadata": {
    "hidden": true
   },
   "outputs": [
    {
     "data": {
      "text/plain": [
       "<xarray.Dataset>\n",
       "Dimensions:   (location: 32, time: 26596)\n",
       "Coordinates:\n",
       "  * time      (time) datetime64[ns] 1873-01-01 1873-01-02 1873-01-03 ...\n",
       "  * location  (location) object '5004' '5008' '5014' '4006' '3028' '3030' ...\n",
       "Data variables:\n",
       "    precip    (time, location) float64 nan nan nan nan nan nan nan nan nan ..."
      ]
     },
     "execution_count": 18,
     "metadata": {},
     "output_type": "execute_result"
    }
   ],
   "source": [
    " station_rain"
   ]
  },
  {
   "cell_type": "code",
   "execution_count": 15,
   "metadata": {
    "hidden": true
   },
   "outputs": [],
   "source": [
    "stations = MJO_df.index\n",
    "\n",
    "for station in stations:\n",
    "    bad_years = MJO_df['Bad Wet Seasons']\n",
    "    location = station_rain.sel(location  = station)\n",
    "    location['precip'] = location.where(~location.time.dt.year.isin(bad_years)).values\n",
    "    \n",
    "\n",
    "station_rain = station_rain.where(station_xr.precip >= 1)\n",
    "station_rain = station_rain.where(station_rain.time.dt.month.isin([10,11,12,1,2,3]), drop = True)"
   ]
  },
  {
   "cell_type": "code",
   "execution_count": 71,
   "metadata": {
    "hidden": true
   },
   "outputs": [
    {
     "data": {
      "text/plain": [
       "[<matplotlib.lines.Line2D at 0x7fb4c03acbe0>]"
      ]
     },
     "execution_count": 71,
     "metadata": {},
     "output_type": "execute_result"
    },
    {
     "data": {
      "image/png": "[encoded data removed]",
      "text/plain": [
       "<Figure size 432x288 with 1 Axes>"
      ]
     },
     "metadata": {},
     "output_type": "display_data"
    }
   ],
   "source": [
    "station_rain.sel(location = '5004').precip.plot()"
   ]
  },
  {
   "cell_type": "code",
   "execution_count": 106,
   "metadata": {
    "hidden": true
   },
   "outputs": [],
   "source": [
    "station_rain.to_netcdf('mjo_xr_rain2.nc')"
   ]
  }
 ],
 "metadata": {
  "kernelspec": {
   "display_name": "Python 3",
   "language": "python",
   "name": "python3"
  },
  "language_info": {
   "codemirror_mode": {
    "name": "ipython",
    "version": 3
   },
   "file_extension": ".py",
   "mimetype": "text/x-python",
   "name": "python",
   "nbconvert_exporter": "python",
   "pygments_lexer": "ipython3",
   "version": "3.6.5"
  },
  "latex_envs": {
   "LaTeX_envs_menu_present": true,
   "autoclose": false,
   "autocomplete": true,
   "bibliofile": "biblio.bib",
   "cite_by": "apalike",
   "current_citInitial": 1,
   "eqLabelWithNumbers": true,
   "eqNumInitial": 1,
   "hotkeys": {
    "equation": "Ctrl-E",
    "itemize": "Ctrl-I"
   },
   "labels_anchors": false,
   "latex_user_defs": false,
   "report_style_numbering": false,
   "user_envs_cfg": false
  },
  "toc": {
   "base_numbering": 1,
   "nav_menu": {},
   "number_sections": true,
   "sideBar": true,
   "skip_h1_title": false,
   "title_cell": "Table of Contents",
   "title_sidebar": "Contents",
   "toc_cell": true,
   "toc_position": {
    "height": "calc(100% - 180px)",
    "left": "10px",
    "top": "150px",
    "width": "384px"
   },
   "toc_section_display": true,
   "toc_window_display": true
  }
 },
 "nbformat": 4,
 "nbformat_minor": 2
}
