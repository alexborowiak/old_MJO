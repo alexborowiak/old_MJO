{
 "cells": [
  {
   "cell_type": "markdown",
   "metadata": {
    "toc": true
   },
   "source": [
    "<h1>Table of Contents<span class=\"tocSkip\"></span></h1>\n",
    "<div class=\"toc\"><ul class=\"toc-item\"><li><span><a href=\"#Preamble\" data-toc-modified-id=\"Preamble-1\"><span class=\"toc-item-num\">1&nbsp;&nbsp;</span>Preamble</a></span></li><li><span><a href=\"#Calculation\" data-toc-modified-id=\"Calculation-2\"><span class=\"toc-item-num\">2&nbsp;&nbsp;</span>Calculation</a></span><ul class=\"toc-item\"><li><span><a href=\"#All-Months\" data-toc-modified-id=\"All-Months-2.1\"><span class=\"toc-item-num\">2.1&nbsp;&nbsp;</span>All Months</a></span></li></ul></li><li><span><a href=\"#Plotting\" data-toc-modified-id=\"Plotting-3\"><span class=\"toc-item-num\">3&nbsp;&nbsp;</span>Plotting</a></span></li><li><span><a href=\"#Bootstrap\" data-toc-modified-id=\"Bootstrap-4\"><span class=\"toc-item-num\">4&nbsp;&nbsp;</span>Bootstrap</a></span></li><li><span><a href=\"#Old-Bootstrap\" data-toc-modified-id=\"Old-Bootstrap-5\"><span class=\"toc-item-num\">5&nbsp;&nbsp;</span>Old Bootstrap</a></span><ul class=\"toc-item\"><li><span><a href=\"#Old\" data-toc-modified-id=\"Old-5.1\"><span class=\"toc-item-num\">5.1&nbsp;&nbsp;</span>Old</a></span></li></ul></li></ul></div>"
   ]
  },
  {
   "cell_type": "markdown",
   "metadata": {},
   "source": [
    "# Preamble"
   ]
  },
  {
   "cell_type": "code",
   "execution_count": 1,
   "metadata": {},
   "outputs": [],
   "source": [
    "##############################\n",
    "''' Packages '''\n",
    "%matplotlib inline\n",
    "\n",
    "import xarray as xr\n",
    "import numpy as np\n",
    "import pandas as pd\n",
    "import matplotlib.pyplot as plt\n",
    "# from dask.diagnostics import ProgressBar\n",
    "# ProgressBar().register()\n",
    "import dask.array\n",
    "import cartopy.crs as ccrs\n",
    "import pickle\n",
    "import matplotlib.colors as colors\n",
    "import datetime as dt\n",
    "rb = plt.cm.RdBu\n",
    "bm = plt.cm.Blues"
   ]
  },
  {
   "cell_type": "code",
   "execution_count": 5,
   "metadata": {},
   "outputs": [],
   "source": [
    "path_2 = '/home/student.unimelb.edu.au/aborowiak/Desktop/Code/Scripts/MJO/Station/Pre xr/MJO_df.pickle'\n",
    "pickle_in_2 = open(path_2, 'rb')\n",
    "MJO_df = pickle.load(pickle_in_2)"
   ]
  },
  {
   "cell_type": "code",
   "execution_count": 6,
   "metadata": {},
   "outputs": [],
   "source": [
    "path = '/home/student.unimelb.edu.au/aborowiak/Desktop/Code/Scripts/MJO/RMM.pickle'\n",
    "pickle_in = open(path, 'rb')\n",
    "RMM = pickle.load(pickle_in)\n",
    "\n",
    "RMM = RMM.reset_index()\n",
    "RMM = RMM.rename({'Date':'time'}, axis = 1)\n",
    "RMM = RMM.set_index(['time'])"
   ]
  },
  {
   "cell_type": "code",
   "execution_count": 62,
   "metadata": {},
   "outputs": [],
   "source": [
    "path = '/home/student.unimelb.edu.au/aborowiak/Desktop/Code/Scripts/MJO/Station/station_xr.nc'\n",
    "MJO_station = xr.open_mfdataset(path)\n",
    "station_xr = MJO_station.sel(time = slice(RMM.index[0], '2010'))"
   ]
  },
  {
   "cell_type": "markdown",
   "metadata": {},
   "source": [
    "# Calculation"
   ]
  },
  {
   "cell_type": "markdown",
   "metadata": {},
   "source": [
    "## All Months"
   ]
  },
  {
   "cell_type": "code",
   "execution_count": 88,
   "metadata": {},
   "outputs": [],
   "source": [
    "# Final data set was a little off. This makes it better and adds back in some of the details\n",
    "\n",
    "def correct_dataset(data):\n",
    "    test= xr.Dataset({'frac':(('mjo','month','station number'), data.values[:,:,:,0]),\n",
    "                        'station_name': (('location'), np.array(MJO_df.Name)),\n",
    "                        'lat':(('location'), np.array(MJO_df.Lat).astype(float)),\n",
    "                        'lon':(('location'), np.array(MJO_df.Lon).astype(float))},\n",
    "                       {'mjo': ['enhanced','suppressed','inactive'],'month':[10,11,12,1,2,3],\n",
    "                        'location':  np.array(MJO_df.index)})\n",
    "\n",
    "    return test"
   ]
  },
  {
   "cell_type": "code",
   "execution_count": 89,
   "metadata": {},
   "outputs": [],
   "source": [
    "def calculate_intfrac(data, phase_dates,q, all_stat ):\n",
    "    phase_rinfall = data.where(data.time.isin(phase_dates), drop = True)\n",
    "    \n",
    "    if all_stat:\n",
    "        phase_perc = phase_rinfall.precip.groupby('time.month','location').reduce(np.nanpercentile, q = q, dim = 'time')\n",
    "        \n",
    "    else:\n",
    "        phase_perc = phase_rinfall.precip.groupby('time.month').reduce(np.nanpercentile, q = q, dim = 'time')\n",
    "    return phase_perc "
   ]
  },
  {
   "cell_type": "code",
   "execution_count": 90,
   "metadata": {},
   "outputs": [],
   "source": [
    "def percentile_calculate(data,enhanced_phases, q, all_stat):\n",
    "\n",
    "    ###### Calculating the dates that are in each of the enhaced, suppressed and inactive phases\n",
    "    active_dates = RMM[RMM['Amplitude'] >=1 ]\n",
    "    \n",
    "    # The enhaced is the active amplitude and in the enhanced phases\n",
    "    enhanced_dates = np.array(active_dates[active_dates['Phase'].isin(enhanced_phases)].index)\n",
    "    \n",
    "    suppressed_dates = np.array(active_dates[~active_dates['Phase'].isin(enhanced_phases)].index)\n",
    "    \n",
    "    inactive_dates = np.array(RMM[RMM['Amplitude'] < 1 ].index)\n",
    "    \n",
    "    all_dates = np.array(RMM.index)\n",
    "    \n",
    "    ##### Percentile Calculation\n",
    "    normal_perc = calculate_intfrac(data, all_dates,q , all_stat)\n",
    "    enhanced_perc = calculate_intfrac(data, enhanced_dates,q , all_stat)\n",
    "    suppressed_perc = calculate_intfrac(data, suppressed_dates,q , all_stat)\n",
    "    inactive_perc = calculate_intfrac(data, inactive_dates,q, all_stat )\n",
    "    \n",
    "        \n",
    "    ###### Intensity Frac\n",
    "    enhanced_frac = enhanced_perc/ normal_perc\n",
    "    suppressed_frac = suppressed_perc/ normal_perc\n",
    "    inactive_frac = inactive_perc/ normal_perc\n",
    "    \n",
    "\n",
    "    return enhanced_frac,suppressed_frac,inactive_frac"
   ]
  },
  {
   "cell_type": "code",
   "execution_count": 93,
   "metadata": {},
   "outputs": [],
   "source": [
    "# In this function it goes through all of the different regtins on by one. \n",
    "\n",
    "def station_percentiles(data, q, all_stat):\n",
    "    #### Region 1\n",
    "    data_r1 = data.where(data.lon < 120, drop = True) # The data just for this region\n",
    "    enhanced_phases = [4,5] #The phases that are considered active for this region\n",
    "    enhanced_frac_r1, suppressed_frac_r1, inactive_frac_r1 = percentile_calculate(data_r1,\n",
    "                                                                         enhanced_phases, q, all_stat = all_stat)\n",
    "    #### Region 2\n",
    "    data_r2 = data.where(np.logical_and(data.lon >= 120,data.lon <140), drop = True)\n",
    "    enhanced_phases = [4,5,6]\n",
    "    enhanced_frac_r2, suppressed_frac_r2, inactive_frac_r2 = percentile_calculate(data_r2,\n",
    "                                                                         enhanced_phases, q, all_stat = all_stat)\n",
    "    #### Region 3\n",
    "    data_r3 = data.where(data.lon >= 140, drop = True)\n",
    "\n",
    "    enhanced_phases = [4,5,6,7]\n",
    "    enhanced_frac_r3, suppressed_frac_r3, inactive_frac_r3 = percentile_calculate(data_r3,\n",
    "                                                                         enhanced_phases, q, all_stat = all_stat)\n",
    "    \n",
    "    # Combining all of the enhanced, suppressed and inactive together from all of the different regions\n",
    "    enhanced = (enhanced_frac_r3.combine_first(enhanced_frac_r3)).combine_first(enhanced_frac_r3)\n",
    "    suppressed = (suppressed_frac_r3.combine_first(suppressed_frac_r3)).combine_first(suppressed_frac_r3)\n",
    "    inactive = (inactive_frac_r3.combine_first(inactive_frac_r3)).combine_first(inactive_frac_r3)\n",
    "    \n",
    "    \n",
    "    # Combining all of the different regions together into the one xarray file\n",
    "    station_frac = xr.concat([enhanced, suppressed, inactive], pd.Index(['enhanced', 'suppressed','inactive'],\n",
    "                                                                          name = 'mjo'))\n",
    "    \n",
    "    \n",
    "    # The data set ended up being kind of weird, so this makes it better\n",
    "#     station_frac = correct_dataset(station_frac)\n",
    "    return station_frac, enhanced, enhanced_r3, enhanced_r2\n",
    "    \n",
    "    "
   ]
  },
  {
   "cell_type": "code",
   "execution_count": 105,
   "metadata": {},
   "outputs": [
    {
     "data": {
      "text/plain": [
       "<xarray.Dataset>\n",
       "Dimensions:       (location: 4, time: 6653)\n",
       "Coordinates:\n",
       "  * time          (time) datetime64[ns] 1974-10-01 1974-10-02 1974-10-03 ...\n",
       "  * location      (location) object '5004' '5008' '5014' '4006'\n",
       "Data variables:\n",
       "    precip        (time, location) float64 dask.array<shape=(6653, 4), chunksize=(6653, 4)>\n",
       "    station_name  (location) object dask.array<shape=(4,), chunksize=(4,)>\n",
       "    lat           (location) float64 dask.array<shape=(4,), chunksize=(4,)>\n",
       "    lon           (location) float64 dask.array<shape=(4,), chunksize=(4,)>"
      ]
     },
     "execution_count": 105,
     "metadata": {},
     "output_type": "execute_result"
    }
   ],
   "source": [
    "station_xr.where(station_xr.lon < 120, drop = True)"
   ]
  },
  {
   "cell_type": "code",
   "execution_count": 96,
   "metadata": {},
   "outputs": [
    {
     "name": "stderr",
     "output_type": "stream",
     "text": [
      "/home/student.unimelb.edu.au/aborowiak/anaconda3/lib/python3.6/site-packages/numpy/lib/nanfunctions.py:1172: RuntimeWarning: All-NaN slice encountered\n",
      "  overwrite_input, interpolation)\n"
     ]
    }
   ],
   "source": [
    "data = station_xr\n",
    "q= 90\n",
    "station_frac_90, enhanced, enhanced_r3, enhanced_r2 = station_percentiles(data, q, all_stat = 1)"
   ]
  },
  {
   "cell_type": "code",
   "execution_count": 97,
   "metadata": {},
   "outputs": [
    {
     "data": {
      "text/plain": [
       "<xarray.DataArray 'time' (time: 6653)>\n",
       "array([False, False,  True, ..., False, False, False])\n",
       "Coordinates:\n",
       "  * time     (time) datetime64[ns] 1974-10-01 1974-10-02 1974-10-03 ..."
      ]
     },
     "execution_count": 97,
     "metadata": {},
     "output_type": "execute_result"
    }
   ],
   "source": [
    "enhanced_r3"
   ]
  },
  {
   "cell_type": "code",
   "execution_count": 86,
   "metadata": {},
   "outputs": [
    {
     "data": {
      "text/plain": [
       "<xarray.DataArray 'precip' (month: 6, location: 10)>\n",
       "array([[0.936073, 0.910273, 1.012018, 1.      , 1.092344, 1.043995, 1.041954,\n",
       "        1.4254  , 1.134522, 0.909091],\n",
       "       [0.889083, 1.176496, 0.860426, 0.979773, 1.1     , 1.018049, 1.184061,\n",
       "        1.064486, 1.095082, 1.183062],\n",
       "       [0.986223, 1.055634, 0.831422, 0.738583, 1.242443, 1.145643, 1.044626,\n",
       "        1.575726, 1.172442, 0.973316],\n",
       "       [0.717509, 1.089572, 1.791155, 0.766972, 0.562852, 0.790493, 0.856833,\n",
       "        0.763393, 0.945763, 0.989288],\n",
       "       [1.372079, 1.103171, 1.111644, 0.689441, 1.277847, 0.969205, 0.786861,\n",
       "        0.835801, 1.002632, 0.920916],\n",
       "       [0.9775  , 1.      , 1.121414, 0.672393, 0.977049, 1.012356, 0.970116,\n",
       "        1.008029, 0.957746, 0.92604 ]])\n",
       "Coordinates:\n",
       "  * location  (location) object '29048' '37001' '37049' '36028' '28004' ...\n",
       "  * month     (month) int64 1 2 3 10 11 12"
      ]
     },
     "execution_count": 86,
     "metadata": {},
     "output_type": "execute_result"
    }
   ],
   "source": [
    "enhanced"
   ]
  },
  {
   "cell_type": "code",
   "execution_count": 40,
   "metadata": {},
   "outputs": [
    {
     "ename": "NameError",
     "evalue": "name 'enhanced_90' is not defined",
     "output_type": "error",
     "traceback": [
      "\u001b[0;31m---------------------------------------------------------------------------\u001b[0m",
      "\u001b[0;31mNameError\u001b[0m                                 Traceback (most recent call last)",
      "\u001b[0;32m<ipython-input-40-29c7075d5db4>\u001b[0m in \u001b[0;36m<module>\u001b[0;34m()\u001b[0m\n\u001b[0;32m----> 1\u001b[0;31m \u001b[0men_90_year_sum\u001b[0m \u001b[0;34m=\u001b[0m \u001b[0meach_year_sum\u001b[0m\u001b[0;34m(\u001b[0m\u001b[0menhanced_90\u001b[0m\u001b[0;34m)\u001b[0m\u001b[0;34m\u001b[0m\u001b[0m\n\u001b[0m\u001b[1;32m      2\u001b[0m \u001b[0msup_90_year_sum\u001b[0m \u001b[0;34m=\u001b[0m \u001b[0meach_year_sum\u001b[0m\u001b[0;34m(\u001b[0m\u001b[0msuppressed_90\u001b[0m\u001b[0;34m)\u001b[0m\u001b[0;34m\u001b[0m\u001b[0m\n\u001b[1;32m      3\u001b[0m \u001b[0minact_90_year_sum\u001b[0m \u001b[0;34m=\u001b[0m \u001b[0meach_year_sum\u001b[0m\u001b[0;34m(\u001b[0m\u001b[0minactive_90\u001b[0m\u001b[0;34m)\u001b[0m\u001b[0;34m\u001b[0m\u001b[0m\n\u001b[1;32m      4\u001b[0m \u001b[0;34m\u001b[0m\u001b[0m\n\u001b[1;32m      5\u001b[0m year_sum_90 = xr.concat([en_90_year_sum, sup_90_year_sum,inact_90_year_sum],\n",
      "\u001b[0;31mNameError\u001b[0m: name 'enhanced_90' is not defined"
     ]
    }
   ],
   "source": [
    "en_90_year_sum = each_year_sum(enhanced_90)\n",
    "sup_90_year_sum = each_year_sum(suppressed_90)\n",
    "inact_90_year_sum = each_year_sum(inactive_90)\n",
    "\n",
    "year_sum_90 = xr.concat([en_90_year_sum, sup_90_year_sum,inact_90_year_sum],\n",
    "                       pd.Index(['enhanced', 'suppressed','inactive'], name = 'mjo'))"
   ]
  },
  {
   "cell_type": "code",
   "execution_count": null,
   "metadata": {},
   "outputs": [],
   "source": [
    "# In this function it goes through all of the different regtins on by one. \n",
    "\n",
    "def mjo_phase_data(data):\n",
    "    \n",
    "    active_data = \n",
    "    \n",
    "    #### Region 1\n",
    "    data_r1 = data.where(data.lon < 120, drop = True) # The data just for this region\n",
    "    enhanced_phases = [4,5] #The phases that are considered active for this region\n",
    "\n",
    "    \n",
    "    \n",
    "    \n",
    "    \n",
    "    #### Region 2\n",
    "    data_r2 = data.where(np.logical_and(data.lon >= 120,data.lon <140), drop = True)\n",
    "    enhanced_phases = [4,5,6]\n",
    "\n",
    "    #### Region 3\n",
    "    data_r3 = data.where(data.lon >= 140, drop = True)\n",
    "\n",
    "    enhanced_phases = [4,5,6,7]\n",
    "\n",
    "    \n",
    "    # Combining all of the enhanced, suppressed and inactive together from all of the different regions\n",
    "    enhanced = (enhanced_frac_r3.combine_first(enhanced_frac_r3)).combine_first(enhanced_frac_r3)\n",
    "    suppressed = (suppressed_frac_r3.combine_first(suppressed_frac_r3)).combine_first(suppressed_frac_r3)\n",
    "    inactive = (inactive_frac_r3.combine_first(inactive_frac_r3)).combine_first(inactive_frac_r3)\n",
    "    \n",
    "    \n",
    "    \n",
    "    \n",
    "    # The data set ended up being kind of weird, so this makes it better\n",
    "#     station_frac = correct_dataset(station_frac)\n",
    "    return station_frac\n",
    "    \n",
    "    "
   ]
  },
  {
   "cell_type": "code",
   "execution_count": 37,
   "metadata": {},
   "outputs": [],
   "source": [
    "def bootstrap_stations(data, q, loops):\n",
    "    years = np.arange(1974,2011)\n",
    "    \n",
    "    # For loops that goes through all stations\n",
    "    for station in np.array([data.location.values])[0][0:]:\n",
    "        print(station)\n",
    "        # For loop that goes through 1000 times\n",
    "        for i in range(loops):\n",
    "            \n",
    "            # Get the good years for that station\n",
    "            bad_years = MJO_df.loc[station].loc['Bad Wet Seasons']\n",
    "            good_years = years[~np.isin(years,np.array(bad_years))]\n",
    "            \n",
    "            # Random years\n",
    "            random_years = np.random.choice(good_years,\n",
    "                                            size = np.ceil(len(good_years)/2).astype(int), replace = True )\n",
    "            \n",
    "            # Getting the data just from these years\n",
    "            data_sub = data.where(data.time.dt.year.isin(random_years), drop = True)\n",
    "            \n",
    "            # Taking care of the repeated values\n",
    "            data_sub = select_additional(data, data_sub, uniqueValues, occurCount,  number = 1)\n",
    "            \n",
    "            \n",
    "            # Divide up into enhanced, suppressed and inactive\n",
    "            enhanced, suppressed, inactive = mjo_phase_data(data, sub)\n",
    "            \n",
    "            \n",
    "            # Calculate 90th percentile for each phase in each month\n",
    "            # Calculate 90th percentile for each month\n",
    "            # Do the Frac\n",
    "            \n",
    "    "
   ]
  },
  {
   "cell_type": "code",
   "execution_count": 83,
   "metadata": {},
   "outputs": [
    {
     "data": {
      "text/plain": [
       "<xarray.DataArray 'precip' (mjo: 3, month: 6, location: 10)>\n",
       "array([[[0.936073, 0.910273, 1.012018, 1.      , 1.092344, 1.043995,\n",
       "         1.041954, 1.4254  , 1.134522, 0.909091],\n",
       "        [0.889083, 1.176496, 0.860426, 0.979773, 1.1     , 1.018049,\n",
       "         1.184061, 1.064486, 1.095082, 1.183062],\n",
       "        [0.986223, 1.055634, 0.831422, 0.738583, 1.242443, 1.145643,\n",
       "         1.044626, 1.575726, 1.172442, 0.973316],\n",
       "        [0.717509, 1.089572, 1.791155, 0.766972, 0.562852, 0.790493,\n",
       "         0.856833, 0.763393, 0.945763, 0.989288],\n",
       "        [1.372079, 1.103171, 1.111644, 0.689441, 1.277847, 0.969205,\n",
       "         0.786861, 0.835801, 1.002632, 0.920916],\n",
       "        [0.9775  , 1.      , 1.121414, 0.672393, 0.977049, 1.012356,\n",
       "         0.970116, 1.008029, 0.957746, 0.92604 ]],\n",
       "\n",
       "       [[0.878539, 1.287386, 0.839975, 0.975127, 1.037321, 0.674764,\n",
       "         0.814368, 0.905386, 0.71718 , 0.93726 ],\n",
       "        [1.18952 , 0.792735, 0.882128, 0.552541, 0.903061, 0.78511 ,\n",
       "         0.910816, 1.030198, 1.013115, 0.970684],\n",
       "        [1.016627, 0.933099, 1.605505, 0.937795, 0.905079, 0.759293,\n",
       "         0.870522, 1.029024, 0.701048, 0.983377],\n",
       "        [0.290614, 0.688503, 1.046683, 1.137615, 1.011257, 1.286972,\n",
       "         1.103037, 0.626786, 0.518644, 0.575929],\n",
       "        [1.036549, 0.938812, 1.490411, 0.754037, 0.71214 , 0.760358,\n",
       "         1.008759, 1.074697, 0.897895, 1.403226],\n",
       "        [1.133   , 0.763662, 0.993996, 1.      , 1.119126, 0.826587,\n",
       "         0.936664, 0.943431, 1.281288, 0.715973]],\n",
       "\n",
       "       [[1.114155, 1.092328, 0.961417, 0.959898, 0.959809, 1.090418,\n",
       "         1.05    , 0.989811, 1.26013 , 1.021767],\n",
       "        [0.833188, 0.923077, 1.021277, 1.065614, 0.905102, 1.08291 ,\n",
       "         0.943616, 0.963825, 0.829508, 0.918567],\n",
       "        [0.926366, 0.823944, 0.62672 , 1.27874 , 1.07497 , 1.146252,\n",
       "         1.19736 , 0.822164, 1.035052, 0.949256],\n",
       "        [1.141697, 1.074866, 0.773956, 1.012844, 1.285178, 0.931338,\n",
       "         0.983731, 1.630357, 1.00678 , 1.190926],\n",
       "        [0.754943, 0.714605, 0.486301, 1.239752, 0.957447, 1.091825,\n",
       "         1.236496, 0.975774, 0.834211, 0.738814],\n",
       "        [0.906   , 1.014904, 0.929953, 1.073006, 0.974317, 1.146996,\n",
       "         1.151204, 1.075182, 0.889336, 1.424242]]])\n",
       "Coordinates:\n",
       "  * location  (location) object '29048' '37001' '37049' '36028' '28004' ...\n",
       "  * month     (month) int64 1 2 3 10 11 12\n",
       "  * mjo       (mjo) object 'enhanced' 'suppressed' 'inactive'"
      ]
     },
     "execution_count": 83,
     "metadata": {},
     "output_type": "execute_result"
    }
   ],
   "source": [
    "station_frac_90 "
   ]
  },
  {
   "cell_type": "code",
   "execution_count": 18,
   "metadata": {},
   "outputs": [
    {
     "name": "stderr",
     "output_type": "stream",
     "text": [
      "/home/student.unimelb.edu.au/aborowiak/anaconda3/lib/python3.6/site-packages/numpy/lib/nanfunctions.py:1172: RuntimeWarning: All-NaN slice encountered\n",
      "  overwrite_input, interpolation)\n"
     ]
    }
   ],
   "source": [
    "data = station_xr\n",
    "q= 95\n",
    "station_frac_95 = station_percentiles(data, q, all_stat = 1)"
   ]
  },
  {
   "cell_type": "code",
   "execution_count": 23,
   "metadata": {},
   "outputs": [],
   "source": [
    "save = 0\n",
    "if save:\n",
    "    station_frac_90.to_netcdf('station_int_90.nc')\n",
    "    station_frac_90.to_netcdf('station_int_95.nc')"
   ]
  },
  {
   "cell_type": "markdown",
   "metadata": {},
   "source": [
    "# Plotting"
   ]
  },
  {
   "cell_type": "code",
   "execution_count": 80,
   "metadata": {},
   "outputs": [],
   "source": [
    "class MidpointNormalizeLog(colors.LogNorm):\n",
    "    def __init__(self, vmin, vmax, midpoint):\n",
    "        self.midpoint = midpoint\n",
    "        super().__init__(vmin=vmin, vmax=vmax)\n",
    "        \n",
    "    def __call__(self, value, clip=None):\n",
    "        original = super().__call__(value, clip)\n",
    "        procmid = super().__call__(self.midpoint, clip)\n",
    "        \n",
    "        x, y = [0, procmid, 1], [0, 0.5, 1]\n",
    "        return np.ma.masked_array(np.interp(original, x, y), np.isnan(original))"
   ]
  },
  {
   "cell_type": "code",
   "execution_count": 82,
   "metadata": {},
   "outputs": [
    {
     "data": {
      "text/plain": [
       "<xarray.DataArray 'precip' (location: 10)>\n",
       "array([0.936073, 0.910273, 1.012018, 1.      , 1.092344, 1.043995, 1.041954,\n",
       "       1.4254  , 1.134522, 0.909091])\n",
       "Coordinates:\n",
       "  * location  (location) object '29048' '37001' '37049' '36028' '28004' ...\n",
       "    month     int64 1\n",
       "    mjo       <U8 'enhanced'"
      ]
     },
     "execution_count": 82,
     "metadata": {},
     "output_type": "execute_result"
    }
   ],
   "source": [
    "data"
   ]
  },
  {
   "cell_type": "code",
   "execution_count": 81,
   "metadata": {},
   "outputs": [
    {
     "ename": "AttributeError",
     "evalue": "'DataArray' object has no attribute 'lon'",
     "output_type": "error",
     "traceback": [
      "\u001b[0;31m---------------------------------------------------------------------------\u001b[0m",
      "\u001b[0;31mAttributeError\u001b[0m                            Traceback (most recent call last)",
      "\u001b[0;32m<ipython-input-81-3d57bc48928a>\u001b[0m in \u001b[0;36m<module>\u001b[0;34m()\u001b[0m\n\u001b[1;32m      6\u001b[0m \u001b[0mvmin\u001b[0m \u001b[0;34m=\u001b[0m \u001b[0;36m0.5\u001b[0m\u001b[0;34m\u001b[0m\u001b[0m\n\u001b[1;32m      7\u001b[0m \u001b[0;34m\u001b[0m\u001b[0m\n\u001b[0;32m----> 8\u001b[0;31m plt.scatter(data.lon.values,data.lat, s= 40,c = data.frac, cmap = rb,\n\u001b[0m\u001b[1;32m      9\u001b[0m             norm =  MidpointNormalizeLog(vmin = vmin, vmax = vmax, midpoint=1))\n\u001b[1;32m     10\u001b[0m \u001b[0;34m\u001b[0m\u001b[0m\n",
      "\u001b[0;32m~/anaconda3/lib/python3.6/site-packages/xarray/core/common.py\u001b[0m in \u001b[0;36m__getattr__\u001b[0;34m(self, name)\u001b[0m\n\u001b[1;32m    174\u001b[0m                     \u001b[0;32mreturn\u001b[0m \u001b[0msource\u001b[0m\u001b[0;34m[\u001b[0m\u001b[0mname\u001b[0m\u001b[0;34m]\u001b[0m\u001b[0;34m\u001b[0m\u001b[0m\n\u001b[1;32m    175\u001b[0m         raise AttributeError(\"%r object has no attribute %r\" %\n\u001b[0;32m--> 176\u001b[0;31m                              (type(self).__name__, name))\n\u001b[0m\u001b[1;32m    177\u001b[0m \u001b[0;34m\u001b[0m\u001b[0m\n\u001b[1;32m    178\u001b[0m     \u001b[0;32mdef\u001b[0m \u001b[0m__setattr__\u001b[0m\u001b[0;34m(\u001b[0m\u001b[0mself\u001b[0m\u001b[0;34m,\u001b[0m \u001b[0mname\u001b[0m\u001b[0;34m,\u001b[0m \u001b[0mvalue\u001b[0m\u001b[0;34m)\u001b[0m\u001b[0;34m:\u001b[0m\u001b[0;34m\u001b[0m\u001b[0m\n",
      "\u001b[0;31mAttributeError\u001b[0m: 'DataArray' object has no attribute 'lon'"
     ]
    },
    {
     "data": {
      "image/png": "[encoded data removed]",
      "text/plain": [
       "<Figure size 6000x3200 with 1 Axes>"
      ]
     },
     "metadata": {},
     "output_type": "display_data"
    }
   ],
   "source": [
    "fig = plt.figure(figsize  = (15,8), dpi = 400)\n",
    "ax = fig.add_subplot(1,1,1,projection = ccrs.PlateCarree())\n",
    "\n",
    "data = station_frac_90.sel(month = 1, mjo = 'enhanced')\n",
    "vmax = 2.5\n",
    "vmin = 0.5\n",
    "\n",
    "plt.scatter(data.lon.values,data.lat, s= 40,c = data.frac, cmap = rb,\n",
    "            norm =  MidpointNormalizeLog(vmin = vmin, vmax = vmax, midpoint=1))\n",
    "\n",
    "\n",
    "ax.coastlines()"
   ]
  },
  {
   "cell_type": "markdown",
   "metadata": {},
   "source": [
    "# Bootstrap"
   ]
  },
  {
   "cell_type": "code",
   "execution_count": 50,
   "metadata": {
    "code_folding": []
   },
   "outputs": [],
   "source": [
    "# THis function is usdef to return the enhanced and supppressed data for a \n",
    "\n",
    "def divide_data_enh_sup_ianct(data, enhanced_phases):\n",
    "    enhanced_dates = np.array(RMM_active[RMM_active['Phase'].isin(enhanced_phases)].index)\n",
    "    suppressed_dates = np.array(RMM_active[~RMM_active['Phase'].isin(enhanced_phases)].index)\n",
    "    \n",
    "    enhanced_precip = data.time.isin(enhanced_dates)\n",
    "    suppressed_precip = data.time.isin(suppressed_dates)\n",
    "    \n",
    "    return enhanced_precip, suppressed_precip\n",
    "    \n",
    "    \n",
    "    \n",
    "    "
   ]
  },
  {
   "cell_type": "code",
   "execution_count": 56,
   "metadata": {},
   "outputs": [],
   "source": [
    "RMM_active = RMM[RMM['Amplitude'] >= 1]\n",
    "RMM_inactive = np.array(RMM[RMM['Amplitude'] < 1].index)\n",
    "data = station_xr\n",
    "\n",
    "# Region 1\n",
    "\n",
    "data_r1 = data.where(data.lon < 120, drop = True) # The data just for this region\n",
    "enhanced_phases_r1 = [4,5] #The phases that are considered active for this region\n",
    "enhanced_r1, suppressed_r1 = divide_data_enh_sup_ianct(data_r1, enhanced_phases_r1)\n",
    "\n",
    "# Region 2\n",
    "\n",
    "data_r2 = data.where(np.logical_and(data.lon >= 120, data.lon < 140), drop = True) # The data just for this region\n",
    "enhanced_phases_r2 = [4,5,6] #The phases that are considered active for this region\n",
    "enhanced_r2, suppressed_r2 = divide_data_enh_sup_ianct(data_r2, enhanced_phases_r2)\n",
    "\n",
    "# Region 3\n",
    "\n",
    "data_r3 = data.where(data.lon >= 140, drop = True) # The data just for this region\n",
    "enhanced_phases_r3 = [4,5,6,7] #The phases that are considered active for this region\n",
    "enhanced_r3, suppressed_r3 = divide_data_enh_sup_ianct(data_r3, enhanced_phases_r3)\n",
    "\n",
    "\n",
    "enhanced_precip = enhanced_r3.combine_first(enhanced_r2).combine_first(enhanced_r3) \n",
    "suppressed_precip = suppressed_r3.combine_first(suppressed_r2).combine_first(suppressed_r3) \n",
    "inactive_precip = data.where(data.time.isin(RMM_inactive))\n",
    "\n"
   ]
  },
  {
   "cell_type": "code",
   "execution_count": 61,
   "metadata": {},
   "outputs": [
    {
     "data": {
      "text/plain": [
       "<xarray.Dataset>\n",
       "Dimensions:   (location: 32, lon: 32, time: 6653)\n",
       "Coordinates:\n",
       "  * time      (time) datetime64[ns] 1974-10-01 1974-10-02 1974-10-03 ...\n",
       "  * location  (location) object '5004' '5008' '5014' '4006' '3028' '3030' ...\n",
       "  * lon       (lon) float64 114.1 116.0 117.9 119.9 121.5 121.8 123.7 125.7 ...\n",
       "Data variables:\n",
       "    precip    (time, location) float64 dask.array<shape=(6653, 32), chunksize=(6653, 32)>"
      ]
     },
     "execution_count": 61,
     "metadata": {},
     "output_type": "execute_result"
    }
   ],
   "source": [
    "data"
   ]
  },
  {
   "cell_type": "code",
   "execution_count": 60,
   "metadata": {},
   "outputs": [
    {
     "data": {
      "text/plain": [
       "<xarray.Dataset>\n",
       "Dimensions:   (location: 32, lon: 4, time: 6653)\n",
       "Coordinates:\n",
       "  * time      (time) datetime64[ns] 1974-10-01 1974-10-02 1974-10-03 ...\n",
       "  * location  (location) object '5004' '5008' '5014' '4006' '3028' '3030' ...\n",
       "  * lon       (lon) float64 114.1 116.0 117.9 119.9\n",
       "Data variables:\n",
       "    precip    (time, location, lon) float64 dask.array<shape=(6653, 32, 4), chunksize=(6653, 32, 4)>"
      ]
     },
     "execution_count": 60,
     "metadata": {},
     "output_type": "execute_result"
    }
   ],
   "source": [
    "data_r1"
   ]
  },
  {
   "cell_type": "code",
   "execution_count": 58,
   "metadata": {},
   "outputs": [
    {
     "data": {
      "text/plain": [
       "<xarray.Dataset>\n",
       "Dimensions:   (location: 32, lon: 32, time: 6653)\n",
       "Coordinates:\n",
       "  * time      (time) datetime64[ns] 1974-10-01 1974-10-02 1974-10-03 ...\n",
       "  * location  (location) object '5004' '5008' '5014' '4006' '3028' '3030' ...\n",
       "  * lon       (lon) float64 114.1 116.0 117.9 119.9 121.5 121.8 123.7 125.7 ...\n",
       "Data variables:\n",
       "    precip    (time, location) float64 dask.array<shape=(6653, 32), chunksize=(6653, 32)>"
      ]
     },
     "execution_count": 58,
     "metadata": {},
     "output_type": "execute_result"
    }
   ],
   "source": [
    "data"
   ]
  },
  {
   "cell_type": "code",
   "execution_count": 57,
   "metadata": {},
   "outputs": [
    {
     "data": {
      "text/plain": [
       "<xarray.DataArray 'time' (time: 6653)>\n",
       "array([False, False,  True, ..., False, False, False])\n",
       "Coordinates:\n",
       "  * time     (time) datetime64[ns] 1974-10-01 1974-10-02 1974-10-03 ..."
      ]
     },
     "execution_count": 57,
     "metadata": {},
     "output_type": "execute_result"
    }
   ],
   "source": [
    "enhanced_precip"
   ]
  },
  {
   "cell_type": "code",
   "execution_count": null,
   "metadata": {},
   "outputs": [],
   "source": [
    "# In this function it goes through all of the different regtins on by one. \n",
    "\n",
    "def mjo_phase_data(data):\n",
    "    \n",
    "    active_data = \n",
    "    \n",
    "    #### Region 1\n",
    "    data_r1 = data.where(data.lon < 120, drop = True) # The data just for this region\n",
    "    enhanced_phases = [4,5] #The phases that are considered active for this region\n",
    "\n",
    "    \n",
    "    \n",
    "    \n",
    "    \n",
    "    #### Region 2\n",
    "    data_r2 = data.where(np.logical_and(data.lon >= 120,data.lon <140), drop = True)\n",
    "    enhanced_phases = [4,5,6]\n",
    "\n",
    "    #### Region 3\n",
    "    data_r3 = data.where(data.lon >= 140, drop = True)\n",
    "\n",
    "    enhanced_phases = [4,5,6,7]\n",
    "\n",
    "    \n",
    "    # Combining all of the enhanced, suppressed and inactive together from all of the different regions\n",
    "    enhanced = (enhanced_frac_r3.combine_first(enhanced_frac_r3)).combine_first(enhanced_frac_r3)\n",
    "    suppressed = (suppressed_frac_r3.combine_first(suppressed_frac_r3)).combine_first(suppressed_frac_r3)\n",
    "    inactive = (inactive_frac_r3.combine_first(inactive_frac_r3)).combine_first(inactive_frac_r3)\n",
    "    \n",
    "    \n",
    "    \n",
    "    \n",
    "    # The data set ended up being kind of weird, so this makes it better\n",
    "#     station_frac = correct_dataset(station_frac)\n",
    "    return station_frac\n",
    "    \n",
    "    "
   ]
  },
  {
   "cell_type": "code",
   "execution_count": 37,
   "metadata": {},
   "outputs": [],
   "source": [
    "def bootstrap_stations(data, q, loops):\n",
    "    years = np.arange(1974,2011)\n",
    "    \n",
    "    # For loops that goes through all stations\n",
    "    for station in np.array([data.location.values])[0][0:]:\n",
    "        print(station)\n",
    "        # For loop that goes through 1000 times\n",
    "        for i in range(loops):\n",
    "            \n",
    "            # Get the good years for that station\n",
    "            bad_years = MJO_df.loc[station].loc['Bad Wet Seasons']\n",
    "            good_years = years[~np.isin(years,np.array(bad_years))]\n",
    "            \n",
    "            # Random years\n",
    "            random_years = np.random.choice(good_years,\n",
    "                                            size = np.ceil(len(good_years)/2).astype(int), replace = True )\n",
    "            \n",
    "            # Getting the data just from these years\n",
    "            data_sub = data.where(data.time.dt.year.isin(random_years), drop = True)\n",
    "            \n",
    "            # Taking care of the repeated values\n",
    "            data_sub = select_additional(data, data_sub, uniqueValues, occurCount,  number = 1)\n",
    "            \n",
    "            \n",
    "            # Divide up into enhanced, suppressed and inactive\n",
    "            enhanced, suppressed, inactive = mjo_phase_data(data, sub)\n",
    "            \n",
    "            \n",
    "            # Calculate 90th percentile for each phase in each month\n",
    "            # Calculate 90th percentile for each month\n",
    "            # Do the Frac\n",
    "            \n",
    "    "
   ]
  },
  {
   "cell_type": "code",
   "execution_count": 110,
   "metadata": {},
   "outputs": [],
   "source": [
    "path = '/home/student.unimelb.edu.au/aborowiak/Desktop/Code/Scripts/MJO/AWAP/count_boot_90.nc'\n",
    "data = xr.open_dataset(path)"
   ]
  },
  {
   "cell_type": "markdown",
   "metadata": {
    "heading_collapsed": true
   },
   "source": [
    "# Old Bootstrap"
   ]
  },
  {
   "cell_type": "code",
   "execution_count": 109,
   "metadata": {
    "hidden": true
   },
   "outputs": [
    {
     "data": {
      "text/plain": [
       "<xarray.Dataset>\n",
       "Dimensions:     (lat: 53, lon: 178, mjo: 3)\n",
       "Coordinates:\n",
       "  * lat         (lat) float64 -23.0 -22.75 -22.5 -22.25 -22.0 -21.75 -21.5 ...\n",
       "  * lon         (lon) float64 112.0 112.2 112.5 112.8 113.0 113.2 113.5 ...\n",
       "    month       int64 1\n",
       "    percentile  <U2 '90'\n",
       "  * mjo         (mjo) object '' '' ''\n",
       "Data variables:\n",
       "    *empty*"
      ]
     },
     "execution_count": 109,
     "metadata": {},
     "output_type": "execute_result"
    }
   ],
   "source": [
    "data.sel(percentile = '90', month = 1)"
   ]
  },
  {
   "cell_type": "markdown",
   "metadata": {
    "hidden": true
   },
   "source": [
    " The bootstrap is different from the above, as the bootstrap <br>\n",
    " goes through station by station in a loop rather than from a <br>\n",
    " groupby statement."
   ]
  },
  {
   "cell_type": "code",
   "execution_count": 24,
   "metadata": {
    "hidden": true
   },
   "outputs": [],
   "source": [
    "def select_additional(data,data_sub,  uniqueValues, occurCount, number):\n",
    "\n",
    "    \n",
    "    if any(occurCount >= 2 ):\n",
    "        # Find the years that are getting sampled multiple times\n",
    "        multi_sampled_years = uniqueValues[np.where(occurCount >= 2 )]\n",
    "        \n",
    "        additional = data.where(data.time.dt.year.isin(multi_sampled_years), drop = True)\n",
    "        additional['time'] = additional.time + pd.Timedelta(days = 365 +  number * 100)\n",
    "                                \n",
    "        data_sub = data_sub.combine_first(additional)\n",
    "                                \n",
    "        occurCount = occurCount - 1\n",
    "        number += 1\n",
    "        data_sub = select_additional(data,data_sub, uniqueValues, occurCount, number) \n",
    "        \n",
    "        return data_sub\n",
    "                                \n",
    "    else:\n",
    "        return data_sub\n",
    "                                \n",
    "\n",
    "    "
   ]
  },
  {
   "cell_type": "code",
   "execution_count": 25,
   "metadata": {
    "hidden": true
   },
   "outputs": [],
   "source": [
    "def station_bootstrap(data, good_years,q, loops = 10):\n",
    "    \n",
    "    for i in range(10):\n",
    "        # Selecting some random years in the good years list, that is half the size fo the goodyears list\n",
    "        random_years = np.random.choice(good_years,size = np.ceil(len(good_years)/2).astype(int), replace = True )\n",
    "        data_sub = data.where(data.time.dt.year.isin(random_years), drop = True)\n",
    "        \n",
    "        uniqueValues, occurCount = np.unique(random_years, return_counts=True) \n",
    "        \n",
    "        data_sub = select_additional(data, data_sub, uniqueValues, occurCount,  number = 1)\n",
    "        \n",
    "        \n",
    "        data_p = data_sub.groupby('time.month').reduce(np.nanpercentile, q= q, dim = 'time')\n",
    "        \n",
    "        if i == 0:\n",
    "            boot_tot = data_p\n",
    "        else:\n",
    "            boot_tot = xr.concat([boot_tot, data_p], 'run_num')\n",
    "    \n",
    "    boot90 = boot_tot.groupby('month').reduce(np.nanpercentile, q = 90, dim = 'run_num')\n",
    "    boot10 = boot_tot.groupby('month').reduce(np.nanpercentile, q = 10, dim = 'run_num')\n",
    "\n",
    "    return boot90, boot10 "
   ]
  },
  {
   "cell_type": "code",
   "execution_count": 26,
   "metadata": {
    "hidden": true
   },
   "outputs": [
    {
     "name": "stderr",
     "output_type": "stream",
     "text": [
      "/home/student.unimelb.edu.au/aborowiak/anaconda3/lib/python3.6/site-packages/numpy/lib/function_base.py:4033: RuntimeWarning: All-NaN slice encountered\n",
      "  r = func(a, **kwargs)\n",
      "/home/student.unimelb.edu.au/aborowiak/anaconda3/lib/python3.6/site-packages/numpy/lib/function_base.py:4033: RuntimeWarning: All-NaN slice encountered\n",
      "  r = func(a, **kwargs)\n",
      "/home/student.unimelb.edu.au/aborowiak/anaconda3/lib/python3.6/site-packages/numpy/lib/function_base.py:4033: RuntimeWarning: All-NaN slice encountered\n",
      "  r = func(a, **kwargs)\n",
      "/home/student.unimelb.edu.au/aborowiak/anaconda3/lib/python3.6/site-packages/numpy/lib/function_base.py:4033: RuntimeWarning: All-NaN slice encountered\n",
      "  r = func(a, **kwargs)\n",
      "/home/student.unimelb.edu.au/aborowiak/anaconda3/lib/python3.6/site-packages/numpy/lib/function_base.py:4033: RuntimeWarning: All-NaN slice encountered\n",
      "  r = func(a, **kwargs)\n",
      "/home/student.unimelb.edu.au/aborowiak/anaconda3/lib/python3.6/site-packages/numpy/lib/function_base.py:4033: RuntimeWarning: All-NaN slice encountered\n",
      "  r = func(a, **kwargs)\n",
      "/home/student.unimelb.edu.au/aborowiak/anaconda3/lib/python3.6/site-packages/numpy/lib/function_base.py:4033: RuntimeWarning: All-NaN slice encountered\n",
      "  r = func(a, **kwargs)\n",
      "/home/student.unimelb.edu.au/aborowiak/anaconda3/lib/python3.6/site-packages/numpy/lib/function_base.py:4033: RuntimeWarning: All-NaN slice encountered\n",
      "  r = func(a, **kwargs)\n",
      "/home/student.unimelb.edu.au/aborowiak/anaconda3/lib/python3.6/site-packages/numpy/lib/function_base.py:4033: RuntimeWarning: All-NaN slice encountered\n",
      "  r = func(a, **kwargs)\n",
      "/home/student.unimelb.edu.au/aborowiak/anaconda3/lib/python3.6/site-packages/numpy/lib/function_base.py:4033: RuntimeWarning: All-NaN slice encountered\n",
      "  r = func(a, **kwargs)\n",
      "/home/student.unimelb.edu.au/aborowiak/anaconda3/lib/python3.6/site-packages/numpy/lib/function_base.py:4033: RuntimeWarning: All-NaN slice encountered\n",
      "  r = func(a, **kwargs)\n",
      "/home/student.unimelb.edu.au/aborowiak/anaconda3/lib/python3.6/site-packages/numpy/lib/function_base.py:4033: RuntimeWarning: All-NaN slice encountered\n",
      "  r = func(a, **kwargs)\n",
      "/home/student.unimelb.edu.au/aborowiak/anaconda3/lib/python3.6/site-packages/numpy/lib/function_base.py:4033: RuntimeWarning: All-NaN slice encountered\n",
      "  r = func(a, **kwargs)\n",
      "/home/student.unimelb.edu.au/aborowiak/anaconda3/lib/python3.6/site-packages/numpy/lib/function_base.py:4033: RuntimeWarning: All-NaN slice encountered\n",
      "  r = func(a, **kwargs)\n",
      "/home/student.unimelb.edu.au/aborowiak/anaconda3/lib/python3.6/site-packages/numpy/lib/function_base.py:4033: RuntimeWarning: All-NaN slice encountered\n",
      "  r = func(a, **kwargs)\n",
      "/home/student.unimelb.edu.au/aborowiak/anaconda3/lib/python3.6/site-packages/numpy/lib/function_base.py:4033: RuntimeWarning: All-NaN slice encountered\n",
      "  r = func(a, **kwargs)\n",
      "/home/student.unimelb.edu.au/aborowiak/anaconda3/lib/python3.6/site-packages/numpy/lib/function_base.py:4033: RuntimeWarning: All-NaN slice encountered\n",
      "  r = func(a, **kwargs)\n",
      "/home/student.unimelb.edu.au/aborowiak/anaconda3/lib/python3.6/site-packages/numpy/lib/function_base.py:4033: RuntimeWarning: All-NaN slice encountered\n",
      "  r = func(a, **kwargs)\n",
      "/home/student.unimelb.edu.au/aborowiak/anaconda3/lib/python3.6/site-packages/numpy/lib/function_base.py:4033: RuntimeWarning: All-NaN slice encountered\n",
      "  r = func(a, **kwargs)\n",
      "/home/student.unimelb.edu.au/aborowiak/anaconda3/lib/python3.6/site-packages/numpy/lib/function_base.py:4033: RuntimeWarning: All-NaN slice encountered\n",
      "  r = func(a, **kwargs)\n",
      "/home/student.unimelb.edu.au/aborowiak/anaconda3/lib/python3.6/site-packages/numpy/lib/function_base.py:4033: RuntimeWarning: All-NaN slice encountered\n",
      "  r = func(a, **kwargs)\n",
      "/home/student.unimelb.edu.au/aborowiak/anaconda3/lib/python3.6/site-packages/numpy/lib/function_base.py:4033: RuntimeWarning: All-NaN slice encountered\n",
      "  r = func(a, **kwargs)\n",
      "/home/student.unimelb.edu.au/aborowiak/anaconda3/lib/python3.6/site-packages/numpy/lib/function_base.py:4033: RuntimeWarning: All-NaN slice encountered\n",
      "  r = func(a, **kwargs)\n",
      "/home/student.unimelb.edu.au/aborowiak/anaconda3/lib/python3.6/site-packages/numpy/lib/function_base.py:4033: RuntimeWarning: All-NaN slice encountered\n",
      "  r = func(a, **kwargs)\n",
      "/home/student.unimelb.edu.au/aborowiak/anaconda3/lib/python3.6/site-packages/numpy/lib/function_base.py:4033: RuntimeWarning: All-NaN slice encountered\n",
      "  r = func(a, **kwargs)\n",
      "/home/student.unimelb.edu.au/aborowiak/anaconda3/lib/python3.6/site-packages/numpy/lib/function_base.py:4033: RuntimeWarning: All-NaN slice encountered\n",
      "  r = func(a, **kwargs)\n",
      "/home/student.unimelb.edu.au/aborowiak/anaconda3/lib/python3.6/site-packages/numpy/lib/function_base.py:4033: RuntimeWarning: All-NaN slice encountered\n",
      "  r = func(a, **kwargs)\n",
      "/home/student.unimelb.edu.au/aborowiak/anaconda3/lib/python3.6/site-packages/numpy/lib/function_base.py:4033: RuntimeWarning: All-NaN slice encountered\n",
      "  r = func(a, **kwargs)\n",
      "/home/student.unimelb.edu.au/aborowiak/anaconda3/lib/python3.6/site-packages/numpy/lib/function_base.py:4033: RuntimeWarning: All-NaN slice encountered\n",
      "  r = func(a, **kwargs)\n",
      "/home/student.unimelb.edu.au/aborowiak/anaconda3/lib/python3.6/site-packages/numpy/lib/function_base.py:4033: RuntimeWarning: All-NaN slice encountered\n",
      "  r = func(a, **kwargs)\n",
      "/home/student.unimelb.edu.au/aborowiak/anaconda3/lib/python3.6/site-packages/numpy/lib/function_base.py:4033: RuntimeWarning: All-NaN slice encountered\n",
      "  r = func(a, **kwargs)\n",
      "/home/student.unimelb.edu.au/aborowiak/anaconda3/lib/python3.6/site-packages/numpy/lib/function_base.py:4033: RuntimeWarning: All-NaN slice encountered\n",
      "  r = func(a, **kwargs)\n",
      "/home/student.unimelb.edu.au/aborowiak/anaconda3/lib/python3.6/site-packages/numpy/lib/function_base.py:4033: RuntimeWarning: All-NaN slice encountered\n",
      "  r = func(a, **kwargs)\n",
      "/home/student.unimelb.edu.au/aborowiak/anaconda3/lib/python3.6/site-packages/numpy/lib/function_base.py:4033: RuntimeWarning: All-NaN slice encountered\n",
      "  r = func(a, **kwargs)\n",
      "/home/student.unimelb.edu.au/aborowiak/anaconda3/lib/python3.6/site-packages/numpy/lib/function_base.py:4033: RuntimeWarning: All-NaN slice encountered\n",
      "  r = func(a, **kwargs)\n",
      "/home/student.unimelb.edu.au/aborowiak/anaconda3/lib/python3.6/site-packages/numpy/lib/function_base.py:4033: RuntimeWarning: All-NaN slice encountered\n",
      "  r = func(a, **kwargs)\n",
      "/home/student.unimelb.edu.au/aborowiak/anaconda3/lib/python3.6/site-packages/numpy/lib/function_base.py:4033: RuntimeWarning: All-NaN slice encountered\n",
      "  r = func(a, **kwargs)\n",
      "/home/student.unimelb.edu.au/aborowiak/anaconda3/lib/python3.6/site-packages/numpy/lib/function_base.py:4033: RuntimeWarning: All-NaN slice encountered\n",
      "  r = func(a, **kwargs)\n",
      "/home/student.unimelb.edu.au/aborowiak/anaconda3/lib/python3.6/site-packages/numpy/lib/function_base.py:4033: RuntimeWarning: All-NaN slice encountered\n",
      "  r = func(a, **kwargs)\n",
      "/home/student.unimelb.edu.au/aborowiak/anaconda3/lib/python3.6/site-packages/numpy/lib/function_base.py:4033: RuntimeWarning: All-NaN slice encountered\n",
      "  r = func(a, **kwargs)\n",
      "/home/student.unimelb.edu.au/aborowiak/anaconda3/lib/python3.6/site-packages/numpy/lib/function_base.py:4033: RuntimeWarning: All-NaN slice encountered\n",
      "  r = func(a, **kwargs)\n",
      "/home/student.unimelb.edu.au/aborowiak/anaconda3/lib/python3.6/site-packages/numpy/lib/function_base.py:4033: RuntimeWarning: All-NaN slice encountered\n",
      "  r = func(a, **kwargs)\n"
     ]
    }
   ],
   "source": [
    "\n",
    "\n",
    "q = 90\n",
    "years = np.arange(1974,2011)\n",
    "storage_90 = []\n",
    "storage_10 = []\n",
    "\n",
    "\n",
    "\n",
    "for station in np.array([station_xr.location.values])[0][0:]:\n",
    "    # Selecting the data for just one station\n",
    "    data = station_xr.sel(location = station)\n",
    "    \n",
    "    # Getting the bad years, and then making an array of just the good years.\n",
    "    bad_years = MJO_df.loc[station].loc['Bad Wet Seasons']\n",
    "    good_years = years[~np.isin(years,np.array(bad_years))]\n",
    "    \n",
    "    # Calculating the output for all stations.\n",
    "    boot90, boot10 = station_bootstrap(data, good_years,q, loops = 10)\n",
    "    storage_90.append(boot90)\n",
    "    storage_10.append(storage_10)\n",
    "   \n",
    "\n",
    "\n",
    "    "
   ]
  },
  {
   "cell_type": "code",
   "execution_count": 38,
   "metadata": {
    "hidden": true
   },
   "outputs": [
    {
     "name": "stdout",
     "output_type": "stream",
     "text": [
      "5004\n",
      "0\n",
      "1\n",
      "2\n",
      "5008\n",
      "0\n",
      "1\n",
      "2\n",
      "5014\n",
      "0\n",
      "1\n",
      "2\n",
      "4006\n",
      "0\n",
      "1\n",
      "2\n",
      "3028\n",
      "0\n",
      "1\n",
      "2\n",
      "3030\n",
      "0\n",
      "1\n",
      "2\n",
      "3024\n",
      "0\n",
      "1\n",
      "2\n",
      "3017\n",
      "0\n",
      "1\n",
      "2\n",
      "3027\n",
      "0\n",
      "1\n",
      "2\n",
      "2009\n",
      "0\n",
      "1\n",
      "2\n",
      "2019\n",
      "0\n",
      "1\n",
      "2\n",
      "14015\n",
      "0\n",
      "1\n",
      "2\n",
      "14825\n",
      "0\n",
      "1\n",
      "2\n",
      "15528\n",
      "0\n",
      "1\n",
      "2\n",
      "14401\n",
      "0\n",
      "1\n",
      "2\n",
      "15086\n",
      "0\n",
      "1\n",
      "2\n",
      "15135\n",
      "0\n",
      "1\n",
      "2\n",
      "15085\n",
      "0\n",
      "1\n",
      "2\n",
      "15005\n",
      "0\n",
      "1\n",
      "2\n",
      "29004\n",
      "0\n",
      "1\n",
      "2\n",
      "29032\n",
      "0\n",
      "1\n",
      "2\n",
      "38003\n",
      "0\n",
      "1\n",
      "2\n",
      "29048\n",
      "0\n",
      "1\n",
      "2\n",
      "37001\n",
      "0\n",
      "1\n",
      "2\n",
      "37049\n",
      "0\n",
      "1\n",
      "2\n",
      "36028\n",
      "0\n",
      "1\n",
      "2\n",
      "28004\n",
      "0\n",
      "1\n",
      "2\n",
      "31055\n",
      "0\n",
      "1\n",
      "2\n",
      "31011\n",
      "0\n",
      "1\n",
      "2\n",
      "32040\n",
      "0\n",
      "1\n",
      "2\n",
      "33073\n",
      "0\n",
      "1\n",
      "2\n",
      "39049\n",
      "0\n",
      "1\n",
      "2\n"
     ]
    }
   ],
   "source": [
    " bootstrap_stations(station_xr, 90, loops = 3)"
   ]
  },
  {
   "cell_type": "code",
   "execution_count": 27,
   "metadata": {
    "hidden": true
   },
   "outputs": [
    {
     "data": {
      "text/plain": [
       "<xarray.Dataset>\n",
       "Dimensions:   (lon: 32, month: 12)\n",
       "Coordinates:\n",
       "    location  <U5 '39049'\n",
       "  * lon       (lon) float64 114.1 116.0 117.9 119.9 121.5 121.8 123.7 125.7 ...\n",
       "  * month     (month) int64 1 2 3 4 5 6 7 8 9 10 11 12\n",
       "Data variables:\n",
       "    precip    (month) float64 39.1 33.87 47.43 81.3 54.4 56.47 50.51 51.55 ..."
      ]
     },
     "execution_count": 27,
     "metadata": {},
     "output_type": "execute_result"
    }
   ],
   "source": [
    "boot90"
   ]
  },
  {
   "cell_type": "code",
   "execution_count": 28,
   "metadata": {
    "hidden": true
   },
   "outputs": [
    {
     "data": {
      "text/plain": [
       "<xarray.Dataset>\n",
       "Dimensions:   (lon: 32, month: 12)\n",
       "Coordinates:\n",
       "    location  <U5 '39049'\n",
       "  * lon       (lon) float64 114.1 116.0 117.9 119.9 121.5 121.8 123.7 125.7 ...\n",
       "  * month     (month) int64 1 2 3 4 5 6 7 8 9 10 11 12\n",
       "Data variables:\n",
       "    precip    (month) float64 26.11 27.22 35.35 28.25 11.24 18.0 6.13 7.412 ..."
      ]
     },
     "execution_count": 28,
     "metadata": {},
     "output_type": "execute_result"
    }
   ],
   "source": [
    "boot10"
   ]
  },
  {
   "cell_type": "markdown",
   "metadata": {
    "heading_collapsed": true,
    "hidden": true
   },
   "source": [
    "## Old"
   ]
  },
  {
   "cell_type": "code",
   "execution_count": 114,
   "metadata": {
    "hidden": true
   },
   "outputs": [
    {
     "name": "stdout",
     "output_type": "stream",
     "text": [
      "random years :  [1975 1975 1976 1976 1977 1983 1989 1989 1994 1995 1995 1997 2000 2007]\n",
      "data years :  [1975 1976 1977 1983 1989 1994 1995 1997 2000 2007]\n",
      "random years :  [1979 1982 1983 1988 1990 1990 1993 1994 1995 1999 2000 2006 2010 2010]\n",
      "data years :  [1979 1982 1983 1988 1990 1993 1994 1995 1999 2000 2006 2010]\n",
      "random years :  [1974 1975 1975 1981 1982 1986 1989 1996 2006 2007 2008 2008 2010 2010]\n",
      "data years :  [1974 1975 1981 1982 1986 1989 1996 2006 2007 2008 2010]\n",
      "random years :  [1975 1976 1977 1980 1980 1988 1993 1995 1996 1999 2000 2008 2008 2010]\n",
      "data years :  [1975 1976 1977 1980 1988 1993 1995 1996 1999 2000 2008 2010]\n",
      "random years :  [1975 1977 1979 1980 1981 1982 1989 1989 1990 1995 1996 2006 2011 2011]\n",
      "data years :  [1975 1977 1979 1980 1981 1982 1989 1990 1995 1996 2006 2011]\n",
      "random years :  [1975 1977 1977 1986 1986 1987 1990 1995 1995 1998 2006 2007 2008 2011]\n",
      "data years :  [1975 1977 1986 1987 1990 1995 1998 2006 2007 2008 2011]\n",
      "random years :  [1980 1981 1982 1986 1988 1993 1995 1996 1997 1998 2000 2000 2006 2011]\n",
      "data years :  [1980 1981 1982 1986 1988 1993 1995 1996 1997 1998 2000 2006 2011]\n",
      "random years :  [1975 1976 1976 1977 1982 1982 1982 1983 1988 1989 1993 1997 1998 2000]\n",
      "data years :  [1975 1976 1977 1982 1983 1988 1989 1993 1997 1998 2000]\n",
      "random years :  [1977 1986 1987 1988 1989 1994 1996 1997 1997 1999 2006 2010 2010 2011]\n",
      "data years :  [1977 1986 1987 1988 1989 1994 1996 1997 1999 2006 2010 2011]\n",
      "random years :  [1975 1976 1979 1981 1981 1982 1987 1994 1995 1996 1997 2000 2008 2011]\n",
      "data years :  [1975 1976 1979 1981 1982 1987 1994 1995 1996 1997 2000 2008 2011]\n"
     ]
    }
   ],
   "source": [
    "for i in range(10):\n",
    "    random_years = np.random.choice(good_years,size = np.ceil(len(good_years)/2).astype(int), replace = True )\n",
    "    data_sub = data.where(data.time.dt.year.isin(random_years), drop = True)\n",
    "    print('random years : ', np.sort(random_years))\n",
    "    print('data years : ',np.unique(np.array(data_sub.time.dt.year.values)))"
   ]
  },
  {
   "cell_type": "code",
   "execution_count": 245,
   "metadata": {
    "hidden": true
   },
   "outputs": [],
   "source": [
    "def correct_dataset(data):\n",
    "    test= xr.Dataset({'frac':(('mjo','month','station number'), data.precip.values[:,:,:,0]),\n",
    "                        'station_name': (('location'), np.array(MJO_df.Name)),\n",
    "                        'lat':(('location'), np.array(MJO_df.Lat).astype(float)),\n",
    "                        'lon':(('location'), np.array(MJO_df.Lon).astype(float))},\n",
    "                       {'mjo': ['enhanced','suppressed','inactive'],'month':[10,11,12,1,2,3],\n",
    "                        'location':  np.array(MJO_df.index)})\n",
    "\n",
    "    return test"
   ]
  },
  {
   "cell_type": "code",
   "execution_count": 44,
   "metadata": {
    "hidden": true
   },
   "outputs": [],
   "source": [
    "def calculate_intfrac(data, phase_dates,q, all_stat ):\n",
    "    phase_rinfall = data.where(data.time.isin(phase_dates), drop = True)\n",
    "    \n",
    "    if all_stat:\n",
    "        phase_perc = phase_rinfall.groupby('time.month','location').reduce(np.nanpercentile, q = q, dim = 'time')\n",
    "        \n",
    "    else:\n",
    "        phase_perc = phase_rinfall.groupby('time.month').reduce(np.nanpercentile, q = q, dim = 'time')\n",
    "    return phase_perc "
   ]
  },
  {
   "cell_type": "code",
   "execution_count": 49,
   "metadata": {
    "hidden": true
   },
   "outputs": [],
   "source": [
    "def percentile_calculate(data, RMM,enhanced_phases, q, all_stat = 1):\n",
    "\n",
    "    ###### Calculating the dates that are in each of the enhaced, suppressed and inactive phases\n",
    "    active_dates = RMM[RMM['Amplitude'] >=1 ]\n",
    "    \n",
    "    enhanced_dates = np.array(active_dates[active_dates['Phase'].isin(enhanced_phases)].index)\n",
    "    \n",
    "    suppressed_dates = np.array(active_dates[~active_dates['Phase'].isin(enhanced_phases)].index)\n",
    "    \n",
    "    inactive_dates = np.array(RMM[RMM['Amplitude'] < 1 ].index)\n",
    "    \n",
    "    all_dates = np.array(RMM.index)\n",
    "    \n",
    "    ##### Percentile Calculation\n",
    "    normal_perc = calculate_intfrac(data, all_dates,q , all_stat)\n",
    "    enhanced_perc = calculate_intfrac(data, enhanced_dates,q , all_stat)\n",
    "    suppressed_perc = calculate_intfrac(data, suppressed_dates,q , all_stat)\n",
    "    inactive_perc = calculate_intfrac(data, inactive_dates,q, all_stat )\n",
    "    \n",
    "        \n",
    "    ###### Intensity Frac\n",
    "    enhanced_frac = enhanced_perc/ normal_perc\n",
    "    suppressed_frac = suppressed_perc/ normal_perc\n",
    "    inactive_frac = inactive_perc/ normal_perc\n",
    "    \n",
    "\n",
    "    return enhanced_frac,suppressed_frac,inactive_frac"
   ]
  },
  {
   "cell_type": "code",
   "execution_count": 246,
   "metadata": {
    "hidden": true
   },
   "outputs": [],
   "source": [
    "def station_percentiles(data, q):\n",
    "    \n",
    "    data_r1 = data.where(data.lon < 120, drop = True)\n",
    "    enhanced_phases = [4,5]\n",
    "    enhanced_frac_r1, suppressed_frac_r1, inactive_frac_r1 = percentile_calculate(data_r1, RMM,\n",
    "                                                                         enhanced_phases, q, all_stat = 1)\n",
    "    \n",
    "    data_r2 = data.where(np.logical_and(data.lon >= 120,data.lon <140), drop = True)\n",
    "    enhanced_phases = [4,5,6]\n",
    "    enhanced_frac_r2, suppressed_frac_r2, inactive_frac_r2 = percentile_calculate(data_r2, RMM,\n",
    "                                                                         enhanced_phases, q, all_stat = 1)\n",
    "    \n",
    "    data_r3 = data.where(data.lon >= 140, drop = True)\n",
    "\n",
    "    enhanced_phases = [4,5,6,7]\n",
    "    enhanced_frac_r3, suppressed_frac_r3, inactive_frac_r3 = percentile_calculate(data_r3, RMM,\n",
    "                                                                         enhanced_phases, q, all_stat = 1)\n",
    "    \n",
    "    enhanced = (enhanced_frac_r3.combine_first(enhanced_frac_r3)).combine_first(enhanced_frac_r3)\n",
    "    suppressed = (suppressed_frac_r3.combine_first(suppressed_frac_r3)).combine_first(suppressed_frac_r3)\n",
    "    inactive = (inactive_frac_r3.combine_first(inactive_frac_r3)).combine_first(inactive_frac_r3)\n",
    "    \n",
    "    station_frac = xr.concat([enhanced, suppressed, inactive], pd.Index(['enhanced', 'suppressed','inactive'],\n",
    "                                                                          name = 'mjo'))\n",
    "    \n",
    "    station_frac = correct_dataset(station_frac)\n",
    "    return station_frac\n",
    "    \n",
    "    "
   ]
  },
  {
   "cell_type": "code",
   "execution_count": 249,
   "metadata": {
    "hidden": true
   },
   "outputs": [],
   "source": [
    "\n",
    "def bootstrap_percentile_station(station, q, loops = 1000):\n",
    "    for i in range(loops):\n",
    "        rand = np.random.randint(1974,2017,22)\n",
    "        sub_station = station.where(station.time.dt.year.isin(rand), drop = True)\n",
    "\n",
    "        run_boot = station_percentiles(sub_station, q)\n",
    "\n",
    "        if i == 0:\n",
    "            total_boot = run_boot\n",
    "        else:\n",
    "            total_boot = xr.concat([total_boot, run_boot], 'run_num')\n",
    "\n",
    "    total_boot_90 = total_boot.reduce(np.nanpercentile, q= 90, dim = 'run_num')\n",
    "    total_boot_10 = total_boot.reduce(np.nanpercentile, q= 10, dim = 'run_num')\n",
    "    return total_boot_90, total_boot_10"
   ]
  },
  {
   "cell_type": "code",
   "execution_count": 252,
   "metadata": {
    "hidden": true
   },
   "outputs": [
    {
     "name": "stderr",
     "output_type": "stream",
     "text": [
      "/home/student.unimelb.edu.au/aborowiak/anaconda3/lib/python3.6/site-packages/numpy/lib/nanfunctions.py:1172: RuntimeWarning: All-NaN slice encountered\n",
      "  overwrite_input, interpolation)\n"
     ]
    },
    {
     "ename": "TypeError",
     "evalue": "ufunc 'isnan' not supported for the input types, and the inputs could not be safely coerced to any supported types according to the casting rule ''safe''",
     "output_type": "error",
     "traceback": [
      "\u001b[0;31m---------------------------------------------------------------------------\u001b[0m",
      "\u001b[0;31mTypeError\u001b[0m                                 Traceback (most recent call last)",
      "\u001b[0;32m<ipython-input-252-3a7022e1f3d1>\u001b[0m in \u001b[0;36m<module>\u001b[0;34m()\u001b[0m\n\u001b[1;32m      1\u001b[0m \u001b[0mq\u001b[0m \u001b[0;34m=\u001b[0m \u001b[0;36m90\u001b[0m\u001b[0;34m\u001b[0m\u001b[0m\n\u001b[1;32m      2\u001b[0m \u001b[0mdata\u001b[0m \u001b[0;34m=\u001b[0m \u001b[0mstation_xr\u001b[0m\u001b[0;34m\u001b[0m\u001b[0m\n\u001b[0;32m----> 3\u001b[0;31m \u001b[0mstatboot_90p_90\u001b[0m\u001b[0;34m,\u001b[0m \u001b[0mstatboot_90p_10\u001b[0m \u001b[0;34m=\u001b[0m \u001b[0mbootstrap_percentile_station\u001b[0m\u001b[0;34m(\u001b[0m\u001b[0mdata\u001b[0m\u001b[0;34m,\u001b[0m \u001b[0mq\u001b[0m\u001b[0;34m,\u001b[0m \u001b[0mloops\u001b[0m \u001b[0;34m=\u001b[0m \u001b[0;36m10\u001b[0m\u001b[0;34m)\u001b[0m\u001b[0;34m\u001b[0m\u001b[0m\n\u001b[0m",
      "\u001b[0;32m<ipython-input-249-24fbf1bbc391>\u001b[0m in \u001b[0;36mbootstrap_percentile_station\u001b[0;34m(station, q, loops)\u001b[0m\n\u001b[1;32m     12\u001b[0m             \u001b[0mtotal_boot\u001b[0m \u001b[0;34m=\u001b[0m \u001b[0mxr\u001b[0m\u001b[0;34m.\u001b[0m\u001b[0mconcat\u001b[0m\u001b[0;34m(\u001b[0m\u001b[0;34m[\u001b[0m\u001b[0mtotal_boot\u001b[0m\u001b[0;34m,\u001b[0m \u001b[0mrun_boot\u001b[0m\u001b[0;34m]\u001b[0m\u001b[0;34m,\u001b[0m \u001b[0;34m'run_num'\u001b[0m\u001b[0;34m)\u001b[0m\u001b[0;34m\u001b[0m\u001b[0m\n\u001b[1;32m     13\u001b[0m \u001b[0;34m\u001b[0m\u001b[0m\n\u001b[0;32m---> 14\u001b[0;31m     \u001b[0mtotal_boot_90\u001b[0m \u001b[0;34m=\u001b[0m \u001b[0mtotal_boot\u001b[0m\u001b[0;34m.\u001b[0m\u001b[0mreduce\u001b[0m\u001b[0;34m(\u001b[0m\u001b[0mnp\u001b[0m\u001b[0;34m.\u001b[0m\u001b[0mnanpercentile\u001b[0m\u001b[0;34m,\u001b[0m \u001b[0mq\u001b[0m\u001b[0;34m=\u001b[0m \u001b[0;36m90\u001b[0m\u001b[0;34m,\u001b[0m \u001b[0mdim\u001b[0m \u001b[0;34m=\u001b[0m \u001b[0;34m'run_num'\u001b[0m\u001b[0;34m)\u001b[0m\u001b[0;34m\u001b[0m\u001b[0m\n\u001b[0m\u001b[1;32m     15\u001b[0m     \u001b[0mtotal_boot_10\u001b[0m \u001b[0;34m=\u001b[0m \u001b[0mtotal_boot\u001b[0m\u001b[0;34m.\u001b[0m\u001b[0mreduce\u001b[0m\u001b[0;34m(\u001b[0m\u001b[0mnp\u001b[0m\u001b[0;34m.\u001b[0m\u001b[0mnanpercentile\u001b[0m\u001b[0;34m,\u001b[0m \u001b[0mq\u001b[0m\u001b[0;34m=\u001b[0m \u001b[0;36m10\u001b[0m\u001b[0;34m,\u001b[0m \u001b[0mdim\u001b[0m \u001b[0;34m=\u001b[0m \u001b[0;34m'run_num'\u001b[0m\u001b[0;34m)\u001b[0m\u001b[0;34m\u001b[0m\u001b[0m\n\u001b[1;32m     16\u001b[0m     \u001b[0;32mreturn\u001b[0m \u001b[0mtotal_boot_90\u001b[0m\u001b[0;34m,\u001b[0m \u001b[0mtotal_boot_10\u001b[0m\u001b[0;34m\u001b[0m\u001b[0m\n",
      "\u001b[0;32m~/anaconda3/lib/python3.6/site-packages/xarray/core/dataset.py\u001b[0m in \u001b[0;36mreduce\u001b[0;34m(self, func, dim, keep_attrs, numeric_only, allow_lazy, **kwargs)\u001b[0m\n\u001b[1;32m   2777\u001b[0m                                                  \u001b[0mkeep_attrs\u001b[0m\u001b[0;34m=\u001b[0m\u001b[0mkeep_attrs\u001b[0m\u001b[0;34m,\u001b[0m\u001b[0;34m\u001b[0m\u001b[0m\n\u001b[1;32m   2778\u001b[0m                                                  \u001b[0mallow_lazy\u001b[0m\u001b[0;34m=\u001b[0m\u001b[0mallow_lazy\u001b[0m\u001b[0;34m,\u001b[0m\u001b[0;34m\u001b[0m\u001b[0m\n\u001b[0;32m-> 2779\u001b[0;31m                                                  **kwargs)\n\u001b[0m\u001b[1;32m   2780\u001b[0m \u001b[0;34m\u001b[0m\u001b[0m\n\u001b[1;32m   2781\u001b[0m         \u001b[0mcoord_names\u001b[0m \u001b[0;34m=\u001b[0m \u001b[0mset\u001b[0m\u001b[0;34m(\u001b[0m\u001b[0mk\u001b[0m \u001b[0;32mfor\u001b[0m \u001b[0mk\u001b[0m \u001b[0;32min\u001b[0m \u001b[0mself\u001b[0m\u001b[0;34m.\u001b[0m\u001b[0mcoords\u001b[0m \u001b[0;32mif\u001b[0m \u001b[0mk\u001b[0m \u001b[0;32min\u001b[0m \u001b[0mvariables\u001b[0m\u001b[0;34m)\u001b[0m\u001b[0;34m\u001b[0m\u001b[0m\n",
      "\u001b[0;32m~/anaconda3/lib/python3.6/site-packages/xarray/core/variable.py\u001b[0m in \u001b[0;36mreduce\u001b[0;34m(self, func, dim, axis, keep_attrs, allow_lazy, **kwargs)\u001b[0m\n\u001b[1;32m   1262\u001b[0m             \u001b[0maxis\u001b[0m \u001b[0;34m=\u001b[0m \u001b[0mself\u001b[0m\u001b[0;34m.\u001b[0m\u001b[0mget_axis_num\u001b[0m\u001b[0;34m(\u001b[0m\u001b[0mdim\u001b[0m\u001b[0;34m)\u001b[0m\u001b[0;34m\u001b[0m\u001b[0m\n\u001b[1;32m   1263\u001b[0m         data = func(self.data if allow_lazy else self.values,\n\u001b[0;32m-> 1264\u001b[0;31m                     axis=axis, **kwargs)\n\u001b[0m\u001b[1;32m   1265\u001b[0m \u001b[0;34m\u001b[0m\u001b[0m\n\u001b[1;32m   1266\u001b[0m         \u001b[0;32mif\u001b[0m \u001b[0mgetattr\u001b[0m\u001b[0;34m(\u001b[0m\u001b[0mdata\u001b[0m\u001b[0;34m,\u001b[0m \u001b[0;34m'shape'\u001b[0m\u001b[0;34m,\u001b[0m \u001b[0;34m(\u001b[0m\u001b[0;34m)\u001b[0m\u001b[0;34m)\u001b[0m \u001b[0;34m==\u001b[0m \u001b[0mself\u001b[0m\u001b[0;34m.\u001b[0m\u001b[0mshape\u001b[0m\u001b[0;34m:\u001b[0m\u001b[0;34m\u001b[0m\u001b[0m\n",
      "\u001b[0;32m~/anaconda3/lib/python3.6/site-packages/numpy/lib/nanfunctions.py\u001b[0m in \u001b[0;36mnanpercentile\u001b[0;34m(a, q, axis, out, overwrite_input, interpolation, keepdims)\u001b[0m\n\u001b[1;32m   1150\u001b[0m     r, k = _ureduce(a, func=_nanpercentile, q=q, axis=axis, out=out,\n\u001b[1;32m   1151\u001b[0m                     \u001b[0moverwrite_input\u001b[0m\u001b[0;34m=\u001b[0m\u001b[0moverwrite_input\u001b[0m\u001b[0;34m,\u001b[0m\u001b[0;34m\u001b[0m\u001b[0m\n\u001b[0;32m-> 1152\u001b[0;31m                     interpolation=interpolation)\n\u001b[0m\u001b[1;32m   1153\u001b[0m     \u001b[0;32mif\u001b[0m \u001b[0mkeepdims\u001b[0m \u001b[0;32mand\u001b[0m \u001b[0mkeepdims\u001b[0m \u001b[0;32mis\u001b[0m \u001b[0;32mnot\u001b[0m \u001b[0mnp\u001b[0m\u001b[0;34m.\u001b[0m\u001b[0m_NoValue\u001b[0m\u001b[0;34m:\u001b[0m\u001b[0;34m\u001b[0m\u001b[0m\n\u001b[1;32m   1154\u001b[0m         \u001b[0;32mreturn\u001b[0m \u001b[0mr\u001b[0m\u001b[0;34m.\u001b[0m\u001b[0mreshape\u001b[0m\u001b[0;34m(\u001b[0m\u001b[0mq\u001b[0m\u001b[0;34m.\u001b[0m\u001b[0mshape\u001b[0m \u001b[0;34m+\u001b[0m \u001b[0mk\u001b[0m\u001b[0;34m)\u001b[0m\u001b[0;34m\u001b[0m\u001b[0m\n",
      "\u001b[0;32m~/anaconda3/lib/python3.6/site-packages/numpy/lib/function_base.py\u001b[0m in \u001b[0;36m_ureduce\u001b[0;34m(a, func, **kwargs)\u001b[0m\n\u001b[1;32m   4031\u001b[0m         \u001b[0mkeepdim\u001b[0m \u001b[0;34m=\u001b[0m \u001b[0;34m(\u001b[0m\u001b[0;36m1\u001b[0m\u001b[0;34m,\u001b[0m\u001b[0;34m)\u001b[0m \u001b[0;34m*\u001b[0m \u001b[0ma\u001b[0m\u001b[0;34m.\u001b[0m\u001b[0mndim\u001b[0m\u001b[0;34m\u001b[0m\u001b[0m\n\u001b[1;32m   4032\u001b[0m \u001b[0;34m\u001b[0m\u001b[0m\n\u001b[0;32m-> 4033\u001b[0;31m     \u001b[0mr\u001b[0m \u001b[0;34m=\u001b[0m \u001b[0mfunc\u001b[0m\u001b[0;34m(\u001b[0m\u001b[0ma\u001b[0m\u001b[0;34m,\u001b[0m \u001b[0;34m**\u001b[0m\u001b[0mkwargs\u001b[0m\u001b[0;34m)\u001b[0m\u001b[0;34m\u001b[0m\u001b[0m\n\u001b[0m\u001b[1;32m   4034\u001b[0m     \u001b[0;32mreturn\u001b[0m \u001b[0mr\u001b[0m\u001b[0;34m,\u001b[0m \u001b[0mkeepdim\u001b[0m\u001b[0;34m\u001b[0m\u001b[0m\n\u001b[1;32m   4035\u001b[0m \u001b[0;34m\u001b[0m\u001b[0m\n",
      "\u001b[0;32m~/anaconda3/lib/python3.6/site-packages/numpy/lib/nanfunctions.py\u001b[0m in \u001b[0;36m_nanpercentile\u001b[0;34m(a, q, axis, out, overwrite_input, interpolation)\u001b[0m\n\u001b[1;32m   1170\u001b[0m     \u001b[0;32melse\u001b[0m\u001b[0;34m:\u001b[0m\u001b[0;34m\u001b[0m\u001b[0m\n\u001b[1;32m   1171\u001b[0m         result = np.apply_along_axis(_nanpercentile1d, axis, a, q,\n\u001b[0;32m-> 1172\u001b[0;31m                                      overwrite_input, interpolation)\n\u001b[0m\u001b[1;32m   1173\u001b[0m         \u001b[0;31m# apply_along_axis fills in collapsed axis with results.\u001b[0m\u001b[0;34m\u001b[0m\u001b[0;34m\u001b[0m\u001b[0m\n\u001b[1;32m   1174\u001b[0m         \u001b[0;31m# Move that axis to the beginning to match percentile's\u001b[0m\u001b[0;34m\u001b[0m\u001b[0;34m\u001b[0m\u001b[0m\n",
      "\u001b[0;32m~/anaconda3/lib/python3.6/site-packages/numpy/lib/shape_base.py\u001b[0m in \u001b[0;36mapply_along_axis\u001b[0;34m(func1d, axis, arr, *args, **kwargs)\u001b[0m\n\u001b[1;32m    130\u001b[0m     \u001b[0;32mexcept\u001b[0m \u001b[0mStopIteration\u001b[0m\u001b[0;34m:\u001b[0m\u001b[0;34m\u001b[0m\u001b[0m\n\u001b[1;32m    131\u001b[0m         \u001b[0;32mraise\u001b[0m \u001b[0mValueError\u001b[0m\u001b[0;34m(\u001b[0m\u001b[0;34m'Cannot apply_along_axis when any iteration dimensions are 0'\u001b[0m\u001b[0;34m)\u001b[0m\u001b[0;34m\u001b[0m\u001b[0m\n\u001b[0;32m--> 132\u001b[0;31m     \u001b[0mres\u001b[0m \u001b[0;34m=\u001b[0m \u001b[0masanyarray\u001b[0m\u001b[0;34m(\u001b[0m\u001b[0mfunc1d\u001b[0m\u001b[0;34m(\u001b[0m\u001b[0minarr_view\u001b[0m\u001b[0;34m[\u001b[0m\u001b[0mind0\u001b[0m\u001b[0;34m]\u001b[0m\u001b[0;34m,\u001b[0m \u001b[0;34m*\u001b[0m\u001b[0margs\u001b[0m\u001b[0;34m,\u001b[0m \u001b[0;34m**\u001b[0m\u001b[0mkwargs\u001b[0m\u001b[0;34m)\u001b[0m\u001b[0;34m)\u001b[0m\u001b[0;34m\u001b[0m\u001b[0m\n\u001b[0m\u001b[1;32m    133\u001b[0m \u001b[0;34m\u001b[0m\u001b[0m\n\u001b[1;32m    134\u001b[0m     \u001b[0;31m# build a buffer for storing evaluations of func1d.\u001b[0m\u001b[0;34m\u001b[0m\u001b[0;34m\u001b[0m\u001b[0m\n",
      "\u001b[0;32m~/anaconda3/lib/python3.6/site-packages/numpy/lib/nanfunctions.py\u001b[0m in \u001b[0;36m_nanpercentile1d\u001b[0;34m(arr1d, q, overwrite_input, interpolation)\u001b[0m\n\u001b[1;32m   1188\u001b[0m     \"\"\"\n\u001b[1;32m   1189\u001b[0m     arr1d, overwrite_input = _remove_nan_1d(arr1d,\n\u001b[0;32m-> 1190\u001b[0;31m         overwrite_input=overwrite_input)\n\u001b[0m\u001b[1;32m   1191\u001b[0m     \u001b[0;32mif\u001b[0m \u001b[0marr1d\u001b[0m\u001b[0;34m.\u001b[0m\u001b[0msize\u001b[0m \u001b[0;34m==\u001b[0m \u001b[0;36m0\u001b[0m\u001b[0;34m:\u001b[0m\u001b[0;34m\u001b[0m\u001b[0m\n\u001b[1;32m   1192\u001b[0m         \u001b[0;32mreturn\u001b[0m \u001b[0mnp\u001b[0m\u001b[0;34m.\u001b[0m\u001b[0mfull\u001b[0m\u001b[0;34m(\u001b[0m\u001b[0mq\u001b[0m\u001b[0;34m.\u001b[0m\u001b[0mshape\u001b[0m\u001b[0;34m,\u001b[0m \u001b[0mnp\u001b[0m\u001b[0;34m.\u001b[0m\u001b[0mnan\u001b[0m\u001b[0;34m)\u001b[0m\u001b[0;34m[\u001b[0m\u001b[0;34m(\u001b[0m\u001b[0;34m)\u001b[0m\u001b[0;34m]\u001b[0m  \u001b[0;31m# convert to scalar\u001b[0m\u001b[0;34m\u001b[0m\u001b[0m\n",
      "\u001b[0;32m~/anaconda3/lib/python3.6/site-packages/numpy/lib/nanfunctions.py\u001b[0m in \u001b[0;36m_remove_nan_1d\u001b[0;34m(arr1d, overwrite_input)\u001b[0m\n\u001b[1;32m    129\u001b[0m     \"\"\"\n\u001b[1;32m    130\u001b[0m \u001b[0;34m\u001b[0m\u001b[0m\n\u001b[0;32m--> 131\u001b[0;31m     \u001b[0mc\u001b[0m \u001b[0;34m=\u001b[0m \u001b[0mnp\u001b[0m\u001b[0;34m.\u001b[0m\u001b[0misnan\u001b[0m\u001b[0;34m(\u001b[0m\u001b[0marr1d\u001b[0m\u001b[0;34m)\u001b[0m\u001b[0;34m\u001b[0m\u001b[0m\n\u001b[0m\u001b[1;32m    132\u001b[0m     \u001b[0ms\u001b[0m \u001b[0;34m=\u001b[0m \u001b[0mnp\u001b[0m\u001b[0;34m.\u001b[0m\u001b[0mnonzero\u001b[0m\u001b[0;34m(\u001b[0m\u001b[0mc\u001b[0m\u001b[0;34m)\u001b[0m\u001b[0;34m[\u001b[0m\u001b[0;36m0\u001b[0m\u001b[0;34m]\u001b[0m\u001b[0;34m\u001b[0m\u001b[0m\n\u001b[1;32m    133\u001b[0m     \u001b[0;32mif\u001b[0m \u001b[0ms\u001b[0m\u001b[0;34m.\u001b[0m\u001b[0msize\u001b[0m \u001b[0;34m==\u001b[0m \u001b[0marr1d\u001b[0m\u001b[0;34m.\u001b[0m\u001b[0msize\u001b[0m\u001b[0;34m:\u001b[0m\u001b[0;34m\u001b[0m\u001b[0m\n",
      "\u001b[0;31mTypeError\u001b[0m: ufunc 'isnan' not supported for the input types, and the inputs could not be safely coerced to any supported types according to the casting rule ''safe''"
     ]
    }
   ],
   "source": [
    "q = 90\n",
    "data = station_xr\n",
    "statboot_90p_90, statboot_90p_10 = bootstrap_percentile_station(data, q, loops = 10)"
   ]
  },
  {
   "cell_type": "code",
   "execution_count": null,
   "metadata": {
    "hidden": true
   },
   "outputs": [],
   "source": []
  }
 ],
 "metadata": {
  "kernelspec": {
   "display_name": "Python 3",
   "language": "python",
   "name": "python3"
  },
  "language_info": {
   "codemirror_mode": {
    "name": "ipython",
    "version": 3
   },
   "file_extension": ".py",
   "mimetype": "text/x-python",
   "name": "python",
   "nbconvert_exporter": "python",
   "pygments_lexer": "ipython3",
   "version": "3.6.5"
  },
  "latex_envs": {
   "LaTeX_envs_menu_present": true,
   "autoclose": false,
   "autocomplete": true,
   "bibliofile": "biblio.bib",
   "cite_by": "apalike",
   "current_citInitial": 1,
   "eqLabelWithNumbers": true,
   "eqNumInitial": 1,
   "hotkeys": {
    "equation": "Ctrl-E",
    "itemize": "Ctrl-I"
   },
   "labels_anchors": false,
   "latex_user_defs": false,
   "report_style_numbering": false,
   "user_envs_cfg": false
  },
  "toc": {
   "base_numbering": 1,
   "nav_menu": {},
   "number_sections": true,
   "sideBar": false,
   "skip_h1_title": false,
   "title_cell": "Table of Contents",
   "title_sidebar": "Contents",
   "toc_cell": true,
   "toc_position": {
    "height": "771px",
    "left": "26px",
    "top": "111px",
    "width": "235px"
   },
   "toc_section_display": true,
   "toc_window_display": true
  }
 },
 "nbformat": 4,
 "nbformat_minor": 2
}
