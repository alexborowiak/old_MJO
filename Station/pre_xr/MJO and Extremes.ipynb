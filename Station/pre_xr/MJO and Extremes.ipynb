{
 "cells": [
  {
   "cell_type": "markdown",
   "metadata": {
    "heading_collapsed": true
   },
   "source": [
    "# Preamble"
   ]
  },
  {
   "cell_type": "code",
   "execution_count": 101,
   "metadata": {
    "hidden": true
   },
   "outputs": [],
   "source": [
    "import matplotlib.pyplot as plt\n",
    "import numpy as np\n",
    "import pandas as pd\n",
    "import glob\n",
    "import pickle\n",
    "\n",
    "\n",
    "import cartopy.crs as ccrs\n",
    "from cartopy.mpl.gridliner import LONGITUDE_FORMATTER, LATITUDE_FORMATTER\n",
    "import matplotlib.ticker as mticker"
   ]
  },
  {
   "cell_type": "code",
   "execution_count": 102,
   "metadata": {
    "hidden": true
   },
   "outputs": [],
   "source": [
    "path = '/home/student.unimelb.edu.au/aborowiak/Desktop/Code/Current Project/Stations/Station_Daily_Rainfall_Data.pickle'\n",
    "pickle_in = open(path,'rb')\n",
    "daily_rainfall_dict = pickle.load(pickle_in)"
   ]
  },
  {
   "cell_type": "code",
   "execution_count": 103,
   "metadata": {
    "hidden": true
   },
   "outputs": [],
   "source": [
    "path = '/home/student.unimelb.edu.au/aborowiak/Desktop/Code/Current Project/Stations/station_information_W2E.pickle'\n",
    "pickle_in = open(path,'rb')\n",
    "station_information_W2E = pickle.load(pickle_in)"
   ]
  },
  {
   "cell_type": "code",
   "execution_count": 104,
   "metadata": {
    "hidden": true
   },
   "outputs": [],
   "source": [
    "path_2 = '/home/student.unimelb.edu.au/aborowiak/Desktop/Code/Current Project/Stations/MJO/MJO_df.pickle'\n",
    "pickle_in_2 = open(path_2, 'rb')\n",
    "MJO_df = pickle.load(pickle_in_2)"
   ]
  },
  {
   "cell_type": "code",
   "execution_count": 105,
   "metadata": {
    "hidden": true
   },
   "outputs": [
    {
     "data": {
      "text/html": [
       "<div>\n",
       "<style scoped>\n",
       "    .dataframe tbody tr th:only-of-type {\n",
       "        vertical-align: middle;\n",
       "    }\n",
       "\n",
       "    .dataframe tbody tr th {\n",
       "        vertical-align: top;\n",
       "    }\n",
       "\n",
       "    .dataframe thead th {\n",
       "        text-align: right;\n",
       "    }\n",
       "</style>\n",
       "<table border=\"1\" class=\"dataframe\">\n",
       "  <thead>\n",
       "    <tr style=\"text-align: right;\">\n",
       "      <th></th>\n",
       "      <th>Name</th>\n",
       "      <th>Lat</th>\n",
       "      <th>Lon</th>\n",
       "      <th>Start</th>\n",
       "      <th>End</th>\n",
       "      <th>Length (years)</th>\n",
       "      <th>Number of Wet Seasons</th>\n",
       "      <th>Number Bad Wet Seasons</th>\n",
       "      <th>Available Wet Seasons</th>\n",
       "      <th>Bad Wet Seasons</th>\n",
       "    </tr>\n",
       "    <tr>\n",
       "      <th>Station Number</th>\n",
       "      <th></th>\n",
       "      <th></th>\n",
       "      <th></th>\n",
       "      <th></th>\n",
       "      <th></th>\n",
       "      <th></th>\n",
       "      <th></th>\n",
       "      <th></th>\n",
       "      <th></th>\n",
       "      <th></th>\n",
       "    </tr>\n",
       "  </thead>\n",
       "  <tbody>\n",
       "    <tr>\n",
       "      <th>5004</th>\n",
       "      <td>EXMOUTH GULF</td>\n",
       "      <td>-22.38</td>\n",
       "      <td>114.11</td>\n",
       "      <td>1915</td>\n",
       "      <td>2018</td>\n",
       "      <td>103</td>\n",
       "      <td>104</td>\n",
       "      <td>5</td>\n",
       "      <td>99</td>\n",
       "      <td>[1925, 2009, 2011, 2012, 2018]</td>\n",
       "    </tr>\n",
       "    <tr>\n",
       "      <th>5008</th>\n",
       "      <td>MARDIE</td>\n",
       "      <td>-21.19</td>\n",
       "      <td>115.98</td>\n",
       "      <td>1885</td>\n",
       "      <td>2018</td>\n",
       "      <td>133</td>\n",
       "      <td>134</td>\n",
       "      <td>25</td>\n",
       "      <td>109</td>\n",
       "      <td>[1885, 1886, 1887, 1888, 1889, 1890, 1891, 189...</td>\n",
       "    </tr>\n",
       "    <tr>\n",
       "      <th>5014</th>\n",
       "      <td>MOUNT FLORANCE</td>\n",
       "      <td>-21.79</td>\n",
       "      <td>117.86</td>\n",
       "      <td>1886</td>\n",
       "      <td>2018</td>\n",
       "      <td>132</td>\n",
       "      <td>133</td>\n",
       "      <td>33</td>\n",
       "      <td>100</td>\n",
       "      <td>[1886, 1887, 1888, 1889, 1890, 1891, 1892, 189...</td>\n",
       "    </tr>\n",
       "    <tr>\n",
       "      <th>4006</th>\n",
       "      <td>BONNEY DOWNS</td>\n",
       "      <td>-22.18</td>\n",
       "      <td>119.94</td>\n",
       "      <td>1907</td>\n",
       "      <td>2018</td>\n",
       "      <td>111</td>\n",
       "      <td>112</td>\n",
       "      <td>9</td>\n",
       "      <td>103</td>\n",
       "      <td>[1907, 1909, 1914, 1939, 1968, 1969, 1970, 199...</td>\n",
       "    </tr>\n",
       "    <tr>\n",
       "      <th>3028</th>\n",
       "      <td>ANNA PLAINS</td>\n",
       "      <td>-19.25</td>\n",
       "      <td>121.49</td>\n",
       "      <td>1908</td>\n",
       "      <td>2018</td>\n",
       "      <td>110</td>\n",
       "      <td>111</td>\n",
       "      <td>40</td>\n",
       "      <td>71</td>\n",
       "      <td>[1908, 1909, 1910, 1911, 1912, 1913, 1914, 191...</td>\n",
       "    </tr>\n",
       "  </tbody>\n",
       "</table>\n",
       "</div>"
      ],
      "text/plain": [
       "                          Name     Lat     Lon  Start   End  Length (years)  \\\n",
       "Station Number                                                                \n",
       "5004              EXMOUTH GULF  -22.38  114.11   1915  2018             103   \n",
       "5008                    MARDIE  -21.19  115.98   1885  2018             133   \n",
       "5014            MOUNT FLORANCE  -21.79  117.86   1886  2018             132   \n",
       "4006              BONNEY DOWNS  -22.18  119.94   1907  2018             111   \n",
       "3028               ANNA PLAINS  -19.25  121.49   1908  2018             110   \n",
       "\n",
       "                Number of Wet Seasons  Number Bad Wet Seasons  \\\n",
       "Station Number                                                  \n",
       "5004                              104                       5   \n",
       "5008                              134                      25   \n",
       "5014                              133                      33   \n",
       "4006                              112                       9   \n",
       "3028                              111                      40   \n",
       "\n",
       "                Available Wet Seasons  \\\n",
       "Station Number                          \n",
       "5004                               99   \n",
       "5008                              109   \n",
       "5014                              100   \n",
       "4006                              103   \n",
       "3028                               71   \n",
       "\n",
       "                                                  Bad Wet Seasons  \n",
       "Station Number                                                     \n",
       "5004                               [1925, 2009, 2011, 2012, 2018]  \n",
       "5008            [1885, 1886, 1887, 1888, 1889, 1890, 1891, 189...  \n",
       "5014            [1886, 1887, 1888, 1889, 1890, 1891, 1892, 189...  \n",
       "4006            [1907, 1909, 1914, 1939, 1968, 1969, 1970, 199...  \n",
       "3028            [1908, 1909, 1910, 1911, 1912, 1913, 1914, 191...  "
      ]
     },
     "execution_count": 105,
     "metadata": {},
     "output_type": "execute_result"
    }
   ],
   "source": [
    "MJO_df.head()"
   ]
  },
  {
   "cell_type": "code",
   "execution_count": 106,
   "metadata": {
    "hidden": true
   },
   "outputs": [
    {
     "data": {
      "text/plain": [
       "32"
      ]
     },
     "execution_count": 106,
     "metadata": {},
     "output_type": "execute_result"
    }
   ],
   "source": [
    "current_stations = MJO_df.index\n",
    "len(current_stations)"
   ]
  },
  {
   "cell_type": "code",
   "execution_count": 107,
   "metadata": {
    "hidden": true
   },
   "outputs": [],
   "source": [
    "#This function gets the wet season that starts on the entered year.\n",
    "\n",
    "march = 3\n",
    "october = 10\n",
    "\n",
    "def get_wet_season(data, start_year):\n",
    "    wet_season = data.loc['%s-%s'%(str(start_year), str(october)):'%s-%s'%(str(start_year +1 ), str(march))]\n",
    "    \n",
    "    return wet_season"
   ]
  },
  {
   "cell_type": "markdown",
   "metadata": {
    "heading_collapsed": true
   },
   "source": [
    "#  RMM"
   ]
  },
  {
   "cell_type": "code",
   "execution_count": 108,
   "metadata": {
    "hidden": true
   },
   "outputs": [],
   "source": [
    "path = '/home/student.unimelb.edu.au/aborowiak/Desktop/Code/Current Project/Stations/MJO/RMM.pickle'\n",
    "pickle_in = open(path, 'rb')\n",
    "RMM = pickle.load(pickle_in)"
   ]
  },
  {
   "cell_type": "code",
   "execution_count": 109,
   "metadata": {
    "hidden": true
   },
   "outputs": [
    {
     "data": {
      "text/html": [
       "<div>\n",
       "<style scoped>\n",
       "    .dataframe tbody tr th:only-of-type {\n",
       "        vertical-align: middle;\n",
       "    }\n",
       "\n",
       "    .dataframe tbody tr th {\n",
       "        vertical-align: top;\n",
       "    }\n",
       "\n",
       "    .dataframe thead th {\n",
       "        text-align: right;\n",
       "    }\n",
       "</style>\n",
       "<table border=\"1\" class=\"dataframe\">\n",
       "  <thead>\n",
       "    <tr style=\"text-align: right;\">\n",
       "      <th></th>\n",
       "      <th>Phase</th>\n",
       "      <th>Amplitude</th>\n",
       "    </tr>\n",
       "    <tr>\n",
       "      <th>Date</th>\n",
       "      <th></th>\n",
       "      <th></th>\n",
       "    </tr>\n",
       "  </thead>\n",
       "  <tbody>\n",
       "    <tr>\n",
       "      <th>1974-06-01</th>\n",
       "      <td>5.0</td>\n",
       "      <td>2.02948</td>\n",
       "    </tr>\n",
       "    <tr>\n",
       "      <th>1974-06-02</th>\n",
       "      <td>5.0</td>\n",
       "      <td>1.89729</td>\n",
       "    </tr>\n",
       "    <tr>\n",
       "      <th>1974-06-03</th>\n",
       "      <td>5.0</td>\n",
       "      <td>1.86476</td>\n",
       "    </tr>\n",
       "    <tr>\n",
       "      <th>1974-06-04</th>\n",
       "      <td>5.0</td>\n",
       "      <td>1.83092</td>\n",
       "    </tr>\n",
       "    <tr>\n",
       "      <th>1974-06-05</th>\n",
       "      <td>5.0</td>\n",
       "      <td>2.03326</td>\n",
       "    </tr>\n",
       "  </tbody>\n",
       "</table>\n",
       "</div>"
      ],
      "text/plain": [
       "            Phase  Amplitude\n",
       "Date                        \n",
       "1974-06-01    5.0    2.02948\n",
       "1974-06-02    5.0    1.89729\n",
       "1974-06-03    5.0    1.86476\n",
       "1974-06-04    5.0    1.83092\n",
       "1974-06-05    5.0    2.03326"
      ]
     },
     "execution_count": 109,
     "metadata": {},
     "output_type": "execute_result"
    }
   ],
   "source": [
    "RMM.head()"
   ]
  },
  {
   "cell_type": "markdown",
   "metadata": {
    "heading_collapsed": true
   },
   "source": [
    "# Old"
   ]
  },
  {
   "cell_type": "markdown",
   "metadata": {
    "hidden": true
   },
   "source": [
    "<h1> Phase of Rainfall </h1>"
   ]
  },
  {
   "cell_type": "markdown",
   "metadata": {
    "hidden": true
   },
   "source": [
    "Finding the raindays that are occuring during a specific phase of the MJO"
   ]
  },
  {
   "cell_type": "code",
   "execution_count": 110,
   "metadata": {
    "hidden": true
   },
   "outputs": [],
   "source": [
    "#Calculating \n",
    "\n",
    "phase = 5\n",
    "\n",
    "#Getting the rainday data for a single statin \n",
    "raindays = daily_rainfall_dict['2009']\n",
    "\n",
    "#Getting only the dates where the RMM is the above mentioned phase\n",
    "dates_in_phase = list(RMM.index[np.where(\n",
    "    np.logical_and(\n",
    "        RMM['Phase'] ==  phase, RMM['Amplitude'] > 1\n",
    "    ))])\n",
    "\n",
    "\n",
    "\n",
    "# The raindays that are in this phase (rainday > 1mm)\n",
    "rainfall_in_phase = raindays.loc[raindays.index.isin(dates_in_phase)]\n",
    "rainfall_in_phase  = rainfall_in_phase[rainfall_in_phase  > 1]"
   ]
  },
  {
   "cell_type": "code",
   "execution_count": 111,
   "metadata": {
    "hidden": true
   },
   "outputs": [
    {
     "data": {
      "text/plain": [
       "14.3721649484536"
      ]
     },
     "execution_count": 111,
     "metadata": {},
     "output_type": "execute_result"
    }
   ],
   "source": [
    "#The mean rainfall that is occuring during a specific phase\n",
    "mean = rainfall_in_phase['Rainfall (mm)'].mean()\n",
    "mean"
   ]
  },
  {
   "cell_type": "markdown",
   "metadata": {
    "hidden": true
   },
   "source": [
    "\n",
    "Creating a df where the the raindays that occur on the same phase all occur togethere "
   ]
  },
  {
   "cell_type": "code",
   "execution_count": 112,
   "metadata": {
    "hidden": true
   },
   "outputs": [],
   "source": [
    "def phase_info_calc(raindays, phase):\n",
    "    \n",
    "    \n",
    "#Getting the rainday data for a single statin \n",
    "    \n",
    "    dates_in_phase = list(RMM.index[np.where(np.logical_and(\n",
    "        RMM['Phase'] ==  phase, RMM['Amplitude'] > 1\n",
    "    ))])\n",
    "\n",
    "\n",
    "\n",
    "    rainfall_in_phase = raindays.loc[raindays.index.isin(dates_in_phase)]\n",
    "    \n",
    "    \n",
    "    return rainfall_in_phase\n"
   ]
  },
  {
   "cell_type": "code",
   "execution_count": 113,
   "metadata": {
    "hidden": true
   },
   "outputs": [],
   "source": [
    "station = '2009'\n",
    "MJO = {}\n",
    "raindays = daily_rainfall_dict[station]\n",
    "\n",
    "for phase in range(1,9):\n",
    "    MJO['Phase ' + str(phase)] = phase_info_calc(raindays, phase)"
   ]
  },
  {
   "cell_type": "code",
   "execution_count": 114,
   "metadata": {
    "hidden": true
   },
   "outputs": [
    {
     "data": {
      "text/html": [
       "<div>\n",
       "<style scoped>\n",
       "    .dataframe tbody tr th:only-of-type {\n",
       "        vertical-align: middle;\n",
       "    }\n",
       "\n",
       "    .dataframe tbody tr th {\n",
       "        vertical-align: top;\n",
       "    }\n",
       "\n",
       "    .dataframe thead th {\n",
       "        text-align: right;\n",
       "    }\n",
       "</style>\n",
       "<table border=\"1\" class=\"dataframe\">\n",
       "  <thead>\n",
       "    <tr style=\"text-align: right;\">\n",
       "      <th></th>\n",
       "      <th>Rainfall (mm)</th>\n",
       "    </tr>\n",
       "    <tr>\n",
       "      <th>Date</th>\n",
       "      <th></th>\n",
       "    </tr>\n",
       "  </thead>\n",
       "  <tbody>\n",
       "    <tr>\n",
       "      <th>1974-06-21</th>\n",
       "      <td>0.0</td>\n",
       "    </tr>\n",
       "    <tr>\n",
       "      <th>1974-06-22</th>\n",
       "      <td>0.0</td>\n",
       "    </tr>\n",
       "    <tr>\n",
       "      <th>1974-06-23</th>\n",
       "      <td>0.0</td>\n",
       "    </tr>\n",
       "    <tr>\n",
       "      <th>1974-09-04</th>\n",
       "      <td>0.0</td>\n",
       "    </tr>\n",
       "    <tr>\n",
       "      <th>1974-09-05</th>\n",
       "      <td>0.0</td>\n",
       "    </tr>\n",
       "  </tbody>\n",
       "</table>\n",
       "</div>"
      ],
      "text/plain": [
       "            Rainfall (mm)\n",
       "Date                     \n",
       "1974-06-21            0.0\n",
       "1974-06-22            0.0\n",
       "1974-06-23            0.0\n",
       "1974-09-04            0.0\n",
       "1974-09-05            0.0"
      ]
     },
     "execution_count": 114,
     "metadata": {},
     "output_type": "execute_result"
    }
   ],
   "source": [
    "MJO['Phase 1'].head()"
   ]
  },
  {
   "cell_type": "markdown",
   "metadata": {
    "hidden": true
   },
   "source": [
    "<h3> Single Sstation </h3>"
   ]
  },
  {
   "cell_type": "code",
   "execution_count": 115,
   "metadata": {
    "hidden": true
   },
   "outputs": [],
   "source": [
    "mean_rain = []\n",
    "RX1d = []\n",
    "RI4 = []\n",
    "df = pd.DataFrame()\n",
    "\n",
    "\n",
    "#Going through all of the phases\n",
    "MJO_phases = list(MJO.keys())\n",
    "for phase in MJO_phases:\n",
    "    \n",
    "    #The Raindays in this phase\n",
    "    data = MJO[phase]['Rainfall (mm)']\n",
    "    \n",
    "    #Rainday must be greater than 1 and less that 8000\n",
    "    raindays = data[data > 1]\n",
    "    raindays = raindays[raindays <8000]\n",
    "    \n",
    "    \n",
    "    #The mean rainfall occuring during this phase\n",
    "    rain_mean = raindays.mean()\n",
    "    mean_rain.append(rain_mean)\n",
    "    \n",
    "    #The maximum rainfall that is occuring during this phase\n",
    "    RX1d.append(np.max(raindays))\n",
    "    \n",
    "    \n",
    "    #The top 4 raindays that occuring during this phase\n",
    "    sorted_raindays = np.sort(raindays)\n",
    "    T4 = sorted_raindays[-4:]\n",
    "    RI4.append(np.sum(T4))\n",
    "    \n",
    "    \n",
    "    \n",
    "    \n",
    "df['Phase'] = list(MJO.keys())\n",
    "df['Mean'] = mean_rain\n",
    "df['RX1d'] = RX1d\n",
    "df['RI4'] = RI4\n",
    "df = df.set_index('Phase')"
   ]
  },
  {
   "cell_type": "code",
   "execution_count": 116,
   "metadata": {
    "hidden": true
   },
   "outputs": [
    {
     "data": {
      "text/html": [
       "<div>\n",
       "<style scoped>\n",
       "    .dataframe tbody tr th:only-of-type {\n",
       "        vertical-align: middle;\n",
       "    }\n",
       "\n",
       "    .dataframe tbody tr th {\n",
       "        vertical-align: top;\n",
       "    }\n",
       "\n",
       "    .dataframe thead th {\n",
       "        text-align: right;\n",
       "    }\n",
       "</style>\n",
       "<table border=\"1\" class=\"dataframe\">\n",
       "  <thead>\n",
       "    <tr style=\"text-align: right;\">\n",
       "      <th></th>\n",
       "      <th>Mean</th>\n",
       "      <th>RX1d</th>\n",
       "      <th>RI4</th>\n",
       "    </tr>\n",
       "    <tr>\n",
       "      <th>Phase</th>\n",
       "      <th></th>\n",
       "      <th></th>\n",
       "      <th></th>\n",
       "    </tr>\n",
       "  </thead>\n",
       "  <tbody>\n",
       "    <tr>\n",
       "      <th>Phase 1</th>\n",
       "      <td>13.072727</td>\n",
       "      <td>118.0</td>\n",
       "      <td>309.8</td>\n",
       "    </tr>\n",
       "    <tr>\n",
       "      <th>Phase 2</th>\n",
       "      <td>14.194969</td>\n",
       "      <td>112.4</td>\n",
       "      <td>350.6</td>\n",
       "    </tr>\n",
       "    <tr>\n",
       "      <th>Phase 3</th>\n",
       "      <td>11.628986</td>\n",
       "      <td>64.6</td>\n",
       "      <td>236.6</td>\n",
       "    </tr>\n",
       "    <tr>\n",
       "      <th>Phase 4</th>\n",
       "      <td>14.735519</td>\n",
       "      <td>141.0</td>\n",
       "      <td>336.6</td>\n",
       "    </tr>\n",
       "    <tr>\n",
       "      <th>Phase 5</th>\n",
       "      <td>14.372165</td>\n",
       "      <td>123.6</td>\n",
       "      <td>368.2</td>\n",
       "    </tr>\n",
       "    <tr>\n",
       "      <th>Phase 6</th>\n",
       "      <td>16.326104</td>\n",
       "      <td>131.6</td>\n",
       "      <td>399.4</td>\n",
       "    </tr>\n",
       "    <tr>\n",
       "      <th>Phase 7</th>\n",
       "      <td>15.013080</td>\n",
       "      <td>105.0</td>\n",
       "      <td>323.0</td>\n",
       "    </tr>\n",
       "    <tr>\n",
       "      <th>Phase 8</th>\n",
       "      <td>13.168831</td>\n",
       "      <td>64.0</td>\n",
       "      <td>244.0</td>\n",
       "    </tr>\n",
       "  </tbody>\n",
       "</table>\n",
       "</div>"
      ],
      "text/plain": [
       "              Mean   RX1d    RI4\n",
       "Phase                           \n",
       "Phase 1  13.072727  118.0  309.8\n",
       "Phase 2  14.194969  112.4  350.6\n",
       "Phase 3  11.628986   64.6  236.6\n",
       "Phase 4  14.735519  141.0  336.6\n",
       "Phase 5  14.372165  123.6  368.2\n",
       "Phase 6  16.326104  131.6  399.4\n",
       "Phase 7  15.013080  105.0  323.0\n",
       "Phase 8  13.168831   64.0  244.0"
      ]
     },
     "execution_count": 116,
     "metadata": {},
     "output_type": "execute_result"
    }
   ],
   "source": [
    "df"
   ]
  },
  {
   "cell_type": "code",
   "execution_count": 117,
   "metadata": {
    "hidden": true
   },
   "outputs": [
    {
     "data": {
      "text/plain": [
       "<matplotlib.axes._subplots.AxesSubplot at 0x7f40d776c710>"
      ]
     },
     "execution_count": 117,
     "metadata": {},
     "output_type": "execute_result"
    },
    {
     "data": {
      "image/png": "[encoded data removed]",
      "text/plain": [
       "<Figure size 432x288 with 1 Axes>"
      ]
     },
     "metadata": {},
     "output_type": "display_data"
    }
   ],
   "source": [
    "df['Mean'].plot()"
   ]
  },
  {
   "cell_type": "code",
   "execution_count": 118,
   "metadata": {
    "hidden": true
   },
   "outputs": [
    {
     "data": {
      "text/plain": [
       "<matplotlib.axes._subplots.AxesSubplot at 0x7f40d7348ba8>"
      ]
     },
     "execution_count": 118,
     "metadata": {},
     "output_type": "execute_result"
    },
    {
     "data": {
      "image/png": "[encoded data removed]",
      "text/plain": [
       "<Figure size 432x288 with 1 Axes>"
      ]
     },
     "metadata": {},
     "output_type": "display_data"
    }
   ],
   "source": [
    "df.plot()"
   ]
  },
  {
   "cell_type": "markdown",
   "metadata": {
    "heading_collapsed": true
   },
   "source": [
    "# RX1d"
   ]
  },
  {
   "cell_type": "markdown",
   "metadata": {
    "hidden": true
   },
   "source": [
    "Finding the RX1d for each month and also that date at which it occured"
   ]
  },
  {
   "cell_type": "code",
   "execution_count": 122,
   "metadata": {
    "hidden": true
   },
   "outputs": [],
   "source": [
    "\n",
    "#Dictionary for storing all the dates in, keys will be the stations\n",
    "RX1d= {}\n",
    "\n",
    "\n",
    "#The stations that I wall be using for the MJO\n",
    "current_stations = MJO_df.index\n",
    "\n",
    "\n",
    "\n",
    "############\n",
    "for station in current_stations:\n",
    "\n",
    "    #Only getting the rainfall data from the required time range\n",
    "    rain_data = daily_rainfall_dict[station].loc['1974-06-01':'2010']\n",
    "    \n",
    "    #Removing all th years where the amount of data < 90%\n",
    "    bad_years = MJO_df['Bad Wet Seasons'].loc[station]\n",
    "    rain_data = rain_data[~rain_data.isin(bad_years)]\n",
    "    \n",
    "    \n",
    "    #The following is based upon stack overflow ansewr:\n",
    "    #https://stackoverflow.com/questions/54453126/maximum-monthly-values-whilst-retaining-the-data-at-which-that-values-occurred\n",
    "    test_data = rain_data.copy(deep = True)\n",
    "    test_data = test_data.reset_index() #Index has been reset in order to match what they have done\n",
    "\n",
    "    maxs = test_data.sort_values('Rainfall (mm)').groupby([test_data.Date.dt.month, test_data.Date.dt.year]).tail(1)\n",
    "    \n",
    "    maxs = maxs.sort_values(by = 'Date') #Sorted via date, as previously it was sorted by 'Rainfall (mm)'\n",
    "    maxs = maxs.set_index('Date')\n",
    "    \n",
    "    #Storing the values in a Dictionary\n",
    "    RX1d[station] = maxs\n",
    "    \n",
    "    \n",
    "\n"
   ]
  },
  {
   "cell_type": "markdown",
   "metadata": {
    "hidden": true
   },
   "source": [
    "Now to go through and match all of the RX1d values to the RMM"
   ]
  },
  {
   "cell_type": "code",
   "execution_count": 158,
   "metadata": {
    "hidden": true
   },
   "outputs": [],
   "source": [
    "#Dictionary for storing all the RX1d values, as well as what the RMM phase and amp is for that date.\n",
    "#keys will be the stations\n",
    "MJO_RX1d= {}\n",
    "\n",
    "\n",
    "#The stations that I wall be using for the MJO\n",
    "current_stations = MJO_df.index\n",
    "\n",
    "#I am only looking at the wet season months\n",
    "wet_months = ['10','11','12','1','2','3']\n",
    "\n",
    "\n",
    "for station in current_stations:\n",
    "    \n",
    "    #The RX1d for a specific station\n",
    "    RX1d_station =  RX1d[station] \n",
    "    \n",
    "    #Extracting only the wet season RX1d events\n",
    "    RX1d_station = RX1d_station[RX1d_station.index.month.isin(wet_months)]\n",
    "    \n",
    "    \n",
    "    #Combing the RX1d with the phase and amplitude of the RMM into the one data frame. These data frames are then\n",
    "    #stored in the dictionary MJO_RX1d\n",
    "    RMM_reduced = RMM[RMM.index.isin(RX1d_station.index)]\n",
    "    df_new = pd.concat([RX1d_station,RMM_reduced], axis = 1)\n",
    "\n",
    "    \n",
    "    #The amplitude must be greater than one\n",
    "    df_new = df_new[df_new['Amplitude'] > 1]\n",
    "    \n",
    "    #Don't want to look at dates where RX1d == 0\n",
    "    df_new = df_new[df_new['Rainfall (mm)'] > 0]\n",
    "\n",
    "    \n",
    "    MJO_RX1d[station] = df_new\n",
    "    "
   ]
  },
  {
   "cell_type": "code",
   "execution_count": 159,
   "metadata": {
    "hidden": true
   },
   "outputs": [],
   "source": [
    "#Find the average intensity and also the frequency of occurence for RX1d for each phase of the MJO\n",
    "\n",
    "RX1d_intensity = pd.DataFrame()\n",
    "RX1d_frequency =pd.DataFrame()\n",
    "\n",
    "current_stations = MJO_RX1d.keys()\n",
    "mjo_phases = np.arange(1,9)\n",
    "\n",
    "for station in current_stations:\n",
    "    data = MJO_RX1d[station]\n",
    "    \n",
    "    intensity = []\n",
    "    frequency = []\n",
    "    \n",
    "    for phase in mjo_phases:\n",
    "        av_intensity = data[data['Phase'] == phase].mean(axis = 0)\n",
    "        freq = len(data[data['Phase'] == phase])\n",
    "        \n",
    "        intensity.append(av_intensity[0])\n",
    "        frequency.append(freq)\n",
    "    \n",
    "    \n",
    "    RX1d_intensity[station] = intensity\n",
    "    RX1d_frequency[station] = frequency\n",
    "    \n",
    "RX1d_intensity['Phase'] = mjo_phases\n",
    "RX1d_intensity = RX1d_intensity.set_index('Phase')\n",
    "\n",
    "\n",
    "RX1d_frequency['Phase'] = mjo_phases\n",
    "RX1d_frequency = RX1d_frequency.set_index('Phase')"
   ]
  },
  {
   "cell_type": "code",
   "execution_count": 160,
   "metadata": {
    "hidden": true
   },
   "outputs": [
    {
     "data": {
      "text/plain": [
       "<matplotlib.axes._subplots.AxesSubplot at 0x7f40d58c7470>"
      ]
     },
     "execution_count": 160,
     "metadata": {},
     "output_type": "execute_result"
    },
    {
     "data": {
      "image/png": "[encoded data removed]",
      "text/plain": [
       "<Figure size 432x288 with 1 Axes>"
      ]
     },
     "metadata": {},
     "output_type": "display_data"
    }
   ],
   "source": [
    "RX1d_frequency['2009'].plot()"
   ]
  },
  {
   "cell_type": "code",
   "execution_count": 161,
   "metadata": {
    "hidden": true
   },
   "outputs": [],
   "source": [
    "'''Adding to a Dictionary'''\n",
    "\n",
    "MJO_RX1d_dict = {}\n",
    "MJO_RX1d_dict['Intensity (mm)'] = RX1d_intensity\n",
    "MJO_RX1d_dict['Frequency'] = RX1d_frequency"
   ]
  },
  {
   "cell_type": "code",
   "execution_count": 153,
   "metadata": {
    "hidden": true
   },
   "outputs": [],
   "source": [
    "# out_file = open('MJO_RX1d.pickle', 'wb')\n",
    "# pickle.dump(MJO_RX1d, out_file)\n",
    "# out_file.close()"
   ]
  },
  {
   "cell_type": "markdown",
   "metadata": {
    "heading_collapsed": true
   },
   "source": [
    "# P90"
   ]
  },
  {
   "cell_type": "code",
   "execution_count": 128,
   "metadata": {
    "hidden": true
   },
   "outputs": [],
   "source": [
    "path = '/home/student.unimelb.edu.au/aborowiak/Desktop/Code/Current Project/Stations/Extreme Indices/station_monthly_climatologies.pickle'\n",
    "pickle_in = open(path, 'rb')\n",
    "station_monthly_climatologies = pickle.load(pickle_in)"
   ]
  },
  {
   "cell_type": "code",
   "execution_count": 129,
   "metadata": {
    "hidden": true
   },
   "outputs": [
    {
     "data": {
      "text/plain": [
       "56"
      ]
     },
     "execution_count": 129,
     "metadata": {},
     "output_type": "execute_result"
    }
   ],
   "source": [
    "len(station_monthly_climatologies.keys())"
   ]
  },
  {
   "cell_type": "markdown",
   "metadata": {
    "hidden": true
   },
   "source": [
    "<h4> Making list of all the events that are greater than the 90th percentile </h4>"
   ]
  },
  {
   "cell_type": "code",
   "execution_count": 130,
   "metadata": {
    "hidden": true
   },
   "outputs": [],
   "source": [
    "\n",
    "#As there is a df for every station, this is where all of the df's will be stored. Using the station number as\n",
    "#as reference\n",
    "P90_raindays = {}\n",
    "\n",
    "\n",
    "\n",
    "#The stations that I will be using for the MJO\n",
    "current_stations = MJO_df.index\n",
    "\n",
    "\n",
    "\n",
    "############ Looping through all of the stations and finding the days > 90th percentile\n",
    "for station in current_stations:\n",
    "    \n",
    "    #Remerging all of the data frames for each month back into the one dataframe\n",
    "    repieced_df = pd.DataFrame()\n",
    "    \n",
    "    #Only getting the rainfall data from the required time range\n",
    "    rain_data = daily_rainfall_dict[station].loc['1974-06-01':'2010']\n",
    "    \n",
    "    \n",
    "    \"\"\" Getting Rid of Bad Wet Seasons\"\"\"\n",
    "    #These are the wet seasons where there is less than 90% of the data available\n",
    "    \n",
    "    bad_years = MJO_df['Bad Wet Seasons'].loc[station]\n",
    "    rain_data = rain_data[~rain_data.isin(bad_years)]\n",
    "    \n",
    "    \n",
    "    \"\"\"90th Percentile Climatology\"\"\"\n",
    "    # The 90th percenilte for each month as calculated in exind_calc\n",
    "    P90 = station_monthly_climatologies[station]['90th Percentile']\n",
    "    \n",
    "    #There is a different climatology for each month\n",
    "    months = P90.index\n",
    "        \n",
    "    \n",
    "    \n",
    "    #For storing all of the dates and the rainfall values together, they can then be flattened and sorted.\n",
    "    rainfall_array = []\n",
    "    dates_array = []\n",
    "\n",
    "    \"\"\"Getting the 90th percentile rainfall for each of the months\"\"\"\n",
    "    for i,month in enumerate(months):\n",
    "        \n",
    "        #Values for a specific month as climatologies are for individual months\n",
    "        rain_data_specific_month = rain_data[rain_data.index.month  == month ]\n",
    "        P90_specific_month = P90.loc[month]\n",
    "        \n",
    "        #Getting the rainfall events that are greater than the 90th percentile\n",
    "        events_greater_90P = rain_data_specific_month[rain_data_specific_month['Rainfall (mm)'] > P90_specific_month]\n",
    "        \n",
    "        #Convering the rainfall and the dates to array\n",
    "        rainfall_only = np.array(events_greater_90P['Rainfall (mm)'])\n",
    "        dates_only = np.array(events_greater_90P.index)\n",
    "        \n",
    "        \"\"\"Appending the rainfall and dates individually to a list, they can then be concatonated then sorted to form\n",
    "        one consistent list\"\"\"\n",
    "        rainfall_array.append(rainfall_only)\n",
    "        dates_array.append(dates_only)\n",
    "        \n",
    "    \n",
    "    \"\"\"A flat list of all the different values together\"\"\"\n",
    "    rainfall_flat = np.concatenate(rainfall_array)\n",
    "    dates_flat = np.concatenate(dates_array)\n",
    "    \n",
    "    \n",
    "    \"\"\" Putting the values into a dataframe and then sorting them in date order\"\"\"\n",
    "    df = pd.DataFrame()\n",
    "    df['Date'] = dates_flat\n",
    "    df['Rainfall (mm)'] = rainfall_flat\n",
    "    df = df.sort_values(by = 'Date')\n",
    "    df = df.set_index('Date')\n",
    "    \n",
    "    \n",
    "    #Adding in to the dictionary\n",
    "    P90_raindays[station] = df"
   ]
  },
  {
   "cell_type": "markdown",
   "metadata": {
    "hidden": true
   },
   "source": [
    "<h4> Getting the RMM values for events greater than the 90th Percentile </h1>"
   ]
  },
  {
   "cell_type": "code",
   "execution_count": 131,
   "metadata": {
    "hidden": true
   },
   "outputs": [],
   "source": [
    "\"\"\" Getting the Phases of the RMM that correspond to evetns > than the 90th Percentile\"\"\"\n",
    "\n",
    "MJO_P90 = {}\n",
    "\n",
    "#The stations that I will be using for the MJO\n",
    "current_stations = MJO_df.index\n",
    "\n",
    "for station in current_stations:\n",
    "    P90_val = P90_raindays[station]\n",
    "    RMM_reduce = RMM[RMM.index.isin(P90_val.index)]\n",
    "    \n",
    "    #Combing the RMM and the RP90 days\n",
    "    combined = pd.concat([P90_val, RMM_reduce], axis = 1)\n",
    "    \n",
    "    #Removing the events where amp < 1\n",
    "    combined  = combined[combined['Amplitude'] > 1]\n",
    "    \n",
    "    #Adding all o fthe df's to a dictionary\n",
    "    MJO_P90[station] = combined"
   ]
  },
  {
   "cell_type": "code",
   "execution_count": 132,
   "metadata": {
    "hidden": true
   },
   "outputs": [
    {
     "data": {
      "text/html": [
       "<div>\n",
       "<style scoped>\n",
       "    .dataframe tbody tr th:only-of-type {\n",
       "        vertical-align: middle;\n",
       "    }\n",
       "\n",
       "    .dataframe tbody tr th {\n",
       "        vertical-align: top;\n",
       "    }\n",
       "\n",
       "    .dataframe thead th {\n",
       "        text-align: right;\n",
       "    }\n",
       "</style>\n",
       "<table border=\"1\" class=\"dataframe\">\n",
       "  <thead>\n",
       "    <tr style=\"text-align: right;\">\n",
       "      <th></th>\n",
       "      <th>Rainfall (mm)</th>\n",
       "      <th>Phase</th>\n",
       "      <th>Amplitude</th>\n",
       "    </tr>\n",
       "    <tr>\n",
       "      <th>Date</th>\n",
       "      <th></th>\n",
       "      <th></th>\n",
       "      <th></th>\n",
       "    </tr>\n",
       "  </thead>\n",
       "  <tbody>\n",
       "    <tr>\n",
       "      <th>1974-11-26</th>\n",
       "      <td>49.4</td>\n",
       "      <td>5.0</td>\n",
       "      <td>1.05443</td>\n",
       "    </tr>\n",
       "    <tr>\n",
       "      <th>1974-12-21</th>\n",
       "      <td>31.0</td>\n",
       "      <td>8.0</td>\n",
       "      <td>1.35984</td>\n",
       "    </tr>\n",
       "    <tr>\n",
       "      <th>1975-02-01</th>\n",
       "      <td>36.0</td>\n",
       "      <td>1.0</td>\n",
       "      <td>2.02628</td>\n",
       "    </tr>\n",
       "    <tr>\n",
       "      <th>1975-12-09</th>\n",
       "      <td>39.0</td>\n",
       "      <td>4.0</td>\n",
       "      <td>1.50607</td>\n",
       "    </tr>\n",
       "    <tr>\n",
       "      <th>1976-02-10</th>\n",
       "      <td>52.4</td>\n",
       "      <td>8.0</td>\n",
       "      <td>1.72448</td>\n",
       "    </tr>\n",
       "  </tbody>\n",
       "</table>\n",
       "</div>"
      ],
      "text/plain": [
       "            Rainfall (mm)  Phase  Amplitude\n",
       "Date                                       \n",
       "1974-11-26           49.4    5.0    1.05443\n",
       "1974-12-21           31.0    8.0    1.35984\n",
       "1975-02-01           36.0    1.0    2.02628\n",
       "1975-12-09           39.0    4.0    1.50607\n",
       "1976-02-10           52.4    8.0    1.72448"
      ]
     },
     "execution_count": 132,
     "metadata": {},
     "output_type": "execute_result"
    }
   ],
   "source": [
    "MJO_P90['2009'].head()"
   ]
  },
  {
   "cell_type": "markdown",
   "metadata": {
    "hidden": true
   },
   "source": [
    "<h4> Calculating the Exinds </h4>\n",
    "So far just the days that are > 90th percentile have been calculated. Now the frequency of events > 90thP during each phase will be calculate, and other exinds."
   ]
  },
  {
   "cell_type": "code",
   "execution_count": 133,
   "metadata": {
    "hidden": true
   },
   "outputs": [],
   "source": [
    "#DF's to store all the results of all the phases in\n",
    "P90_freq = pd.DataFrame()\n",
    "P90_int = pd.DataFrame()\n",
    "\n",
    "#The phases of the MJO\n",
    "MJO_phases = np.arange(1,9)\n",
    "\n",
    "for station in current_stations: #Calculations for all of the phases\n",
    "\n",
    "    #All of the days for this station that are > 90th percentile\n",
    "    P90_days = MJO_P90[station]\n",
    "    \n",
    "    #A list of all the frequencies per phase\n",
    "    phase_freq = []\n",
    "    phase_int = []\n",
    "    \n",
    "    for phase in MJO_phases: #Looping through all 8 phases of the MJO and getting days for each phase\n",
    "        #Just the values >90th P for each phase\n",
    "        P90_phase = P90_days[P90_days.Phase == phase]\n",
    "        \n",
    "        '''Average Intensity'''\n",
    "        intensity = P90_phase['Rainfall (mm)'].mean()\n",
    "        phase_int.append(intensity)\n",
    "        \n",
    "        '''Frequency'''\n",
    "        #Frequency will be the length as this is the total amoutn of events occuring in this phase\n",
    "        freq = len(P90_phase)\n",
    "        \n",
    "        #Appending to a list so then it can be added to the DF\n",
    "        phase_freq.append(freq)\n",
    "    \n",
    "    #Storing the lists in dfs\n",
    "    P90_int[station] = phase_int\n",
    "    P90_freq[station] = phase_freq\n",
    "\n",
    "        \n",
    "'''Setting the Index as the Phases of the MJO'''\n",
    "#Intensity\n",
    "P90_int['Phase'] = MJO_phases\n",
    "P90_int = P90_int.set_index('Phase')\n",
    "\n",
    "\n",
    "#Frequency\n",
    "P90_freq['Phase'] = MJO_phases\n",
    "P90_freq = P90_freq.set_index('Phase')\n",
    "\n",
    "\n"
   ]
  },
  {
   "cell_type": "code",
   "execution_count": 134,
   "metadata": {
    "hidden": true
   },
   "outputs": [
    {
     "data": {
      "text/plain": [
       "<matplotlib.axes._subplots.AxesSubplot at 0x7f40d74415f8>"
      ]
     },
     "execution_count": 134,
     "metadata": {},
     "output_type": "execute_result"
    },
    {
     "data": {
      "image/png": "[encoded data removed]",
      "text/plain": [
       "<Figure size 432x288 with 1 Axes>"
      ]
     },
     "metadata": {},
     "output_type": "display_data"
    }
   ],
   "source": [
    "P90_int['2009'].plot()"
   ]
  },
  {
   "cell_type": "code",
   "execution_count": 135,
   "metadata": {
    "hidden": true
   },
   "outputs": [
    {
     "data": {
      "text/plain": [
       "<matplotlib.axes._subplots.AxesSubplot at 0x7f40d5977358>"
      ]
     },
     "execution_count": 135,
     "metadata": {},
     "output_type": "execute_result"
    },
    {
     "data": {
      "image/png": "[encoded data removed]",
      "text/plain": [
       "<Figure size 432x288 with 1 Axes>"
      ]
     },
     "metadata": {},
     "output_type": "display_data"
    }
   ],
   "source": [
    "P90_freq['2009'].plot()"
   ]
  },
  {
   "cell_type": "markdown",
   "metadata": {
    "hidden": true
   },
   "source": [
    "Storing all of the results in a dicionary. Then pickling the results"
   ]
  },
  {
   "cell_type": "code",
   "execution_count": 136,
   "metadata": {
    "hidden": true
   },
   "outputs": [],
   "source": [
    "MJO_P90_dict = {}\n",
    "MJO_P90_dict['Intensity (mm)'] = P90_int\n",
    "MJO_P90_dict['Frequency'] = P90_freq"
   ]
  },
  {
   "cell_type": "code",
   "execution_count": 137,
   "metadata": {
    "hidden": true
   },
   "outputs": [],
   "source": [
    "# out_file = open('MJO_P90.pickle', 'wb')\n",
    "# pickle.dump(MJO_P90, out_file)\n",
    "# out_file.close()"
   ]
  },
  {
   "cell_type": "markdown",
   "metadata": {},
   "source": [
    "# P95"
   ]
  },
  {
   "cell_type": "markdown",
   "metadata": {},
   "source": [
    "Finding the days that are greated than the 90th Percentile"
   ]
  },
  {
   "cell_type": "code",
   "execution_count": 138,
   "metadata": {},
   "outputs": [],
   "source": [
    "\n",
    "#As there is a df for every station, this is where all of the df's will be stored. Using the station number as\n",
    "#as reference\n",
    "P95_raindays = {}\n",
    "\n",
    "\n",
    "\n",
    "#The stations that I will be using for the MJO\n",
    "current_stations = MJO_df.index\n",
    "\n",
    "\n",
    "\n",
    "############ Looping through all of the stations and finding the days > 95th percentile\n",
    "for station in current_stations:\n",
    "    \n",
    "    #Remerging all of the data frames for each month back into the one dataframe\n",
    "    repieced_df = pd.DataFrame()\n",
    "    \n",
    "    #Only getting the rainfall data from the required time range\n",
    "    rain_data = daily_rainfall_dict[station].loc['1974-06-01':'2010']\n",
    "    \n",
    "    \n",
    "    \"\"\" Getting Rid of Bad Wet Seasons\"\"\"\n",
    "    #These are the wet seasons where there is less than 95% of the data available\n",
    "    \n",
    "    bad_years = MJO_df['Bad Wet Seasons'].loc[station]\n",
    "    rain_data = rain_data[~rain_data.isin(bad_years)]\n",
    "    \n",
    "    \n",
    "    \"\"\"95th Percentile Climatology\"\"\"\n",
    "    # The 95th percenilte for each month as calculated in exind_calc\n",
    "    P95 = station_monthly_climatologies[station]['95th Percentile']\n",
    "    \n",
    "    #There is a different climatology for each month\n",
    "    months = P95.index\n",
    "        \n",
    "    \n",
    "    \n",
    "    #For storing all of the dates and the rainfall values together, they can then be flattened and sorted.\n",
    "    rainfall_array = []\n",
    "    dates_array = []\n",
    "\n",
    "    \"\"\"Getting the 95th percentile rainfall for each of the months\"\"\"\n",
    "    for i,month in enumerate(months):\n",
    "        \n",
    "        #Values for a specific month as climatologies are for individual months\n",
    "        rain_data_specific_month = rain_data[rain_data.index.month  == month ]\n",
    "        P95_specific_month = P95.loc[month]\n",
    "        \n",
    "        #Getting the rainfall events that are greater than the 95th percentile\n",
    "        events_greater_95P = rain_data_specific_month[rain_data_specific_month['Rainfall (mm)'] > P95_specific_month]\n",
    "        \n",
    "        #Convering the rainfall and the dates to array\n",
    "        rainfall_only = np.array(events_greater_95P['Rainfall (mm)'])\n",
    "        dates_only = np.array(events_greater_95P.index)\n",
    "        \n",
    "        \"\"\"Appending the rainfall and dates individually to a list, they can then be concatonated then sorted to form\n",
    "        one consistent list\"\"\"\n",
    "        rainfall_array.append(rainfall_only)\n",
    "        dates_array.append(dates_only)\n",
    "        \n",
    "    \n",
    "    \"\"\"A flat list of all the different values together\"\"\"\n",
    "    rainfall_flat = np.concatenate(rainfall_array)\n",
    "    dates_flat = np.concatenate(dates_array)\n",
    "    \n",
    "    \n",
    "    \"\"\" Putting the values into a dataframe and then sorting them in date order\"\"\"\n",
    "    df = pd.DataFrame()\n",
    "    df['Date'] = dates_flat\n",
    "    df['Rainfall (mm)'] = rainfall_flat\n",
    "    df = df.sort_values(by = 'Date')\n",
    "    df = df.set_index('Date')\n",
    "    \n",
    "    \n",
    "    #Adding in to the dictionary\n",
    "    P95_raindays[station] = df"
   ]
  },
  {
   "cell_type": "markdown",
   "metadata": {},
   "source": [
    "Calculating what phase of the MJO that these events occur for"
   ]
  },
  {
   "cell_type": "code",
   "execution_count": 139,
   "metadata": {},
   "outputs": [],
   "source": [
    "\"\"\" Getting the Phases of the RMM that correspond to evetns > than the 95th Percentile\"\"\"\n",
    "\n",
    "MJO_P95 = {}\n",
    "\n",
    "#The stations that I will be using for the MJO\n",
    "current_stations = MJO_df.index\n",
    "\n",
    "for station in current_stations:\n",
    "    P95_val = P95_raindays[station]\n",
    "    RMM_reduce = RMM[RMM.index.isin(P95_val.index)]\n",
    "    \n",
    "    #Combing the RMM and the RP95 days\n",
    "    combined = pd.concat([P95_val, RMM_reduce], axis = 1)\n",
    "    \n",
    "    #Removing the events where amp < 1\n",
    "    combined  = combined[combined['Amplitude'] > 1]\n",
    "    \n",
    "    #Adding all o fthe df's to a dictionary\n",
    "    MJO_P95[station] = combined"
   ]
  },
  {
   "cell_type": "markdown",
   "metadata": {},
   "source": [
    "Actually Calculating the extreme indices, e.g frequenct, average intensity"
   ]
  },
  {
   "cell_type": "code",
   "execution_count": 140,
   "metadata": {},
   "outputs": [],
   "source": [
    "#DF's to store all the results of all the phases in\n",
    "P95_freq = pd.DataFrame()\n",
    "P95_int = pd.DataFrame()\n",
    "\n",
    "#The phases of the MJO\n",
    "MJO_phases = np.arange(1,9)\n",
    "\n",
    "for station in current_stations: #Calculations for all of the phases\n",
    "\n",
    "    #All of the days for this station that are > 95th percentile\n",
    "    P95_days = MJO_P95[station]\n",
    "    \n",
    "    #A list of all the frequencies per phase\n",
    "    phase_freq = []\n",
    "    phase_int = []\n",
    "    \n",
    "    for phase in MJO_phases: #Looping through all 8 phases of the MJO and getting days for each phase\n",
    "        #Just the values >95th P for each phase\n",
    "        P95_phase = P95_days[P95_days.Phase == phase]\n",
    "        \n",
    "        '''Average Intensity'''\n",
    "        intensity = P95_phase['Rainfall (mm)'].mean()\n",
    "        phase_int.append(intensity)\n",
    "        \n",
    "        '''Frequency'''\n",
    "        #Frequency will be the length as this is the total amoutn of events occuring in this phase\n",
    "        freq = len(P95_phase)\n",
    "        \n",
    "        #Appending to a list so then it can be added to the DF\n",
    "        phase_freq.append(freq)\n",
    "    \n",
    "    #Storing the lists in dfs\n",
    "    P95_int[station] = phase_int\n",
    "    P95_freq[station] = phase_freq\n",
    "\n",
    "        \n",
    "'''Setting the Index as the Phases of the MJO'''\n",
    "#Intensity\n",
    "P95_int['Phase'] = MJO_phases\n",
    "P95_int = P95_int.set_index('Phase')\n",
    "\n",
    "\n",
    "#Frequency\n",
    "P95_freq['Phase'] = MJO_phases\n",
    "P95_freq = P95_freq.set_index('Phase')\n"
   ]
  },
  {
   "cell_type": "code",
   "execution_count": 141,
   "metadata": {},
   "outputs": [
    {
     "data": {
      "text/html": [
       "<div>\n",
       "<style scoped>\n",
       "    .dataframe tbody tr th:only-of-type {\n",
       "        vertical-align: middle;\n",
       "    }\n",
       "\n",
       "    .dataframe tbody tr th {\n",
       "        vertical-align: top;\n",
       "    }\n",
       "\n",
       "    .dataframe thead th {\n",
       "        text-align: right;\n",
       "    }\n",
       "</style>\n",
       "<table border=\"1\" class=\"dataframe\">\n",
       "  <thead>\n",
       "    <tr style=\"text-align: right;\">\n",
       "      <th></th>\n",
       "      <th>5004</th>\n",
       "      <th>5008</th>\n",
       "      <th>5014</th>\n",
       "      <th>4006</th>\n",
       "      <th>3028</th>\n",
       "      <th>3030</th>\n",
       "      <th>3024</th>\n",
       "      <th>3017</th>\n",
       "      <th>3027</th>\n",
       "      <th>2009</th>\n",
       "      <th>...</th>\n",
       "      <th>29048</th>\n",
       "      <th>37001</th>\n",
       "      <th>37049</th>\n",
       "      <th>36028</th>\n",
       "      <th>28004</th>\n",
       "      <th>31055</th>\n",
       "      <th>31011</th>\n",
       "      <th>32040</th>\n",
       "      <th>33073</th>\n",
       "      <th>39049</th>\n",
       "    </tr>\n",
       "    <tr>\n",
       "      <th>Phase</th>\n",
       "      <th></th>\n",
       "      <th></th>\n",
       "      <th></th>\n",
       "      <th></th>\n",
       "      <th></th>\n",
       "      <th></th>\n",
       "      <th></th>\n",
       "      <th></th>\n",
       "      <th></th>\n",
       "      <th></th>\n",
       "      <th></th>\n",
       "      <th></th>\n",
       "      <th></th>\n",
       "      <th></th>\n",
       "      <th></th>\n",
       "      <th></th>\n",
       "      <th></th>\n",
       "      <th></th>\n",
       "      <th></th>\n",
       "      <th></th>\n",
       "      <th></th>\n",
       "    </tr>\n",
       "  </thead>\n",
       "  <tbody>\n",
       "    <tr>\n",
       "      <th>1</th>\n",
       "      <td>1</td>\n",
       "      <td>0</td>\n",
       "      <td>3</td>\n",
       "      <td>2</td>\n",
       "      <td>1</td>\n",
       "      <td>3</td>\n",
       "      <td>0</td>\n",
       "      <td>4</td>\n",
       "      <td>2</td>\n",
       "      <td>3</td>\n",
       "      <td>...</td>\n",
       "      <td>4</td>\n",
       "      <td>4</td>\n",
       "      <td>0</td>\n",
       "      <td>1</td>\n",
       "      <td>4</td>\n",
       "      <td>8</td>\n",
       "      <td>7</td>\n",
       "      <td>2</td>\n",
       "      <td>2</td>\n",
       "      <td>2</td>\n",
       "    </tr>\n",
       "    <tr>\n",
       "      <th>2</th>\n",
       "      <td>0</td>\n",
       "      <td>0</td>\n",
       "      <td>3</td>\n",
       "      <td>0</td>\n",
       "      <td>2</td>\n",
       "      <td>1</td>\n",
       "      <td>4</td>\n",
       "      <td>3</td>\n",
       "      <td>5</td>\n",
       "      <td>6</td>\n",
       "      <td>...</td>\n",
       "      <td>5</td>\n",
       "      <td>2</td>\n",
       "      <td>2</td>\n",
       "      <td>1</td>\n",
       "      <td>7</td>\n",
       "      <td>8</td>\n",
       "      <td>7</td>\n",
       "      <td>4</td>\n",
       "      <td>4</td>\n",
       "      <td>3</td>\n",
       "    </tr>\n",
       "    <tr>\n",
       "      <th>3</th>\n",
       "      <td>1</td>\n",
       "      <td>2</td>\n",
       "      <td>3</td>\n",
       "      <td>3</td>\n",
       "      <td>1</td>\n",
       "      <td>3</td>\n",
       "      <td>2</td>\n",
       "      <td>5</td>\n",
       "      <td>6</td>\n",
       "      <td>5</td>\n",
       "      <td>...</td>\n",
       "      <td>8</td>\n",
       "      <td>5</td>\n",
       "      <td>3</td>\n",
       "      <td>2</td>\n",
       "      <td>9</td>\n",
       "      <td>11</td>\n",
       "      <td>14</td>\n",
       "      <td>7</td>\n",
       "      <td>3</td>\n",
       "      <td>5</td>\n",
       "    </tr>\n",
       "    <tr>\n",
       "      <th>4</th>\n",
       "      <td>0</td>\n",
       "      <td>5</td>\n",
       "      <td>6</td>\n",
       "      <td>11</td>\n",
       "      <td>3</td>\n",
       "      <td>3</td>\n",
       "      <td>6</td>\n",
       "      <td>13</td>\n",
       "      <td>10</td>\n",
       "      <td>5</td>\n",
       "      <td>...</td>\n",
       "      <td>4</td>\n",
       "      <td>3</td>\n",
       "      <td>3</td>\n",
       "      <td>5</td>\n",
       "      <td>10</td>\n",
       "      <td>7</td>\n",
       "      <td>7</td>\n",
       "      <td>6</td>\n",
       "      <td>4</td>\n",
       "      <td>5</td>\n",
       "    </tr>\n",
       "    <tr>\n",
       "      <th>5</th>\n",
       "      <td>1</td>\n",
       "      <td>5</td>\n",
       "      <td>6</td>\n",
       "      <td>4</td>\n",
       "      <td>6</td>\n",
       "      <td>7</td>\n",
       "      <td>9</td>\n",
       "      <td>19</td>\n",
       "      <td>14</td>\n",
       "      <td>9</td>\n",
       "      <td>...</td>\n",
       "      <td>6</td>\n",
       "      <td>4</td>\n",
       "      <td>2</td>\n",
       "      <td>2</td>\n",
       "      <td>18</td>\n",
       "      <td>16</td>\n",
       "      <td>14</td>\n",
       "      <td>14</td>\n",
       "      <td>9</td>\n",
       "      <td>7</td>\n",
       "    </tr>\n",
       "    <tr>\n",
       "      <th>6</th>\n",
       "      <td>4</td>\n",
       "      <td>2</td>\n",
       "      <td>2</td>\n",
       "      <td>8</td>\n",
       "      <td>5</td>\n",
       "      <td>6</td>\n",
       "      <td>5</td>\n",
       "      <td>14</td>\n",
       "      <td>18</td>\n",
       "      <td>16</td>\n",
       "      <td>...</td>\n",
       "      <td>8</td>\n",
       "      <td>4</td>\n",
       "      <td>2</td>\n",
       "      <td>0</td>\n",
       "      <td>14</td>\n",
       "      <td>19</td>\n",
       "      <td>11</td>\n",
       "      <td>6</td>\n",
       "      <td>5</td>\n",
       "      <td>8</td>\n",
       "    </tr>\n",
       "    <tr>\n",
       "      <th>7</th>\n",
       "      <td>3</td>\n",
       "      <td>2</td>\n",
       "      <td>4</td>\n",
       "      <td>3</td>\n",
       "      <td>6</td>\n",
       "      <td>7</td>\n",
       "      <td>8</td>\n",
       "      <td>7</td>\n",
       "      <td>13</td>\n",
       "      <td>10</td>\n",
       "      <td>...</td>\n",
       "      <td>8</td>\n",
       "      <td>7</td>\n",
       "      <td>8</td>\n",
       "      <td>5</td>\n",
       "      <td>18</td>\n",
       "      <td>17</td>\n",
       "      <td>17</td>\n",
       "      <td>12</td>\n",
       "      <td>5</td>\n",
       "      <td>6</td>\n",
       "    </tr>\n",
       "    <tr>\n",
       "      <th>8</th>\n",
       "      <td>1</td>\n",
       "      <td>0</td>\n",
       "      <td>3</td>\n",
       "      <td>6</td>\n",
       "      <td>5</td>\n",
       "      <td>7</td>\n",
       "      <td>5</td>\n",
       "      <td>6</td>\n",
       "      <td>2</td>\n",
       "      <td>5</td>\n",
       "      <td>...</td>\n",
       "      <td>11</td>\n",
       "      <td>4</td>\n",
       "      <td>6</td>\n",
       "      <td>3</td>\n",
       "      <td>10</td>\n",
       "      <td>15</td>\n",
       "      <td>9</td>\n",
       "      <td>9</td>\n",
       "      <td>6</td>\n",
       "      <td>4</td>\n",
       "    </tr>\n",
       "  </tbody>\n",
       "</table>\n",
       "<p>8 rows × 32 columns</p>\n",
       "</div>"
      ],
      "text/plain": [
       "       5004  5008  5014  4006  3028  3030  3024  3017  3027  2009  ...    \\\n",
       "Phase                                                              ...     \n",
       "1         1     0     3     2     1     3     0     4     2     3  ...     \n",
       "2         0     0     3     0     2     1     4     3     5     6  ...     \n",
       "3         1     2     3     3     1     3     2     5     6     5  ...     \n",
       "4         0     5     6    11     3     3     6    13    10     5  ...     \n",
       "5         1     5     6     4     6     7     9    19    14     9  ...     \n",
       "6         4     2     2     8     5     6     5    14    18    16  ...     \n",
       "7         3     2     4     3     6     7     8     7    13    10  ...     \n",
       "8         1     0     3     6     5     7     5     6     2     5  ...     \n",
       "\n",
       "       29048  37001  37049  36028  28004  31055  31011  32040  33073  39049  \n",
       "Phase                                                                        \n",
       "1          4      4      0      1      4      8      7      2      2      2  \n",
       "2          5      2      2      1      7      8      7      4      4      3  \n",
       "3          8      5      3      2      9     11     14      7      3      5  \n",
       "4          4      3      3      5     10      7      7      6      4      5  \n",
       "5          6      4      2      2     18     16     14     14      9      7  \n",
       "6          8      4      2      0     14     19     11      6      5      8  \n",
       "7          8      7      8      5     18     17     17     12      5      6  \n",
       "8         11      4      6      3     10     15      9      9      6      4  \n",
       "\n",
       "[8 rows x 32 columns]"
      ]
     },
     "execution_count": 141,
     "metadata": {},
     "output_type": "execute_result"
    }
   ],
   "source": [
    "P95_freq"
   ]
  },
  {
   "cell_type": "code",
   "execution_count": 142,
   "metadata": {},
   "outputs": [],
   "source": [
    "MJO_P95_dict = {}\n",
    "MJO_P95_dict['Intensity (mm)'] = P95_int\n",
    "MJO_P95_dict['Frequency'] = P95_freq"
   ]
  },
  {
   "cell_type": "markdown",
   "metadata": {},
   "source": [
    "# P99"
   ]
  },
  {
   "cell_type": "code",
   "execution_count": 172,
   "metadata": {},
   "outputs": [],
   "source": [
    "\n",
    "#As there is a df for every station, this is where all of the df's will be stored. Using the station number as\n",
    "#as reference\n",
    "P99_raindays = {}\n",
    "\n",
    "\n",
    "\n",
    "#The stations that I will be using for the MJO\n",
    "current_stations = MJO_df.index\n",
    "\n",
    "\n",
    "\n",
    "############ Looping through all of the stations and finding the days > 99th percentile\n",
    "for station in current_stations:\n",
    "    \n",
    "    #Remerging all of the data frames for each month back into the one dataframe\n",
    "    repieced_df = pd.DataFrame()\n",
    "    \n",
    "    #Only getting the rainfall data from the required time range\n",
    "    rain_data = daily_rainfall_dict[station].loc['1974-06-01':'2010']\n",
    "    \n",
    "    \n",
    "    \"\"\" Getting Rid of Bad Wet Seasons\"\"\"\n",
    "    #These are the wet seasons where there is less than 99% of the data available\n",
    "    \n",
    "    bad_years = MJO_df['Bad Wet Seasons'].loc[station]\n",
    "    rain_data = rain_data[~rain_data.isin(bad_years)]\n",
    "    \n",
    "    \n",
    "    \"\"\"99th Percentile Climatology\"\"\"\n",
    "    # The 99th percenilte for each month as calculated in exind_calc\n",
    "    P99 = station_monthly_climatologies[station]['99th Percentile']\n",
    "    \n",
    "    #There is a different climatology for each month\n",
    "    months = P99.index\n",
    "        \n",
    "    \n",
    "    \n",
    "    #For storing all of the dates and the rainfall values together, they can then be flattened and sorted.\n",
    "    rainfall_array = []\n",
    "    dates_array = []\n",
    "\n",
    "    \"\"\"Getting the 99th percentile rainfall for each of the months\"\"\"\n",
    "    for i,month in enumerate(months):\n",
    "        \n",
    "        #Values for a specific month as climatologies are for individual months\n",
    "        rain_data_specific_month = rain_data[rain_data.index.month  == month ]\n",
    "        P99_specific_month = P99.loc[month]\n",
    "        \n",
    "        #Getting the rainfall events that are greater than the 99th percentile\n",
    "        events_greater_99P = rain_data_specific_month[rain_data_specific_month['Rainfall (mm)'] > P99_specific_month]\n",
    "        \n",
    "        #Convering the rainfall and the dates to array\n",
    "        rainfall_only = np.array(events_greater_99P['Rainfall (mm)'])\n",
    "        dates_only = np.array(events_greater_99P.index)\n",
    "        \n",
    "        \"\"\"Appending the rainfall and dates individually to a list, they can then be concatonated then sorted to form\n",
    "        one consistent list\"\"\"\n",
    "        rainfall_array.append(rainfall_only)\n",
    "        dates_array.append(dates_only)\n",
    "        \n",
    "    \n",
    "    \"\"\"A flat list of all the different values together\"\"\"\n",
    "    rainfall_flat = np.concatenate(rainfall_array)\n",
    "    dates_flat = np.concatenate(dates_array)\n",
    "    \n",
    "    \n",
    "    \"\"\" Putting the values into a dataframe and then sorting them in date order\"\"\"\n",
    "    df = pd.DataFrame()\n",
    "    df['Date'] = dates_flat\n",
    "    df['Rainfall (mm)'] = rainfall_flat\n",
    "    df = df.sort_values(by = 'Date')\n",
    "    df = df.set_index('Date')\n",
    "    \n",
    "    \n",
    "    #Adding in to the dictionary\n",
    "    P99_raindays[station] = df"
   ]
  },
  {
   "cell_type": "code",
   "execution_count": 173,
   "metadata": {},
   "outputs": [],
   "source": [
    "\"\"\" Getting the Phases of the RMM that correspond to evetns > than the 99th Percentile\"\"\"\n",
    "\n",
    "MJO_P99 = {}\n",
    "\n",
    "#The stations that I will be using for the MJO\n",
    "current_stations = MJO_df.index\n",
    "\n",
    "for station in current_stations:\n",
    "    P99_val = P99_raindays[station]\n",
    "    RMM_reduce = RMM[RMM.index.isin(P99_val.index)]\n",
    "    \n",
    "    #Combing the RMM and the RP99 days\n",
    "    combined = pd.concat([P99_val, RMM_reduce], axis = 1)\n",
    "    \n",
    "    #Removing the events where amp < 1\n",
    "    combined  = combined[combined['Amplitude'] > 1]\n",
    "    \n",
    "    #Adding all o fthe df's to a dictionary\n",
    "    MJO_P99[station] = combined"
   ]
  },
  {
   "cell_type": "code",
   "execution_count": 174,
   "metadata": {},
   "outputs": [],
   "source": [
    "#DF's to store all the results of all the phases in\n",
    "P99_freq = pd.DataFrame()\n",
    "P99_int = pd.DataFrame()\n",
    "\n",
    "#The phases of the MJO\n",
    "MJO_phases = np.arange(1,9)\n",
    "\n",
    "for station in current_stations: #Calculations for all of the phases\n",
    "\n",
    "    #All of the days for this station that are > 99th percentile\n",
    "    P99_days = MJO_P99[station]\n",
    "    \n",
    "    #A list of all the frequencies per phase\n",
    "    phase_freq = []\n",
    "    phase_int = []\n",
    "    \n",
    "    for phase in MJO_phases: #Looping through all 8 phases of the MJO and getting days for each phase\n",
    "        #Just the values >99th P for each phase\n",
    "        P99_phase = P99_days[P99_days.Phase == phase]\n",
    "        \n",
    "        '''Average Intensity'''\n",
    "        intensity = P99_phase['Rainfall (mm)'].mean()\n",
    "        phase_int.append(intensity)\n",
    "        \n",
    "        '''Frequency'''\n",
    "        #Frequency will be the length as this is the total amoutn of events occuring in this phase\n",
    "        freq = len(P99_phase)\n",
    "        \n",
    "        #Appending to a list so then it can be added to the DF\n",
    "        phase_freq.append(freq)\n",
    "    \n",
    "    #Storing the lists in dfs\n",
    "    P99_int[station] = phase_int\n",
    "    P99_freq[station] = phase_freq\n",
    "\n",
    "        \n",
    "'''Setting the Index as the Phases of the MJO'''\n",
    "#Intensity\n",
    "P99_int['Phase'] = MJO_phases\n",
    "P99_int = P99_int.set_index('Phase')\n",
    "\n",
    "\n",
    "#Frequency\n",
    "P99_freq['Phase'] = MJO_phases\n",
    "P99_freq = P99_freq.set_index('Phase')\n"
   ]
  },
  {
   "cell_type": "code",
   "execution_count": 177,
   "metadata": {},
   "outputs": [],
   "source": [
    "MJO_P99_dict = {}\n",
    "MJO_P99_dict['Intensity (mm)'] = P99_int\n",
    "MJO_P99_dict['Frequency'] = P99_freq"
   ]
  },
  {
   "cell_type": "markdown",
   "metadata": {},
   "source": [
    "# Pickle All"
   ]
  },
  {
   "cell_type": "markdown",
   "metadata": {},
   "source": [
    "Pickle For The Exinds"
   ]
  },
  {
   "cell_type": "code",
   "execution_count": 178,
   "metadata": {},
   "outputs": [],
   "source": [
    "MJO_Exinds = {'RX1d': MJO_RX1d_dict , 'P90': MJO_P90_dict, 'P95': MJO_P95_dict ,'P99':MJO_P99_dict}"
   ]
  },
  {
   "cell_type": "code",
   "execution_count": 179,
   "metadata": {},
   "outputs": [],
   "source": [
    "out_file = open('MJO_Exinds.pickle','wb')\n",
    "pickle.dump(MJO_Exinds, out_file)\n",
    "out_file.close()"
   ]
  },
  {
   "cell_type": "markdown",
   "metadata": {},
   "source": [
    "Pickle For the Actual Extreme Days. This will be used to combine with ENSO"
   ]
  },
  {
   "cell_type": "code",
   "execution_count": 181,
   "metadata": {},
   "outputs": [],
   "source": [
    "MJO_ex_days = { 'RX1d': MJO_RX1d, 'P90': MJO_P90,'P95': MJO_P95,'P99': MJO_P99}"
   ]
  },
  {
   "cell_type": "code",
   "execution_count": 182,
   "metadata": {},
   "outputs": [],
   "source": [
    "out_file = open('MJO_ex_days.pickle','wb')\n",
    "pickle.dump(MJO_ex_days, out_file)\n",
    "out_file.close()"
   ]
  }
 ],
 "metadata": {
  "kernelspec": {
   "display_name": "Python 3",
   "language": "python",
   "name": "python3"
  },
  "language_info": {
   "codemirror_mode": {
    "name": "ipython",
    "version": 3
   },
   "file_extension": ".py",
   "mimetype": "text/x-python",
   "name": "python",
   "nbconvert_exporter": "python",
   "pygments_lexer": "ipython3",
   "version": "3.6.5"
  },
  "latex_envs": {
   "LaTeX_envs_menu_present": true,
   "autoclose": false,
   "autocomplete": true,
   "bibliofile": "biblio.bib",
   "cite_by": "apalike",
   "current_citInitial": 1,
   "eqLabelWithNumbers": true,
   "eqNumInitial": 1,
   "hotkeys": {
    "equation": "Ctrl-E",
    "itemize": "Ctrl-I"
   },
   "labels_anchors": false,
   "latex_user_defs": false,
   "report_style_numbering": false,
   "user_envs_cfg": false
  },
  "toc": {
   "base_numbering": 1,
   "nav_menu": {},
   "number_sections": true,
   "sideBar": true,
   "skip_h1_title": false,
   "title_cell": "Table of Contents",
   "title_sidebar": "Contents",
   "toc_cell": false,
   "toc_position": {},
   "toc_section_display": true,
   "toc_window_display": false
  }
 },
 "nbformat": 4,
 "nbformat_minor": 2
}
