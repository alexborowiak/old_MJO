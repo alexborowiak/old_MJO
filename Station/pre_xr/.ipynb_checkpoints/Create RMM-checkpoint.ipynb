{
 "cells": [
  {
   "cell_type": "code",
   "execution_count": 38,
   "metadata": {},
   "outputs": [],
   "source": [
    "import matplotlib.pyplot as plt\n",
    "import numpy as np\n",
    "import pandas as pd\n",
    "import glob\n",
    "import pickle\n",
    "from datetime import datetime"
   ]
  },
  {
   "cell_type": "code",
   "execution_count": 2,
   "metadata": {},
   "outputs": [],
   "source": [
    "path = '/home/student.unimelb.edu.au/aborowiak/Desktop/Code/Current Project/Stations/MJO/RMM_meta.csv'"
   ]
  },
  {
   "cell_type": "code",
   "execution_count": 141,
   "metadata": {},
   "outputs": [],
   "source": [
    "date_list = []\n",
    "phase_list = []\n",
    "amp_list = []\n",
    "\n",
    "\n",
    "with open(path) as RMM_meta:\n",
    "    lines = RMM_meta.readlines()\n",
    "    titles = lines[0].split()\n",
    "    for row_num in np.arange(1,len(lines)):\n",
    "        line = lines[row_num].split()\n",
    "        \n",
    "        year = line[0]\n",
    "        month = line[1]\n",
    "        day = line[2]\n",
    "\n",
    "        date = pd.to_datetime(year +'-'+ month +'-'+ day, format = '%Y-%m-%d')\n",
    "        date_list.append(date)\n",
    "\n",
    "        \n",
    "        phase = line[5]\n",
    "        phase_list.append(phase)\n",
    "        amp = line[6]\n",
    "        amp_list.append(amp)\n",
    "\n",
    "\n",
    "RMM = pd.DataFrame()\n",
    "RMM['Date'] = date_list\n",
    "RMM['Phase'] = phase_list\n",
    "RMM['Phase'] = RMM['Phase'].astype(float)\n",
    "RMM['Amplitude'] = amp_list\n",
    "RMM['Amplitude'] = RMM['Amplitude'].astype(float)\n",
    "RMM = RMM.set_index('Date')"
   ]
  },
  {
   "cell_type": "code",
   "execution_count": 142,
   "metadata": {},
   "outputs": [
    {
     "data": {
      "text/html": [
       "<div>\n",
       "<style scoped>\n",
       "    .dataframe tbody tr th:only-of-type {\n",
       "        vertical-align: middle;\n",
       "    }\n",
       "\n",
       "    .dataframe tbody tr th {\n",
       "        vertical-align: top;\n",
       "    }\n",
       "\n",
       "    .dataframe thead th {\n",
       "        text-align: right;\n",
       "    }\n",
       "</style>\n",
       "<table border=\"1\" class=\"dataframe\">\n",
       "  <thead>\n",
       "    <tr style=\"text-align: right;\">\n",
       "      <th></th>\n",
       "      <th>Phase</th>\n",
       "      <th>Amplitude</th>\n",
       "    </tr>\n",
       "    <tr>\n",
       "      <th>Date</th>\n",
       "      <th></th>\n",
       "      <th></th>\n",
       "    </tr>\n",
       "  </thead>\n",
       "  <tbody>\n",
       "    <tr>\n",
       "      <th>1974-06-01</th>\n",
       "      <td>5.0</td>\n",
       "      <td>2.02948</td>\n",
       "    </tr>\n",
       "    <tr>\n",
       "      <th>1974-06-02</th>\n",
       "      <td>5.0</td>\n",
       "      <td>1.89729</td>\n",
       "    </tr>\n",
       "    <tr>\n",
       "      <th>1974-06-03</th>\n",
       "      <td>5.0</td>\n",
       "      <td>1.86476</td>\n",
       "    </tr>\n",
       "    <tr>\n",
       "      <th>1974-06-04</th>\n",
       "      <td>5.0</td>\n",
       "      <td>1.83092</td>\n",
       "    </tr>\n",
       "    <tr>\n",
       "      <th>1974-06-05</th>\n",
       "      <td>5.0</td>\n",
       "      <td>2.03326</td>\n",
       "    </tr>\n",
       "  </tbody>\n",
       "</table>\n",
       "</div>"
      ],
      "text/plain": [
       "            Phase  Amplitude\n",
       "Date                        \n",
       "1974-06-01    5.0    2.02948\n",
       "1974-06-02    5.0    1.89729\n",
       "1974-06-03    5.0    1.86476\n",
       "1974-06-04    5.0    1.83092\n",
       "1974-06-05    5.0    2.03326"
      ]
     },
     "execution_count": 142,
     "metadata": {},
     "output_type": "execute_result"
    }
   ],
   "source": [
    "RMM.head()"
   ]
  },
  {
   "cell_type": "code",
   "execution_count": 143,
   "metadata": {},
   "outputs": [],
   "source": [
    "out_file = open('RMM.pickle', 'wb')\n",
    "pickle.dump(RMM, out_file)\n",
    "out_file.close()"
   ]
  }
 ],
 "metadata": {
  "kernelspec": {
   "display_name": "Python 3",
   "language": "python",
   "name": "python3"
  },
  "language_info": {
   "codemirror_mode": {
    "name": "ipython",
    "version": 3
   },
   "file_extension": ".py",
   "mimetype": "text/x-python",
   "name": "python",
   "nbconvert_exporter": "python",
   "pygments_lexer": "ipython3",
   "version": "3.6.5"
  }
 },
 "nbformat": 4,
 "nbformat_minor": 2
}
