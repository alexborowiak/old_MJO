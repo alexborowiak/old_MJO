{
 "cells": [
  {
   "cell_type": "markdown",
   "metadata": {
    "toc": true
   },
   "source": [
    "<h1>Table of Contents<span class=\"tocSkip\"></span></h1>\n",
    "<div class=\"toc\"><ul class=\"toc-item\"><li><span><a href=\"#Preamble\" data-toc-modified-id=\"Preamble-1\"><span class=\"toc-item-num\">1&nbsp;&nbsp;</span>Preamble</a></span></li><li><span><a href=\"#Max-station-time-frame-(defunt)\" data-toc-modified-id=\"Max-station-time-frame-(defunt)-2\"><span class=\"toc-item-num\">2&nbsp;&nbsp;</span>Max station time frame (defunt)</a></span></li><li><span><a href=\"#Actual-Station-DF\" data-toc-modified-id=\"Actual-Station-DF-3\"><span class=\"toc-item-num\">3&nbsp;&nbsp;</span>Actual Station DF</a></span></li><li><span><a href=\"#Removing-Sunday-Monday\" data-toc-modified-id=\"Removing-Sunday-Monday-4\"><span class=\"toc-item-num\">4&nbsp;&nbsp;</span>Removing Sunday-Monday</a></span></li><li><span><a href=\"#Pickle\" data-toc-modified-id=\"Pickle-5\"><span class=\"toc-item-num\">5&nbsp;&nbsp;</span>Pickle</a></span></li></ul></div>"
   ]
  },
  {
   "cell_type": "markdown",
   "metadata": {
    "heading_collapsed": true
   },
   "source": [
    "# Preamble"
   ]
  },
  {
   "cell_type": "code",
   "execution_count": 2,
   "metadata": {
    "hidden": true
   },
   "outputs": [],
   "source": [
    "import matplotlib.pyplot as plt\n",
    "import numpy as np\n",
    "import pandas as pd\n",
    "import glob\n",
    "import pickle"
   ]
  },
  {
   "cell_type": "code",
   "execution_count": 3,
   "metadata": {
    "hidden": true
   },
   "outputs": [],
   "source": [
    "path = '/home/student.unimelb.edu.au/aborowiak/Desktop/Code/Current Project/Stations/station_information_W2E.pickle'\n",
    "pickle_in = open(path,'rb')\n",
    "station_information_W2E = pickle.load(pickle_in)"
   ]
  },
  {
   "cell_type": "code",
   "execution_count": 4,
   "metadata": {
    "hidden": true
   },
   "outputs": [],
   "source": [
    "patgh = '/home/student.unimelb.edu.au/aborowiak/Desktop/Code/Current Project/Stations/daily_rainfall_dict.pickle'\n",
    "pickle_in = open(path,'rb')\n",
    "daily_rainfall_dict = pickle.load(pickle_in)"
   ]
  },
  {
   "cell_type": "markdown",
   "metadata": {
    "heading_collapsed": true
   },
   "source": [
    "# Max station time frame (defunt)"
   ]
  },
  {
   "cell_type": "code",
   "execution_count": 5,
   "metadata": {
    "hidden": true
   },
   "outputs": [],
   "source": [
    "def my_start(x, base=5):\n",
    "    return (base* round(x.astype(float)/base)).astype(int)\n",
    "\n",
    "def my_end(x, base=5):\n",
    "    return (base * np.floor(x.astype(float)/base)).astype(int)"
   ]
  },
  {
   "cell_type": "code",
   "execution_count": 6,
   "metadata": {
    "hidden": true
   },
   "outputs": [],
   "source": [
    "\n",
    "#This code looks at all of the station runtimes and their starts, it then works out the frequency of different\n",
    "#stations having the exact same (to 5 year roundings) start time and length of data. \n",
    "\n",
    "my_vals = pd.DataFrame()\n",
    "my_vals['Start'] = my_start(station_information_W2E['Start'])\n",
    "my_vals['End'] = my_end(station_information_W2E['End'])\n",
    "my_vals['Range'] = my_vals['End'] - my_vals['Start']\n",
    "\n",
    "ranges = np.sort(list(my_vals['Range'].unique()))\n",
    "start_dates = np.sort(list(my_vals['Start'].unique()))\n",
    "\n",
    "range_dict = {}\n",
    "\n",
    "for i in range(len(start_dates)): #Going through all of the different start dates\n",
    "    data = my_vals[my_vals['Start'] == start_dates[i]]\n",
    "    df = pd.DataFrame()\n",
    "    ranges_list = []\n",
    "    freqs = []\n",
    "    \n",
    "    for k in range(len(ranges)):\n",
    "        vals = data[data['Range'] == ranges[k] ]\n",
    "\n",
    "\n",
    "        if len(vals) == 0:\n",
    "            pass\n",
    "        else:\n",
    "            ranges_list.append(ranges[k])\n",
    "            freqs.append(len(vals))\n",
    "\n",
    "    df['Range (years)'] = ranges_list\n",
    "    df['Frequency'] = freqs\n",
    "    df = df.set_index('Range (years)')\n",
    "    \n",
    "    range_dict[str(start_dates[i])] = df"
   ]
  },
  {
   "cell_type": "code",
   "execution_count": 7,
   "metadata": {
    "hidden": true
   },
   "outputs": [],
   "source": [
    "#number_MJO is the number_MJO of differnt run times that is going to occupy each diffent frequenct in the plot. This includes\n",
    "#the slots that aren't going to be used (e.g see y-axis of upcoming plot)\n",
    "number_MJO = np.array([0 for i in range(9 + 2)]) \n",
    "\n",
    "\n",
    "for start in range_dict.keys(): #Looping through all the differnet start times in the plits\n",
    "    data = range_dict[start]\n",
    "    for ranges in data.index: #Looping throught all of the ranges in each start time\n",
    "        freq = int(range_dict[start].loc[ranges]) #The frequency\n",
    "        number_MJO[freq] += 1 \n",
    "\n",
    "#In order for the height of the (frequency) y-number_MJO bounds to be halfway in between all of the height beforehand must be calculated\n",
    "#then moved up by 1/2 of its current slot.\n",
    "\n",
    "\n"
   ]
  },
  {
   "cell_type": "code",
   "execution_count": 8,
   "metadata": {
    "hidden": true
   },
   "outputs": [
    {
     "data": {
      "text/plain": [
       "array([ 0, 15,  4,  1,  3,  0,  0,  0,  1,  0,  1])"
      ]
     },
     "execution_count": 8,
     "metadata": {},
     "output_type": "execute_result"
    }
   ],
   "source": [
    "number_MJO"
   ]
  },
  {
   "cell_type": "code",
   "execution_count": 9,
   "metadata": {
    "hidden": true
   },
   "outputs": [
    {
     "data": {
      "text/plain": [
       "(array([ 1,  2,  3,  4,  8, 10]),)"
      ]
     },
     "execution_count": 9,
     "metadata": {},
     "output_type": "execute_result"
    }
   ],
   "source": [
    "labels_MJO = np.where(number_MJO > 0) #This is the frequency for each of the diffent slots\n",
    "height_of_ticks = np.array([0 for i in range(len(labels_MJO[0]))])\n",
    "i = 0\n",
    "hot = np.array([0 for i in range(len(labels_MJO[0]))])\n",
    "for freq in labels_MJO[0]:\n",
    "    summer = np.sum(number_MJO[:freq])\n",
    "    summer_2 = np.sum(number_MJO[:freq]) + number_MJO[freq]/2 #This is calculating the (frequency) y-number bounds\n",
    "    hot[i] += summer_2 #hot is where the numbers are going to be plotted\n",
    "    height_of_ticks[i] += summer\n",
    "    i += 1\n",
    "    \n",
    "labels_MJO"
   ]
  },
  {
   "cell_type": "code",
   "execution_count": 10,
   "metadata": {
    "hidden": true
   },
   "outputs": [
    {
     "data": {
      "text/plain": [
       "<Figure size 1440x648 with 0 Axes>"
      ]
     },
     "metadata": {},
     "output_type": "display_data"
    }
   ],
   "source": [
    "max_freq = 0\n",
    "\n",
    "i = 0\n",
    "fig = plt.figure(figsize = (20,9))\n",
    "for start in range_dict.keys():\n",
    "    data = range_dict[start]\n",
    "    for ranges in data.index:\n",
    "        if ranges < 7:\n",
    "            pass\n",
    "        else:\n",
    "            freq = int(range_dict[start].loc[ranges])   \n",
    "            if freq > max_freq:\n",
    "                max_freq = freq\n"
   ]
  },
  {
   "cell_type": "code",
   "execution_count": 11,
   "metadata": {
    "hidden": true
   },
   "outputs": [
    {
     "data": {
      "image/png": "[encoded data removed]",
      "text/plain": [
       "<Figure size 1440x1080 with 1 Axes>"
      ]
     },
     "metadata": {},
     "output_type": "display_data"
    }
   ],
   "source": [
    "#This is calculating what has been plotted before hand to make sure that nothing is overlapping one another\n",
    "\n",
    "used = np.array([0 for i in range(9 + 2)]) \n",
    "\n",
    "######################## \n",
    "\n",
    "fig = plt.figure(figsize = (20,15))\n",
    "for start in range_dict.keys():\n",
    "    data = range_dict[start]\n",
    "    for ranges in data.index:\n",
    "\n",
    "        freq = int(range_dict[start].loc[ranges])\n",
    "        #The height of the plot is related to what frequency the is as well as how many in this frequency have\n",
    "        #been plotted before hand\n",
    "        height = np.sum(number_MJO[:freq])/11 + used[freq]/11 \n",
    "        used[freq] += 1\n",
    "        end = int(start) + int(ranges)\n",
    "        \n",
    "        \n",
    "        if end < 2010:\n",
    "            plt.plot([int(start), int(start) + ranges],[height,height]\n",
    "                     , linewidth = 5, color = 'r')\n",
    "        else:\n",
    "            plt.plot([int(start), int(start) + ranges],[height,height]\n",
    "                     , linewidth = 5, color = 'g')\n",
    "            \n",
    "\n",
    "##############Legend Creation\n",
    "\n",
    "#Creating some random lines that wont be able to be seen fo\n",
    "rand = [1960,1961];\n",
    "nill = [0,0];\n",
    "mini =1 \n",
    "maxi = 15\n",
    "halfway = (maxi - mini) /2 + mini\n",
    "\n",
    "plt.plot(rand, nill, color = (1,0,0), label = '{:.1f}'.format(np.ceil(mini)),linewidth = 5, alpha = 1, zorder = -100)\n",
    "plt.plot(rand, nill, color = (0.5,0,0), label = '{:.1f}'.format(halfway),linewidth = 5, alpha = 1, zorder = -100)\n",
    "plt.plot(rand, nill, color = (0,0,0), label = '{:.1f}'.format(maxi),linewidth = 5, alpha = 1, zorder = -100)\n",
    "\n",
    "plt.title('MJO Station Run Times', size = 20)\n",
    "\n",
    "\n",
    "############3Creating the Correct Place to put all of the ticks\n",
    "for height in height_of_ticks:\n",
    "    actual = height/11 -1/22\n",
    "    plt.plot([1850,2020],[actual, actual], c = 'k', linestyle = ':')\n",
    "\n",
    "plt.yticks(hot/11,labels_MJO[0],size = 15);\n",
    "gl = plt.grid(True, which = 'both', axis = 'x',linestyle = '--')\n",
    "plt.ylabel('number_MJO of Stations with this Run Time', size = 15)\n",
    "plt.xlabel('Year', size = 15)\n",
    "plt.xticks(size= 15)\n",
    "\n",
    "#These are the vertical lines that are the start and the end of the period I am considering looking at\n",
    "start = 1974\n",
    "end = 2010\n",
    "plt.plot([start, start],[-0.5,1.6])\n",
    "plt.plot([end, end],[-0.5,1.6])\n",
    "\n",
    "\n",
    "plt.xlim(1965,2020)\n",
    "plt.ylim(-0.1,1.6)\n",
    "\n",
    "fig.savefig('Station Runtime Frequencies-Stratified MJO.svg')"
   ]
  },
  {
   "cell_type": "markdown",
   "metadata": {
    "heading_collapsed": true
   },
   "source": [
    "# Actual Station DF"
   ]
  },
  {
   "cell_type": "code",
   "execution_count": 37,
   "metadata": {
    "hidden": true
   },
   "outputs": [],
   "source": [
    "df = station_information_W2E.copy(deep = True)\n",
    "df = df.loc[:, ~df.columns.isin(['Data Correct (%)','Available Length','Bad Years',\n",
    "                                 'Data Correct ~(Bad Years) (%)','Number Bad Years'])]\n",
    "\n",
    "\n",
    "start = 1974\n",
    "end = 2017\n",
    "\n",
    "\n",
    "df = df[df['Start'] <= start]\n",
    "df = df[df['End'] >= end]\n",
    "\n",
    "#The number of years in the data must be 90% complete\n",
    "number_required = 0.9 * (start - end)\n",
    "df = df[df['Available Wet Seasons'] > number_required]\n",
    "\n",
    "MJO_df = df"
   ]
  },
  {
   "cell_type": "code",
   "execution_count": 38,
   "metadata": {
    "hidden": true
   },
   "outputs": [
    {
     "data": {
      "text/plain": [
       "36"
      ]
     },
     "execution_count": 38,
     "metadata": {},
     "output_type": "execute_result"
    }
   ],
   "source": [
    "len(MJO_df.index)"
   ]
  },
  {
   "cell_type": "markdown",
   "metadata": {
    "heading_collapsed": true
   },
   "source": [
    "# Removing Sunday-Monday "
   ]
  },
  {
   "cell_type": "code",
   "execution_count": 39,
   "metadata": {
    "hidden": true,
    "scrolled": true
   },
   "outputs": [],
   "source": [
    "bad_decadal_stations = ['2014', '14902', '14933', '29034', '31043', '32032', '33023', '37043']"
   ]
  },
  {
   "cell_type": "code",
   "execution_count": 40,
   "metadata": {
    "hidden": true
   },
   "outputs": [
    {
     "data": {
      "text/plain": [
       "['14902', '14933', '32032', '33023']"
      ]
     },
     "execution_count": 40,
     "metadata": {},
     "output_type": "execute_result"
    }
   ],
   "source": [
    "#This code will find wether any of the failed sunday-monday stations are in the ENSO df\n",
    "\n",
    "in_file = []\n",
    "for bad_station in bad_decadal_stations:\n",
    "    if any(station == bad_station for station in list(MJO_df.index)):\n",
    "        in_file.append(bad_station)\n",
    "    else:\n",
    "        pass\n",
    "in_file      "
   ]
  },
  {
   "cell_type": "code",
   "execution_count": 41,
   "metadata": {
    "hidden": true
   },
   "outputs": [],
   "source": [
    "for station in in_file:\n",
    "    MJO_df = MJO_df.drop(station)"
   ]
  },
  {
   "cell_type": "code",
   "execution_count": 42,
   "metadata": {
    "hidden": true
   },
   "outputs": [],
   "source": [
    "# fraction_list = []\n",
    "\n",
    "# wet_season_months = ['9','10','11','12','1','2','3']\n",
    "# for station in MJO_df.index:\n",
    "#     data = daily_rainfall_dict[station]\n",
    "#     data = data[data['Rainfall (mm)'] < 8000 ]\n",
    "#     wet_season = data[data.index.month.isin(wet_season_months)]\n",
    "    \n",
    "#     wet_season_amount = wet_season['Rainfall (mm)'].sum()\n",
    "#     total_amount = data['Rainfall (mm)'].sum()\n",
    "#     fraction = wet_season_amount/total_amount *100\n",
    "    \n",
    "#     fraction_list.append(fraction)\n",
    "    \n",
    "    \n",
    "# MJO_df['Percent of Rainfall in Wet Season'] = fraction_list  \n",
    "# MJO_df['Percent of Rainfall in Wet Season'] = MJO_df['Percent of Rainfall in Wet Season'].round(3)"
   ]
  },
  {
   "cell_type": "code",
   "execution_count": 43,
   "metadata": {
    "hidden": true
   },
   "outputs": [
    {
     "data": {
      "text/html": [
       "<div>\n",
       "<style scoped>\n",
       "    .dataframe tbody tr th:only-of-type {\n",
       "        vertical-align: middle;\n",
       "    }\n",
       "\n",
       "    .dataframe tbody tr th {\n",
       "        vertical-align: top;\n",
       "    }\n",
       "\n",
       "    .dataframe thead th {\n",
       "        text-align: right;\n",
       "    }\n",
       "</style>\n",
       "<table border=\"1\" class=\"dataframe\">\n",
       "  <thead>\n",
       "    <tr style=\"text-align: right;\">\n",
       "      <th></th>\n",
       "      <th>Name</th>\n",
       "      <th>Lat</th>\n",
       "      <th>Lon</th>\n",
       "      <th>Start</th>\n",
       "      <th>End</th>\n",
       "      <th>Length (years)</th>\n",
       "      <th>Number of Wet Seasons</th>\n",
       "      <th>Number Bad Wet Seasons</th>\n",
       "      <th>Available Wet Seasons</th>\n",
       "      <th>Bad Wet Seasons</th>\n",
       "    </tr>\n",
       "    <tr>\n",
       "      <th>Station Number</th>\n",
       "      <th></th>\n",
       "      <th></th>\n",
       "      <th></th>\n",
       "      <th></th>\n",
       "      <th></th>\n",
       "      <th></th>\n",
       "      <th></th>\n",
       "      <th></th>\n",
       "      <th></th>\n",
       "      <th></th>\n",
       "    </tr>\n",
       "  </thead>\n",
       "  <tbody>\n",
       "    <tr>\n",
       "      <th>5004</th>\n",
       "      <td>EXMOUTH GULF</td>\n",
       "      <td>-22.38</td>\n",
       "      <td>114.11</td>\n",
       "      <td>1915</td>\n",
       "      <td>2018</td>\n",
       "      <td>103</td>\n",
       "      <td>104</td>\n",
       "      <td>5</td>\n",
       "      <td>99</td>\n",
       "      <td>[1925, 2009, 2011, 2012, 2018]</td>\n",
       "    </tr>\n",
       "    <tr>\n",
       "      <th>5008</th>\n",
       "      <td>MARDIE</td>\n",
       "      <td>-21.19</td>\n",
       "      <td>115.98</td>\n",
       "      <td>1885</td>\n",
       "      <td>2018</td>\n",
       "      <td>133</td>\n",
       "      <td>134</td>\n",
       "      <td>25</td>\n",
       "      <td>109</td>\n",
       "      <td>[1885, 1886, 1887, 1888, 1889, 1890, 1891, 189...</td>\n",
       "    </tr>\n",
       "    <tr>\n",
       "      <th>5014</th>\n",
       "      <td>MOUNT FLORANCE</td>\n",
       "      <td>-21.79</td>\n",
       "      <td>117.86</td>\n",
       "      <td>1886</td>\n",
       "      <td>2018</td>\n",
       "      <td>132</td>\n",
       "      <td>133</td>\n",
       "      <td>33</td>\n",
       "      <td>100</td>\n",
       "      <td>[1886, 1887, 1888, 1889, 1890, 1891, 1892, 189...</td>\n",
       "    </tr>\n",
       "    <tr>\n",
       "      <th>4006</th>\n",
       "      <td>BONNEY DOWNS</td>\n",
       "      <td>-22.18</td>\n",
       "      <td>119.94</td>\n",
       "      <td>1907</td>\n",
       "      <td>2018</td>\n",
       "      <td>111</td>\n",
       "      <td>112</td>\n",
       "      <td>9</td>\n",
       "      <td>103</td>\n",
       "      <td>[1907, 1909, 1914, 1939, 1968, 1969, 1970, 199...</td>\n",
       "    </tr>\n",
       "    <tr>\n",
       "      <th>3028</th>\n",
       "      <td>ANNA PLAINS</td>\n",
       "      <td>-19.25</td>\n",
       "      <td>121.49</td>\n",
       "      <td>1908</td>\n",
       "      <td>2018</td>\n",
       "      <td>110</td>\n",
       "      <td>111</td>\n",
       "      <td>40</td>\n",
       "      <td>71</td>\n",
       "      <td>[1908, 1909, 1910, 1911, 1912, 1913, 1914, 191...</td>\n",
       "    </tr>\n",
       "  </tbody>\n",
       "</table>\n",
       "</div>"
      ],
      "text/plain": [
       "                          Name     Lat     Lon  Start   End  Length (years)  \\\n",
       "Station Number                                                                \n",
       "5004              EXMOUTH GULF  -22.38  114.11   1915  2018             103   \n",
       "5008                    MARDIE  -21.19  115.98   1885  2018             133   \n",
       "5014            MOUNT FLORANCE  -21.79  117.86   1886  2018             132   \n",
       "4006              BONNEY DOWNS  -22.18  119.94   1907  2018             111   \n",
       "3028               ANNA PLAINS  -19.25  121.49   1908  2018             110   \n",
       "\n",
       "                Number of Wet Seasons  Number Bad Wet Seasons  \\\n",
       "Station Number                                                  \n",
       "5004                              104                       5   \n",
       "5008                              134                      25   \n",
       "5014                              133                      33   \n",
       "4006                              112                       9   \n",
       "3028                              111                      40   \n",
       "\n",
       "                Available Wet Seasons  \\\n",
       "Station Number                          \n",
       "5004                               99   \n",
       "5008                              109   \n",
       "5014                              100   \n",
       "4006                              103   \n",
       "3028                               71   \n",
       "\n",
       "                                                  Bad Wet Seasons  \n",
       "Station Number                                                     \n",
       "5004                               [1925, 2009, 2011, 2012, 2018]  \n",
       "5008            [1885, 1886, 1887, 1888, 1889, 1890, 1891, 189...  \n",
       "5014            [1886, 1887, 1888, 1889, 1890, 1891, 1892, 189...  \n",
       "4006            [1907, 1909, 1914, 1939, 1968, 1969, 1970, 199...  \n",
       "3028            [1908, 1909, 1910, 1911, 1912, 1913, 1914, 191...  "
      ]
     },
     "execution_count": 43,
     "metadata": {},
     "output_type": "execute_result"
    }
   ],
   "source": [
    "MJO_df.head()"
   ]
  },
  {
   "cell_type": "markdown",
   "metadata": {
    "heading_collapsed": true
   },
   "source": [
    "# Pickle"
   ]
  },
  {
   "cell_type": "code",
   "execution_count": 44,
   "metadata": {
    "hidden": true
   },
   "outputs": [
    {
     "data": {
      "text/plain": [
       "32"
      ]
     },
     "execution_count": 44,
     "metadata": {},
     "output_type": "execute_result"
    }
   ],
   "source": [
    "len(MJO_df.index)"
   ]
  },
  {
   "cell_type": "code",
   "execution_count": 46,
   "metadata": {
    "hidden": true
   },
   "outputs": [],
   "source": [
    "\n",
    "pickle_out = open('MJO_df.pickle', 'wb')\n",
    "pickle.dump(MJO_df, pickle_out)\n",
    "pickle_out.close()"
   ]
  }
 ],
 "metadata": {
  "kernelspec": {
   "display_name": "Python 3",
   "language": "python",
   "name": "python3"
  },
  "language_info": {
   "codemirror_mode": {
    "name": "ipython",
    "version": 3
   },
   "file_extension": ".py",
   "mimetype": "text/x-python",
   "name": "python",
   "nbconvert_exporter": "python",
   "pygments_lexer": "ipython3",
   "version": "3.6.5"
  },
  "latex_envs": {
   "LaTeX_envs_menu_present": true,
   "autoclose": false,
   "autocomplete": true,
   "bibliofile": "biblio.bib",
   "cite_by": "apalike",
   "current_citInitial": 1,
   "eqLabelWithNumbers": true,
   "eqNumInitial": 1,
   "hotkeys": {
    "equation": "Ctrl-E",
    "itemize": "Ctrl-I"
   },
   "labels_anchors": false,
   "latex_user_defs": false,
   "report_style_numbering": false,
   "user_envs_cfg": false
  },
  "toc": {
   "base_numbering": 1,
   "nav_menu": {},
   "number_sections": true,
   "sideBar": true,
   "skip_h1_title": false,
   "title_cell": "Table of Contents",
   "title_sidebar": "Contents",
   "toc_cell": true,
   "toc_position": {},
   "toc_section_display": true,
   "toc_window_display": true
  }
 },
 "nbformat": 4,
 "nbformat_minor": 2
}
