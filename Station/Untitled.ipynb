{
 "cells": [
  {
   "cell_type": "code",
   "execution_count": 16,
   "metadata": {},
   "outputs": [],
   "source": [
    "import xarray as xr\n",
    "import matplotlib.pyplot as plt\n",
    "import numpy as np"
   ]
  },
  {
   "cell_type": "code",
   "execution_count": 8,
   "metadata": {},
   "outputs": [],
   "source": [
    "station_xr = xr.open_dataset('station_xr.nc')"
   ]
  },
  {
   "cell_type": "code",
   "execution_count": 9,
   "metadata": {},
   "outputs": [],
   "source": [
    "station = station_xr.isel(location = 11)"
   ]
  },
  {
   "cell_type": "code",
   "execution_count": 17,
   "metadata": {},
   "outputs": [],
   "source": [
    "station_90 = station.precip.groupby('time.month').reduce(np.nanpercentile, q = 90, dim = 'time')"
   ]
  },
  {
   "cell_type": "code",
   "execution_count": 147,
   "metadata": {},
   "outputs": [
    {
     "data": {
      "text/plain": [
       "<xarray.DataArray 'precip' (month: 6)>\n",
       "array([53.2 , 48.94, 45.73, 33.64, 35.1 , 42.54])\n",
       "Coordinates:\n",
       "    location  <U5 '14015'\n",
       "  * month     (month) int64 1 2 3 10 11 12"
      ]
     },
     "execution_count": 147,
     "metadata": {},
     "output_type": "execute_result"
    }
   ],
   "source": [
    "station_90"
   ]
  },
  {
   "cell_type": "markdown",
   "metadata": {},
   "source": [
    "# One Year"
   ]
  },
  {
   "cell_type": "code",
   "execution_count": 140,
   "metadata": {},
   "outputs": [
    {
     "data": {
      "text/plain": [
       "(0, 31)"
      ]
     },
     "execution_count": 140,
     "metadata": {},
     "output_type": "execute_result"
    },
    {
     "data": {
      "image/png": "[encoded data removed]",
      "text/plain": [
       "<Figure size 432x288 with 1 Axes>"
      ]
     },
     "metadata": {
      "needs_background": "light"
     },
     "output_type": "display_data"
    }
   ],
   "source": [
    "year = '2011'\n",
    "sub = station.sel(time = slice(year + '-01-01',year +'-02-01'))\n",
    "\n",
    "sub_prec = sub.precip.values\n",
    "sub_prec = np.nan_to_num(sub_prec)\n",
    "\n",
    "sub_time = sub.time.values\n",
    "\n",
    "fig, ax = plt.subplots()\n",
    "x = np.arange(0, len(sub_time))\n",
    "plt.bar(x,sub_prec)\n",
    "\n",
    "p90 = station_90.sel(month = 1).values\n",
    "\n",
    "ax.plot([0,32],[p90,p90], color = 'orange', linestyle = ':')\n",
    "\n",
    "\n",
    "ax.set_xticks([0,14,30]);\n",
    "ax.set_xticklabels([1,15,31]);\n",
    "ax.set_xlim(0,31)"
   ]
  },
  {
   "cell_type": "markdown",
   "metadata": {},
   "source": [
    "# Multiple Years"
   ]
  },
  {
   "cell_type": "code",
   "execution_count": 148,
   "metadata": {},
   "outputs": [
    {
     "data": {
      "text/plain": [
       "(0, 90)"
      ]
     },
     "execution_count": 148,
     "metadata": {},
     "output_type": "execute_result"
    },
    {
     "data": {
      "image/png": "[encoded data removed]",
      "text/plain": [
       "<Figure size 432x288 with 1 Axes>"
      ]
     },
     "metadata": {
      "needs_background": "light"
     },
     "output_type": "display_data"
    }
   ],
   "source": [
    "year = 2009\n",
    "sub1 = station.sel(time = slice(str(year) + '-01-01',str(year) +'-02-01'))\n",
    "year = year + 1\n",
    "sub2 = station.sel(time = slice(str(year) + '-01-01',str(year) +'-02-01'))\n",
    "year = year + 1\n",
    "sub3 = station.sel(time = slice(str(year) + '-01-01',str(year) +'-02-01'))\n",
    "year = year + 1\n",
    "sub4 = station.sel(time = slice(str(year) + '-01-01',str(year) +'-02-01'))\n",
    "year = year + 1\n",
    "sub5 = station.sel(time = slice(str(year) + '-01-01',str(year) +'-02-01'))\n",
    "year = year + 1\n",
    "sub6 = station.sel(time = slice(str(year) + '-01-01',str(year) +'-02-01'))\n",
    "\n",
    "sub = sub1.combine_first(sub2).combine_first(sub3).combine_first(sub4).combine_first(sub5).combine_first(sub6)\n",
    "sub_prec = sub.precip.values\n",
    "sub_prec = np.nan_to_num(sub_prec)\n",
    "\n",
    "\n",
    "\n",
    "sub_time = sub.time.values\n",
    "\n",
    "fig, ax = plt.subplots()\n",
    "x = np.arange(0, len(sub_time))\n",
    "plt.bar(x,sub_prec)\n",
    "\n",
    "p90 = station_90.sel(month = 1).values\n",
    "\n",
    "ax.plot([0,32],[p90,p90], color = 'orange', linestyle = ':')\n",
    "\n",
    "\n",
    "ax.set_xticks([0,14,30]);\n",
    "ax.set_xticklabels([1,15,31]);\n",
    "ax.set_xlim(0,31)\n",
    "ax.set_ylim(0,90)"
   ]
  },
  {
   "cell_type": "code",
   "execution_count": 149,
   "metadata": {},
   "outputs": [
    {
     "data": {
      "text/plain": [
       "<xarray.Dataset>\n",
       "Dimensions:       (time: 26596)\n",
       "Coordinates:\n",
       "  * time          (time) datetime64[ns] 1873-01-01 1873-01-02 ... 2018-12-20\n",
       "    location      <U5 '14015'\n",
       "Data variables:\n",
       "    precip        (time) float64 ...\n",
       "    station_name  object ...\n",
       "    lat           float64 -12.42\n",
       "    lon           float64 130.9"
      ]
     },
     "execution_count": 149,
     "metadata": {},
     "output_type": "execute_result"
    }
   ],
   "source": [
    "station"
   ]
  },
  {
   "cell_type": "code",
   "execution_count": null,
   "metadata": {},
   "outputs": [],
   "source": [
    "s\n",
    "\n",
    "\n",
    "sub_time = sub.time.values\n",
    "\n",
    "fig, ax = plt.subplots()\n",
    "x = np.arange(0, len(sub_time))\n",
    "plt.bar(x,sub_prec)\n",
    "\n",
    "p90 = station_90.sel(month = 1).values\n",
    "\n",
    "ax.plot([0,32],[p90,p90], color = 'orange', linestyle = ':')\n",
    "\n",
    "\n",
    "ax.set_xticks([0,14,30]);\n",
    "ax.set_xticklabels([1,15,31]);\n",
    "ax.set_xlim(0,31)\n",
    "ax.set_ylim(0,90)"
   ]
  },
  {
   "cell_type": "markdown",
   "metadata": {},
   "source": []
  }
 ],
 "metadata": {
  "kernelspec": {
   "display_name": "Python 3",
   "language": "python",
   "name": "python3"
  },
  "language_info": {
   "codemirror_mode": {
    "name": "ipython",
    "version": 3
   },
   "file_extension": ".py",
   "mimetype": "text/x-python",
   "name": "python",
   "nbconvert_exporter": "python",
   "pygments_lexer": "ipython3",
   "version": "3.7.3"
  }
 },
 "nbformat": 4,
 "nbformat_minor": 2
}
