{
 "cells": [
  {
   "cell_type": "markdown",
   "metadata": {
    "toc": true
   },
   "source": [
    "<h1>Table of Contents<span class=\"tocSkip\"></span></h1>\n",
    "<div class=\"toc\"><ul class=\"toc-item\"><li><span><a href=\"#Preamble\" data-toc-modified-id=\"Preamble-1\"><span class=\"toc-item-num\">1&nbsp;&nbsp;</span>Preamble</a></span></li><li><span><a href=\"#Loading-in-AWAP\" data-toc-modified-id=\"Loading-in-AWAP-2\"><span class=\"toc-item-num\">2&nbsp;&nbsp;</span>Loading in AWAP</a></span></li><li><span><a href=\"#Applying--a-Mask\" data-toc-modified-id=\"Applying--a-Mask-3\"><span class=\"toc-item-num\">3&nbsp;&nbsp;</span>Applying  a Mask</a></span></li><li><span><a href=\"#Just-North-and-Raindays\" data-toc-modified-id=\"Just-North-and-Raindays-4\"><span class=\"toc-item-num\">4&nbsp;&nbsp;</span>Just North and Raindays</a></span></li><li><span><a href=\"#The-RMM\" data-toc-modified-id=\"The-RMM-5\"><span class=\"toc-item-num\">5&nbsp;&nbsp;</span>The RMM</a></span><ul class=\"toc-item\"><li><span><a href=\"#Reading-In\" data-toc-modified-id=\"Reading-In-5.1\"><span class=\"toc-item-num\">5.1&nbsp;&nbsp;</span>Reading In</a></span></li><li><span><a href=\"#Adding-to-AWAP-and-Removing-Errors\" data-toc-modified-id=\"Adding-to-AWAP-and-Removing-Errors-5.2\"><span class=\"toc-item-num\">5.2&nbsp;&nbsp;</span>Adding to AWAP and Removing Errors</a></span></li></ul></li><li><span><a href=\"#Percentiles\" data-toc-modified-id=\"Percentiles-6\"><span class=\"toc-item-num\">6&nbsp;&nbsp;</span>Percentiles</a></span><ul class=\"toc-item\"><li><span><a href=\"#Climatology\" data-toc-modified-id=\"Climatology-6.1\"><span class=\"toc-item-num\">6.1&nbsp;&nbsp;</span>Climatology</a></span><ul class=\"toc-item\"><li><span><a href=\"#90th\" data-toc-modified-id=\"90th-6.1.1\"><span class=\"toc-item-num\">6.1.1&nbsp;&nbsp;</span>90th</a></span></li><li><span><a href=\"#95th\" data-toc-modified-id=\"95th-6.1.2\"><span class=\"toc-item-num\">6.1.2&nbsp;&nbsp;</span>95th</a></span></li></ul></li><li><span><a href=\"#AWAP\" data-toc-modified-id=\"AWAP-6.2\"><span class=\"toc-item-num\">6.2&nbsp;&nbsp;</span>AWAP</a></span><ul class=\"toc-item\"><li><span><a href=\"#Functions\" data-toc-modified-id=\"Functions-6.2.1\"><span class=\"toc-item-num\">6.2.1&nbsp;&nbsp;</span>Functions</a></span></li><li><span><a href=\"#P90\" data-toc-modified-id=\"P90-6.2.2\"><span class=\"toc-item-num\">6.2.2&nbsp;&nbsp;</span>P90</a></span></li><li><span><a href=\"#P95\" data-toc-modified-id=\"P95-6.2.3\"><span class=\"toc-item-num\">6.2.3&nbsp;&nbsp;</span>P95</a></span></li><li><span><a href=\"#Manual\" data-toc-modified-id=\"Manual-6.2.4\"><span class=\"toc-item-num\">6.2.4&nbsp;&nbsp;</span>Manual</a></span></li><li><span><a href=\"#Exporting\" data-toc-modified-id=\"Exporting-6.2.5\"><span class=\"toc-item-num\">6.2.5&nbsp;&nbsp;</span>Exporting</a></span></li></ul></li></ul></li></ul></div>"
   ]
  },
  {
   "cell_type": "markdown",
   "metadata": {},
   "source": [
    "# Preamble"
   ]
  },
  {
   "cell_type": "code",
   "execution_count": null,
   "metadata": {},
   "outputs": [],
   "source": [
    "import xarray as xr\n",
    "import numpy as np\n",
    "import pickle\n",
    "import pandas as pd\n",
    "import matplotlib.pyplot as plt\n",
    "import cartopy.crs as ccrs\n",
    "from dask.diagnostics import ProgressBar"
   ]
  },
  {
   "cell_type": "markdown",
   "metadata": {},
   "source": [
    "# Loading in AWAP"
   ]
  },
  {
   "cell_type": "code",
   "execution_count": null,
   "metadata": {},
   "outputs": [],
   "source": [
    "path = '/home/student.unimelb.edu.au/aborowiak/Desktop/Code/Current Project/AWAP/awap.nc'\n",
    "AWAP = xr.open_dataset(path, chunks={'time':1}) "
   ]
  },
  {
   "cell_type": "markdown",
   "metadata": {},
   "source": [
    "# Applying  a Mask"
   ]
  },
  {
   "cell_type": "code",
   "execution_count": null,
   "metadata": {},
   "outputs": [],
   "source": [
    "#This file is a mask for AWAP: The Gibson Desert Region\n",
    "\n",
    "path = '/home/student.unimelb.edu.au/aborowiak/Desktop/Code/Current Project/AWAP/precip_calib_0.25_maskforCAus.nc'\n",
    "mask = xr.open_dataset(path)\n",
    "mask = mask.rename({'longitude':'lon'})\n",
    "mask = mask.rename({'latitude':'lat'})"
   ]
  },
  {
   "cell_type": "code",
   "execution_count": null,
   "metadata": {},
   "outputs": [],
   "source": [
    "AWAP = AWAP.where(mask.mask == 1)"
   ]
  },
  {
   "cell_type": "markdown",
   "metadata": {},
   "source": [
    "# Just North and Raindays"
   ]
  },
  {
   "cell_type": "code",
   "execution_count": null,
   "metadata": {},
   "outputs": [],
   "source": [
    "\n",
    "AWAP = AWAP.sel(lat = slice(-23,0)) # Just the north\n",
    "AWAP = AWAP.where(AWAP.precip >= 1) #Rainday > 1mm\n",
    "AWAP = AWAP.where(AWAP.precip < 8000) # This are unphysical\n",
    "AWAP = AWAP.where(AWAP.time.dt.month.isin([10,11,12,1,2,3]) , drop = True) # wet season only"
   ]
  },
  {
   "cell_type": "code",
   "execution_count": null,
   "metadata": {},
   "outputs": [],
   "source": [
    "AWAP_W = AWAP\n",
    "with ProgressBar():\n",
    "    AWAP_W.to_netcdf('AWAP_W.nc')"
   ]
  }
 ],
 "metadata": {
  "kernelspec": {
   "display_name": "Python 3",
   "language": "python",
   "name": "python3"
  },
  "language_info": {
   "codemirror_mode": {
    "name": "ipython",
    "version": 3
   },
   "file_extension": ".py",
   "mimetype": "text/x-python",
   "name": "python",
   "nbconvert_exporter": "python",
   "pygments_lexer": "ipython3",
   "version": "3.6.7"
  },
  "latex_envs": {
   "LaTeX_envs_menu_present": true,
   "autoclose": false,
   "autocomplete": true,
   "bibliofile": "biblio.bib",
   "cite_by": "apalike",
   "current_citInitial": 1,
   "eqLabelWithNumbers": true,
   "eqNumInitial": 1,
   "hotkeys": {
    "equation": "Ctrl-E",
    "itemize": "Ctrl-I"
   },
   "labels_anchors": false,
   "latex_user_defs": false,
   "report_style_numbering": false,
   "user_envs_cfg": false
  },
  "toc": {
   "base_numbering": 1,
   "nav_menu": {},
   "number_sections": true,
   "sideBar": true,
   "skip_h1_title": false,
   "title_cell": "Table of Contents",
   "title_sidebar": "Contents",
   "toc_cell": true,
   "toc_position": {},
   "toc_section_display": true,
   "toc_window_display": true
  }
 },
 "nbformat": 4,
 "nbformat_minor": 2
}
